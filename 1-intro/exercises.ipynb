{
 "cells": [
  {
   "cell_type": "markdown",
   "metadata": {},
   "source": [
    "# Introductory Python exercises"
   ]
  },
  {
   "cell_type": "markdown",
   "metadata": {},
   "source": [
    "## 1) For-loop\n",
    "\n",
    "Iterate over integers from 0 to 10 and print the current number `n_curr`, the preceding number `n_pre` and their sum `n_sum` in the following string:\n",
    "\n",
    "'Current number `n_curr` and previous number `n_pre` add up to `n_sum`'\n",
    "\n",
    "Expected output at 5: \n",
    "\n",
    "\n",
    "`Current number 5 and previous number 4 add up to 9`"
   ]
  },
  {
   "cell_type": "markdown",
   "metadata": {},
   "source": [
    "Write your solution:"
   ]
  },
  {
   "cell_type": "code",
   "execution_count": null,
   "metadata": {},
   "outputs": [],
   "source": []
  },
  {
   "cell_type": "markdown",
   "metadata": {},
   "source": [
    "<details>\n",
    "  <summary><b>Click to reveal solution</b></summary>\n",
    "\n",
    "```python\n",
    "for i in range(0, 11):\n",
    "   print(f'Current number {i} and previous number {i-1} add up to {2*i-1}')\n",
    "```\n",
    "  \n",
    "</details>"
   ]
  },
  {
   "cell_type": "markdown",
   "metadata": {},
   "source": [
    "<hr style=\"border:1.5px solid gray\"></hr>\n",
    "\n",
    "## 2) List manipulation\n",
    "\n",
    "You are given the list `a`."
   ]
  },
  {
   "cell_type": "code",
   "execution_count": null,
   "metadata": {},
   "outputs": [],
   "source": [
    "a = [12, 33, 4, 20, 12, 10, 77, 33, 89]"
   ]
  },
  {
   "cell_type": "markdown",
   "metadata": {},
   "source": [
    "1. Slice the list into 3 equal-sized sub-lists\n",
    "2. Revert the order of the numbers in those lists (feel free to look up instructions on how to revert them from the Internet)\n",
    "\n",
    "You would expect to get:\n",
    "```python\n",
    "[4, 33, 12]\n",
    "[10, 12, 20]\n",
    "[89, 33, 77]\n",
    "```"
   ]
  },
  {
   "cell_type": "markdown",
   "metadata": {},
   "source": [
    "Write your solution:"
   ]
  },
  {
   "cell_type": "code",
   "execution_count": null,
   "metadata": {},
   "outputs": [],
   "source": []
  },
  {
   "cell_type": "markdown",
   "metadata": {},
   "source": [
    "<details>\n",
    "  <summary><b>Click to reveal solution</b></summary>\n",
    "\n",
    "```python\n",
    "# Compact solution\n",
    "print(*[sublist[::-1] for sublist in [a[3*i:3*i+3] for i in range(3)]], sep='\\n')\n",
    "\n",
    "# Verbose solution\n",
    "a_1 = a[:3]\n",
    "a_2 = a[3:6]\n",
    "a_3 = a[6:]\n",
    "\n",
    "a_1.reverse()\n",
    "a_2.reverse()\n",
    "a_3.reverse()\n",
    "\n",
    "print('',a_1, a_2, a_3, sep='\\n')\n",
    "```\n",
    "  \n",
    "</details>"
   ]
  },
  {
   "cell_type": "markdown",
   "metadata": {},
   "source": [
    "<hr style=\"border:1.5px solid gray\"></hr>\n",
    "\n",
    "## 3) Functions\n",
    "\n",
    "Now you will start writing functions. Here are three for you to write:\n",
    "\n",
    "* Write a function that reverses a string.  \n",
    "    Example: input `examplestring` -> `gnirtselpmaxe`\n",
    "* Write a function to that takes a list and returns a new list with only the unique elements.\n",
    "    Example: input `[6, 4, 5, 7, 6, 4, 5, 7]` -> `[6, 4, 5, 7]`\n",
    "* Write a function that, given either a) a sentence or b) a list of numbers, will in a) print a list containing the words of the sentence and in b) will output the list's sum, mean, and standard deviation.\n",
    "\n",
    "<details>\n",
    "  <summary><b>Click here if you need a hint.</b></summary>\n",
    "\n",
    "You can split a string based on a delimiter with [split()](https://docs.python.org/3/library/stdtypes.html#str.split)\n",
    "  \n",
    "</details>"
   ]
  },
  {
   "cell_type": "markdown",
   "metadata": {},
   "source": [
    "Write your solution:"
   ]
  },
  {
   "cell_type": "code",
   "execution_count": null,
   "metadata": {},
   "outputs": [],
   "source": []
  },
  {
   "cell_type": "markdown",
   "metadata": {},
   "source": [
    "<details>\n",
    "  <summary><b>Click to reveal solution</b></summary>\n",
    "\n",
    "```python\n",
    "def reverse_string(s):\n",
    "    return s[::-1]\n",
    "\n",
    "\n",
    "def unique_elements(a, strict=True):\n",
    "    return sorted(set(a), key=a.index)\n",
    "\n",
    "\n",
    "def third(a):\n",
    "    if isinstance(a, str):\n",
    "        print(a.split())\n",
    "    else:\n",
    "        total = sum(a)\n",
    "        mean = total/len(a)\n",
    "        sigma = (sum([(n-mean)**2 for n in a])/len(a))**.5\n",
    "        print(f'Sum: {total}, mean: {mean}, sigma: {sigma}')\n",
    "\n",
    "\n",
    "print(reverse_string('examplestring'))\n",
    "print(unique_elements([6, 4, 5, 7, 6, 4, 5, 7]))\n",
    "third('A sentence with many words.')\n",
    "third([1, 2, 3])\n",
    "```\n",
    "  \n",
    "</details>"
   ]
  },
  {
   "cell_type": "markdown",
   "metadata": {},
   "source": [
    "<hr style=\"border:1.5px solid gray\"></hr>\n",
    "\n",
    "## 4) Recreate a pattern\n",
    "Can you make Python print the following pattern? Youre code **may not** have the `print()` function in it more than once, though you may place it in a for-loop for multiple executions.\n",
    "\n",
    "```\n",
    "* \n",
    "* * \n",
    "* * * \n",
    "* * * * \n",
    "* * * * * \n",
    "* * * * \n",
    "* * * \n",
    "* * \n",
    "*\n",
    "```\n",
    "\n",
    "Extra challenge:\n",
    "\n",
    "It is possible to produce this pattern with a single line of code. You may find the [unpacking operator](https://docs.python.org/3/tutorial/controlflow.html#tut-unpacking-arguments) to be useful."
   ]
  },
  {
   "cell_type": "markdown",
   "metadata": {},
   "source": [
    "Write your solution:"
   ]
  },
  {
   "cell_type": "code",
   "execution_count": null,
   "metadata": {},
   "outputs": [],
   "source": []
  },
  {
   "cell_type": "markdown",
   "metadata": {},
   "source": [
    "<details>\n",
    "  <summary><b>Click to reveal solution</b></summary>\n",
    "\n",
    "```python\n",
    "# Solution 1\n",
    "print(*[min(i, 10-i)*'* ' for i in range(1, 10)], sep='\\n')\n",
    "\n",
    "# Solution 2\n",
    "n_asterisks = [1, 2, 3, 4, 5, 4, 3, 2, 1]\n",
    "for n in n_asterisks:\n",
    "    print('* '*n)\n",
    "    \n",
    "```\n",
    "  \n",
    "</details>"
   ]
  },
  {
   "cell_type": "markdown",
   "metadata": {},
   "source": [
    "<hr style=\"border:1.5px solid gray\"></hr>\n",
    "\n",
    "## 5) Fibonacci numbers\n",
    "\n",
    "Fibonacci numbers are an infinite sequence that starts with 0 and 1. Other Fibonacci numbers are the sums of the two preceding Fibonacci numbers. The first few are 0, 1, 1, 2, 3, 5, ...\n",
    "\n",
    "Implement a function `nth_Fibonacci(n)` that returns the n-th Fibonacci number as a Python integer. For example `nth_Fibonacci(0)` -> 0 and `nth_Fibonacci(4)` -> 3."
   ]
  },
  {
   "cell_type": "markdown",
   "metadata": {},
   "source": [
    "Write your solution:"
   ]
  },
  {
   "cell_type": "code",
   "execution_count": null,
   "metadata": {},
   "outputs": [],
   "source": []
  },
  {
   "cell_type": "markdown",
   "metadata": {},
   "source": [
    "<details>\n",
    "  <summary><b>Click to reveal solution</b></summary>\n",
    "\n",
    "```python\n",
    "def nth_Fibonacci(n):\n",
    "    if n == 0:\n",
    "        return 0\n",
    "    a, b = 0, 1\n",
    "    i = 1\n",
    "    while i < n:\n",
    "        a, b = b, a+b\n",
    "        i += 1\n",
    "    return b\n",
    "\n",
    "\n",
    "print(nth_Fibonacci(0))\n",
    "print(nth_Fibonacci(4))\n",
    "```\n",
    "  \n",
    "</details>"
   ]
  },
  {
   "cell_type": "markdown",
   "metadata": {},
   "source": [
    "<hr style=\"border:1.5px solid gray\"></hr>\n",
    "\n",
    "## 6) FizzBuzz\n",
    "\n",
    "Write a function that loops over integers from 1 to the input $n$ (including) and prints the following:\n",
    "* 'Fizz' if the integer is divisible by 3\n",
    "* 'Buzz' if it is divisible by 5\n",
    "* the integer itself if it is not divisible by 3 or 5\n",
    "\n",
    "Integers divisible by 15 should result in 'Fizz Buzz' being printed."
   ]
  },
  {
   "cell_type": "markdown",
   "metadata": {},
   "source": [
    "Write your solution:"
   ]
  },
  {
   "cell_type": "code",
   "execution_count": null,
   "metadata": {},
   "outputs": [],
   "source": []
  },
  {
   "cell_type": "markdown",
   "metadata": {},
   "source": [
    "<details>\n",
    "  <summary><b>Click to reveal solution</b></summary>\n",
    "\n",
    "```python\n",
    "def fizzbuzz(n):\n",
    "    for i in range(1, n+1):\n",
    "        to_print = ''\n",
    "        if not i%3:\n",
    "            to_print = 'Fizz '\n",
    "        if not i%5:\n",
    "            to_print += 'Buzz '\n",
    "        if to_print == '':\n",
    "            print(i)\n",
    "        else:\n",
    "            print(to_print[:-1])\n",
    "\n",
    "\n",
    "fizzbuzz(20)\n",
    "```\n",
    "  \n",
    "</details>"
   ]
  },
  {
   "cell_type": "markdown",
   "metadata": {},
   "source": [
    "# Extra exercises if there is time"
   ]
  },
  {
   "cell_type": "markdown",
   "metadata": {},
   "source": [
    "<hr style=\"border:1.5px solid gray\"></hr>\n",
    "\n",
    "## X1) Sieve of Eratosthenes\n",
    "\n",
    "Write a function that implements the [sieve of Eratosthenes](https://en.wikipedia.org/wiki/Sieve_of_Eratosthenes) and use it to find all the prime numbers below $n=1\\,000\\,000$. You might find it useful to know about the [prime counting function](https://en.wikipedia.org/wiki/Prime-counting_function)."
   ]
  },
  {
   "cell_type": "markdown",
   "metadata": {},
   "source": [
    "Write your solution:"
   ]
  },
  {
   "cell_type": "code",
   "execution_count": null,
   "metadata": {},
   "outputs": [],
   "source": []
  },
  {
   "cell_type": "markdown",
   "metadata": {},
   "source": [
    "<details>\n",
    "  <summary><b>Click to reveal solution</b></summary>\n",
    "\n",
    "```python\n",
    "def sieve(n):\n",
    "    primes = [2]\n",
    "    to_test = list(range(3, n+1, 2))\n",
    "    while to_test[0]**2 <= n:\n",
    "        p = to_test.pop(0)\n",
    "        primes.append(p)\n",
    "        to_test = [n for n in to_test if n%p]\n",
    "    return primes+to_test\n",
    "\n",
    "\n",
    "primes = sieve(1000000)\n",
    "print(len(primes))\n",
    "```\n",
    "  \n",
    "</details>"
   ]
  },
  {
   "cell_type": "markdown",
   "metadata": {},
   "source": [
    "<hr style=\"border:1.5px solid gray\"></hr>\n",
    "\n",
    "## X2) Twin primes\n",
    "\n",
    "If the difference of two prime numbers is 2 then we call them twin primes. Write a function that finds all the twin prime pairs below some $n\\leq1\\,000\\,000$."
   ]
  },
  {
   "cell_type": "markdown",
   "metadata": {},
   "source": [
    "Write your solution:"
   ]
  },
  {
   "cell_type": "code",
   "execution_count": null,
   "metadata": {},
   "outputs": [],
   "source": []
  },
  {
   "cell_type": "markdown",
   "metadata": {},
   "source": [
    "<details>\n",
    "  <summary><b>Click to reveal solution</b></summary>\n",
    "\n",
    "```python\n",
    "def twin_primes(n):\n",
    "    primes = sieve(n)\n",
    "    return [(p2, p1) for p1, p2 in zip(primes[1:], primes[:-1]) if p1-p2 == 2]\n",
    "\n",
    "\n",
    "print(twin_primes(140))\n",
    "```\n",
    "  \n",
    "</details>"
   ]
  }
 ],
 "metadata": {
  "kernelspec": {
   "display_name": "Python 3",
   "language": "python",
   "name": "python3"
  },
  "language_info": {
   "codemirror_mode": {
    "name": "ipython",
    "version": 3
   },
   "file_extension": ".py",
   "mimetype": "text/x-python",
   "name": "python",
   "nbconvert_exporter": "python",
   "pygments_lexer": "ipython3",
   "version": "3.8.8"
  }
 },
 "nbformat": 4,
 "nbformat_minor": 4
}
