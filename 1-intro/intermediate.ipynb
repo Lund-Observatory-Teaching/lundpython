{
 "cells": [
  {
   "cell_type": "markdown",
   "id": "58b2c49f-9e2f-4d1d-a739-14d3dd916be9",
   "metadata": {},
   "source": [
    "# Intermediate Python functions and tips\n",
    "This notebook contains a list of functions and tips that are not required to write working Python code, and therefore usually skipped when teaching the basics, but are useful or convenient."
   ]
  },
  {
   "cell_type": "markdown",
   "id": "fe1dba59-aaaf-4312-94c8-61f4aede26b4",
   "metadata": {},
   "source": [
    "### Enumerate\n",
    "The `enumerate` function is handy for iterating over a sequence (e.g., list) while keeping track of the index of the current item. This frees you from having to manually create and increment an indexing variable in a for loop. Calling `enumerate` on a sequence returns a tuple containing the index and element each time it is accessed. "
   ]
  },
  {
   "cell_type": "code",
   "execution_count": null,
   "id": "3ac6f557-376a-42e1-a92b-e6a83aceaf04",
   "metadata": {},
   "outputs": [],
   "source": [
    "fruits = ['apple', 'banana', 'cherry']\n",
    "for index, fruit in enumerate(fruits):\n",
    "    print(f'Index {index}: {fruit}')"
   ]
  },
  {
   "cell_type": "markdown",
   "id": "e57c9b49-14a4-49ba-8055-631a3a25d6b9",
   "metadata": {},
   "source": [
    "### Generators\n",
    "Generators are a way to create iterators in Python. Generators allow you to generate values on the fly instead of up-front (called lazy evaluation) which is very useful when dealing with large datasets or when you want to conserve memory.\n",
    "\n",
    "Generators are typically created using a special type of function called a generator function. These functions use the `yield` keyword to give values one at a time, rather than returning a single result. When a generator function is called, it doesn't execute the entire function at once; it pauses at each `yield` statement until you request the next value.\n",
    "\n",
    "Here is a very basic example:"
   ]
  },
  {
   "cell_type": "code",
   "execution_count": null,
   "id": "823ddf43-8492-4fc1-844e-e2002363721e",
   "metadata": {},
   "outputs": [],
   "source": [
    "def my_generator():\n",
    "    yield \"a\"\n",
    "    yield \"b\"\n",
    "    yield \"c\"\n",
    "\n",
    "gen = my_generator()\n",
    "for value in gen:\n",
    "    print(value)"
   ]
  },
  {
   "cell_type": "markdown",
   "id": "d1d53271-1feb-4b32-ae41-a82194c01ede",
   "metadata": {},
   "source": [
    "The key feature of generators is that they preserve their internal state. When you iterate over a generator and then continue later, it remembers where it left off."
   ]
  },
  {
   "cell_type": "code",
   "execution_count": null,
   "id": "d2127995-e66b-4733-8882-960c9b87caea",
   "metadata": {},
   "outputs": [],
   "source": [
    "gen = my_generator()  # Redefine the generator\n",
    "print(next(gen))\n",
    "print(next(gen))\n",
    "print(next(gen))"
   ]
  },
  {
   "cell_type": "markdown",
   "id": "edf5e02e-0bb5-4daf-ad9e-267754ca211a",
   "metadata": {},
   "source": [
    "The combination of lazy evaluation and state perservation allows you to make generators that are practically infinate in size. Here is one that can generate an infinate sequence of natural numbers."
   ]
  },
  {
   "cell_type": "code",
   "execution_count": null,
   "id": "944be3ce-a1dd-4b07-99c7-c8126f1d8e5e",
   "metadata": {},
   "outputs": [],
   "source": [
    "def natural_numbers():\n",
    "    num = 1\n",
    "    while True:\n",
    "        yield num\n",
    "        num += 1"
   ]
  },
  {
   "cell_type": "markdown",
   "id": "381ce226-2e74-4813-9f12-26d96b8480ce",
   "metadata": {},
   "source": [
    "### The unpacking operator\n",
    "The unpacking operator `*`, when written in front of a sequence, can be used to unpack elements from an iterable and pass them as separate function arguments or to collect multiple values into a single variable. It's commonly used in function calls and variable assignments. "
   ]
  },
  {
   "cell_type": "code",
   "execution_count": null,
   "id": "4b1159d8-a2a0-4fd8-ac60-61510427de8f",
   "metadata": {},
   "outputs": [],
   "source": [
    "# Unpacking\n",
    "list_ = [1, 2, 3, 4]\n",
    "print(list_)\n",
    "print(*list_)\n",
    "\n",
    "print(\"\")  # empty row\n",
    "\n",
    "# Unpacking to collect values\n",
    "*first, last = list_\n",
    "print(first)\n",
    "print(last)"
   ]
  },
  {
   "cell_type": "markdown",
   "id": "ae7dd0bc-c2c8-4ec3-974b-82726949b3c6",
   "metadata": {},
   "source": [
    "### List extension\n",
    "You are probably familiar with the `.append()` method for lists which lets you attach an element to the end of that list. If you want to attach a sequence to a list, instead of repeatedly appending you can extend instead. `.extend()` works similarly to `.append()` except it takes an entire sequence. Using it can make your code shorter and clearer."
   ]
  },
  {
   "cell_type": "code",
   "execution_count": null,
   "id": "97be28c8-d024-4d6a-9f21-b595beb27161",
   "metadata": {},
   "outputs": [],
   "source": [
    "list1 = [1, 2, 3]\n",
    "list2 = [4, 5, 6]\n",
    "\n",
    "# The slow and verbose way\n",
    "for elem in list2:\n",
    "    list1.append(elem)\n",
    "print(list1)\n",
    "\n",
    "list1 = [1, 2, 3]\n",
    "# Instead do\n",
    "list1.extend(list2)\n",
    "print(list1)"
   ]
  },
  {
   "cell_type": "markdown",
   "id": "5da5e676-8406-4e84-92ca-a77f2b02a3fd",
   "metadata": {},
   "source": [
    "### Functional programming\n",
    "Python contains a couple of functions that allow a different style of programming. These functions are `map()` and `filter()`.\n",
    "`map()` applies a specified function to each item in an iterable and returns an iterable of the results. It's a convenient way to transform data in an iterable without using explicit loops.\n",
    "`filter()` filters elements from an iterable based on a specified condition (function) and returns an iterable containing only the elements that meet the condition. It's useful for selecting items that match a specific criterion."
   ]
  },
  {
   "cell_type": "code",
   "execution_count": null,
   "id": "f240a4c0-08a8-4ef0-bd3b-d7010eb416e4",
   "metadata": {},
   "outputs": [],
   "source": [
    "def square(x):\n",
    "    return x**2\n",
    "    \n",
    "numbers = [1, 2, 3, 4, 5]\n",
    "\n",
    "squared = list(map(square, numbers))\n",
    "print(squared)\n",
    "\n",
    "def even(x):\n",
    "    return x % 2 == 0\n",
    "\n",
    "evens = list(filter(even, numbers))\n",
    "print(evens)"
   ]
  },
  {
   "cell_type": "markdown",
   "id": "874c990d-f7b3-4849-aa3a-f33696f49218",
   "metadata": {},
   "source": [
    "### Opening files\n",
    "Paths to files should be defined using `pathlib`. `pathlib` also offers methods such as `Path.open()`, which improves consistency and can improve readability over the `open` built-in."
   ]
  },
  {
   "cell_type": "code",
   "execution_count": null,
   "id": "d550c47b-f5a3-4c24-bdb4-00d9d9247b2d",
   "metadata": {},
   "outputs": [],
   "source": [
    "# Instead of\n",
    "with open(\"my_file\", \"w\") as f:\n",
    "    # Your code here\n",
    "    pass\n",
    "\n",
    "# Use instead\n",
    "from pathlib import Path\n",
    "\n",
    "with Path(\"my_file\").open(\"w\") as f:\n",
    "    # Your code here\n",
    "    pass"
   ]
  },
  {
   "cell_type": "markdown",
   "id": "27b44c04-c52c-4aaa-be43-035d00ce2f90",
   "metadata": {},
   "source": [
    "### Sets\n",
    "Sets in Python work lite sets from set theory. That is, they represent an unordered collection of unique elements. This means that if you try to add an element to a set that is already present, the set will not store a duplicate; it will just keep one instance of that element. Sets do not maintain any specific order of their elements. Beware of this if you convert data to sets and back.\n",
    "You can create a set using curly braces {} or the set() constructor. Elements can be added or removed using the `.add()` and `.remove()` methods respectively."
   ]
  },
  {
   "cell_type": "code",
   "execution_count": null,
   "id": "2d307a6d-2ccd-4148-9c02-bb1d0c2e734b",
   "metadata": {},
   "outputs": [],
   "source": [
    "my_set = {1, 2, 3}\n",
    "another_set = set([3, 4, 5])\n",
    "print(my_set)\n",
    "\n",
    "my_set.add(4)\n",
    "print(my_set)\n",
    "\n",
    "my_set.remove(2)\n",
    "print(my_set)"
   ]
  },
  {
   "cell_type": "markdown",
   "id": "e32203e8-1b3c-4b5d-a5aa-308a2eb54d2d",
   "metadata": {},
   "source": [
    "Sets support various set operations, such as `union()`, `intersection()`, and `difference()`. These operations allow you to combine and compare sets in useful ways. For example:"
   ]
  },
  {
   "cell_type": "code",
   "execution_count": null,
   "id": "cb11f0af-6deb-4686-ace4-9955192bff28",
   "metadata": {},
   "outputs": [],
   "source": [
    "my_set = {1, 2, 3}\n",
    "\n",
    "union_set = my_set.union(another_set)\n",
    "print(union_set)\n",
    "\n",
    "intersection_set = my_set.intersection(another_set)\n",
    "print(intersection_set)\n",
    "\n",
    "difference_set = my_set.difference(another_set)\n",
    "print(difference_set)"
   ]
  }
 ],
 "metadata": {
  "kernelspec": {
   "display_name": "Python 3 (ipykernel)",
   "language": "python",
   "name": "python3"
  },
  "language_info": {
   "codemirror_mode": {
    "name": "ipython",
    "version": 3
   },
   "file_extension": ".py",
   "mimetype": "text/x-python",
   "name": "python",
   "nbconvert_exporter": "python",
   "pygments_lexer": "ipython3",
   "version": "3.11.5"
  }
 },
 "nbformat": 4,
 "nbformat_minor": 5
}
