{
 "cells": [
  {
   "cell_type": "markdown",
   "metadata": {},
   "source": [
    "# A brief introduction to using Python in Astronomy\n",
    "\n",
    "The purpose of this notebook is to be a short reference guide that introduces the [Python](https://www.python.org/) programming language in a way that is useful for Astronomy.\n",
    "This notebook is not meant to be an introduction to programming, so some familiarity with basic concepts will be assumed.\n",
    "This notebook is also not meant to be a comprehensive overview of all the features of Python.\n",
    "The examples and especially the explanations will be kept short, but links to an explanation in an external resource are often provided.\n",
    "Learning by changing the codeblocks and seeing what happens is highly encouraged.\n",
    "Some remarks in the notebook are written in _italics_.\n",
    "Those can be skipped but might be useful or interesting for someone already more familiar with the subject.\n",
    "Some of the code below is written in a way that highlights some particular aspect of Python syntax, but might not be the most elegant or practical way of doing things.\n",
    "\n",
    "## Python\n",
    "\n",
    "### Hello, World!\n",
    "\n",
    "Programming languages are often introduced with an implementation of the \"Hello, World!\" program. This program simply displays the message \"Hello, World!\" to illustrate the basic syntax of the program. In Python it can be implemented as"
   ]
  },
  {
   "cell_type": "code",
   "execution_count": null,
   "metadata": {},
   "outputs": [],
   "source": [
    "print('Hello, World!')"
   ]
  },
  {
   "cell_type": "markdown",
   "metadata": {},
   "source": [
    "It could also be implemented as"
   ]
  },
  {
   "cell_type": "code",
   "execution_count": null,
   "metadata": {},
   "outputs": [],
   "source": [
    "print(\"Hello, World!\")  # This uses \" instead of '"
   ]
  },
  {
   "cell_type": "markdown",
   "metadata": {},
   "source": [
    "In both cases the `print()` function outputs its argument, which is the string \"Hello, World!\". In the first codeblock the string was constructed using single quotes `'` and in the second it was done using double quotes `\"`. According to the [Python Style Guide](https://www.python.org/dev/peps/pep-0008/#string-quotes) either option is fine, but the same style should be used throughout the code.\n",
    "\n",
    "The second implementation also includes an inline comment, beginning with `#`.\n",
    "Anything written after a `#` is ignored by Python, so it can be used to comment the source code.\n",
    "\n",
    "The argument of the `print()` function does not have to be a string, it will be automatically converted if necessary.\n",
    "*This conversion is performed by the argument's `__str__()` or `__repr__()` methods.*"
   ]
  },
  {
   "cell_type": "code",
   "execution_count": null,
   "metadata": {},
   "outputs": [],
   "source": [
    "print(1.234)"
   ]
  },
  {
   "cell_type": "markdown",
   "metadata": {},
   "source": [
    "### F-strings\n",
    "\n",
    "Python supports [Literal String Interpolation](https://www.python.org/dev/peps/pep-0498/) in the form of f-strings. They are a way of writing down human-readable expressions that will be evaluated before printing."
   ]
  },
  {
   "cell_type": "code",
   "execution_count": null,
   "metadata": {},
   "outputs": [],
   "source": [
    "a = 1\n",
    "b = 2\n",
    "print(f'The sum of {a} and {b} is {a+b}.')\n",
    "print(f'{a} divided by {b} is {a/b}')"
   ]
  },
  {
   "cell_type": "markdown",
   "metadata": {},
   "source": [
    "An f-string is written with `f` immediately preceding the first (single or double) quote and all expressions to be evaluated are written inside curly brackets. The values inside the curly brackets can be further formated with the [Format Specification Mini-Language](https://docs.python.org/3/library/string.html#format-specification-mini-language), as demonstrated below. "
   ]
  },
  {
   "cell_type": "code",
   "execution_count": null,
   "metadata": {},
   "outputs": [],
   "source": [
    "e = 2.718281828459\n",
    "print(f'The number e is roughly {e:.3f}.')\n",
    "print(f'The number e^4 is roughly {e**4:.2f}.')\n",
    "print(f'The number e^4 is roughly {e**4:.2e}.')"
   ]
  },
  {
   "cell_type": "markdown",
   "metadata": {},
   "source": [
    "### Operators\n",
    "\n",
    "Python supports many arithmetic operations. In the examples above we have already used addition `+`, division `/` and exponentiation `**`. The arithmetic operations available in Python are demonstrated below."
   ]
  },
  {
   "cell_type": "code",
   "execution_count": null,
   "metadata": {},
   "outputs": [],
   "source": [
    "a = 4\n",
    "b = 5\n",
    "print(a+b)    # Addition\n",
    "print(a-b)    # Subtraction\n",
    "print(a*b)    # Multiplication\n",
    "print(a/b)    # Division\n",
    "print(a%b)    # Modulus\n",
    "print(a//b)   # Floor division\n",
    "print(a**b)   # Exponentiation"
   ]
  },
  {
   "cell_type": "markdown",
   "metadata": {},
   "source": [
    "The arithmetic operators can be combined with `=` to create assigment operators which modify the value of a variable instead of creating a new variable with the desired value.\n",
    "Their use is demonstrated below."
   ]
  },
  {
   "cell_type": "code",
   "execution_count": null,
   "metadata": {},
   "outputs": [],
   "source": [
    "a, b = 4, 5\n",
    "c = a+b\n",
    "print(a, b, c)\n",
    "a += b\n",
    "print(a, b)\n",
    "c = a*b\n",
    "print(a, b, c)\n",
    "a *= b\n",
    "print(a, b)"
   ]
  },
  {
   "cell_type": "markdown",
   "metadata": {},
   "source": [
    "Python also includes comparison operators that result in Booleans `True` or `False`."
   ]
  },
  {
   "cell_type": "code",
   "execution_count": null,
   "metadata": {},
   "outputs": [],
   "source": [
    "a, b = 4, 5\n",
    "print(f'Is {a} equal to {b}? {a == b}')\n",
    "print(f'Is {a} not equal to {b}? {a != b}')\n",
    "print(f'Is {a} lesser than {b}? {a < b}')\n",
    "print(f'Is {a} greater than {b}? {a > b}')\n",
    "print(f'Is {a} lesser than or equal to {b}? {a <= b}')\n",
    "print(f'Is {a} greater than or equal to {b}? {a >= b}')"
   ]
  },
  {
   "cell_type": "markdown",
   "metadata": {},
   "source": [
    "Logical operators are available."
   ]
  },
  {
   "cell_type": "code",
   "execution_count": null,
   "metadata": {},
   "outputs": [],
   "source": [
    "a = True\n",
    "b = False\n",
    "print(f'{a=} and {b=}.')\n",
    "print(f'{a and b = }.')\n",
    "print(f'{a or b = }.')\n",
    "print(f'{a=} so {not a = }.')"
   ]
  },
  {
   "cell_type": "markdown",
   "metadata": {},
   "source": [
    "Comparison operators can be chained without having to explicitly use the `and` operator."
   ]
  },
  {
   "cell_type": "code",
   "execution_count": null,
   "metadata": {},
   "outputs": [],
   "source": [
    "a, b, c, d = 1, 4, 9, 13\n",
    "\n",
    "print((a < b) and (b < c) and (c < d))\n",
    "print(a < b < c < d)\n",
    "print()\n",
    "print((a < b) and (b > c) and (c < d))\n",
    "print(a < b > c < d)\n",
    "print()\n",
    "print((a <= b) and (b <= c) and (c <= a))\n",
    "print(a <= b <= c <= a)"
   ]
  },
  {
   "cell_type": "markdown",
   "metadata": {},
   "source": [
    "### Sequences\n",
    "\n",
    "Variables can be collected together into sequences. Elements in a sequence can be accessed through indexing. The first element in a Python sequence has index 0. Negative indices are counted from the end of the sequence starting from -1."
   ]
  },
  {
   "cell_type": "code",
   "execution_count": null,
   "metadata": {},
   "outputs": [],
   "source": [
    "seq = [1, 2, 3]\n",
    "print(f'The sequence is {seq}.')\n",
    "print(f'The first element of the sequence is {seq[0]}.')\n",
    "print(f'The second element of the sequence is {seq[1]}.')\n",
    "print(f'The second to last element of the sequence is {seq[-2]}.')\n",
    "print(f'The last element of the sequence is {seq[-1]}.')"
   ]
  },
  {
   "cell_type": "markdown",
   "metadata": {},
   "source": [
    "_We defined ``seq`` using square brackets, which makes it a [list](https://docs.python.org/3/tutorial/introduction.html#lists)._\n",
    "\n",
    "We can check if an element is in the sequence or not."
   ]
  },
  {
   "cell_type": "code",
   "execution_count": null,
   "metadata": {},
   "outputs": [],
   "source": [
    "a = 2\n",
    "print(f'Is a={a} in the sequence {seq}? {a in seq}')\n",
    "print(f'Is a={a} not in the sequence {seq}? {a not in seq}')"
   ]
  },
  {
   "cell_type": "markdown",
   "metadata": {},
   "source": [
    "### If-statements\n",
    "\n",
    "If-statements allow code to be conditionally executed. Python uses indentation to group lines of code. [Python Style Guide](https://www.python.org/dev/peps/pep-0008/#string-quotes) recommends using 4 spaces per indentation level."
   ]
  },
  {
   "cell_type": "code",
   "execution_count": null,
   "metadata": {},
   "outputs": [],
   "source": [
    "a = 45\n",
    "if isinstance(a, int):  # We want to be sure that a is an integer\n",
    "    if a > 0:\n",
    "        if a%2 == 0:\n",
    "            print(f'{a} is positive and even.')\n",
    "        else:\n",
    "            print(f'{a} is positive and odd.')\n",
    "    else:\n",
    "        print(f'{a} is non-positive.')\n",
    "else:\n",
    "    print(f'{a} is not an integer.')\n",
    "print('This sentence will be printed no matter what.')"
   ]
  },
  {
   "cell_type": "markdown",
   "metadata": {},
   "source": [
    "We can get rid of one level of indentation with the if-elif-else construction."
   ]
  },
  {
   "cell_type": "code",
   "execution_count": null,
   "metadata": {},
   "outputs": [],
   "source": [
    "if isinstance(a, int):  # We want to be sure that a is an integer\n",
    "    if a <= 0:\n",
    "        print(f'{a} is non-positive.')\n",
    "    elif a%2:\n",
    "        print(f'{a} is positive and odd.')\n",
    "    else:\n",
    "        print(f'{a} is positive and even.')\n",
    "else:\n",
    "    print(f'{a} is not an integer.')\n",
    "print('This sentence will be printed no matter what.')"
   ]
  },
  {
   "cell_type": "markdown",
   "metadata": {},
   "source": [
    "It is worth pointing out that an if-statement followed by an elif-statement is not the same as two consequitive if-statements."
   ]
  },
  {
   "cell_type": "code",
   "execution_count": null,
   "metadata": {},
   "outputs": [],
   "source": [
    "a = 2\n",
    "\n",
    "print('First codeblock')\n",
    "if a == 2:\n",
    "    print('a is 2')\n",
    "elif not a%2:\n",
    "    print('a is even')\n",
    "\n",
    "print()\n",
    "\n",
    "print('Second codeblock')\n",
    "if a == 2:\n",
    "    print('a is 2')\n",
    "if not a%2:\n",
    "    print('a is even')"
   ]
  },
  {
   "cell_type": "markdown",
   "metadata": {},
   "source": [
    "The code above uses numerical values `a%2` (either 0 or 1 for any integer) as Booleans. In Python 0 is considered `False` and any other numerical value is considered `True`. `False` can be converted to 0 and `True` can be converted to 1."
   ]
  },
  {
   "cell_type": "code",
   "execution_count": null,
   "metadata": {},
   "outputs": [],
   "source": [
    "print(f'{bool(0)=}, {bool(-1)=}')\n",
    "print(f'{int(False)=}, {int(True)=}')\n",
    "print(f'{float(False)=}, {float(True)=}')"
   ]
  },
  {
   "cell_type": "markdown",
   "metadata": {},
   "source": [
    "*An objects Boolean value is determined by its `__bool__()` method if it is present, or by its `__len__()` method otherwise.*\n",
    "\n",
    "Empty sequences are considered `False` and non-empty sequences are considered `True`."
   ]
  },
  {
   "cell_type": "code",
   "execution_count": null,
   "metadata": {},
   "outputs": [],
   "source": [
    "empty = []\n",
    "not_empty = [[]]\n",
    "for seq in (empty, not_empty):\n",
    "    if seq:\n",
    "        print(f'{seq} is not empty.')\n",
    "    else:\n",
    "        print(f'{seq} is empty.')"
   ]
  },
  {
   "cell_type": "markdown",
   "metadata": {},
   "source": [
    "### Loops\n",
    "\n",
    "Sometimes it is useful to execute some code multiple times. This can be achieved using a while-loop. Loops follow indentation rules analogous to if-statements."
   ]
  },
  {
   "cell_type": "code",
   "execution_count": null,
   "metadata": {},
   "outputs": [],
   "source": [
    "# This code will print all non-negative integers lesser than 10 using a while-loop\n",
    "i = 0\n",
    "i_max = 10\n",
    "while i < i_max:\n",
    "    print(i)\n",
    "    i += 1"
   ]
  },
  {
   "cell_type": "markdown",
   "metadata": {},
   "source": [
    "A while-loop will continue running as long as the condition following the while statement is true, but it can also be interupted using the `break` statement."
   ]
  },
  {
   "cell_type": "code",
   "execution_count": null,
   "metadata": {},
   "outputs": [],
   "source": [
    "i = 0\n",
    "while True:\n",
    "    if i >= i_max:\n",
    "        break\n",
    "    print(i)\n",
    "    i += 1"
   ]
  },
  {
   "cell_type": "markdown",
   "metadata": {},
   "source": [
    "If we wish to print only odd numbers we could use the `continue` statement. This will interrupt the current iteration of the loop and start the next one."
   ]
  },
  {
   "cell_type": "code",
   "execution_count": null,
   "metadata": {},
   "outputs": [],
   "source": [
    "i = 0\n",
    "while i < i_max:\n",
    "    i += 1\n",
    "    if not i%2:\n",
    "        continue\n",
    "    print(i)"
   ]
  },
  {
   "cell_type": "markdown",
   "metadata": {},
   "source": [
    "Because we know the range of numbers we wish to print beforehand it would be better to use a for-loop together with `range()`. _A [range object](https://docs.python.org/3/library/stdtypes.html#range) is not a list._"
   ]
  },
  {
   "cell_type": "code",
   "execution_count": null,
   "metadata": {},
   "outputs": [],
   "source": [
    "for i in range(10):\n",
    "    print(i)"
   ]
  },
  {
   "cell_type": "code",
   "execution_count": null,
   "metadata": {},
   "outputs": [],
   "source": [
    "for i in range(2, 10):\n",
    "    print(i)"
   ]
  },
  {
   "cell_type": "code",
   "execution_count": null,
   "metadata": {},
   "outputs": [],
   "source": [
    "for i in range(2, 10, 3):\n",
    "    print(i)"
   ]
  },
  {
   "cell_type": "code",
   "execution_count": null,
   "metadata": {},
   "outputs": [],
   "source": [
    "for i in range(10, 2, -3):\n",
    "    print(i)"
   ]
  },
  {
   "cell_type": "markdown",
   "metadata": {},
   "source": [
    "The `break` and `continue` statements work in a for-loop just like in a while-loop.\n",
    "\n",
    "A Python for-loop does not need to be used together with `range()`, any iterable, *i.e. an instance of a class that properly implements the [`__iter__()` function](https://docs.python.org/dev/library/stdtypes.html#iterator-types),* will do.\n",
    "Printing elements of an iterable can be achieved simply as"
   ]
  },
  {
   "cell_type": "code",
   "execution_count": null,
   "metadata": {},
   "outputs": [],
   "source": [
    "seq = [1, 2, 5, 8]\n",
    "for elem in seq:\n",
    "    print(elem)"
   ]
  },
  {
   "cell_type": "markdown",
   "metadata": {},
   "source": [
    "Should we wish to obtain elements together with their indices the following will work, though clumsily."
   ]
  },
  {
   "cell_type": "code",
   "execution_count": null,
   "metadata": {},
   "outputs": [],
   "source": [
    "# Clumsy!\n",
    "for i in range(len(seq)):\n",
    "    print(f'Element with index {i} is {seq[i]}.')"
   ]
  },
  {
   "cell_type": "markdown",
   "metadata": {},
   "source": [
    "A more elegant way of doing this is "
   ]
  },
  {
   "cell_type": "code",
   "execution_count": null,
   "metadata": {},
   "outputs": [],
   "source": [
    "# Elegant\n",
    "for i, elem in enumerate(seq):\n",
    "    print(f'Element with index {i} is {elem}.')"
   ]
  },
  {
   "cell_type": "markdown",
   "metadata": {},
   "source": [
    "It is also possible to loop through multiple iterables at once with `zip()`."
   ]
  },
  {
   "cell_type": "code",
   "execution_count": null,
   "metadata": {},
   "outputs": [],
   "source": [
    "letters = ['a', 'b', 'c']\n",
    "numbers = (1, 2, 3)\n",
    "booleans = [True, False]\n",
    "for letter, number, boolean in zip(letters, numbers, booleans):\n",
    "    print(letter, number, boolean)"
   ]
  },
  {
   "cell_type": "markdown",
   "metadata": {},
   "source": [
    "_We defined `numbers` using parentheses, which makes it a [tuple](https://docs.python.org/3/library/stdtypes.html#Tuples)._\n",
    "\n",
    "New lists can be created from existing iterables trough [list comprehensions](https://docs.python.org/3/tutorial/datastructures.html#list-comprehensions).\n",
    "*Python also has generator, set and dictionary comprehensions.*"
   ]
  },
  {
   "cell_type": "code",
   "execution_count": null,
   "metadata": {},
   "outputs": [],
   "source": [
    "numbers = range(10)\n",
    "squares_of_even_numbers = [n**2 for n in numbers if n%2 == 0]\n",
    "print(squares_of_even_numbers)"
   ]
  },
  {
   "cell_type": "markdown",
   "metadata": {},
   "source": [
    "### Slicing\n",
    "\n",
    "We already saw how to use indexing to access individual elements from a sequence, but by using slicing we can access subsequences. When slicing a sequence from index a to b we access the indices $\\left[a,b\\right)$. For example `seq[2:4]` will include `seq[2]` and `seq[3]`, but not `seq[4]`."
   ]
  },
  {
   "cell_type": "code",
   "execution_count": null,
   "metadata": {},
   "outputs": [],
   "source": [
    "seq = list(range(10))\n",
    "print(seq)\n",
    "print(seq[2:])\n",
    "print(seq[:5])\n",
    "print(seq[2:5])\n",
    "print(seq[::2])\n",
    "print(seq[1::2])\n",
    "print(seq[1:2])"
   ]
  },
  {
   "cell_type": "markdown",
   "metadata": {},
   "source": [
    "It is worth pointing out that `seq[1]` and `seq[1:2]` do not have the same output.\n",
    "The former returns the element with index 1 whereas the latter returns a new sequence that has one element, which is the element from the original sequence with index 1."
   ]
  },
  {
   "cell_type": "markdown",
   "metadata": {},
   "source": [
    "### Functions\n",
    "\n",
    "Python allows for the definition of functions _and classes_ which are chunks of code that can be called by other parts of the code. We could implement the \"Hello, World!\" program using functions."
   ]
  },
  {
   "cell_type": "code",
   "execution_count": null,
   "metadata": {},
   "outputs": [],
   "source": [
    "def hello_world():\n",
    "    print(\"Hello, World!\")"
   ]
  },
  {
   "cell_type": "markdown",
   "metadata": {},
   "source": [
    "We have defined the function but no message was printed because we have not yet called it. "
   ]
  },
  {
   "cell_type": "code",
   "execution_count": null,
   "metadata": {},
   "outputs": [],
   "source": [
    "hello_world()"
   ]
  },
  {
   "cell_type": "markdown",
   "metadata": {},
   "source": [
    "The `hello_world()` function always prints the same message, but we could also write a function that returns a value depending on its input."
   ]
  },
  {
   "cell_type": "code",
   "execution_count": null,
   "metadata": {},
   "outputs": [],
   "source": [
    "def is_positive(x):\n",
    "    return x > 0\n",
    "\n",
    "\n",
    "for elem in (5, -5):\n",
    "    print(f'Is {elem} positive? {is_positive(elem)}')"
   ]
  },
  {
   "cell_type": "markdown",
   "metadata": {},
   "source": [
    "Functions can be used in the definitions of other functions. _Recursion is available too._"
   ]
  },
  {
   "cell_type": "code",
   "execution_count": null,
   "metadata": {},
   "outputs": [],
   "source": [
    "def is_negative(x):\n",
    "    if x:\n",
    "        return not is_positive(x)\n",
    "    return False\n",
    "\n",
    "\n",
    "for elem in (5, -5, 0):\n",
    "    print(f'Is {elem} negative? {is_negative(elem)}')"
   ]
  },
  {
   "cell_type": "markdown",
   "metadata": {},
   "source": [
    "Function arguments can have default values in which case they don't have to be provided in the function call.\n",
    "*The default values are evaluated when the function is defined, not when it's called.*"
   ]
  },
  {
   "cell_type": "code",
   "execution_count": null,
   "metadata": {},
   "outputs": [],
   "source": [
    "def is_odd(x, verbose=False):\n",
    "    answer = bool(a%2)\n",
    "    if verbose:\n",
    "        if answer:\n",
    "            print(f'{x} is odd.')\n",
    "        else:\n",
    "            print(f'{x} is not odd.')\n",
    "    return answer\n",
    "\n",
    "\n",
    "# One of these three is not like the others\n",
    "a = 3\n",
    "print(is_odd(a))\n",
    "print()\n",
    "print(is_odd(a, verbose=False))\n",
    "print()\n",
    "print(is_odd(a, verbose=True))"
   ]
  },
  {
   "cell_type": "markdown",
   "metadata": {},
   "source": [
    "Functions have their own namespace, which means variables defined within a function are separate from variables outside them even if they share their name."
   ]
  },
  {
   "cell_type": "code",
   "execution_count": null,
   "metadata": {},
   "outputs": [],
   "source": [
    "def namespace_example():\n",
    "    a = 5\n",
    "    print(f'This function thinks {a=}, {b=}.')\n",
    "\n",
    "\n",
    "a = 3\n",
    "b = 7\n",
    "namespace_example()\n",
    "print(f'But outside the function {a=}, {b=}.')"
   ]
  },
  {
   "cell_type": "markdown",
   "metadata": {},
   "source": [
    "### Importing\n",
    "\n",
    "It can often be useful to import code from pre-existing modules or packages. It is possible to import entire modules or individual classes, functions or constants."
   ]
  },
  {
   "cell_type": "code",
   "execution_count": null,
   "metadata": {},
   "outputs": [],
   "source": [
    "from numpy import pi    # Importing a single item\n",
    "\n",
    "print(f'{pi=:g}')"
   ]
  },
  {
   "cell_type": "code",
   "execution_count": null,
   "metadata": {},
   "outputs": [],
   "source": [
    "import numpy as np      # Importing the entire module\n",
    "\n",
    "print(f'{np.pi:g}')"
   ]
  }
 ],
 "metadata": {
  "kernelspec": {
   "display_name": "Python 3",
   "language": "python",
   "name": "python3"
  },
  "language_info": {
   "codemirror_mode": {
    "name": "ipython",
    "version": 3
   },
   "file_extension": ".py",
   "mimetype": "text/x-python",
   "name": "python",
   "nbconvert_exporter": "python",
   "pygments_lexer": "ipython3",
   "version": "3.8.5"
  }
 },
 "nbformat": 4,
 "nbformat_minor": 2
}
