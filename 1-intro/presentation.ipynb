{
 "cells": [
  {
   "cell_type": "markdown",
   "metadata": {
    "slideshow": {
     "slide_type": "slide"
    }
   },
   "source": [
    "<img src=\"imgs/front.jpeg\" width=\"1400\">"
   ]
  },
  {
   "cell_type": "markdown",
   "metadata": {
    "slideshow": {
     "slide_type": "slide"
    }
   },
   "source": [
    "<h1><center> The course </center></h1>\n",
    "\n",
    "#### Prior lecturers - Daniel Carrera, Brian Thorsbro\n",
    "<br>\n",
    "<br>\n",
    "\n",
    "### This lecture is a mini-series companion to: \n",
    "\n",
    "**ASTM13**: Dynamical Astronomy\n",
    "\n",
    "**ASTM21**: Statistical tools in astrophysics\n",
    "<br>\n",
    "<br>\n",
    "<br>\n",
    "<br>\n",
    "\n",
    "## Todays's Lecture: Python basics"
   ]
  },
  {
   "cell_type": "markdown",
   "metadata": {
    "slideshow": {
     "slide_type": "slide"
    }
   },
   "source": [
    "<h1><center> Where to get the lecture notes </center></h1>\n",
    "\n",
    "You can get copies of all the lecture files at my personal website. Go to:\n",
    "\n",
    "http://www.astro.lu.se/~mikkola/\n",
    "\n",
    "and click on **Teaching**\n",
    "\n",
    "\n",
    "Each lecture contains (as notebooks)\n",
    "- Manual \n",
    "- Exercises\n",
    "- Presentation\n",
    "\n",
    "---"
   ]
  },
  {
   "cell_type": "markdown",
   "metadata": {
    "slideshow": {
     "slide_type": "slide"
    }
   },
   "source": [
    "<h1><center> Writing Python(3!) </center></h1>\n",
    "\n",
    "<img src=\"https://upload.wikimedia.org/wikipedia/en/c/cd/Anaconda_Logo.png\" width=\"300\" align=\"left\" style=\"margin: 0px 160px 60px 60px;\"/>\n",
    "\n",
    "We recommend installing Python through Anaconda. \n",
    "\n",
    "Get Anaconda from:\n",
    "\n",
    "[https://www.anaconda.com/download/](https://www.anaconda.com/download/)"
   ]
  },
  {
   "cell_type": "markdown",
   "metadata": {
    "slideshow": {
     "slide_type": "slide"
    }
   },
   "source": [
    "It installs two programs you might want to use for writing Python:\n",
    "\n",
    "### [Jupyter Notebook](https://jupyter.org/)\n",
    "> The Jupyter Notebook is an open-source web application that allows you to create and share documents that contain live code, equations, visualizations and narrative text. Uses include: data cleaning and transformation, numerical simulation, statistical modeling, data visualization, machine learning, and much more.\n",
    "\n",
    "### [Spyder](https://www.spyder-ide.org/)\n",
    "> Spyder is a powerful scientific environment written in Python, for Python, and designed by and for scientists, engineers and data analysts. It features a unique combination of the advanced editing, analysis, debugging, and profiling functionality of a comprehensive development tool with the data exploration, interactive execution, deep inspection, and beautiful visualization capabilities of a scientific package."
   ]
  },
  {
   "cell_type": "markdown",
   "metadata": {
    "slideshow": {
     "slide_type": "slide"
    }
   },
   "source": [
    "<h1><center> Zoom poll! </center></h1>"
   ]
  },
  {
   "cell_type": "markdown",
   "metadata": {
    "slideshow": {
     "slide_type": "slide"
    }
   },
   "source": [
    "# Let's get started with a brief introduction!\n",
    "## What is Python\n",
    "\n",
    "Python is a very clean and easy programming language. \n",
    "\n",
    "Let's program it to say `Hello, World!`"
   ]
  },
  {
   "cell_type": "code",
   "execution_count": null,
   "metadata": {
    "slideshow": {
     "slide_type": "fragment"
    }
   },
   "outputs": [],
   "source": [
    "print('Hello, World')"
   ]
  },
  {
   "cell_type": "markdown",
   "metadata": {
    "slideshow": {
     "slide_type": "-"
    }
   },
   "source": [
    "which prints the string 'Hello, World!' specified in single quotation marks. "
   ]
  },
  {
   "cell_type": "markdown",
   "metadata": {
    "slideshow": {
     "slide_type": "slide"
    }
   },
   "source": [
    "_strings_ is one of the data types in Python. The basic ones are:\n",
    "- Integers (ints):\n",
    "```python\n",
    "1, 34, 10\n",
    "```\n",
    "- Floating-point numbers (floats):\n",
    "\n",
    "  ```python\n",
    "  1.23, 4.52, 0.4\n",
    "  ```\n",
    "- Complex numbers:\n",
    "```python\n",
    "5+2j, 2.35+2j, 12+2.3j\n",
    "```\n",
    "- Strings:\n",
    "```python\n",
    "'One', 'Apple', 'Machine'\n",
    "```\n",
    "- Boolean:\n",
    "```python \n",
    "True, False\n",
    "```\n",
    "\n",
    "You can try to convert between them if possible using\n",
    "```python\n",
    "int(), float(), complex(), str(), bool()\n",
    "```"
   ]
  },
  {
   "cell_type": "markdown",
   "metadata": {
    "slideshow": {
     "slide_type": "slide"
    }
   },
   "source": [
    "So:"
   ]
  },
  {
   "cell_type": "code",
   "execution_count": null,
   "metadata": {
    "slideshow": {
     "slide_type": "-"
    }
   },
   "outputs": [],
   "source": [
    "int(1), float(1), complex(1), str(1), bool(1)"
   ]
  },
  {
   "cell_type": "markdown",
   "metadata": {
    "slideshow": {
     "slide_type": "fragment"
    }
   },
   "source": [
    "It is possible to combine variables with string templates in a human-readable way."
   ]
  },
  {
   "cell_type": "code",
   "execution_count": null,
   "metadata": {
    "slideshow": {
     "slide_type": "-"
    }
   },
   "outputs": [],
   "source": [
    "a = 4  # Integer\n",
    "b = 5  # Integer\n",
    "fstr = f'The sum of {a} and {b} is {a+b}.'  # String\n",
    "print(fstr)"
   ]
  },
  {
   "cell_type": "markdown",
   "metadata": {
    "slideshow": {
     "slide_type": "-"
    }
   },
   "source": [
    "This is an example of so-called f-strings (more in the manual)"
   ]
  },
  {
   "cell_type": "markdown",
   "metadata": {
    "slideshow": {
     "slide_type": "slide"
    }
   },
   "source": [
    "#### The arithmetic operators are "
   ]
  },
  {
   "cell_type": "code",
   "execution_count": null,
   "metadata": {
    "slideshow": {
     "slide_type": "-"
    }
   },
   "outputs": [],
   "source": [
    "print(a+b)    # Addition\n",
    "print(a-b)    # Subtraction\n",
    "print(a*b)    # Multiplication\n",
    "print(a/b)    # Division\n",
    "print(a%b)    # Modulus\n",
    "print(a//b)   # Floor division\n",
    "print(a**b)   # Exponentiation"
   ]
  },
  {
   "cell_type": "markdown",
   "metadata": {
    "slideshow": {
     "slide_type": "fragment"
    }
   },
   "source": [
    "Assign in-place using `=` following the operator"
   ]
  },
  {
   "cell_type": "code",
   "execution_count": null,
   "metadata": {
    "slideshow": {
     "slide_type": "-"
    }
   },
   "outputs": [],
   "source": [
    "print(f'a:{a}, b:{b}')\n",
    "b *= a\n",
    "print(f'b:{b}')"
   ]
  },
  {
   "cell_type": "markdown",
   "metadata": {
    "slideshow": {
     "slide_type": "slide"
    }
   },
   "source": [
    "Use **comparison** and **logical** operators as follows:\n",
    "\n",
    "- Logical operators\n",
    "```python\n",
    "and, not, or\n",
    "```\n",
    "- Comparison operators\n",
    "```python\n",
    ">, <, ==, !=, >=, <=\n",
    "```"
   ]
  },
  {
   "cell_type": "code",
   "execution_count": null,
   "metadata": {
    "slideshow": {
     "slide_type": "-"
    }
   },
   "outputs": [],
   "source": [
    "(1 < 5) and (3 == 36//12)"
   ]
  },
  {
   "cell_type": "markdown",
   "metadata": {
    "slideshow": {
     "slide_type": "slide"
    }
   },
   "source": [
    "#### Sequences\n",
    "\n",
    "Store multiple elements into a sequence. Elements from the sequence can be accessed by their index.\n",
    "\n",
    "Python starts counting from 0."
   ]
  },
  {
   "cell_type": "code",
   "execution_count": null,
   "metadata": {
    "slideshow": {
     "slide_type": "-"
    }
   },
   "outputs": [],
   "source": [
    "seq = [1, 10, 100, 1000]\n",
    "string_seq = 'Sequence'\n",
    "\n",
    "seq[2], string_seq[2]"
   ]
  },
  {
   "cell_type": "markdown",
   "metadata": {
    "slideshow": {
     "slide_type": "slide"
    }
   },
   "source": [
    "### Coding\n",
    "\n",
    "When programing you write hundreds of lines. Controlling the execution of those lines will require using the **if-statements** and **loops**\n",
    "\n",
    "#### if\n",
    "Perform indented lines if criterium is `True`.\n",
    "#### elif\n",
    "If the expression in the if statement was `False` then continue by checking the elif-statements until one of them gets executed.\n",
    "#### else\n",
    "If none of the if- and elif-statements were true then execute the code in the else-statement."
   ]
  },
  {
   "cell_type": "code",
   "execution_count": null,
   "metadata": {
    "slideshow": {
     "slide_type": "slide"
    }
   },
   "outputs": [],
   "source": [
    "import random\n",
    "\n",
    "a = random.randint(-1, 1)\n",
    "\n",
    "print(f'a is {a}')\n",
    "if a > 0:\n",
    "    print('a is positive')\n",
    "elif a < 0:\n",
    "    print('a is negative')\n",
    "else:\n",
    "    print('a is zero')"
   ]
  },
  {
   "cell_type": "markdown",
   "metadata": {
    "slideshow": {
     "slide_type": "slide"
    }
   },
   "source": [
    "**NB!** The following code blocks are not equivalent."
   ]
  },
  {
   "cell_type": "code",
   "execution_count": null,
   "metadata": {
    "slideshow": {
     "slide_type": "-"
    }
   },
   "outputs": [],
   "source": [
    "a = 2\n",
    "\n",
    "print('First codeblock')\n",
    "if a == 2:\n",
    "    print('a is 2')\n",
    "if not a%2:\n",
    "    print('a is even')\n",
    "else:\n",
    "    print('a is odd')\n",
    "\n",
    "print()\n",
    "print('Second codeblock')\n",
    "if a == 2:\n",
    "    print('a is 2')\n",
    "elif not a%2:\n",
    "    print('a is even')\n",
    "else:\n",
    "    print('a is odd')"
   ]
  },
  {
   "cell_type": "markdown",
   "metadata": {
    "slideshow": {
     "slide_type": "slide"
    }
   },
   "source": [
    "#### Loops\n",
    "\n",
    "Loops allow you to execute the same lines multiple times, perhaps while iterating over a sequence.\n",
    "\n",
    "- **For**-loop: actually a for-each loop, goes through the elements of an iterable, which is often a `range` object.\n",
    "- **While**-loop: While criterium is true, execute lines"
   ]
  },
  {
   "cell_type": "code",
   "execution_count": null,
   "metadata": {
    "scrolled": true,
    "slideshow": {
     "slide_type": "-"
    }
   },
   "outputs": [],
   "source": [
    "for i in range(3):\n",
    "    print(i)\n",
    "\n",
    "print()\n",
    "\n",
    "while i > 0:\n",
    "    i -= 1\n",
    "    print(i)"
   ]
  },
  {
   "cell_type": "markdown",
   "metadata": {
    "slideshow": {
     "slide_type": "slide"
    }
   },
   "source": [
    "### Functions\n",
    "\n",
    "Write Python correctly and neatly with functions. A function can look like:"
   ]
  },
  {
   "cell_type": "code",
   "execution_count": null,
   "metadata": {
    "slideshow": {
     "slide_type": "-"
    }
   },
   "outputs": [],
   "source": [
    "from time import sleep\n",
    "\n",
    "\n",
    "def countdown(i):\n",
    "    while i > 0:\n",
    "        print(i)\n",
    "        i -= 1\n",
    "        sleep(0.3)\n",
    "    print('You can stop waiting now')"
   ]
  },
  {
   "cell_type": "code",
   "execution_count": null,
   "metadata": {
    "slideshow": {
     "slide_type": "-"
    }
   },
   "outputs": [],
   "source": [
    "countdown(10)"
   ]
  },
  {
   "cell_type": "markdown",
   "metadata": {
    "slideshow": {
     "slide_type": "slide"
    }
   },
   "source": [
    "### Writing good code with comments and functions\n",
    "\n",
    "Separate different parts of your code into neatly contained and decently named functions when possible and make sure to add adequate comments explaining what you are doing.\n",
    "\n",
    "Too few comments will make your code obscure.\n",
    "\n",
    "Too many comments will bury useful information in clutter."
   ]
  },
  {
   "cell_type": "markdown",
   "metadata": {
    "slideshow": {
     "slide_type": "slide"
    }
   },
   "source": [
    "Too few comments and no functions:"
   ]
  },
  {
   "cell_type": "code",
   "execution_count": null,
   "metadata": {
    "slideshow": {
     "slide_type": "-"
    }
   },
   "outputs": [],
   "source": [
    "start_lst = [20, 24, 28, 29, 300, 560, 578]\n",
    "\n",
    "max_seq = max(start_lst)\n",
    "max_seq = str(max_seq)\n",
    "\n",
    "av_start_lst = sum(start_lst)\n",
    "av_start_lst /= len(start_lst)\n",
    "\n",
    "for i in range(len(start_lst)):\n",
    "    start_lst[i] /= av_start_lst"
   ]
  },
  {
   "cell_type": "markdown",
   "metadata": {
    "slideshow": {
     "slide_type": "slide"
    }
   },
   "source": [
    "Too many comments:"
   ]
  },
  {
   "cell_type": "code",
   "execution_count": null,
   "metadata": {
    "slideshow": {
     "slide_type": "-"
    }
   },
   "outputs": [],
   "source": [
    "def max_int_str(seq):\n",
    "    '''Return the maximum of a sequence as a string'''\n",
    "\n",
    "    max_seq = max(seq)      # Finds the maximum value\n",
    "    max_seq = str(max_seq)  # Converts the integer to a string\n",
    "\n",
    "    return max_seq\n",
    "\n",
    "\n",
    "def normalize_seq(lst):\n",
    "    '''Return a list normalized by its arithmetic mean'''\n",
    "\n",
    "    av_start_lst = sum(lst)    # Get the sum of seq\n",
    "    av_start_lst /= len(lst)   # Divide the sum by the number of elements in seq\n",
    "\n",
    "    for i in range(len(lst)):  # Loop over all elements in seq and divide by the average\n",
    "        lst[i] /= av_start_lst\n",
    "\n",
    "    return lst\n",
    "\n",
    "\n",
    "start_seq = [20, 24, 28, 29, 300, 560, 578]\n",
    "max_seq = max_int_str(start_seq)\n",
    "start_seq = normalize_seq(start_seq)"
   ]
  },
  {
   "cell_type": "markdown",
   "metadata": {
    "slideshow": {
     "slide_type": "slide"
    }
   },
   "source": [
    "Roughly the right amount:"
   ]
  },
  {
   "cell_type": "code",
   "execution_count": null,
   "metadata": {
    "slideshow": {
     "slide_type": "-"
    }
   },
   "outputs": [],
   "source": [
    "def max_int_str(seq):\n",
    "    '''Return the maximum of a sequence as a string'''\n",
    "\n",
    "    max_seq = max(seq)\n",
    "    max_seq = str(max_seq)  # We need to return the maximum as a string because reasons\n",
    "\n",
    "    return max_seq\n",
    "\n",
    "\n",
    "def normalize_seq(lst):\n",
    "    '''Return a list normalized by its arithmetic mean'''\n",
    "\n",
    "    # Arithmetic average\n",
    "    av_start_lst = sum(lst)\n",
    "    av_start_lst /= len(lst)\n",
    "\n",
    "    # Normalization\n",
    "    for i in range(len(lst)):\n",
    "        lst[i] /= av_start_lst\n",
    "\n",
    "    return lst\n",
    "\n",
    "\n",
    "start_seq = [20, 24, 28, 29, 300, 560, 578]\n",
    "max_seq = max_int_str(start_seq)\n",
    "start_seq = normalize_seq(start_seq)"
   ]
  },
  {
   "cell_type": "markdown",
   "metadata": {
    "slideshow": {
     "slide_type": "slide"
    }
   },
   "source": [
    "\n",
    "### PEP-8\n",
    "\n",
    "[PEP-8](https://www.python.org/dev/peps/pep-0008/) is a document that provides guidelines and good practices for writing good Python code."
   ]
  },
  {
   "cell_type": "markdown",
   "metadata": {
    "slideshow": {
     "slide_type": "slide"
    }
   },
   "source": [
    "## These topics (and more) is available in greater detail in the accompanying manual notebook!"
   ]
  },
  {
   "cell_type": "markdown",
   "metadata": {
    "slideshow": {
     "slide_type": "slide"
    }
   },
   "source": [
    "# Writing and running scripts\n",
    "So now you want to make your own Python code, how do you go about this?"
   ]
  },
  {
   "cell_type": "markdown",
   "metadata": {
    "slideshow": {
     "slide_type": "fragment"
    }
   },
   "source": [
    "### 1) Jupyter Notebook\n",
    "\n",
    "#### a) Via **anaconda-navigator**\n",
    "- Run anaconda-navigator from applications\n",
    "- Press jupyter notebook\n",
    "- Open a notebook from *new*"
   ]
  },
  {
   "cell_type": "code",
   "execution_count": null,
   "metadata": {
    "slideshow": {
     "slide_type": "-"
    }
   },
   "outputs": [],
   "source": [
    "import os\n",
    "os.popen('anaconda-navigator')"
   ]
  },
  {
   "cell_type": "code",
   "execution_count": null,
   "metadata": {
    "slideshow": {
     "slide_type": "-"
    }
   },
   "outputs": [],
   "source": [
    "def hw():\n",
    "    print('Hello, World!')"
   ]
  },
  {
   "cell_type": "code",
   "execution_count": null,
   "metadata": {
    "slideshow": {
     "slide_type": "-"
    }
   },
   "outputs": [],
   "source": [
    "hw()"
   ]
  },
  {
   "cell_type": "markdown",
   "metadata": {
    "slideshow": {
     "slide_type": "slide"
    }
   },
   "source": [
    "#### b) Via terminal (Unix-likes)\n",
    "- Open a terminal\n",
    "- Move to the directory you want to start in\n",
    "- Enter `jupyter notebook`\n",
    "- Open a new notebook from *new*\n",
    "\n",
    "If you already have a notebook, you can type `jupyter notebook <your notebook>.ipynb` to open it directly"
   ]
  },
  {
   "cell_type": "code",
   "execution_count": null,
   "metadata": {
    "slideshow": {
     "slide_type": "-"
    }
   },
   "outputs": [],
   "source": [
    "os.system('open -a Terminal .')"
   ]
  },
  {
   "cell_type": "markdown",
   "metadata": {
    "slideshow": {
     "slide_type": "slide"
    }
   },
   "source": [
    "### 2) Spyder\n",
    "- Run anaconda-navigator from applications\n",
    "- Press spyder\n",
    "- Write your code in the editor\n",
    "- Save it as .py script"
   ]
  },
  {
   "cell_type": "code",
   "execution_count": null,
   "metadata": {
    "slideshow": {
     "slide_type": "-"
    }
   },
   "outputs": [],
   "source": [
    "import os\n",
    "os.system('anaconda-navigator')"
   ]
  },
  {
   "cell_type": "markdown",
   "metadata": {
    "slideshow": {
     "slide_type": "-"
    }
   },
   "source": [
    "You can also run `spyder` directly from the terminal"
   ]
  },
  {
   "cell_type": "markdown",
   "metadata": {
    "slideshow": {
     "slide_type": "slide"
    }
   },
   "source": [
    "### 3) With only Python\n",
    "You can also use the terminal to run scripts directly with Python\n",
    "\n",
    "1. Create a script\n",
    "2. Write and save\n",
    "3. Run script\n",
    "\n",
    "```\n",
    ":~ $ python helloworld.py\n",
    "\n",
    "```"
   ]
  },
  {
   "cell_type": "code",
   "execution_count": null,
   "metadata": {
    "slideshow": {
     "slide_type": "-"
    }
   },
   "outputs": [],
   "source": [
    "os.system('open -a Terminal .')"
   ]
  },
  {
   "cell_type": "markdown",
   "metadata": {
    "slideshow": {
     "slide_type": "slide"
    }
   },
   "source": [
    "# What is Python good for?\n",
    "\n",
    "Python usage is growing as a language. Not only is it one of the most used languages in the world it is also one of the most versatile. The below table is from [HackerRank's 2020 report](https://research.hackerrank.com/developer-skills/2020).\n",
    "\n",
    "<img src=\"imgs/languages.png\" width=\"900\">\n",
    "\n",
    "Knowing this, let's review some of the things Python is used for!"
   ]
  },
  {
   "cell_type": "markdown",
   "metadata": {
    "slideshow": {
     "slide_type": "slide"
    }
   },
   "source": [
    "## 1) Web development & Building web apps\n",
    "Python is an excellent language for web development and has pre-built libraries and web frameworks like [Django](https://www.djangoproject.com/) and [Flask](https://flask.palletsprojects.com/en/1.1.x/).  \n",
    "\n",
    "In fact, **reddit** is written in Python and available on GitHub (https://github.com/reddit-archive/reddit)!\n",
    "\n",
    "<img src=\"imgs/reddit.png\" width=\"1500\">"
   ]
  },
  {
   "cell_type": "markdown",
   "metadata": {
    "slideshow": {
     "slide_type": "slide"
    }
   },
   "source": [
    "## 2) Machine learning\n",
    "\n",
    "Machine learning is easily implemented in Python. Popular libraries are [scikit-learn](https://scikit-learn.org/stable/index.html) and [TensorFlow](https://www.tensorflow.org/).  \n",
    "An example of machine learning is GAN (Generative adversarial network)"
   ]
  },
  {
   "cell_type": "code",
   "execution_count": null,
   "metadata": {
    "slideshow": {
     "slide_type": "-"
    }
   },
   "outputs": [],
   "source": [
    "from IPython.display import IFrame\n",
    "IFrame('https://www.whichfaceisreal.com', width=700, height=600)"
   ]
  },
  {
   "cell_type": "markdown",
   "metadata": {
    "slideshow": {
     "slide_type": "slide"
    }
   },
   "source": [
    "## 3) Data science\n",
    "There is an impressive range to the science that can be done using Python. For example we have the libraries:"
   ]
  },
  {
   "cell_type": "markdown",
   "metadata": {
    "slideshow": {
     "slide_type": "fragment"
    }
   },
   "source": [
    "<img src=\"imgs/astropy.png\"    width=\"400\" align=\"right\" style=\"margin: 0px 0px 0px 0px;\"/> \n",
    "\n",
    "- [Astropy](https://www.astropy.org): Astronomy"
   ]
  },
  {
   "cell_type": "markdown",
   "metadata": {
    "slideshow": {
     "slide_type": "fragment"
    }
   },
   "source": [
    "<img src=\"imgs/biopython.png\"  width=\"260\" align=\"right\" style=\"margin: 0px 140px 0px 0px;\"/>  \n",
    "\n",
    "\n",
    "- [Biopython](https://biopython.org): Biology & Bioinformatics"
   ]
  },
  {
   "cell_type": "markdown",
   "metadata": {
    "slideshow": {
     "slide_type": "fragment"
    }
   },
   "source": [
    "<img src=\"imgs/graph-tool.png\" width=\"400\" align=\"right\" style=\"margin: 0px 0px 10px 0px;\"/>  \n",
    "\n",
    "- [Graph-tool](https://graph-tool.skewed.de): Statistical analysis of graphs"
   ]
  },
  {
   "cell_type": "markdown",
   "metadata": {
    "slideshow": {
     "slide_type": "fragment"
    }
   },
   "source": [
    "<img src=\"imgs/psychopy.png\"   width=\"290\" align=\"right\" style=\"margin: 0px 110px 0px 0px;\"/>\n",
    "\n",
    "- [Psychopy](https://www.psychopy.org): Neuroscience & Experimental Psychology"
   ]
  },
  {
   "cell_type": "markdown",
   "metadata": {
    "slideshow": {
     "slide_type": "slide"
    }
   },
   "source": [
    "## 4) Startups\n",
    "\n",
    "It is hightly common that startups use Python. [Dropbox](https://www.dropbox.com/?landing=dbv2) was started by student Drew Houston who kept forgetting his flash drive, so he built it for himself in Python."
   ]
  },
  {
   "cell_type": "markdown",
   "metadata": {
    "slideshow": {
     "slide_type": "slide"
    }
   },
   "source": [
    "## 5) Financial sector\n",
    "\n",
    "HackerRank showed in a [blogpost from 2016](https://blog.hackerrank.com/emerging-languages-still-overshadowed-by-incumbents-java-python-in-coding-interviews/) that when hiring developers/programmers, the prioritized programming languages for finance always had Python ranked high. \n",
    "\n",
    "<img src=\"imgs/finance.png\"   width=1400 height=500/>  "
   ]
  },
  {
   "cell_type": "markdown",
   "metadata": {
    "slideshow": {
     "slide_type": "slide"
    }
   },
   "source": [
    "<h1><center> Exit questions </center></h1>\n",
    "\n",
    "#### For question 2\n",
    "```python\n",
    "def add(a, b):\n",
    "    return a+5, b+5\n",
    "\n",
    "result = add(3, 2)\n",
    "print(result)\n",
    "```"
   ]
  },
  {
   "cell_type": "markdown",
   "metadata": {
    "slideshow": {
     "slide_type": "slide"
    }
   },
   "source": [
    "# Now it's time to use the manual to solve the exercises. Good luck!"
   ]
  }
 ],
 "metadata": {
  "celltoolbar": "Slideshow",
  "kernelspec": {
   "display_name": "Python 3",
   "language": "python",
   "name": "python3"
  },
  "language_info": {
   "codemirror_mode": {
    "name": "ipython",
    "version": 3
   },
   "file_extension": ".py",
   "mimetype": "text/x-python",
   "name": "python",
   "nbconvert_exporter": "python",
   "pygments_lexer": "ipython3",
   "version": "3.8.5"
  }
 },
 "nbformat": 4,
 "nbformat_minor": 2
}
