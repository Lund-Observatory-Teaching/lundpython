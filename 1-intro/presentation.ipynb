{
 "cells": [
  {
   "cell_type": "markdown",
   "metadata": {
    "editable": true,
    "slideshow": {
     "slide_type": "slide"
    },
    "tags": []
   },
   "source": [
    "<img src=\"https://lund-observatory-teaching.github.io/lundpython/imgs/front_1.jpeg\" width=\"1400\">"
   ]
  },
  {
   "cell_type": "markdown",
   "metadata": {
    "editable": true,
    "slideshow": {
     "slide_type": "slide"
    },
    "tags": []
   },
   "source": [
    "<h1><center> The course </center></h1>\n",
    "\n",
    "#### Prior lecturer - Eero Vaher\n",
    "<br>\n",
    "<br>\n",
    "\n",
    "### This lecture is a mini-series companion to: \n",
    "\n",
    "**ASTM28**: Dynamical Astronomy\n",
    "\n",
    "**ASTM29**: Statistical tools in astrophysics\n",
    "<br>\n",
    "<br>\n",
    "<br>\n",
    "<br>\n",
    "\n",
    "## Todays's Lecture: Basics"
   ]
  },
  {
   "cell_type": "markdown",
   "metadata": {
    "editable": true,
    "slideshow": {
     "slide_type": "slide"
    },
    "tags": []
   },
   "source": [
    "<h1><center> Course website </center></h1>\n",
    "\n",
    "To download all lecture files and see the schedule, please visit:\n",
    "\n",
    "[lund-observatory-teaching.github.io/lundpython/](https://lund-observatory-teaching.github.io/lundpython/)\n",
    "\n",
    "\n",
    "Each lecture contains (as notebooks)\n",
    "- Manual \n",
    "- Exercises\n",
    "- Presentation\n",
    "\n",
    "---"
   ]
  },
  {
   "cell_type": "markdown",
   "metadata": {
    "slideshow": {
     "slide_type": "slide"
    }
   },
   "source": [
    "# Go to www.menti.com and enter code: xxxx xxxx"
   ]
  },
  {
   "cell_type": "markdown",
   "metadata": {
    "editable": true,
    "slideshow": {
     "slide_type": "subslide"
    },
    "tags": []
   },
   "source": [
    " - 3.9   Required for ``astropy`` 5.3 or newer\n",
    " - 3.10  More helpful error messages and pattern matching\n",
    " - 3.11  Even better error messages and better performance\n",
    " - 3.12  Better f-strings and better error messages again\n",
    "\n",
    "Example of comparison between new and old error messages.\n",
    "```python\n",
    "expected = {9: 1, 18: 2, 19: 2, 27: 3, 28: 3, 29: 3, 36: 4, 37: 4,\n",
    "            38: 4, 39: 4, 45: 5, 46: 5, 47: 5, 48: 5, 49: 5, 54: 6,\n",
    "some_other_code = foo()\n",
    "```\n",
    "Pre 3.10 output:\n",
    "```python\n",
    "File \"example.py\", line 3\n",
    "    some_other_code = foo()\n",
    "                    ^\n",
    "SyntaxError: invalid syntax\n",
    "```\n",
    "3.10 output:\n",
    "```python\n",
    "File \"example.py\", line 1\n",
    "    expected = {9: 1, 18: 2, 19: 2, 27: 3, 28: 3, 29: 3, 36: 4, 37: 4,\n",
    "               ^\n",
    "SyntaxError: '{' was never closed\n",
    "```"
   ]
  },
  {
   "cell_type": "markdown",
   "metadata": {
    "slideshow": {
     "slide_type": "slide"
    }
   },
   "source": [
    "# What is Python good for?\n",
    "\n",
    "Python is (arguably) the world's biggest programming language, and one of the most versatile.\n",
    "The below table is from a [2023 Stackscale blog post](https://www.stackscale.com/blog/most-popular-programming-languages/).\n",
    "\n",
    "<img src=\"https://lund-observatory-teaching.github.io/lundpython/imgs/languages.png\" width=\"900\">\n",
    "\n",
    "Knowing this, let's review some of the things Python is used for!"
   ]
  },
  {
   "cell_type": "markdown",
   "metadata": {
    "slideshow": {
     "slide_type": "slide"
    }
   },
   "source": [
    "## 1) Financial sector\n",
    "\n",
    "HackerRank showed in a [blogpost from 2016](https://blog.hackerrank.com/emerging-languages-still-overshadowed-by-incumbents-java-python-in-coding-interviews/) that when hiring developers/programmers, the prioritized programming languages for finance always had Python ranked high. \n",
    "\n",
    "<img src=\"https://lund-observatory-teaching.github.io/lundpython/imgs/finance.png\"   width=1400 height=500/>  "
   ]
  },
  {
   "cell_type": "markdown",
   "metadata": {
    "slideshow": {
     "slide_type": "slide"
    }
   },
   "source": [
    "## 2) Web development & Building web apps\n",
    "Python is an excellent language for web development and has pre-built libraries and web frameworks like [Django](https://www.djangoproject.com/) and [Flask](https://flask.palletsprojects.com/en/1.1.x/).  \n",
    "\n",
    "In fact, **reddit** is written in Python and available on GitHub (https://github.com/reddit-archive/reddit)!\n",
    "\n",
    "<img src=\"https://lund-observatory-teaching.github.io/lundpython/imgs/reddit.png\" width=\"1500\">"
   ]
  },
  {
   "cell_type": "markdown",
   "metadata": {
    "slideshow": {
     "slide_type": "slide"
    }
   },
   "source": [
    "## 3) Startups\n",
    "\n",
    "It is hightly common that startups use Python.\n",
    "[Dropbox](https://www.dropbox.com/?landing=dbv2) was started by student Drew Houston who kept forgetting his flash drive, so he built it for himself in Python."
   ]
  },
  {
   "cell_type": "markdown",
   "metadata": {
    "slideshow": {
     "slide_type": "slide"
    }
   },
   "source": [
    "## 4) Data science\n",
    "There is an impressive range to the science that can be done using Python.\n",
    "For example we have the libraries:"
   ]
  },
  {
   "cell_type": "markdown",
   "metadata": {
    "slideshow": {
     "slide_type": "fragment"
    }
   },
   "source": [
    "<img src=\"https://lund-observatory-teaching.github.io/lundpython/imgs/astropy.png\"    width=\"400\" align=\"right\" style=\"margin: 0px 0px 0px 0px;\"/> \n",
    "\n",
    "- [Astropy](https://www.astropy.org): Astronomy"
   ]
  },
  {
   "cell_type": "markdown",
   "metadata": {
    "slideshow": {
     "slide_type": "fragment"
    }
   },
   "source": [
    "<img src=\"https://lund-observatory-teaching.github.io/lundpython/imgs/biopython.png\"  width=\"260\" align=\"right\" style=\"margin: 0px 140px 0px 0px;\"/>  \n",
    "\n",
    "\n",
    "- [Biopython](https://biopython.org): Biology & Bioinformatics"
   ]
  },
  {
   "cell_type": "markdown",
   "metadata": {
    "slideshow": {
     "slide_type": "fragment"
    }
   },
   "source": [
    "<img src=\"https://lund-observatory-teaching.github.io/lundpython/imgs/graph-tool.png\" width=\"400\" align=\"right\" style=\"margin: 0px 0px 10px 0px;\"/>  \n",
    "\n",
    "- [Graph-tool](https://graph-tool.skewed.de): Statistical analysis of graphs"
   ]
  },
  {
   "cell_type": "markdown",
   "metadata": {
    "editable": true,
    "slideshow": {
     "slide_type": "fragment"
    },
    "tags": []
   },
   "source": [
    "<img src=\"https://lund-observatory-teaching.github.io/lundpython/imgs/psychopy.png\"   width=\"290\" align=\"right\" style=\"margin: 0px 110px 0px 0px;\"/>\n",
    "\n",
    "- [Psychopy](https://www.psychopy.org): Neuroscience & Experimental Psychology"
   ]
  },
  {
   "cell_type": "markdown",
   "metadata": {
    "slideshow": {
     "slide_type": "slide"
    }
   },
   "source": [
    "<img src=\"https://s3.amazonaws.com/aasie/images/0004-637X/935/2/null/apjac7c74f1_hr.jpg\" width=\"1000\" align=\"top\">\n",
    "\n",
    "Number of astronomy papers that refer to different programming languages. Python is the most commonly referred language since 2016. Figure by [Astropy Collaboration (2022)](https://ui.adsabs.harvard.edu/abs/2022ApJ...935..167A/abstract)"
   ]
  },
  {
   "cell_type": "markdown",
   "metadata": {
    "slideshow": {
     "slide_type": "slide"
    }
   },
   "source": [
    "<h1><center> Writing Python </center></h1>\n",
    "\n",
    "We recommend following the guide made by Numpy for installing Python:\n",
    "\n",
    "[https://numpy.org/install/](https://numpy.org/install/#python-numpy-install-guide)\n",
    "\n",
    "It covers all cases with different operating systems and user experience levels. "
   ]
  },
  {
   "cell_type": "markdown",
   "metadata": {
    "slideshow": {
     "slide_type": "slide"
    }
   },
   "source": [
    "There are two common programs you might want to use for writing Python:\n",
    "\n",
    "### [Jupyter Notebook](https://jupyter.org/)\n",
    "> The Jupyter Notebook is an open-source web application that allows you to create and share documents that contain live code, equations, visualizations and narrative text. Uses include: data cleaning and transformation, numerical simulation, statistical modeling, data visualization, machine learning, and much more.\n",
    "\n",
    "### [Spyder](https://www.spyder-ide.org/)\n",
    "> Spyder is a powerful scientific environment written in Python, for Python, and designed by and for scientists, engineers and data analysts. It features a unique combination of the advanced editing, analysis, debugging, and profiling functionality of a comprehensive development tool with the data exploration, interactive execution, deep inspection, and beautiful visualization capabilities of a scientific package."
   ]
  },
  {
   "cell_type": "markdown",
   "metadata": {
    "editable": true,
    "slideshow": {
     "slide_type": "slide"
    },
    "tags": []
   },
   "source": [
    "# Let's get started with a brief introduction!\n",
    "## Hello, World!\n",
    "\n",
    "Let's make Python say `Hello, World!`"
   ]
  },
  {
   "cell_type": "code",
   "execution_count": null,
   "metadata": {
    "editable": true,
    "slideshow": {
     "slide_type": "fragment"
    },
    "tags": []
   },
   "outputs": [],
   "source": [
    "print(\"Hello, World!\")"
   ]
  },
  {
   "cell_type": "code",
   "execution_count": null,
   "metadata": {
    "editable": true,
    "slideshow": {
     "slide_type": "fragment"
    },
    "tags": []
   },
   "outputs": [],
   "source": [
    "print('Hello, World!')"
   ]
  },
  {
   "cell_type": "markdown",
   "metadata": {
    "editable": true,
    "slideshow": {
     "slide_type": "slide"
    },
    "tags": []
   },
   "source": [
    "And now we try something more complicated."
   ]
  },
  {
   "cell_type": "code",
   "execution_count": null,
   "metadata": {
    "editable": true,
    "slideshow": {
     "slide_type": "-"
    },
    "tags": []
   },
   "outputs": [],
   "source": [
    "a = 4\n",
    "b = 5\n",
    "print(f\"The sum of {a=} and {b=} is {a+b = }.\")"
   ]
  },
  {
   "cell_type": "markdown",
   "metadata": {
    "editable": true,
    "slideshow": {
     "slide_type": "slide"
    },
    "tags": []
   },
   "source": [
    "# Built-in types\n",
    "\n",
    "Some of the Python built-in types you will use a lot are:"
   ]
  },
  {
   "cell_type": "code",
   "execution_count": null,
   "metadata": {},
   "outputs": [],
   "source": [
    "for elem in (5, 5.0, \"5\", [5], (5,)):\n",
    "    print(f\"{elem} is {type(elem).__name__}\")"
   ]
  },
  {
   "cell_type": "markdown",
   "metadata": {
    "slideshow": {
     "slide_type": "slide"
    }
   },
   "source": [
    "## Booleans\n",
    "\n",
    "There are two Boolean values: `True` and `False`.\n",
    "\n",
    "If the result of converting an object to a Boolean is `True` then the object is called truthy, falsy objects get converted to `False`.\n",
    "\n",
    "Truthy and falsy objects can be used directly in if-statements and while-loops."
   ]
  },
  {
   "cell_type": "code",
   "execution_count": null,
   "metadata": {},
   "outputs": [],
   "source": [
    "for elem in (2, -1, \"\", 0.0, [], [0], (), ((),)):\n",
    "    if elem:\n",
    "        print(f\"{elem} is truthy\")\n",
    "    else:\n",
    "        print(f\"{elem} is falsy\")"
   ]
  },
  {
   "cell_type": "markdown",
   "metadata": {},
   "source": [
    "Numerical representations of 0 and empty containers are falsy.\n",
    "\n",
    "But `numpy` arrays are an exception!"
   ]
  },
  {
   "cell_type": "markdown",
   "metadata": {
    "slideshow": {
     "slide_type": "slide"
    }
   },
   "source": [
    "## Sequences\n",
    "\n",
    "Sequences contain elements that can be accessed with an index"
   ]
  },
  {
   "cell_type": "code",
   "execution_count": null,
   "metadata": {},
   "outputs": [],
   "source": [
    "for seq in ([0, 1], (2, 3), range(5), \"Hello, World!\"):\n",
    "    print(\n",
    "        f'The {type(seq).__name__} \"{seq}\" starts with {seq[0]} and ends with {seq[-1]}',\n",
    "    )"
   ]
  },
  {
   "cell_type": "markdown",
   "metadata": {},
   "source": [
    "But the index is not needed for looping over the elements."
   ]
  },
  {
   "cell_type": "code",
   "execution_count": null,
   "metadata": {},
   "outputs": [],
   "source": [
    "for letter in \"word\":\n",
    "    print(letter)"
   ]
  },
  {
   "cell_type": "markdown",
   "metadata": {
    "slideshow": {
     "slide_type": "slide"
    }
   },
   "source": [
    "# Let's write a primality test\n",
    "## And learn not to repeat ourselves\n",
    "\n",
    "A prime number is an integer that cannot be written as a product of two smaller positive integers.\n",
    "Primality can be tested through trial division."
   ]
  },
  {
   "cell_type": "code",
   "execution_count": null,
   "metadata": {
    "slideshow": {
     "slide_type": "fragment"
    }
   },
   "outputs": [],
   "source": [
    "n = 4\n",
    "if not n % 2:\n",
    "    print(f\"{n} is not prime\")\n",
    "elif not n % 3:\n",
    "    print(f\"{n} is not prime\")\n",
    "else:\n",
    "    print(f\"{n} is prime\")\n",
    "\n",
    "n = 5\n",
    "if not n % 2:\n",
    "    print(f\"{n} is not prime\")\n",
    "elif not n % 3:\n",
    "    print(f\"{n} is not prime\")\n",
    "elif not n % 4:\n",
    "    print(f\"{n} is not prime\")\n",
    "else:\n",
    "    print(f\"{n} is prime\")"
   ]
  },
  {
   "cell_type": "markdown",
   "metadata": {
    "slideshow": {
     "slide_type": "slide"
    }
   },
   "source": [
    "But what if we want to test a large number, e.g. 23?\n",
    "We can avoid repeating code if we use a while-loop."
   ]
  },
  {
   "cell_type": "code",
   "execution_count": null,
   "metadata": {
    "slideshow": {
     "slide_type": "fragment"
    }
   },
   "outputs": [],
   "source": [
    "n = 23\n",
    "i = 2\n",
    "while i < n:\n",
    "    if not n % i:\n",
    "        print(f\"{n} is not prime\")\n",
    "        break\n",
    "    i += 1\n",
    "if i == n:\n",
    "    print(f\"{n} is prime\")"
   ]
  },
  {
   "cell_type": "code",
   "execution_count": null,
   "metadata": {
    "slideshow": {
     "slide_type": "fragment"
    }
   },
   "outputs": [],
   "source": [
    "n = 1023\n",
    "i = 2\n",
    "while i < n:\n",
    "    if not n % i:\n",
    "        print(f\"{n} is not prime\")\n",
    "        break\n",
    "    i += 1\n",
    "if i == n:\n",
    "    print(f\"{n} is prime\")"
   ]
  },
  {
   "cell_type": "markdown",
   "metadata": {
    "slideshow": {
     "slide_type": "slide"
    }
   },
   "source": [
    "Apparently 1023 has non-trivial factors. Let's see what they are."
   ]
  },
  {
   "cell_type": "code",
   "execution_count": null,
   "metadata": {
    "slideshow": {
     "slide_type": "-"
    }
   },
   "outputs": [],
   "source": [
    "n = 1023\n",
    "i = 2\n",
    "while i < n:\n",
    "    if not n % i:\n",
    "        print(f\"{n} is not prime, it can be written as {i}*{n//i}\")\n",
    "        break\n",
    "    i += 1\n",
    "if i == n:\n",
    "    print(f\"{n} is prime\")"
   ]
  },
  {
   "cell_type": "markdown",
   "metadata": {
    "slideshow": {
     "slide_type": "fragment"
    }
   },
   "source": [
    "What about 341, can it be factorised?"
   ]
  },
  {
   "cell_type": "code",
   "execution_count": null,
   "metadata": {
    "slideshow": {
     "slide_type": "-"
    }
   },
   "outputs": [],
   "source": [
    "n = 341\n",
    "i = 2\n",
    "while i < n:\n",
    "    if not n % i:\n",
    "        print(f\"{n} is not prime, it can be written as {i}*{n//i}\")\n",
    "        break\n",
    "    i += 1\n",
    "if i == n:\n",
    "    print(f\"{n} is prime\")"
   ]
  },
  {
   "cell_type": "markdown",
   "metadata": {
    "slideshow": {
     "slide_type": "slide"
    }
   },
   "source": [
    "Let's try an even larger number.\n",
    "Inside a notebook we can use the `timeit` magic command to see how much time it takes to run."
   ]
  },
  {
   "cell_type": "code",
   "execution_count": null,
   "metadata": {
    "slideshow": {
     "slide_type": "-"
    }
   },
   "outputs": [],
   "source": [
    "%%timeit -n1 -r1\n",
    "\n",
    "n = 433_494_437\n",
    "i = 2\n",
    "while i < n:\n",
    "    if not n % i:\n",
    "        print(f\"{n} is not prime, it can be written as {i}*{n//i}\")\n",
    "        break\n",
    "    i += 1\n",
    "if i == n:\n",
    "    print(f\"{n} is prime\")"
   ]
  },
  {
   "cell_type": "markdown",
   "metadata": {
    "slideshow": {
     "slide_type": "slide"
    }
   },
   "source": [
    "The while-loop means we don't have to write out every single trial division separately, but we are still repeating code each time we test a new number.\n",
    "We can save ourselves a lot of trouble if we define a function."
   ]
  },
  {
   "cell_type": "code",
   "execution_count": null,
   "metadata": {
    "slideshow": {
     "slide_type": "-"
    }
   },
   "outputs": [],
   "source": [
    "def is_prime(n, verbose=True):\n",
    "    if n < 2:\n",
    "        if verbose:\n",
    "            print(f\"{n} is not prime\")\n",
    "        return False\n",
    "    i = 2\n",
    "    while i < n:\n",
    "        if not n % i:\n",
    "            if verbose:\n",
    "                print(f\"{n} is not prime, it can be written as {i}*{n//i}\")\n",
    "            return False\n",
    "        i += 1\n",
    "    if verbose:\n",
    "        print(f\"{n} is prime\")\n",
    "    return True\n",
    "\n",
    "\n",
    "is_prime(47)\n",
    "is_prime(48)\n",
    "huge_prime = 433_494_437\n",
    "%timeit -n1 -r1 is_prime(huge_prime)"
   ]
  },
  {
   "cell_type": "markdown",
   "metadata": {
    "slideshow": {
     "slide_type": "slide"
    }
   },
   "source": [
    "Let's see if we can make the function run any faster."
   ]
  },
  {
   "cell_type": "code",
   "execution_count": null,
   "metadata": {
    "slideshow": {
     "slide_type": "-"
    }
   },
   "outputs": [],
   "source": [
    "def is_prime(n, verbose=True):\n",
    "    if n < 2:\n",
    "        if verbose:\n",
    "            print(f\"{n:,} is not prime\")\n",
    "        return False\n",
    "    if not n % 2 and n != 2:\n",
    "        if verbose:\n",
    "            print(f\"{n:,} is not prime, it can be written as 2*{n//2:,}\")\n",
    "        return False\n",
    "    i = 3\n",
    "    while i * i <= n:  # i*i is the smallest possible composite we haven't checked yet\n",
    "        if not n % i:\n",
    "            if verbose:\n",
    "                print(f\"{n:,} is not prime, it can be written as {i:,}*{n//i:,}\")\n",
    "            return False\n",
    "        i += 2\n",
    "    if verbose:\n",
    "        print(f\"{n:,} is prime\")\n",
    "    return True\n",
    "\n",
    "\n",
    "is_prime(huge_prime)\n",
    "%timeit is_prime(huge_prime, verbose=False)"
   ]
  },
  {
   "cell_type": "markdown",
   "metadata": {
    "slideshow": {
     "slide_type": "-"
    }
   },
   "source": [
    "This way our changes are applied to every instance where we use `is_prime()`."
   ]
  },
  {
   "cell_type": "markdown",
   "metadata": {
    "slideshow": {
     "slide_type": "slide"
    }
   },
   "source": [
    "# Comments\n",
    "\n",
    "Too few comments will make your code obscure.\n",
    "\n",
    "Too many comments will bury useful information in clutter.\n",
    "\n",
    "Better code together with better function and variable names means fewer comments are needed."
   ]
  },
  {
   "cell_type": "markdown",
   "metadata": {
    "slideshow": {
     "slide_type": "slide"
    }
   },
   "source": [
    "Overly complicated and overcommented code together with bad names:"
   ]
  },
  {
   "cell_type": "code",
   "execution_count": null,
   "metadata": {
    "slideshow": {
     "slide_type": "-"
    }
   },
   "outputs": [],
   "source": [
    "def norm_lst(list_):\n",
    "    lst=list_.copy()           # Copy the input\n",
    "    total=0                    # Initialize the total variable\n",
    "    for i in range(len(lst)):  # Loop over the elements of the list\n",
    "        total=total+lst[i]     # Add values to total\n",
    "    lst_av=total/len(lst)      # Divide total by len(lst)\n",
    "\n",
    "    for i in range(len(lst)):  # Loop over the elements of the list\n",
    "        lst[i]/=lst_av         # Divide\n",
    "\n",
    "    return lst                 # Return the result\n",
    "\n",
    "\n",
    "start_seq = [20, 24, 28, 29, 300, 560, 578]\n",
    "print(norm_lst(start_seq))"
   ]
  },
  {
   "cell_type": "markdown",
   "metadata": {
    "slideshow": {
     "slide_type": "-"
    }
   },
   "source": [
    "We named a variable `list_` to avoid overwriting the built-in `list`."
   ]
  },
  {
   "cell_type": "markdown",
   "metadata": {
    "slideshow": {
     "slide_type": "slide"
    }
   },
   "source": [
    "The same code but with better comments."
   ]
  },
  {
   "cell_type": "code",
   "execution_count": null,
   "metadata": {
    "slideshow": {
     "slide_type": "-"
    }
   },
   "outputs": [],
   "source": [
    "def norm_lst(list_):\n",
    "    \"\"\"Return a normalized list of numbers with mean 1\"\"\"\n",
    "    lst = list_.copy()\n",
    "\n",
    "    # Compute the mean\n",
    "    total = 0\n",
    "    for i in range(len(lst)):\n",
    "        total = total + lst[i]\n",
    "    lst_av = total / len(lst)\n",
    "\n",
    "    # Normalize\n",
    "    for i in range(len(lst)):\n",
    "        lst[i] /= lst_av\n",
    "\n",
    "    return lst\n",
    "\n",
    "\n",
    "print(norm_lst(start_seq))"
   ]
  },
  {
   "cell_type": "markdown",
   "metadata": {
    "slideshow": {
     "slide_type": "slide"
    }
   },
   "source": [
    "Good naming and clear code means comments might not be needed."
   ]
  },
  {
   "cell_type": "code",
   "execution_count": null,
   "metadata": {
    "slideshow": {
     "slide_type": "-"
    }
   },
   "outputs": [],
   "source": [
    "def normalize_list_by_mean(list_):\n",
    "    \"\"\"Return a normalized list of numbers with mean 1\"\"\"\n",
    "    mean = sum(list_) / len(list_)\n",
    "    return [elem / mean for elem in list_]\n",
    "\n",
    "\n",
    "print(normalize_list_by_mean(start_seq))"
   ]
  },
  {
   "cell_type": "markdown",
   "metadata": {
    "slideshow": {
     "slide_type": "slide"
    }
   },
   "source": [
    "\n",
    "# Absolute and relative paths\n",
    "\n",
    "**Path** is a string that specifies the location of a file in the file system hierarchy.\n",
    "\n",
    "**Absolute path** specifies the location independently of the current working directory.\n",
    "\n",
    "**Relative path** specifies the location relative to the current working directory.\n",
    "\n",
    "For example, if this notebook were located in `/home/username/Documents/course/project/` and the directory also contained a subdirectory `data/` with the file `input1.csv` then the absolute path to that file would be `/home/username/Documents/course/project/data/input1.csv` and the relative path would be `data/input1.csv`.\n",
    "\n",
    "**NB! The path separator is OS-dependent: \"/\" on Unix-like systems, \"\\\\\" on Windows!**"
   ]
  },
  {
   "cell_type": "code",
   "execution_count": null,
   "metadata": {},
   "outputs": [],
   "source": [
    "from pathlib import Path\n",
    "\n",
    "print(Path(\"data\", \"input1.csv\"))"
   ]
  },
  {
   "cell_type": "markdown",
   "metadata": {
    "slideshow": {
     "slide_type": "slide"
    }
   },
   "source": [
    "\n",
    "### PEP-8\n",
    "\n",
    "[PEP-8](https://www.python.org/dev/peps/pep-0008/) is the Python style guide.\n",
    "The Python interpreter does not care if you follow PEP-8, but people and bots do."
   ]
  },
  {
   "cell_type": "markdown",
   "metadata": {
    "editable": true,
    "slideshow": {
     "slide_type": "slide"
    },
    "tags": []
   },
   "source": [
    "## These topics (and more) is available in greater detail in the accompanying manual notebook!\n",
    "\n",
    "\n",
    "### Was all this too easy? Have a look at the Intermediate tips and tricks notebook listed as additional content for this lesson. It contains some more advanced functions and tips!"
   ]
  },
  {
   "cell_type": "markdown",
   "metadata": {
    "editable": true,
    "slideshow": {
     "slide_type": "slide"
    },
    "tags": []
   },
   "source": [
    "# www.menti.com code: xxxx xxxx\n",
    "\n",
    "### Exit question 1: Mark which things below are sequences\n",
    "\n",
    "$\\quad$<b>A)</b> `[1, 2, 3]`<br>\n",
    "$\\quad$<b>B)</b> `(1, 2, 3)`<br>\n",
    "$\\quad$<b>C)</b> `'123'`<br>\n",
    "$\\quad$<b>D)</b> `1.23`"
   ]
  },
  {
   "cell_type": "markdown",
   "metadata": {
    "editable": true,
    "slideshow": {
     "slide_type": "fragment"
    },
    "tags": []
   },
   "source": [
    "Correct answer: A & B & C"
   ]
  },
  {
   "cell_type": "markdown",
   "metadata": {
    "slideshow": {
     "slide_type": "slide"
    }
   },
   "source": [
    "### Exit question 2: What does the following block return?\n",
    "\n",
    "```python\n",
    "def add_five(a, b):\n",
    "    return a+5, b+5\n",
    "\n",
    "result = add_five(3, 2)\n",
    "print(result)\n",
    "```\n",
    "\n",
    "$\\quad$<b>A)</b> 5<br>\n",
    "$\\quad$<b>B)</b> 15<br>\n",
    "$\\quad$<b>C)</b> (8, 7)<br>\n",
    "$\\quad$<b>D)</b> `SyntaxError`"
   ]
  },
  {
   "cell_type": "markdown",
   "metadata": {
    "slideshow": {
     "slide_type": "fragment"
    }
   },
   "source": [
    "Correct answer: C"
   ]
  },
  {
   "cell_type": "markdown",
   "metadata": {
    "slideshow": {
     "slide_type": "slide"
    }
   },
   "source": [
    "### Exit question 3: Mark the correct statements.\n",
    "\n",
    "$\\quad$<b>A)</b> Arithmetic expressions can include ints and floats together.<br>\n",
    "$\\quad$<b>B)</b> All strings must be declared with single quotation marks ( ' )<br>\n",
    "$\\quad$<b>C)</b> PEP-8 is the Python definition. Adherence is required for the code to work.<br>\n",
    "$\\quad$<b>D)</b> The first element of a sequence is always 0."
   ]
  },
  {
   "cell_type": "markdown",
   "metadata": {
    "slideshow": {
     "slide_type": "fragment"
    }
   },
   "source": [
    "Correct answer: A"
   ]
  },
  {
   "cell_type": "markdown",
   "metadata": {
    "slideshow": {
     "slide_type": "slide"
    }
   },
   "source": [
    "# Now it's time to use the manual to solve the exercises."
   ]
  }
 ],
 "metadata": {
  "celltoolbar": "Slideshow",
  "kernelspec": {
   "display_name": "Python 3 (ipykernel)",
   "language": "python",
   "name": "python3"
  },
  "language_info": {
   "codemirror_mode": {
    "name": "ipython",
    "version": 3
   },
   "file_extension": ".py",
   "mimetype": "text/x-python",
   "name": "python",
   "nbconvert_exporter": "python",
   "pygments_lexer": "ipython3",
   "version": "3.11.5"
  }
 },
 "nbformat": 4,
 "nbformat_minor": 4
}
