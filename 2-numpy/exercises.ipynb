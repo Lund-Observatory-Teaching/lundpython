{
 "cells": [
  {
   "cell_type": "markdown",
   "metadata": {},
   "source": [
    "# NumPy, SciPy and Astropy exercises"
   ]
  },
  {
   "cell_type": "markdown",
   "metadata": {},
   "source": [
    "## NumPy\n",
    "\n",
    "### 1) For-loop, list comprehension, or NumPy?\n",
    "\n",
    "The following code generates an array of 1000 uniformly distributed random floats between 0 and 100."
   ]
  },
  {
   "cell_type": "code",
   "execution_count": null,
   "metadata": {},
   "outputs": [],
   "source": [
    "import numpy as np\n",
    "\n",
    "arr = np.random.uniform(low=0, high=100, size=1000)"
   ]
  },
  {
   "cell_type": "markdown",
   "metadata": {},
   "source": [
    "Write three functions that return data normalized such that its arithmetic mean is 1.\n",
    "\n",
    "1. Return data as a list using for-loops but no built-in Python functions.\n",
    "2. Return data as a list using list comprehension and built-in Python functions.\n",
    "3. Return data as a NumPy array using vectorized code and NumPy functions.\n",
    "\n",
    "Compare the time it takes the functions to run using the IPython `%timeit` magic function. "
   ]
  },
  {
   "cell_type": "code",
   "execution_count": null,
   "metadata": {},
   "outputs": [],
   "source": [
    "# Your solution\n"
   ]
  },
  {
   "cell_type": "markdown",
   "metadata": {},
   "source": [
    "<hr style=\"border:1.5px solid gray\"></hr>\n",
    "\n",
    "### 2) Manipulating arrays\n",
    "\n",
    "Using NumPy, create the following arrays:\n",
    "1. **a)** Three 1x3 arrays with values that range from 0-2, 3-5, and 6-8 respectively\n",
    "```python\n",
    "array([0, 1, 2])\n",
    "array([3, 4, 5])\n",
    "array([6, 7, 8])\n",
    "```\n",
    "   **b)** A 5x5 matrix/2darray with 1 on the borders and 0 inside\n",
    "```python\n",
    "array([[1 1 1 1 1],\n",
    "          [1 0 0 0 1],\n",
    "          [1 0 0 0 1],\n",
    "          [1 0 0 0 1],\n",
    "          [1 1 1 1 1]])\n",
    "```\n",
    "\n",
    "Now that you have done this, do the following:\n",
    "\n",
    "2. **a)** Stack your three 1x3 arrays into a single 3x3 matrix\n",
    "```python\n",
    "array([[0, 1, 2],\n",
    "          [3, 4, 5],\n",
    "          [6, 7, 8]])\n",
    "```\n",
    "\n",
    "   **b)** Add a new border of zeros to the 5x5 matrix, making it a 7x7 matrix\n",
    "```python\n",
    "array([[0 0 0 0 0 0 0]  \n",
    "          [0 1 1 1 1 1 0],\n",
    "          [0 1 0 0 0 1 0],\n",
    "          [0 1 0 0 0 1 0],\n",
    "          [0 1 0 0 0 1 0],\n",
    "          [0 1 1 1 1 1 0],\n",
    "          [0 0 0 0 0 0 0]])\n",
    "```\n",
    "\n",
    "<details>\n",
    "  <summary>Click here when you are done!</summary>\n",
    "\n",
    "- For 2. **a)** [`np.vstack()`](https://numpy.org/doc/stable/reference/generated/numpy.vstack.html) lets you stack arrays vertically into a new array.\n",
    "    \n",
    "- For 2. **b)** We can add zeros to the edge of our arrays with [`np.pad()`](https://numpy.org/doc/stable/reference/generated/numpy.pad.html?highlight=pad#numpy.pad)\n",
    "    \n",
    "Redo 2. **a)** and **b)** with these functions.\n",
    "</details>"
   ]
  },
  {
   "cell_type": "code",
   "execution_count": null,
   "metadata": {},
   "outputs": [],
   "source": [
    "# Your solution\n"
   ]
  },
  {
   "cell_type": "markdown",
   "metadata": {},
   "source": [
    "<hr style=\"border:1.5px solid gray\"></hr>\n",
    "\n",
    "### 3) Reshaping arrays\n",
    "\n",
    "Create an array of size 12 and then\n",
    "\n",
    "1. Reshape the array to be 3x4 and 4x3 with [`np.reshape()`](https://numpy.org/doc/stable/reference/generated/numpy.reshape.html?highlight=reshape#numpy.reshape)\n",
    "2. Reshape it back down again using `np.reshape()`, [`np.ndarray.flatten()`](https://numpy.org/doc/stable/reference/generated/numpy.ndarray.flatten.html?highlight=flatten), and [`np.ravel()`](https://numpy.org/doc/stable/reference/generated/numpy.ravel.html?highlight=ravel#numpy.ravel). What is the difference between the output of `np.ndarray.flatten()` and `np.ravel()`?\n",
    "3. Take the 12 array and expand its dimensions once with [`np.expand_dims()`](https://numpy.org/doc/stable/reference/generated/numpy.expand_dims.html#numpy.expand_dims) and then add another dimension with [`np.newaxis`](https://numpy.org/doc/stable/reference/constants.html?highlight=newaxis#numpy.newaxis)"
   ]
  },
  {
   "cell_type": "code",
   "execution_count": null,
   "metadata": {},
   "outputs": [],
   "source": [
    "# Your solution\n"
   ]
  },
  {
   "cell_type": "markdown",
   "metadata": {},
   "source": [
    "<hr style=\"border:1.5px solid gray\"></hr>\n",
    "\n",
    "### 4) Masking, slicing, indexing\n",
    "\n",
    "Create an array of shape 20x3 with `np.random.randint()`. Now extract the following into new variables:\n",
    "1. The three separate columns\n",
    "2. Four different 2x2 arrays that correspond to the corners of the 20x3 array\n",
    "3. Only the even rows, which creates a 10x3 array\n",
    "\n",
    "Once this is done do the following:\n",
    "1. Create a new 1x8 array containing the mean of each of the above new arrays\n",
    "2. Replace the largest value in the original 20x3 array with the sum of its row number and column number\n",
    "3. Find the arithmetic means of both the positive and negative elements of the initial array"
   ]
  },
  {
   "cell_type": "code",
   "execution_count": null,
   "metadata": {},
   "outputs": [],
   "source": [
    "# Your solution\n"
   ]
  },
  {
   "cell_type": "markdown",
   "metadata": {},
   "source": [
    "<hr style=\"border:1.5px solid gray\"></hr>\n",
    "\n",
    "### 5)  Matrix product\n",
    "\n",
    "The following creates a 4x2 matrix and a 2x3 matrix using the following:"
   ]
  },
  {
   "cell_type": "code",
   "execution_count": null,
   "metadata": {
    "scrolled": true
   },
   "outputs": [],
   "source": [
    "A = np.array([[6, 6], [2, 1], [1, 1], [0, 4]])\n",
    "B = np.array([[8, 9, 10], [2, 5, 4]])\n",
    "\n",
    "print(f'A: \\n{A}\\n')\n",
    "print(f'B: \\n{B}\\n')"
   ]
  },
  {
   "cell_type": "markdown",
   "metadata": {},
   "source": [
    "Now perform the matrix multiplication $\\pmb{C} = \\pmb{AB}$ which should result in the following 4x3 matrix:\n",
    "\n",
    "```python \n",
    "C: ([[60, 84, 84],\n",
    "     [18, 23, 24],\n",
    "     [10, 14, 14],\n",
    "     [ 8, 20, 16]])\n",
    "```\n",
    "\n",
    "<details>\n",
    "  <summary>Click here for an explanation.</summary>\n",
    "\n",
    "Matrix multiplication between a 4x2 matrix **A** and a 2x3 matrix **B** is done with their respective elements in the way shown in the figure\n",
    "![](https://upload.wikimedia.org/wikipedia/commons/e/eb/Matrix_multiplication_diagram_2.svg)\n",
    "    \n",
    "If the matrices have the elements \n",
    "![](https://wikimedia.org/api/rest_v1/media/math/render/svg/9196c0c24ad20c3b18582bc78785fa405d91c7c3)\n",
    "Then the elements of **C** are:\n",
    "![](https://wikimedia.org/api/rest_v1/media/math/render/svg/ee372c649dea0a05bf1ace77c9d6faf051d9cc8d) \n",
    "  \n",
    "</details>\n",
    "<br>\n",
    "<details>\n",
    "  <summary>Click here for a hint.</summary>\n",
    "\n",
    "There are three different tools (two NumPy and one Python) that can help you perform this exercises. Matrix multiplication can be done using either\n",
    "- [`np.dot(A,B)`](https://numpy.org/doc/stable/reference/generated/numpy.dot.html)\n",
    "- [`np.matmul(A,B)`](https://numpy.org/doc/stable/reference/generated/numpy.matmul.html) - Preferred\n",
    "- [`A @ B`](https://www.python.org/dev/peps/pep-0465/) - Preferred\n",
    "    \n",
    "</details>"
   ]
  },
  {
   "cell_type": "code",
   "execution_count": null,
   "metadata": {},
   "outputs": [],
   "source": [
    "# Your solution\n"
   ]
  },
  {
   "cell_type": "markdown",
   "metadata": {},
   "source": [
    "<hr style=\"border:1.5px solid gray\"></hr>\n",
    "\n",
    "### 6) Coordinate transformations\n",
    "\n",
    "#### a) Cartesian to polar\n",
    "\n",
    "First create a random 10x2 array of $x$ and $y$ coordinates ranging from -10 to 10 in each column. Then convert the [Cartesian coordinates to polar coordinates](https://en.wikipedia.org/wiki/Polar_coordinate_system#Converting_between_polar_and_Cartesian_coordinates) using NumPy.\n",
    "\n",
    "Import the following function to compare your result against:"
   ]
  },
  {
   "cell_type": "code",
   "execution_count": null,
   "metadata": {},
   "outputs": [],
   "source": [
    "# cart2spherical takes an nx2 array as input\n",
    "from lecture_functions import cart2polar"
   ]
  },
  {
   "cell_type": "markdown",
   "metadata": {},
   "source": [
    "#### b) Cartesian to spherical\n",
    "\n",
    "Create a random 10x3 array of Cartesian coordinates with $x$, $y$, and $z$ again ranging from -10 to 10. Then [convert them to the spherical coordinates](https://en.wikipedia.org/wiki/Spherical_coordinate_system#Coordinate_system_conversions) $r$, $\\theta$, and $\\phi$. In this case, $\\theta$ is the angle from the $z$-axis. \n",
    "\n",
    "Compare your result with the following function:"
   ]
  },
  {
   "cell_type": "code",
   "execution_count": null,
   "metadata": {},
   "outputs": [],
   "source": [
    "# cart2spherical takes an nx3 array as input\n",
    "from lecture_functions import cart2spherical"
   ]
  },
  {
   "cell_type": "markdown",
   "metadata": {},
   "source": [
    "<details>\n",
    "  <summary>Click here for hints</summary>\n",
    " \n",
    "You might want to use the functions: [`np.sqrt()`](https://numpy.org/doc/stable/reference/generated/numpy.sqrt.html),\n",
    "[`np.arctan2()`](https://numpy.org/doc/stable/reference/generated/numpy.arctan2.html),[`np.equal()`](https://numpy.org/doc/stable/reference/generated/numpy.equal.html)\n",
    "\n",
    "Astropy also has the function [`cartesian_to_spherical()`](https://docs.astropy.org/en/stable/api/astropy.coordinates.cartesian_to_spherical.html)  \n",
    "  \n",
    ">*NOTE:* it gives $\\theta$ measured from the $xy$-plane which can be achieved in `np.arctan2()` by switching the order of the arguments.\n",
    "    \n",
    "</details>"
   ]
  },
  {
   "cell_type": "code",
   "execution_count": null,
   "metadata": {},
   "outputs": [],
   "source": [
    "# Your solution\n"
   ]
  },
  {
   "cell_type": "markdown",
   "metadata": {},
   "source": [
    "<hr style=\"border:1.5px solid gray\"></hr>\n",
    "\n",
    "### 7) A bit of [broadcasting](https://numpy.org/devdocs/user/basics.broadcasting.html#basics-broadcasting)\n",
    "\n",
    "Run the following cell to create an array of size 4x3 and an array of size 3"
   ]
  },
  {
   "cell_type": "code",
   "execution_count": null,
   "metadata": {},
   "outputs": [],
   "source": [
    "arr_a = np.array([[1, 1, 1], [2, 2, 2], [3, 3, 3], [4, 4, 4]])\n",
    "arr_b = np.array([0, 10, 100])\n",
    "\n",
    "print(f'arr_a has shape {arr_a.shape}')\n",
    "print(f'arr_b has shape {arr_b.shape}')"
   ]
  },
  {
   "cell_type": "markdown",
   "metadata": {},
   "source": [
    "With these two arrays, calculate a new 4x3 array called `arr_c` where each of the rows are the rows of `arr_a` multiplied by `arr_b`. \n",
    "\n",
    "An illustration of the calculation you are to make:  \n",
    "![](imgs/broadcasting.png)\n",
    "\n",
    "#### Perform this calculation \n",
    "#### a) without NumPy broadcasting\n",
    "#### b) with NumPy broadcasting"
   ]
  },
  {
   "cell_type": "code",
   "execution_count": null,
   "metadata": {},
   "outputs": [],
   "source": [
    "# Your solution\n"
   ]
  },
  {
   "cell_type": "markdown",
   "metadata": {},
   "source": [
    "<hr style=\"border:1.5px solid gray\"></hr>\n",
    "\n",
    "## [SciPy](https://www.scipy.org)\n",
    "\n",
    "### 1) What do I use?\n",
    "\n",
    "SciPy contains a whole lot of different and extremely useful libraries that you will surely want to use at some point. In our line of work, SciPy quite often comes in handy. When tackling a programming problem and having to create some extensive function to perform a scientific operation or calculation, more often than not, SciPy already has that functionality.  \n",
    "\n",
    "Below I will list a few different programming problems. Use your [Googling](www.google.com) skills to find the SciPy function which can do what is required. Once you think you have found all four, click below to see which packages I personally chose and to see how yours compare!\n",
    "\n",
    "#### Your programming problems:\n",
    "1. You have a bunch of scattered points with $(x,y)$ coordinates that you have made a 2D histogram plot of ([an example of this](https://python-graph-gallery.com/86-avoid-overlapping-in-scatterplot-with-2d-density/)). You used [**`np.histogram2d()`**](https://numpy.org/doc/stable/reference/generated/numpy.histogram2d.html) to bin the data which means your $z$-axis is the number of points in each bin.\n",
    "\n",
    "    Now you realise that you actually want to calculate something else in the bins, perhaps the average $x$-coordinate of every point in the bin. NumPy can't do this, but a SciPy function might do..  \n",
    "<br>\n",
    "    <details>\n",
    "      <summary>Click here for a hint</summary>\n",
    "\n",
    "    &emsp;&emsp;Look at SciPy's statistical module [**`scipy.stats`**](https://docs.scipy.org/doc/scipy/reference/stats.html)  \n",
    "    \n",
    "    &emsp;&emsp; *Note:* Sometimes it's easier to find the best function by Googling!\n",
    "\n",
    "    </details>\n",
    "<br>\n",
    "<br>\n",
    "2. You have some data which clearly has noise. You want to fit a line through it like in the figure below. How can SciPy do this?\n",
    "![](imgs/fitting.png)\n",
    "<br>\n",
    "    <details>\n",
    "      <summary>Click here for a hint</summary>\n",
    "\n",
    "    &emsp;&emsp;Look at SciPy's optimize module [**`scipy.optimize`**](https://docs.scipy.org/doc/scipy/reference/optimize.html)  \n",
    "    \n",
    "    &emsp;&emsp; *Note:* Sometimes it's easier to find the best function by Googling!\n",
    "\n",
    "    </details>\n",
    "<br>\n",
    "<br>\n",
    "\n",
    "3. You have a photo like below which unfortunately is rather pixelized. You hate pixelized images and instead want to use interpolation to get rid of the ugly bins and make it look like it does on the right. How can SciPy do this?\n",
    "![](imgs/interpolate.png)\n",
    "<br>\n",
    "    <details>\n",
    "      <summary>Click here for a hint</summary>\n",
    "\n",
    "    &emsp;&emsp;Look at SciPy's interpolate module [**`scipy.interpolate`**](https://docs.scipy.org/doc/scipy/reference/interpolate.html)  \n",
    "    \n",
    "    &emsp;&emsp; *Note:* Sometimes it's easier to find the best function by Googling!\n",
    "\n",
    "    </details>\n",
    "<br>\n",
    "<br>\n",
    "\n",
    "#### The functions Daniel would choose  \n",
    "<br>\n",
    "<details>\n",
    "  <summary>Click here to reveal!</summary>\n",
    "    \n",
    "You may have chosen other functions which is fine as long as they can do what is necessary. My personal picks are:\n",
    "    \n",
    "1. [**`scipy.stats.binned_statistic_2d()`**](https://docs.scipy.org/doc/scipy/reference/generated/scipy.stats.binned_statistic_2d.html#scipy.stats.binned_statistic_2d)\n",
    "2. [**`scipy.optimize.curve_fit()`**](https://docs.scipy.org/doc/scipy/reference/generated/scipy.optimize.curve_fit.html)\n",
    "3. [**`scipy.interpolate.interp2d()`**](https://docs.scipy.org/doc/scipy/reference/generated/scipy.interpolate.interp2d.html)\n",
    "    \n",
    "Try to understand what they can do, but don't spend too long on it.\n",
    "</details>"
   ]
  },
  {
   "cell_type": "markdown",
   "metadata": {},
   "source": [
    "<hr style=\"border:1.5px solid gray\"></hr>\n",
    "\n",
    "### 2) Least squares with SciPy\n",
    "\n",
    "Now you will try to use SciPy for yourself.  \n",
    "\n",
    "Generate some noisy data with the following function. About 100 points will suffice."
   ]
  },
  {
   "cell_type": "code",
   "execution_count": null,
   "metadata": {},
   "outputs": [],
   "source": [
    "from lecture_functions import polynomial_xy, plot_polynomial\n",
    "\n",
    "x, y = polynomial_xy(100)"
   ]
  },
  {
   "cell_type": "markdown",
   "metadata": {},
   "source": [
    "Visualise the data with the following function"
   ]
  },
  {
   "cell_type": "code",
   "execution_count": null,
   "metadata": {},
   "outputs": [],
   "source": [
    "plot_polynomial(x, y)"
   ]
  },
  {
   "cell_type": "markdown",
   "metadata": {},
   "source": [
    "This is clearly a 2nd order polynomial which we remember has the general equation  \n",
    "\n",
    "$$y(x) = ax^2 + bx + c$$  \n",
    "\n",
    "Now use the [least squares](https://en.wikipedia.org/wiki/Least_squares) method from SciPy to fit a 2nd order polynomial and find the parameters $a$, $b$, and $c$.  \n",
    "\n",
    "Once you are done, visualise your fit by passing the parameters to `plot_polynomial()` like:\n",
    "\n",
    "```python\n",
    "plot_polynomial(x, y, a, b, c)\n",
    "```\n",
    "<br>\n",
    "<details>\n",
    "  <summary>Click for a hint on how to set up the problem</summary>\n",
    "\n",
    "What Least squares does is find the value of your parameters ($a$, $b$, $c$) which minimizes the residuals $r = y - y'$ where $y$ is your data and $y'$ is your fit using the parameters.  \n",
    "\n",
    "Once you have found SciPy's least squares you will need\n",
    "   1. A function to calculate the residuals\n",
    "   2. An initial guess of what $a$, $b$, and $c$ are.\n",
    "   2. Pass your function, the parameters, and the $(x,y)$ data to the least squares function\n",
    "   3. Extract the estimated $a$, $b$, and $c$ \n",
    "\n",
    "</details>\n",
    "<br>\n",
    "<details>\n",
    "  <summary>Click here for hints on the least squares function</summary>\n",
    "\n",
    "SciPy's optimize module has [`scipy.optimize.least_squares()`](https://docs.scipy.org/doc/scipy/reference/generated/scipy.optimize.least_squares.html) and [`scipy.optimize.leastsq()`](https://docs.scipy.org/doc/scipy/reference/generated/scipy.optimize.leastsq.html). Both of these functions will work fine and can be used almost identically.  \n",
    "    \n",
    "Call these functions as\n",
    "```python\n",
    "a, b, c = least_squares(residual_function, guess_parameters, args=fixed_parameters).x # Optimal parameters are x key \n",
    "a, b, c = leastsq(residual_function, guess_parameters, args=fixed_parameters)[0] # Optimal parameters are first row\n",
    "```\n",
    "\n",
    "</details>\n",
    "<br>\n",
    "<details>\n",
    "  <summary>Click here if you need more help</summary>\n",
    "\n",
    "First, look at the plot and try to guess what $a$, $b$, and $c$ are and store your guesses. Ex. `guess = [a, b, c]`\n",
    "  \n",
    "Set up a function to calculate your residuals using your `guesss` and your data in `x` and `y`. \n",
    "```python\n",
    "# guess parameters go before x, y\n",
    "def residual_function(guess, x, y):\n",
    "    residuals = guess[0]*x**2 + guess[1]*x + guess[2]\n",
    "    return residuals\n",
    "```\n",
    "Now you call your least squares function from the previous hint like:\n",
    "```python\n",
    "least_squares(residual_function, guess, args=(x,y))    \n",
    "```\n",
    "    \n",
    "Save the optimized parameters and check the result with `plot_polynomial()`\n",
    "</details>"
   ]
  },
  {
   "cell_type": "code",
   "execution_count": null,
   "metadata": {},
   "outputs": [],
   "source": [
    "# Your solution\n"
   ]
  },
  {
   "cell_type": "markdown",
   "metadata": {},
   "source": [
    "<hr style=\"border:1.5px solid gray\"></hr>\n",
    "\n",
    "## [Astropy](https://www.astropy.org)\n",
    "\n",
    "\n",
    "### Working with a QTable\n",
    "\n",
    "In the same directory as the notebooks is a VOTable, which is a format for tabular data and very common in astronomy. \n",
    "\n",
    "The VOTable contains 100 stars from a simulated galaxy with position ($x$, $y$, $z$) and velocities ($v_x$, $v_y$, $v_z$). The origin of the coordinates is the center of their galaxy.\n",
    "\n",
    "Now using Astropy,\n",
    "\n",
    "- [Read](https://docs.astropy.org/en/stable/io/unified.html#getting-started-with-table-i-o) the VOTable into a QTable.\n",
    "<br>\n",
    "- [View the table](https://docs.astropy.org/en/stable/table/#getting-started)\n",
    "<br>\n",
    "- You can calculate the specific angular momentum component $L_z$ of the stars with\n",
    "\n",
    "  $$L_z = v_y \\cdot x - v_x \\cdot y$$\n",
    "  <br>\n",
    "  Use the existing columns to add a new column containing $L_z$. What is the unit of $L_z$?\n",
    "<br>\n",
    "<br>\n",
    "- Compute the [cylindrical radial distance $\\rho$](https://en.wikipedia.org/wiki/Cylindrical_coordinate_system) of the stars in parsecs.\n",
    "<br>\n",
    "- Filter the data and print only the stars with $\\rho < 2\\,$kpc.\n",
    "\n",
    "<br>\n",
    "\n",
    "<details>\n",
    "  <summary>Click here for hints</summary>\n",
    " \n",
    "See [Astropy docs on Tables](https://docs.astropy.org/en/stable/api/astropy.table.Table.html#astropy.table.Table)\n",
    "    \n",
    "You can also consult the manual of this lesson.\n",
    "    \n",
    "</details>"
   ]
  },
  {
   "cell_type": "code",
   "execution_count": null,
   "metadata": {},
   "outputs": [],
   "source": [
    "# Your solution\n"
   ]
  }
 ],
 "metadata": {
  "kernelspec": {
   "display_name": "Python 3",
   "language": "python",
   "name": "python3"
  },
  "language_info": {
   "codemirror_mode": {
    "name": "ipython",
    "version": 3
   },
   "file_extension": ".py",
   "mimetype": "text/x-python",
   "name": "python",
   "nbconvert_exporter": "python",
   "pygments_lexer": "ipython3",
   "version": "3.8.3"
  }
 },
 "nbformat": 4,
 "nbformat_minor": 4
}
