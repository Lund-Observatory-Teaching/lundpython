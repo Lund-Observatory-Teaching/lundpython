{
 "cells": [
  {
   "cell_type": "markdown",
   "metadata": {},
   "source": [
    "# A brief introduction to using Python in Astronomy\n",
    "\n",
    "Efficient use of Python in any data-intensive application requires the appropriate use of additional Python libraries.\n",
    "This notebook provides a quick introduction to (mostly) `numpy` and `scipy`, which are commonly used in scientific Python, and to `astropy`, which is very helpful for astronomy.\n",
    "\n",
    "## NumPy\n",
    "\n",
    "### Motivation\n",
    "\n",
    "A Python `list` can hold elements of different data types.\n",
    "Operations can be defined in a meaningful way for many different datatypes, though with different outcomes."
   ]
  },
  {
   "cell_type": "code",
   "execution_count": null,
   "metadata": {},
   "outputs": [],
   "source": [
    "for elem in (5, \"5\", [5]):\n",
    "    print(f\"If {elem} is a {type(elem)} instance, then {2*elem = }\")"
   ]
  },
  {
   "cell_type": "markdown",
   "metadata": {},
   "source": [
    "In scientific computing it is very often necessary to perform a large number of analogous operations with many numerical values.\n",
    "Using a `list` for storing numbers in resource-intensive calculations means that the Python interpreter needs to check every single one of them to determine if it is indeed numerical and what an arithmetic operation performed with it means.\n",
    "This overhead slows the code down.\n",
    "The way to get around this limitation is to write vectorized code with the [NumPy](https://numpy.org/) package.\n",
    "\n",
    "We shall first illustrate the speed difference between basic Python and `numpy` by implementing functions that compute pairwise differences between numbers.\n",
    "A more thorough explanation on how to vectorize code using `numpy` will be presented below.\n",
    "\n",
    "We will use the [IPython `%timeit` magic function](https://ipython.readthedocs.io/en/stable/interactive/magics.html) to time the code execution.\n",
    "This will work in a Jupyter notebook but not in the basic CPython interpreter."
   ]
  },
  {
   "cell_type": "code",
   "execution_count": null,
   "metadata": {},
   "outputs": [],
   "source": [
    "def pairwise_differences_with_for_loops(arr):\n",
    "    diffs = []\n",
    "    for elem1 in arr:\n",
    "        diffs.append([])\n",
    "        for elem2 in arr:\n",
    "            diffs[-1].append(elem1 - elem2)\n",
    "    return diffs\n",
    "\n",
    "\n",
    "def pairwise_differences_with_list_comprehensions(arr):\n",
    "    return [[elem1 - elem2 for elem2 in arr] for elem1 in arr]\n",
    "\n",
    "\n",
    "small_list = [1, 4, 9]\n",
    "print(pairwise_differences_with_for_loops(small_list))\n",
    "large_list = list(range(1000))\n",
    "%timeit pairwise_differences_with_for_loops(large_list)\n",
    "\n",
    "print(pairwise_differences_with_list_comprehensions(small_list))\n",
    "%timeit pairwise_differences_with_list_comprehensions(large_list)"
   ]
  },
  {
   "cell_type": "code",
   "execution_count": null,
   "metadata": {},
   "outputs": [],
   "source": [
    "import numpy as np\n",
    "\n",
    "\n",
    "def pairwise_differences_with_numpy(arr):\n",
    "    return arr[:, np.newaxis] - arr\n",
    "\n",
    "\n",
    "small_array = np.array(small_list)\n",
    "diffs = pairwise_differences_with_numpy(small_array)\n",
    "print(diffs)\n",
    "large_array = np.array(large_list)\n",
    "%timeit pairwise_differences_with_numpy(large_array)"
   ]
  },
  {
   "cell_type": "markdown",
   "metadata": {},
   "source": [
    "We can see that using list comprehensions is roughly twice as fast as using for-loops, but using `numpy` is roughly 50 times faster still.\n",
    "\n",
    "### Arrays\n",
    "\n",
    "One of the key concepts that allows `numpy` to perform so much better is the `numpy` array.\n",
    "An array is a collection of elements of the same datatype that has some size, i.e. total number of elements in it, and some number of dimensions or axes, which is the number of indices required to identify an element.\n",
    "An array also has a shape, which is the size of the array along all the different axes."
   ]
  },
  {
   "cell_type": "code",
   "execution_count": null,
   "metadata": {},
   "outputs": [],
   "source": [
    "for arr in (small_array, diffs):\n",
    "    print(\n",
    "        f\"Array:\\n{arr}\",\n",
    "        f\"{arr.size = }\",\n",
    "        f\"{arr.ndim = }\",\n",
    "        f\"{arr.shape = }\",\n",
    "        sep=\"\\n\",\n",
    "    )\n",
    "    print()"
   ]
  },
  {
   "cell_type": "markdown",
   "metadata": {},
   "source": [
    "An array can be generated from a `list` as we have done above, it can be initialized with some default value or it can be obtained by manipulating other arrays."
   ]
  },
  {
   "cell_type": "code",
   "execution_count": null,
   "metadata": {},
   "outputs": [],
   "source": [
    "false_arr = np.zeros(5, dtype=bool)\n",
    "print(false_arr)\n",
    "int_ones = np.ones(4, dtype=int)\n",
    "print(int_ones)\n",
    "float_twos = np.full((2, 3), 2.0)\n",
    "print(float_twos)"
   ]
  },
  {
   "cell_type": "markdown",
   "metadata": {},
   "source": [
    "### Vectorization\n",
    "\n",
    "Vectorized code handles arrays as a whole instead of looping through their elements and handling them individually. Suppose we have an array and we wish to create a new array with the values doubled."
   ]
  },
  {
   "cell_type": "code",
   "execution_count": null,
   "metadata": {},
   "outputs": [],
   "source": [
    "def double_not_vectorized(arr):\n",
    "    return [2 * elem for elem in arr]\n",
    "\n",
    "\n",
    "def double_vectorized(arr):\n",
    "    return 2 * arr\n",
    "\n",
    "\n",
    "small_list = [1, 4, 9]\n",
    "print(double_not_vectorized(small_list))\n",
    "small_array = np.array(small_list)\n",
    "print(double_vectorized(small_array))"
   ]
  },
  {
   "cell_type": "markdown",
   "metadata": {},
   "source": [
    "Here is another example where we increment the elements by one."
   ]
  },
  {
   "cell_type": "code",
   "execution_count": null,
   "metadata": {},
   "outputs": [],
   "source": [
    "print(f\"Initial list: {small_list}\")\n",
    "\n",
    "# Normal Python with list comprehension\n",
    "incremented_list = [elem + 1 for elem in small_list]\n",
    "\n",
    "print(f\"Incremented list: {incremented_list}\")\n",
    "print()\n",
    "\n",
    "# numpy\n",
    "print(f\"Initial array: {small_array}\")\n",
    "print(f\"Incremented array: {small_array+1}\")"
   ]
  },
  {
   "cell_type": "markdown",
   "metadata": {},
   "source": [
    "Many `numpy` functions can also be applied to arrays element-wise."
   ]
  },
  {
   "cell_type": "code",
   "execution_count": null,
   "metadata": {},
   "outputs": [],
   "source": [
    "angles = np.arange(0, 361, 45)\n",
    "print(f\"Angles are {angles} degrees\")\n",
    "angles = np.deg2rad(angles)\n",
    "print(f\"Angles are {angles} radians\")\n",
    "print(f\"Cosines are {np.cos(angles)}\")"
   ]
  },
  {
   "cell_type": "markdown",
   "metadata": {},
   "source": [
    "Some functions can be applied to the array as a whole or along some specific axis."
   ]
  },
  {
   "cell_type": "code",
   "execution_count": null,
   "metadata": {},
   "outputs": [],
   "source": [
    "print(f\"Array:\\n{diffs}\")\n",
    "print(f\"Total sum: {np.sum(diffs)}\")\n",
    "for i in range(2):\n",
    "    print(f\"Sums along axis {i}: {np.sum(diffs, axis=i)}\")\n",
    "print(f\"Maximum value: {np.max(diffs)}\")\n",
    "for i in range(2):\n",
    "    print(f\"Maximum values along axis {i}: {np.max(diffs, axis=i)}\")"
   ]
  },
  {
   "cell_type": "markdown",
   "metadata": {},
   "source": [
    "### Slicing\n",
    "\n",
    "Slicing `numpy` arrays uses syntax similar to slicing basic Python sequences, but arrays can be sliced independently along different axes."
   ]
  },
  {
   "cell_type": "code",
   "execution_count": null,
   "metadata": {},
   "outputs": [],
   "source": [
    "print(diffs, diffs[1:], diffs[::2], diffs[1:, :-1], diffs[:, 2], sep=\"\\n\\n\")"
   ]
  },
  {
   "cell_type": "markdown",
   "metadata": {},
   "source": [
    "Note that `numpy` arrays with multiple dimensions are accessed with tuples that specify (or not) the indices in the dimension, i.e `diffs[i,j]` for i-th row and j-th column.\n",
    "Something similar can be constructed with Python lists, where the `list` of rows each contain a column `list`.\n",
    "These are then accessed by first indexing the row and then the column like `diffs[i][j]`. \n",
    "\n",
    "### Masking\n",
    "\n",
    "Sometimes we wish to perform operations only on a subset of array elements that satisfy some condition. This can be achieved with masking. Suppose we have an array of integers and we wish to double its odd values but leave the even values unchanged."
   ]
  },
  {
   "cell_type": "code",
   "execution_count": null,
   "metadata": {},
   "outputs": [],
   "source": [
    "print(f\"Original array:\\n{diffs}\")\n",
    "mod_diffs = diffs.copy()\n",
    "mod_diffs[diffs % 2 == 1] *= 2\n",
    "print(f\"Modified array:\\n{mod_diffs}\")"
   ]
  },
  {
   "cell_type": "markdown",
   "metadata": {},
   "source": [
    "In the above code the expression `diffs%2 == 1` creates a mask of Boolean values. Only the subset of values corresponding to `True` in the mask are doubled.\n",
    "\n",
    "### Broadcasting\n",
    "\n",
    "If two arrays have the same shape then it is possible to perform element-wise operations."
   ]
  },
  {
   "cell_type": "code",
   "execution_count": null,
   "metadata": {},
   "outputs": [],
   "source": [
    "a = np.arange(3)\n",
    "print(a)\n",
    "b = np.arange(4, 9, 2)\n",
    "print(b)\n",
    "print(a - b)\n",
    "print(a * b)"
   ]
  },
  {
   "cell_type": "markdown",
   "metadata": {},
   "source": [
    "Sometimes it is also possible to do this is even if the arrays have different shapes. This is known as [broadcasting](https://numpy.org/doc/stable/user/basics.broadcasting.html) (an illustrated explanation is available [here](https://numpy.org/devdocs/user/theory.broadcasting.html)). We will not repeat the rules of broadcasting here, but we do offer a brief description of how we used it to compute the pairwise distances with the function `pairwise_differences_with_numpy()`."
   ]
  },
  {
   "cell_type": "code",
   "execution_count": null,
   "metadata": {},
   "outputs": [],
   "source": [
    "# The input array\n",
    "print(small_array)\n",
    "\n",
    "# Input is a 1-dimensional array\n",
    "print(f\"{small_array.shape = }\")\n",
    "\n",
    "# The expected output\n",
    "print(diffs, \"\\n\")\n",
    "\n",
    "# We can add another axis to the array without changing its elements\n",
    "column_vector = small_array[:, np.newaxis]\n",
    "\n",
    "# We now have a column vector\n",
    "print(column_vector)\n",
    "print(f\"{column_vector.shape = }\\n\")\n",
    "\n",
    "# We could also convert the input into a row vector\n",
    "row_vector = small_array[\n",
    "    np.newaxis,\n",
    "]\n",
    "print(row_vector)\n",
    "print(f\"{row_vector.shape = }\\n\")\n",
    "\n",
    "# Broadcasting stretches the column vector to a matrix that has the i-th element in i-th row.\n",
    "# The row vector gets stretched to a matrix that has the j-th element in the j-th column.\n",
    "# The difference of these matrices has in its i,j position the difference of elements with\n",
    "# indices i and j, which is exactly what we want.\n",
    "print(column_vector - row_vector, \"\\n\")\n",
    "\n",
    "# We don't have to store the row and column vectors, so we could just write\n",
    "print(\n",
    "    small_array[:, np.newaxis]\n",
    "    - small_array[\n",
    "        np.newaxis,\n",
    "    ],\n",
    "    \"\\n\",\n",
    ")\n",
    "# But according to broadcasting rules the second broadcasting can be performed implicitly\n",
    "print(small_array[:, np.newaxis] - small_array)"
   ]
  },
  {
   "cell_type": "markdown",
   "metadata": {},
   "source": [
    "The initial array has the shape (3,), so the table of pairwise differences must have the shape (3,3). It could be tempting to convert `small_array` into the correct shape by taking the outer product with an array of ones."
   ]
  },
  {
   "cell_type": "code",
   "execution_count": null,
   "metadata": {},
   "outputs": [],
   "source": [
    "temp = np.outer(small_array, np.ones(small_array.shape, dtype=int))\n",
    "print(temp)"
   ]
  },
  {
   "cell_type": "markdown",
   "metadata": {},
   "source": [
    "Finding the pairwise distances can now be done explicitly if we think of this intermediate 2D array as a matrix and apply the transposing operation."
   ]
  },
  {
   "cell_type": "code",
   "execution_count": null,
   "metadata": {},
   "outputs": [],
   "source": [
    "print(temp - temp.T)"
   ]
  },
  {
   "cell_type": "markdown",
   "metadata": {},
   "source": [
    "The problem of this approach is that the temporary matrix ``temp`` needs to be stored in the memory. For a matrix of such a small size this shortcoming is not noticeable, but for larger datasets it could well be. Broadcasting achieves the same outcome without creating and storing temporary matrices and also with less code.\n",
    "\n",
    "## SciPy\n",
    "\n",
    "[SciPy](https://www.scipy.org/) contains many useful functions for numerical integration, algebra, Fourier transforms and much more.\n",
    "Using `scipy` is quite straightforward, especially if you are familiar with `numpy`.\n",
    "The hardest part is often figuring out which function you should be using, but that problem can usually be solved by an Internet search engine.\n",
    "\n",
    "## Astropy\n",
    "\n",
    "[Astropy](https://www.astropy.org/) is a very useful package for using Python in Astronomy.\n",
    "Here we will limit ourselves to demonstrating only two useful aspects of `astropy`.\n",
    "\n",
    "### Units\n",
    "\n",
    "The `Quantity` class in `astropy` can handle [physical quantities](https://docs.astropy.org/en/stable/units/) that have some value in some unit system.\n",
    "Many physical constants are also built in."
   ]
  },
  {
   "cell_type": "code",
   "execution_count": null,
   "metadata": {},
   "outputs": [],
   "source": [
    "from astropy import units as u\n",
    "from astropy.constants import G\n",
    "\n",
    "angles = np.arange(0, 361, 45) * u.degree\n",
    "print(f\"{angles = }\")\n",
    "print(f\"{np.sin(angles) = }\")  # We do not have to explicitly convert degrees to radians\n",
    "print(f\"{angles.to(u.rad) = }\")  # But we can if we want to\n",
    "print()\n",
    "\n",
    "r = 1 * u.au\n",
    "t = 1 * u.yr\n",
    "v = 2 * np.pi * r / t\n",
    "print(f\"{v = }\")\n",
    "print(f\"{v.to(u.km/u.s) = }\")\n",
    "print()\n",
    "\n",
    "print(G)"
   ]
  },
  {
   "cell_type": "markdown",
   "metadata": {},
   "source": [
    "## Tables\n",
    "\n",
    "`astropy` also implements [Tables](https://docs.astropy.org/en/stable/table/index.html) that allow data to be grouped and handled together.\n",
    "_An `astropy` `Table` is very similar to a `pandas` `DataFrame`, but it supports multidimensional columns and `astropy` classes such as `SkyCoord`._\n",
    " A `QTable` is a `Table` that can have `Quantity` instances as columns.\n",
    "The following demonstrates some basic functionality."
   ]
  },
  {
   "cell_type": "code",
   "execution_count": null,
   "metadata": {},
   "outputs": [],
   "source": [
    "from astropy.table import QTable\n",
    "\n",
    "# Creating a QTable\n",
    "labels = [\"Earth\", \"Jupiter\", \"Sun\"]\n",
    "m = [1 * u.M_earth, 1 * u.M_jupiter, 1 * u.M_sun]\n",
    "r = [1 * u.R_earth, 1 * u.R_jupiter, 1 * u.R_sun]\n",
    "data = QTable((labels, m, r), names=[\"name\", \"mass\", \"radius\"])\n",
    "\n",
    "print(data)\n",
    "print()\n",
    "print(data.info)\n",
    "print()\n",
    "print(data.info(\"stats\"))\n",
    "print()\n",
    "\n",
    "# It is possible to add new columns\n",
    "data[\"density\"] = (data[\"mass\"] / (4 * np.pi / 3 * data[\"radius\"] ** 3)).to(\n",
    "    u.g / u.cm**3\n",
    ")\n",
    "print(data)\n",
    "print()\n",
    "\n",
    "# We can filter data based on the values of some columns\n",
    "print(data[data[\"density\"] < 2000 * u.kg / u.m**3])\n",
    "print()\n",
    "\n",
    "# We can easilly access data for a specific object\n",
    "print(data[data[\"name\"] == \"Sun\"])"
   ]
  }
 ],
 "metadata": {
  "kernelspec": {
   "display_name": "Python 3",
   "language": "python",
   "name": "python3"
  },
  "language_info": {
   "codemirror_mode": {
    "name": "ipython",
    "version": 3
   },
   "file_extension": ".py",
   "mimetype": "text/x-python",
   "name": "python",
   "nbconvert_exporter": "python",
   "pygments_lexer": "ipython3",
   "version": "3.10.6"
  }
 },
 "nbformat": 4,
 "nbformat_minor": 4
}
