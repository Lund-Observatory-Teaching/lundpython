{
 "cells": [
  {
   "cell_type": "markdown",
   "metadata": {
    "slideshow": {
     "slide_type": "slide"
    }
   },
   "source": [
    "<img src=\"https://lund-observatory-teaching.github.io/lundpython/imgs/front_2.png\" width=\"1400\">"
   ]
  },
  {
   "cell_type": "markdown",
   "metadata": {
    "slideshow": {
     "slide_type": "slide"
    }
   },
   "source": [
    "<h1><center> Course website </center></h1>\n",
    "\n",
    "To download all lecture files and see the schedule, please visit:\n",
    "\n",
    "[lund-observatory-teaching.github.io/lundpython/](https://lund-observatory-teaching.github.io/lundpython/)\n",
    "\n",
    "Each lecture contains (as notebooks)\n",
    "- Manual \n",
    "- Exercises\n",
    "- Presentation\n",
    "\n",
    "---"
   ]
  },
  {
   "cell_type": "markdown",
   "metadata": {
    "slideshow": {
     "slide_type": "slide"
    }
   },
   "source": [
    "### Flexibility vs efficieny\n",
    "\n",
    "Python is very good at handling sequences of heterogenous data (different data types)."
   ]
  },
  {
   "cell_type": "code",
   "execution_count": null,
   "metadata": {
    "slideshow": {
     "slide_type": "-"
    }
   },
   "outputs": [],
   "source": [
    "for number in [1, '2', [3]]:\n",
    "    print(f'2*{number} = {2*number}')"
   ]
  },
  {
   "cell_type": "markdown",
   "metadata": {
    "slideshow": {
     "slide_type": "-"
    }
   },
   "source": [
    "Python achieves this flexibility by checking what multiplying the variables means every single time it encounters a multiplication.\n",
    "\n",
    "But these checks cause computational overhead, even if the data is homogenous!"
   ]
  },
  {
   "cell_type": "markdown",
   "metadata": {
    "slideshow": {
     "slide_type": "slide"
    }
   },
   "source": [
    "<img src=\"https://lund-observatory-teaching.github.io/lundpython/imgs/numpy.png\" width=\"300\"/>\n",
    "\n",
    "### What is NumPy?\n",
    "\n",
    "From [numpy.org](https://numpy.org/devdocs/user/whatisnumpy.html)\n",
    "\n",
    "> NumPy is the fundamental package for scientific computing in Python. \n",
    "\n",
    "\n",
    "`numpy` is all about the *ndarray* object which is a homogenous *n*-dimensional array.\n",
    "\n",
    "`numpy` arrays are less flexible, but much more efficient."
   ]
  },
  {
   "cell_type": "markdown",
   "metadata": {
    "slideshow": {
     "slide_type": "slide"
    }
   },
   "source": [
    "### Vectorization\n",
    "\n",
    "Vectorized code handles arrays as wholes, instead of handling their elements separately.\n",
    "\n",
    "Let `a` and `b` be `range` objects.\n",
    "To multiply all the elements of the first with the corresponding elements of the second we could do one of the following:"
   ]
  },
  {
   "cell_type": "code",
   "execution_count": null,
   "metadata": {},
   "outputs": [],
   "source": [
    "a = range(1000)\n",
    "b = range(0, 2000, 2)"
   ]
  },
  {
   "cell_type": "code",
   "execution_count": null,
   "metadata": {},
   "outputs": [],
   "source": [
    "%%timeit -n 300\n",
    "\n",
    "c = []\n",
    "for i in range(len(a)):\n",
    "    c.append(a[i]*b[i])"
   ]
  },
  {
   "cell_type": "code",
   "execution_count": null,
   "metadata": {
    "slideshow": {
     "slide_type": "-"
    }
   },
   "outputs": [],
   "source": [
    "%%timeit -n 300\n",
    "\n",
    "c = []\n",
    "for a_elem, b_elem in zip(a, b):\n",
    "    c.append(a_elem*b_elem)"
   ]
  },
  {
   "cell_type": "code",
   "execution_count": null,
   "metadata": {
    "slideshow": {
     "slide_type": "-"
    }
   },
   "outputs": [],
   "source": [
    "%%timeit -n 300\n",
    "\n",
    "arr_c = [a_elem*b_elem for a_elem, b_elem in zip(a, b)]"
   ]
  },
  {
   "cell_type": "markdown",
   "metadata": {
    "slideshow": {
     "slide_type": "slide"
    }
   },
   "source": [
    "With `numpy` it is possible to write vectorized code, which is much less verbose and even less time consuming."
   ]
  },
  {
   "cell_type": "code",
   "execution_count": null,
   "metadata": {},
   "outputs": [],
   "source": [
    "import numpy as np\n",
    "\n",
    "arr_a = np.array(a)\n",
    "arr_b = np.array(b)\n",
    "\n",
    "%timeit -n 30000 arr_c = arr_a*arr_b"
   ]
  },
  {
   "cell_type": "markdown",
   "metadata": {
    "slideshow": {
     "slide_type": "slide"
    }
   },
   "source": [
    "### The `ndarray`\n",
    "\n",
    "As mentioned, an ndarray can be $n$-dimensional, so we need introduce some vocabulary to talk about them."
   ]
  },
  {
   "cell_type": "code",
   "execution_count": null,
   "metadata": {
    "scrolled": true,
    "slideshow": {
     "slide_type": "-"
    }
   },
   "outputs": [],
   "source": [
    "arr = np.array([[1, 2, 3], [4, 5, 6]])\n",
    "arr"
   ]
  },
  {
   "cell_type": "code",
   "execution_count": null,
   "metadata": {},
   "outputs": [],
   "source": [
    "arr.shape"
   ]
  },
  {
   "cell_type": "code",
   "execution_count": null,
   "metadata": {},
   "outputs": [],
   "source": [
    "arr.ndim"
   ]
  },
  {
   "cell_type": "code",
   "execution_count": null,
   "metadata": {},
   "outputs": [],
   "source": [
    "arr.size"
   ]
  },
  {
   "cell_type": "markdown",
   "metadata": {
    "slideshow": {
     "slide_type": "slide"
    }
   },
   "source": [
    "### Creating arrays\n",
    "\n",
    "We can create arrays from iterables, or from scratch."
   ]
  },
  {
   "cell_type": "code",
   "execution_count": null,
   "metadata": {
    "slideshow": {
     "slide_type": "-"
    }
   },
   "outputs": [],
   "source": [
    "for outer in (list, tuple):\n",
    "    for inner in (list, tuple):\n",
    "        iterable = outer((inner(range(i, i+3)) for i in (1, 4)))\n",
    "        arr = np.array(iterable)\n",
    "        print(iterable)\n",
    "        print(arr)\n",
    "        print()"
   ]
  },
  {
   "cell_type": "code",
   "execution_count": null,
   "metadata": {
    "slideshow": {
     "slide_type": "slide"
    }
   },
   "outputs": [],
   "source": [
    "print(np.ones(3), '\\n')\n",
    "print(np.zeros(4), '\\n')\n",
    "print(np.full(5, -1))"
   ]
  },
  {
   "cell_type": "markdown",
   "metadata": {
    "slideshow": {
     "slide_type": "slide"
    }
   },
   "source": [
    "We can also specify the data type at creation"
   ]
  },
  {
   "cell_type": "code",
   "execution_count": null,
   "metadata": {
    "slideshow": {
     "slide_type": "-"
    }
   },
   "outputs": [],
   "source": [
    "for dtype in (int, float, str, complex, bool):\n",
    "    arr = np.array((-1, 0, 1), dtype=dtype)\n",
    "    print(arr.dtype.name.ljust(10), arr, '\\n')"
   ]
  },
  {
   "cell_type": "markdown",
   "metadata": {
    "slideshow": {
     "slide_type": "slide"
    }
   },
   "source": [
    "### Other things `numpy`:\n",
    "Let's quickly run through some `numpy` basics"
   ]
  },
  {
   "cell_type": "code",
   "execution_count": null,
   "metadata": {
    "slideshow": {
     "slide_type": "-"
    }
   },
   "outputs": [],
   "source": [
    "# Sequences\n",
    "print(np.arange(1, 10, 2.25))\n",
    "print(np.linspace(1, 10, 5))\n",
    "print(np.logspace(0, 1, 5))"
   ]
  },
  {
   "cell_type": "code",
   "execution_count": null,
   "metadata": {
    "slideshow": {
     "slide_type": "-"
    }
   },
   "outputs": [],
   "source": [
    "# Operations\n",
    "A = np.array([[1, 2], [0, 1]])\n",
    "B = np.array([[4, 1], [0, 4]])\n",
    "print(A, '\\n')\n",
    "print(B, '\\n')\n",
    "print(A * B, '\\n')  # Elementwise\n",
    "print(A @ B, '\\n')  # Matrix operation"
   ]
  },
  {
   "cell_type": "code",
   "execution_count": null,
   "metadata": {
    "slideshow": {
     "slide_type": "slide"
    }
   },
   "outputs": [],
   "source": [
    "# ndarray methods\n",
    "arr = np.arange(9).reshape(3, 3)\n",
    "print(arr)\n",
    "print(f'sum = {arr.sum()}')\n",
    "print(f'min = {arr.min()}')\n",
    "print(f'max = {arr.max()}')"
   ]
  },
  {
   "cell_type": "code",
   "execution_count": null,
   "metadata": {
    "slideshow": {
     "slide_type": "slide"
    }
   },
   "outputs": [],
   "source": [
    "# Along an axis\n",
    "print(arr)\n",
    "for i, func in enumerate(('sum', 'min', 'max', 'mean', 'std')):\n",
    "    i %= 2\n",
    "    print(f'{func} along axis {i}: {getattr(arr, func)(axis=i)}')"
   ]
  },
  {
   "cell_type": "markdown",
   "metadata": {
    "slideshow": {
     "slide_type": "-"
    }
   },
   "source": [
    "NB!\n",
    "By default `np.std()` returns the population standard deviation.\n",
    "The sample standard deviation (i.e. with  [Bessel's correction](https://en.wikipedia.org/wiki/Bessel%27s_correction)) can be obtained by specifying `ddof=1`:"
   ]
  },
  {
   "cell_type": "code",
   "execution_count": null,
   "metadata": {},
   "outputs": [],
   "source": [
    "print(arr)\n",
    "print(np.std(arr, axis=1))\n",
    "print(arr.std(axis=1, ddof=1))"
   ]
  },
  {
   "cell_type": "code",
   "execution_count": null,
   "metadata": {
    "slideshow": {
     "slide_type": "slide"
    }
   },
   "outputs": [],
   "source": [
    "# Maths\n",
    "print(np.exp(2))\n",
    "print(np.sqrt(9))\n",
    "print(np.log(100))\n",
    "print(np.log10(100))\n",
    "print(np.add(2, 2))"
   ]
  },
  {
   "cell_type": "markdown",
   "metadata": {
    "slideshow": {
     "slide_type": "slide"
    }
   },
   "source": [
    "### Indexing, slicing, and iterating\n",
    "1-D arrays are indexed exactly like Python lists.\n",
    "\n",
    "Multidimensional arrays have one index per axis and are accessed via tuple"
   ]
  },
  {
   "cell_type": "code",
   "execution_count": null,
   "metadata": {},
   "outputs": [],
   "source": [
    "arr = np.arange(9).reshape(3, 3)\n",
    "print(arr, '\\n')\n",
    "\n",
    "print(arr[2, 2])\n",
    "print(arr[2, :])\n",
    "print(arr[2])\n",
    "print(arr[:, 2])\n",
    "print(arr[..., 2])"
   ]
  },
  {
   "cell_type": "markdown",
   "metadata": {},
   "source": [
    "<img src=\"https://lund-observatory-teaching.github.io/lundpython/imgs/indexing.png\" width=\"1600\" style=\"margin: 0pt 0pt 0pt 20pt;\"/>"
   ]
  },
  {
   "cell_type": "markdown",
   "metadata": {
    "slideshow": {
     "slide_type": "slide"
    }
   },
   "source": [
    "### Masking\n",
    "\n",
    "Masking allows us to access elements of an `ndarray` based on some condition.\n",
    "\n",
    "Suppose we have a one-dimensional sequence of integers and we wish to double all the odd values."
   ]
  },
  {
   "cell_type": "code",
   "execution_count": null,
   "metadata": {},
   "outputs": [],
   "source": [
    "n_elems = 10\n",
    "\n",
    "list_ = list(range(n_elems))         # Using list_ avoids overwriting the built-in list\n",
    "list_ = [elem*2 if elem%2 else elem for elem in list_]\n",
    "\n",
    "arr = np.arange(n_elems, dtype=int)\n",
    "arr[arr%2 == 1] *= 2\n",
    "\n",
    "for seq in (list_, arr):\n",
    "    print(seq[:10])"
   ]
  },
  {
   "cell_type": "markdown",
   "metadata": {
    "slideshow": {
     "slide_type": "slide"
    }
   },
   "source": [
    "But what if the array has more dimensions?"
   ]
  },
  {
   "cell_type": "code",
   "execution_count": null,
   "metadata": {},
   "outputs": [],
   "source": [
    "list_2d = n_elems*[list(range(n_elems))]\n",
    "list_2d = [[elem*2 if elem%2 else elem for elem in list_] for list_ in list_2d]\n",
    "print(list_2d[0][:10])\n",
    "print(list_2d[1][:10])\n",
    "\n",
    "arr_2d = np.ones((n_elems, 1))*np.arange(n_elems, dtype=int)\n",
    "arr_2d[arr_2d%2 == 1] *= 2\n",
    "print(arr_2d[:2, :10])"
   ]
  },
  {
   "cell_type": "markdown",
   "metadata": {},
   "source": [
    "`numpy` code can often be written in such a way that the number of dimensions an array has is irrelevant."
   ]
  },
  {
   "cell_type": "code",
   "execution_count": null,
   "metadata": {
    "slideshow": {
     "slide_type": "fragment"
    }
   },
   "outputs": [],
   "source": [
    "def modify_list_recursive(list_):\n",
    "    if isinstance(list_[0], int):\n",
    "        return [elem + 2*(elem%2) for elem in list_]\n",
    "    else:\n",
    "        return [modify_list_recursive(elem) for elem in list_]"
   ]
  },
  {
   "cell_type": "markdown",
   "metadata": {
    "slideshow": {
     "slide_type": "slide"
    }
   },
   "source": [
    "### Stacking"
   ]
  },
  {
   "cell_type": "code",
   "execution_count": null,
   "metadata": {},
   "outputs": [],
   "source": [
    "# 1D arrays\n",
    "arr1 = np.ones(2)\n",
    "arr2 = np.zeros(2)\n",
    "print(np.row_stack((arr1, arr2)), '\\n')\n",
    "print(np.column_stack((arr1, arr2)))"
   ]
  },
  {
   "cell_type": "code",
   "execution_count": null,
   "metadata": {},
   "outputs": [],
   "source": [
    "# 2D arrays\n",
    "arr1 = np.ones((2, 2))\n",
    "arr2 = np.zeros((2, 2))\n",
    "print(np.vstack((arr1, arr2)), '\\n')\n",
    "print(np.hstack((arr1, arr2)), '\\n')\n",
    "print(np.concatenate((arr1, arr2), axis=0), '\\n')\n",
    "print(np.concatenate((arr1, arr2), axis=1))"
   ]
  },
  {
   "cell_type": "markdown",
   "metadata": {
    "slideshow": {
     "slide_type": "slide"
    }
   },
   "source": [
    "Only stack arrays if you do not know how large your final array should be.\n",
    "\n",
    "If you do know the final size then it is much faster to initialize an array with the right shape and fill it with values afterwards."
   ]
  },
  {
   "cell_type": "code",
   "execution_count": null,
   "metadata": {},
   "outputs": [],
   "source": [
    "def fill_an_array(n, columns):\n",
    "    arr = np.empty((n, len(columns)), dtype=int)\n",
    "    # A column can also be given as an array\n",
    "    for i, col in enumerate(columns):\n",
    "        arr[:, i] = col\n",
    "    return arr\n",
    "\n",
    "\n",
    "def stack_arrays(n, row):\n",
    "    arr = row.copy()\n",
    "    for _ in range(n-1):   # Calling the loop variable _ signifies that its value isn't used\n",
    "        arr = np.vstack((arr, row))\n",
    "    return arr"
   ]
  },
  {
   "cell_type": "code",
   "execution_count": null,
   "metadata": {},
   "outputs": [],
   "source": [
    "timing = {}\n",
    "n_rows = (10, 30, 100, 300, 1000)\n",
    "single_row = np.arange(5)\n",
    "\n",
    "for func in (fill_an_array, stack_arrays):\n",
    "    timing[func] = []\n",
    "    print(func(3, single_row))\n",
    "    for n in n_rows:\n",
    "        temp = %timeit -o -q -n 150 func(n, single_row)\n",
    "        timing[func].append(temp)\n",
    "    print()"
   ]
  },
  {
   "cell_type": "code",
   "execution_count": null,
   "metadata": {
    "slideshow": {
     "slide_type": "slide"
    }
   },
   "outputs": [],
   "source": [
    "from matplotlib import pyplot as plt\n",
    "\n",
    "plt.figure(figsize=(10, 6))\n",
    "plt.rcParams.update({'font.size': 22})\n",
    "for func, results in timing.items():  \n",
    "    plt.loglog(n_rows, [result.average for result in results],\n",
    "                 label=func.__name__, marker='o', linestyle='--')\n",
    "plt.xlabel('Number of rows')\n",
    "plt.ylabel(r'Average time to run [s]')\n",
    "plt.legend()\n",
    "plt.show()"
   ]
  },
  {
   "cell_type": "markdown",
   "metadata": {
    "slideshow": {
     "slide_type": "slide"
    }
   },
   "source": [
    "### Shape manipulation\n",
    "\n",
    "It is not possible to combine arbitrarily shaped `numpy` arrays, so the following might be handy."
   ]
  },
  {
   "cell_type": "code",
   "execution_count": null,
   "metadata": {},
   "outputs": [],
   "source": [
    "arr = np.arange(12)\n",
    "print(arr, '\\n')\n",
    "\n",
    "# Reshape\n",
    "arr_2d = arr.reshape(3, 4)\n",
    "print(arr_2d, '\\n')\n",
    "\n",
    "# Transpose\n",
    "arr_T = arr_2d.transpose()\n",
    "print(arr_T, '\\n')\n",
    "\n",
    "# Flatten\n",
    "arr_flat = arr_T.flatten()\n",
    "print(arr_flat, '\\n')"
   ]
  },
  {
   "cell_type": "markdown",
   "metadata": {
    "slideshow": {
     "slide_type": "slide"
    }
   },
   "source": [
    "### Broadcasting\n",
    "Broadcasting is how `numpy` treats arrays with different shapes when performing arithmetic operations.\n",
    "Typically it means that the smaller of the arrays is \"stretched\" out to match the larger's shape.\n",
    "For example:\n",
    "<br>\n",
    "![](https://lund-observatory-teaching.github.io/lundpython/imgs/np_multiply_broadcasting.png)"
   ]
  },
  {
   "cell_type": "markdown",
   "metadata": {
    "slideshow": {
     "slide_type": "slide"
    }
   },
   "source": [
    "This can be rather useful for certain operations. For example consider the illustration below where we are simply doing the operation `arr_c = arr_a * arr_b`  \n",
    "<br>\n",
    "![](https://lund-observatory-teaching.github.io/lundpython/imgs/broadcasting.png)"
   ]
  },
  {
   "cell_type": "markdown",
   "metadata": {
    "slideshow": {
     "slide_type": "slide"
    }
   },
   "source": [
    "The dimensions of two arrays are compatible with broadcasting when:\n",
    "<br>\n",
    "- They are equal\n",
    "- One of them is 1\n",
    "\n",
    "So let's see what works"
   ]
  },
  {
   "cell_type": "markdown",
   "metadata": {
    "slideshow": {
     "slide_type": "slide"
    }
   },
   "source": [
    "```python\n",
    "A      (3d array):  15, 3, 5\n",
    "B      (3d array):  15, 1, 5\n",
    "Result (3d array):  15, 3, 5\n",
    "```"
   ]
  },
  {
   "cell_type": "markdown",
   "metadata": {
    "slideshow": {
     "slide_type": "-"
    }
   },
   "source": [
    "```python\n",
    "A      (3d array):  15, 3, 5\n",
    "B      (2d array):      3, 5\n",
    "Result (3d array):  15, 3, 5\n",
    "```"
   ]
  },
  {
   "cell_type": "markdown",
   "metadata": {
    "slideshow": {
     "slide_type": "-"
    }
   },
   "source": [
    "```python\n",
    "A      (3d array):  15, 3, 5\n",
    "B      (2d array):      3, 1\n",
    "Result (3d array):  15, 3, 5\n",
    "    \n",
    "```"
   ]
  },
  {
   "cell_type": "markdown",
   "metadata": {
    "slideshow": {
     "slide_type": "-"
    }
   },
   "source": [
    "```python\n",
    "A      (2d array):     2, 1\n",
    "B      (3d array):  8, 4, 3  # second from last dimensions mismatch\n",
    "```"
   ]
  },
  {
   "cell_type": "markdown",
   "metadata": {
    "slideshow": {
     "slide_type": "slide"
    }
   },
   "source": [
    "### Adding dimensions\n",
    "\n",
    "Broadcasting arrays might require adding new dimensions to them.\n",
    "\n",
    "Adding a new axis to an array with `np.newaxis` is cheap because it does not change the size of the array."
   ]
  },
  {
   "cell_type": "code",
   "execution_count": null,
   "metadata": {
    "slideshow": {
     "slide_type": "-"
    }
   },
   "outputs": [],
   "source": [
    "arr = np.ones(6)\n",
    "print(arr.shape, '\\n')\n",
    "\n",
    "print(arr[:, np.newaxis].shape)\n",
    "print(arr[np.newaxis, :].shape, '\\n')\n",
    "\n",
    "print(np.expand_dims(arr, axis=1).shape)\n",
    "print(np.expand_dims(arr, axis=0).shape)"
   ]
  },
  {
   "cell_type": "markdown",
   "metadata": {
    "slideshow": {
     "slide_type": "slide"
    }
   },
   "source": [
    "### Random numbers\n",
    "Using the [`numpy.random`](https://numpy.org/devdocs/reference/random/index.html#numpyrandom) module it is possible to generate random numbers from a large number of different distributions."
   ]
  },
  {
   "cell_type": "code",
   "execution_count": null,
   "metadata": {},
   "outputs": [],
   "source": [
    "from numpy.random import default_rng\n",
    "\n",
    "\n",
    "rng = default_rng()\n",
    "\n",
    "# Random numbers between 0 and 1\n",
    "print(rng.random(3), '\\n')\n",
    "\n",
    "# Random integers\n",
    "print(rng.integers(low=0, high=10, size=3), '\\n')\n",
    "\n",
    "# Random numbers sampled from uniform distribution\n",
    "print(rng.uniform(low=0, high=10, size=3), '\\n')\n",
    "\n",
    "# Random numbers sampled from Gaussian/Normal distribution\n",
    "print(rng.normal(size=3), '\\n')"
   ]
  },
  {
   "cell_type": "markdown",
   "metadata": {
    "slideshow": {
     "slide_type": "slide"
    }
   },
   "source": [
    "### [SciPy](https://www.scipy.org)\n",
    "\n",
    "A collection of mathematocal algorithms and convenience functions built on NumPy.  \n",
    "\n",
    "![](https://lund-observatory-teaching.github.io/lundpython/imgs/scipy_subpackages.png)"
   ]
  },
  {
   "cell_type": "markdown",
   "metadata": {
    "slideshow": {
     "slide_type": "slide"
    }
   },
   "source": [
    "### [Astropy](https://www.astropy.org)\n",
    "\n",
    "Python packages developed for astronomers.  \n",
    "\n",
    "![](https://lund-observatory-teaching.github.io/lundpython/imgs/astropy.png)"
   ]
  },
  {
   "cell_type": "markdown",
   "metadata": {
    "slideshow": {
     "slide_type": "slide"
    }
   },
   "source": [
    "# Go to www.menti.com and enter code: xxxx xxxx\n",
    "\n",
    "### Exit question 1: Why is NumPy faster than normal Python?\n",
    "\n",
    "$\\quad$<b>A)</b> The code typically has less lines.<br>\n",
    "$\\quad$<b>B)</b> It does things in a non-Python background and never uses any Python commands.<br>\n",
    "$\\quad$<b>C)</b> Because the NumPy ndarray has one data type and is memory-dense.<br>\n",
    "$\\quad$<b>D)</b> It rewrote the existing Python functions in a smarter way."
   ]
  },
  {
   "cell_type": "markdown",
   "metadata": {
    "slideshow": {
     "slide_type": "fragment"
    }
   },
   "source": [
    "Correct answer: B & C"
   ]
  },
  {
   "cell_type": "markdown",
   "metadata": {
    "slideshow": {
     "slide_type": "slide"
    }
   },
   "source": [
    "### Exit question 2: Which of the options will give you the maximum value of a NumPy array?\n",
    "\n",
    "$\\quad$<b>A)</b> `np.max(my_array)`<br>\n",
    "$\\quad$<b>B)</b> `my_array(np.max)`<br>\n",
    "$\\quad$<b>C)</b> `my_array.max()`<br>\n",
    "$\\quad$<b>D)</b> None of the above."
   ]
  },
  {
   "cell_type": "markdown",
   "metadata": {
    "slideshow": {
     "slide_type": "fragment"
    }
   },
   "source": [
    "Correct answer: A & C"
   ]
  },
  {
   "cell_type": "markdown",
   "metadata": {
    "slideshow": {
     "slide_type": "slide"
    }
   },
   "source": [
    "### Exit question 3: Arrays `A `and `B` have shapes (8, 1, 6, 1) and (7, 1, 5) respectively. What is the shape of `A*B`?\n",
    "\n",
    "$\\quad$<b>A)</b> (56, 1, 6, 5)<br>\n",
    "$\\quad$<b>B)</b> (8, 7, 6, 5)<br>\n",
    "$\\quad$<b>C)</b> (8, 1, 6, 1, 7, 1, 5)<br>\n",
    "$\\quad$<b>D)</b> `A*B` is not a valid operation."
   ]
  },
  {
   "cell_type": "markdown",
   "metadata": {
    "slideshow": {
     "slide_type": "fragment"
    }
   },
   "source": [
    "Correct answer: B"
   ]
  },
  {
   "cell_type": "markdown",
   "metadata": {
    "slideshow": {
     "slide_type": "slide"
    }
   },
   "source": [
    "# Now it's time to use the manual to solve the exercises. Good luck!"
   ]
  }
 ],
 "metadata": {
  "celltoolbar": "Slideshow",
  "kernelspec": {
   "display_name": "Python 3 (ipykernel)",
   "language": "python",
   "name": "python3"
  },
  "language_info": {
   "codemirror_mode": {
    "name": "ipython",
    "version": 3
   },
   "file_extension": ".py",
   "mimetype": "text/x-python",
   "name": "python",
   "nbconvert_exporter": "python",
   "pygments_lexer": "ipython3",
   "version": "3.8.13"
  }
 },
 "nbformat": 4,
 "nbformat_minor": 2
}
