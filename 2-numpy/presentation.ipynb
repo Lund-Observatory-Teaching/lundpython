{
 "cells": [
  {
   "cell_type": "markdown",
   "metadata": {
    "slideshow": {
     "slide_type": "slide"
    }
   },
   "source": [
    "<img src=\"imgs/front.jpeg\" width=\"1400\">"
   ]
  },
  {
   "cell_type": "markdown",
   "metadata": {
    "slideshow": {
     "slide_type": "slide"
    }
   },
   "source": [
    "<h1><center> Where to get the lecture notes </center></h1>\n",
    "\n",
    "You can get copies of all the lecture files at my personal website. Go to:\n",
    "\n",
    "http://www.astro.lu.se/~mikkola/\n",
    "\n",
    "and click on **Teaching**\n",
    "\n",
    "\n",
    "Each lecture contains (as notebooks)\n",
    "- Manual \n",
    "- Exercises\n",
    "- Presentation\n",
    "\n",
    "---"
   ]
  },
  {
   "cell_type": "markdown",
   "metadata": {
    "slideshow": {
     "slide_type": "slide"
    }
   },
   "source": [
    "### Flexibility vs efficieny\n",
    "\n",
    "Python is very good at handling sequences of heterogenous data (different data types)."
   ]
  },
  {
   "cell_type": "code",
   "execution_count": null,
   "metadata": {
    "slideshow": {
     "slide_type": "-"
    }
   },
   "outputs": [],
   "source": [
    "numbers = [1, '2', [3]]\n",
    "for number in numbers:\n",
    "    print(f'2*{number}={2*number}')"
   ]
  },
  {
   "cell_type": "markdown",
   "metadata": {
    "slideshow": {
     "slide_type": "-"
    }
   },
   "source": [
    "But this flexibility comes with computational overhead, even if the data is homogenous!"
   ]
  },
  {
   "cell_type": "markdown",
   "metadata": {
    "slideshow": {
     "slide_type": "slide"
    }
   },
   "source": [
    "<img src=\"imgs/numpy.png\" width=\"300\"/>\n",
    "\n",
    "### What is NumPy?\n",
    "\n",
    "From [numpy.org](https://numpy.org/devdocs/user/whatisnumpy.html)\n",
    "\n",
    "> NumPy is the fundamental package for scientific computing in Python. \n",
    "\n",
    "\n",
    "NumPy is all about the *ndarray* object which is a homogenous *n*-dimensional array.\n",
    "\n",
    "NumPy arrays are less flexible, but much more efficient."
   ]
  },
  {
   "cell_type": "markdown",
   "metadata": {
    "slideshow": {
     "slide_type": "slide"
    }
   },
   "source": [
    "### Vectorization\n",
    "\n",
    "Vectorized code handles arrays as wholes, instead of handling their elements separately.\n",
    "\n",
    "Let's say we have two Python lists `a` and `b`. To multiply all the elements of the first array with the corresponding elements of the second we would perhaps do one of the following:"
   ]
  },
  {
   "cell_type": "code",
   "execution_count": null,
   "metadata": {},
   "outputs": [],
   "source": [
    "arr_a = list(range(1000))\n",
    "arr_b = list(range(0, 2000, 2))"
   ]
  },
  {
   "cell_type": "code",
   "execution_count": null,
   "metadata": {},
   "outputs": [],
   "source": [
    "%%timeit -n 300\n",
    "\n",
    "arr_c = []\n",
    "for i in range(len(arr_a)):\n",
    "    arr_c.append(arr_a[i]*arr_b[i])"
   ]
  },
  {
   "cell_type": "code",
   "execution_count": null,
   "metadata": {
    "slideshow": {
     "slide_type": "-"
    }
   },
   "outputs": [],
   "source": [
    "%%timeit -n 300\n",
    "\n",
    "arr_c = []\n",
    "for a, b in zip(arr_a, arr_b):\n",
    "    arr_c.append(a*b)"
   ]
  },
  {
   "cell_type": "code",
   "execution_count": null,
   "metadata": {
    "slideshow": {
     "slide_type": "-"
    }
   },
   "outputs": [],
   "source": [
    "%%timeit -n 300\n",
    "\n",
    "arr_c = [a*b for a, b in zip(arr_a, arr_b)]"
   ]
  },
  {
   "cell_type": "markdown",
   "metadata": {
    "slideshow": {
     "slide_type": "slide"
    }
   },
   "source": [
    "With NumPy it is possible to write vectorized code, which is much less verbose and even less time consuming."
   ]
  },
  {
   "cell_type": "code",
   "execution_count": null,
   "metadata": {},
   "outputs": [],
   "source": [
    "import numpy as np\n",
    "\n",
    "nparr_a = np.array(arr_a)\n",
    "nparr_b = np.array(arr_b)"
   ]
  },
  {
   "cell_type": "code",
   "execution_count": null,
   "metadata": {
    "slideshow": {
     "slide_type": "-"
    }
   },
   "outputs": [],
   "source": [
    "%%timeit -n 300\n",
    "nparr_c = nparr_a*nparr_b"
   ]
  },
  {
   "cell_type": "markdown",
   "metadata": {
    "slideshow": {
     "slide_type": "slide"
    }
   },
   "source": [
    "### The *ndarray*\n",
    "\n",
    "As mentioned, an ndarray can be $n$-dimensional, so we need introduce some vocabulary to talk about them."
   ]
  },
  {
   "cell_type": "code",
   "execution_count": null,
   "metadata": {
    "scrolled": true,
    "slideshow": {
     "slide_type": "-"
    }
   },
   "outputs": [],
   "source": [
    "arr = np.array([[1, 2, 3], [4, 5, 6]])\n",
    "arr"
   ]
  },
  {
   "cell_type": "code",
   "execution_count": null,
   "metadata": {},
   "outputs": [],
   "source": [
    "arr.shape"
   ]
  },
  {
   "cell_type": "code",
   "execution_count": null,
   "metadata": {},
   "outputs": [],
   "source": [
    "arr.ndim"
   ]
  },
  {
   "cell_type": "code",
   "execution_count": null,
   "metadata": {},
   "outputs": [],
   "source": [
    "arr.size"
   ]
  },
  {
   "cell_type": "markdown",
   "metadata": {
    "slideshow": {
     "slide_type": "slide"
    }
   },
   "source": [
    "### Creating arrays\n",
    "\n",
    "We can create arrays from lists and tuples, mixes of lists/tuples, or from NumPy itself."
   ]
  },
  {
   "cell_type": "code",
   "execution_count": null,
   "metadata": {
    "slideshow": {
     "slide_type": "-"
    }
   },
   "outputs": [],
   "source": [
    "arr1 = np.array([[1, 2, 3], [4, 5, 6]])  # [ [ ], [ ] ]\n",
    "arr2 = np.array(((1, 2, 3), (4, 5, 6)))  # ( ( ), ( ) )\n",
    "arr3 = np.array([(1, 2, 3), (4, 5, 6)])  # [ ( ), ( ) ]\n",
    "arr4 = np.array(([1, 2, 3], [4, 5, 6]))  # ( [ ], [ ] )\n",
    "print(arr1, '\\n')\n",
    "print(arr2, '\\n')\n",
    "print(arr3, '\\n')\n",
    "print(arr4, '\\n')"
   ]
  },
  {
   "cell_type": "code",
   "execution_count": null,
   "metadata": {
    "slideshow": {
     "slide_type": "-"
    }
   },
   "outputs": [],
   "source": [
    "arr1 = np.ones(3)\n",
    "arr2 = np.zeros(3)\n",
    "print(arr1, '\\n')\n",
    "print(arr2, '\\n')"
   ]
  },
  {
   "cell_type": "markdown",
   "metadata": {
    "slideshow": {
     "slide_type": "slide"
    }
   },
   "source": [
    "We can also specify the data type at creation"
   ]
  },
  {
   "cell_type": "code",
   "execution_count": null,
   "metadata": {
    "slideshow": {
     "slide_type": "-"
    }
   },
   "outputs": [],
   "source": [
    "for dtype in (int, float, str, complex, bool):\n",
    "    arr = np.array([-1, 0, 1], dtype=dtype)\n",
    "\n",
    "    print(str(dtype)[8:-2].ljust(7), arr, '\\n')"
   ]
  },
  {
   "cell_type": "markdown",
   "metadata": {
    "slideshow": {
     "slide_type": "slide"
    }
   },
   "source": [
    "### Other things NumPy:\n",
    "Let's quickly run through some NumPy basics"
   ]
  },
  {
   "cell_type": "code",
   "execution_count": null,
   "metadata": {
    "slideshow": {
     "slide_type": "-"
    }
   },
   "outputs": [],
   "source": [
    "# Sequences\n",
    "print(np.arange(1, 10, 2.25))\n",
    "print(np.linspace(1, 10, 5))\n",
    "print(np.logspace(0, 1, 5))"
   ]
  },
  {
   "cell_type": "code",
   "execution_count": null,
   "metadata": {
    "slideshow": {
     "slide_type": "-"
    }
   },
   "outputs": [],
   "source": [
    "# Operations\n",
    "A = np.array([[1, 1], [1, 1]])\n",
    "B = np.array([[2, 2], [2, 2]])\n",
    "print(A * B)  # Elementwise\n",
    "print(A @ B)  # Matrix operation\n",
    "print(A.dot(B))  # same matrix operation"
   ]
  },
  {
   "cell_type": "code",
   "execution_count": null,
   "metadata": {
    "slideshow": {
     "slide_type": "slide"
    }
   },
   "outputs": [],
   "source": [
    "# ndarray methods\n",
    "arr = np.arange(9).reshape(3, 3)\n",
    "print(arr)\n",
    "print(arr.sum())\n",
    "print(arr.min())\n",
    "print(arr.max())"
   ]
  },
  {
   "cell_type": "code",
   "execution_count": null,
   "metadata": {
    "slideshow": {
     "slide_type": "-"
    }
   },
   "outputs": [],
   "source": [
    "# Along an axis\n",
    "print(arr)\n",
    "print(arr.sum(axis=0))\n",
    "print(arr.min(axis=1))\n",
    "print(arr.max(axis=0))"
   ]
  },
  {
   "cell_type": "code",
   "execution_count": null,
   "metadata": {
    "slideshow": {
     "slide_type": "slide"
    }
   },
   "outputs": [],
   "source": [
    "# Maths\n",
    "print(np.exp(2))\n",
    "print(np.sqrt(9))\n",
    "print(np.log(100))\n",
    "print(np.log10(100))\n",
    "print(np.add(2, 2))"
   ]
  },
  {
   "cell_type": "markdown",
   "metadata": {
    "slideshow": {
     "slide_type": "slide"
    }
   },
   "source": [
    "### Indexing, slicing, and iterating\n",
    "1-D arrays are indexed exactly like Python lists.\n",
    "\n",
    "Multidimensional arrays have one index per axis and are accessed via tuple"
   ]
  },
  {
   "cell_type": "code",
   "execution_count": null,
   "metadata": {},
   "outputs": [],
   "source": [
    "arr = np.arange(9).reshape(3, 3)\n",
    "print(arr, '\\n')\n",
    "\n",
    "print(arr[2, 2])\n",
    "print(arr[2, :])\n",
    "print(arr[2])\n",
    "print(arr[:, 2])\n",
    "print(arr[..., 2])"
   ]
  },
  {
   "cell_type": "markdown",
   "metadata": {},
   "source": [
    "<img src=\"imgs/indexing.png\" width=\"1600\" style=\"margin: 0px 0px 0px 100px;\"/>"
   ]
  },
  {
   "cell_type": "markdown",
   "metadata": {
    "slideshow": {
     "slide_type": "slide"
    }
   },
   "source": [
    "### Stacking"
   ]
  },
  {
   "cell_type": "code",
   "execution_count": null,
   "metadata": {},
   "outputs": [],
   "source": [
    "# 1D arrays\n",
    "arr1 = np.ones(2)\n",
    "arr2 = np.zeros(2)\n",
    "\n",
    "print(np.row_stack((arr1, arr2)), '\\n')\n",
    "print(np.column_stack((arr1, arr2)))"
   ]
  },
  {
   "cell_type": "code",
   "execution_count": null,
   "metadata": {},
   "outputs": [],
   "source": [
    "# 2D arrays\n",
    "arr1 = np.ones((2, 2))\n",
    "arr2 = np.zeros((2, 2))\n",
    "\n",
    "print(np.vstack((arr1, arr2)), '\\n')\n",
    "print(np.hstack((arr1, arr2)), '\\n')\n",
    "\n",
    "print(np.concatenate((arr1, arr2), axis=0), '\\n')\n",
    "print(np.concatenate((arr1, arr2), axis=1))"
   ]
  },
  {
   "cell_type": "markdown",
   "metadata": {
    "slideshow": {
     "slide_type": "slide"
    }
   },
   "source": [
    "### Shape manipulation\n",
    "\n",
    "It is not possible to combine arbitrarily shaped NumPy arrays, so the following might be handy."
   ]
  },
  {
   "cell_type": "code",
   "execution_count": null,
   "metadata": {},
   "outputs": [],
   "source": [
    "arr = np.arange(12)\n",
    "print(arr, '\\n')\n",
    "\n",
    "# Reshape\n",
    "arr = arr.reshape(3, 4)\n",
    "print(arr, '\\n')\n",
    "\n",
    "# Transpose\n",
    "arr = arr.transpose()\n",
    "print(arr, '\\n')\n",
    "\n",
    "# Flatten\n",
    "arr = arr.flatten()\n",
    "print(arr, '\\n')"
   ]
  },
  {
   "cell_type": "markdown",
   "metadata": {
    "slideshow": {
     "slide_type": "slide"
    }
   },
   "source": [
    "### Broadcasting\n",
    "Broadcasting is how NumPy treats arrays with different shapes when performing arithmetic operations. Typically it means that the smaller of the arrays is \"stretched\" out to match the larger's shape. For example:\n",
    "\n",
    "<img src=\"imgs/np_multiply_broadcasting.png\" width=\"1600\" style=\"margin: -38px 0px 0px 100px;\"/>"
   ]
  },
  {
   "cell_type": "markdown",
   "metadata": {
    "slideshow": {
     "slide_type": "slide"
    }
   },
   "source": [
    "This can be rather useful for certain operations. For example consider the illustration below where we are simply doing the operation `arr_c = arr_a * arr_b`  \n",
    "<br>\n",
    "![](imgs/broadcasting.png)"
   ]
  },
  {
   "cell_type": "markdown",
   "metadata": {
    "slideshow": {
     "slide_type": "slide"
    }
   },
   "source": [
    "The dimensions of two arrays are compatible with broadcasting when:\n",
    "<br>\n",
    "- They are equal\n",
    "- One of them is 1\n",
    "\n",
    "So let's see what works"
   ]
  },
  {
   "cell_type": "markdown",
   "metadata": {
    "slideshow": {
     "slide_type": "slide"
    }
   },
   "source": [
    "```python\n",
    "A      (3d array):  15 x 3 x 5\n",
    "B      (3d array):  15 x 1 x 5\n",
    "Result (3d array):  15 x 3 x 5\n",
    "```"
   ]
  },
  {
   "cell_type": "markdown",
   "metadata": {
    "slideshow": {
     "slide_type": "-"
    }
   },
   "source": [
    "```python\n",
    "A      (3d array):  15 x 3 x 5\n",
    "B      (2d array):       3 x 5\n",
    "Result (3d array):  15 x 3 x 5\n",
    "```"
   ]
  },
  {
   "cell_type": "markdown",
   "metadata": {
    "slideshow": {
     "slide_type": "-"
    }
   },
   "source": [
    "```python\n",
    "A      (3d array):  15 x 3 x 5\n",
    "B      (2d array):       3 x 1\n",
    "Result (3d array):  15 x 3 x 5\n",
    "    \n",
    "```"
   ]
  },
  {
   "cell_type": "markdown",
   "metadata": {
    "slideshow": {
     "slide_type": "-"
    }
   },
   "source": [
    "```python\n",
    "A      (2d array):      2 x 1\n",
    "B      (3d array):  8 x 4 x 3 # second from last dimensions mismatched\n",
    "```"
   ]
  },
  {
   "cell_type": "markdown",
   "metadata": {
    "slideshow": {
     "slide_type": "slide"
    }
   },
   "source": [
    "### Adding dimensions\n",
    "\n",
    "Broadcasting arrays might require adding new dimensions to them."
   ]
  },
  {
   "cell_type": "code",
   "execution_count": null,
   "metadata": {
    "slideshow": {
     "slide_type": "slide"
    }
   },
   "outputs": [],
   "source": [
    "arr = np.ones(6)\n",
    "print(arr.shape, '\\n')\n",
    "\n",
    "print(arr[:, np.newaxis].shape)\n",
    "print(arr[np.newaxis, :].shape, '\\n')\n",
    "\n",
    "print(np.expand_dims(arr, axis=1).shape)\n",
    "print(np.expand_dims(arr, axis=0).shape)"
   ]
  },
  {
   "cell_type": "markdown",
   "metadata": {
    "slideshow": {
     "slide_type": "slide"
    }
   },
   "source": [
    "### Random numbers\n",
    "Using the [`numpy.random`](https://numpy.org/devdocs/reference/random/index.html#numpyrandom) module it is possible to generate random numbers from a large number of different distributions."
   ]
  },
  {
   "cell_type": "code",
   "execution_count": null,
   "metadata": {},
   "outputs": [],
   "source": [
    "import numpy.random as random\n",
    "\n",
    "# Random numbers between 0 and 1\n",
    "print(random.rand(3), '\\n')\n",
    "\n",
    "# Random integers\n",
    "print(random.randint(low=0, high=10, size=3), '\\n')\n",
    "\n",
    "# Random numbers sampled from uniform distribution\n",
    "print(random.uniform(low=0, high=10, size=3), '\\n')\n",
    "\n",
    "# Random numbers sampled from Gaussian/Normal distribution\n",
    "print(random.normal(size=3), '\\n')"
   ]
  },
  {
   "cell_type": "markdown",
   "metadata": {
    "slideshow": {
     "slide_type": "slide"
    }
   },
   "source": [
    "### [SciPy](https://www.scipy.org)\n",
    "\n",
    "A collection of mathematocal algorithms and convenience functions built on NumPy.  \n",
    "\n",
    "![](imgs/scipy_subpackages.png)"
   ]
  },
  {
   "cell_type": "markdown",
   "metadata": {
    "slideshow": {
     "slide_type": "slide"
    }
   },
   "source": [
    "### [Astropy](https://www.astropy.org)\n",
    "\n",
    "Python packages developed for astronomers.  \n",
    "\n",
    "![](imgs/astropy.png)"
   ]
  },
  {
   "cell_type": "markdown",
   "metadata": {
    "slideshow": {
     "slide_type": "slide"
    }
   },
   "source": [
    "<h1><center> Exit questions </center></h1>"
   ]
  },
  {
   "cell_type": "markdown",
   "metadata": {
    "slideshow": {
     "slide_type": "slide"
    }
   },
   "source": [
    "# Now it's time to use the manual to solve the exercises. Good luck!"
   ]
  }
 ],
 "metadata": {
  "celltoolbar": "Slideshow",
  "kernelspec": {
   "display_name": "Python 3",
   "language": "python",
   "name": "python3"
  },
  "language_info": {
   "codemirror_mode": {
    "name": "ipython",
    "version": 3
   },
   "file_extension": ".py",
   "mimetype": "text/x-python",
   "name": "python",
   "nbconvert_exporter": "python",
   "pygments_lexer": "ipython3",
   "version": "3.8.3"
  }
 },
 "nbformat": 4,
 "nbformat_minor": 2
}
