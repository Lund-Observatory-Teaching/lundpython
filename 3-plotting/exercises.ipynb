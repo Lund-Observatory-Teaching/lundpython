{
 "cells": [
  {
   "cell_type": "markdown",
   "metadata": {},
   "source": [
    "# Matplotlib exercises"
   ]
  },
  {
   "cell_type": "markdown",
   "metadata": {},
   "source": [
    "### 1) Some simple plots\n",
    "\n",
    "Run the following code cell to generate some simple datasets. Try to understand what they're generating."
   ]
  },
  {
   "cell_type": "code",
   "execution_count": null,
   "metadata": {},
   "outputs": [],
   "source": [
    "import numpy as np\n",
    "import matplotlib.pyplot as plt\n",
    "from scipy.stats import gumbel_r, gumbel_l, norm\n",
    "\n",
    "t = np.arange(0., 10, 0.1) # Time (seconds)\n",
    "sine = 2*np.sin(np.pi * t) # Voltage (mV)\n",
    "\n",
    "x = np.random.gumbel(loc=37, scale=0.5, size=365) # Body temperature measurements (Celsius)\n",
    "\n",
    "hour = np.linspace(0,24,500) # Hour of the day\n",
    "td = 100*np.dot(np.array([2, 0.3, 0.7]).T, \n",
    "    [gumbel_r.pdf(hour, loc=7, scale=2), \n",
    "     norm.pdf(hour, loc=15, scale=0.7),\n",
    "     gumbel_l.pdf(hour, loc=19, scale=0.8)]\n",
    "           )\n",
    "td += (np.max(td) / 10) * np.abs(np.random.normal(scale=2, size=td.size)) # Traffic density (N_cars / km)"
   ]
  },
  {
   "cell_type": "markdown",
   "metadata": {},
   "source": [
    "Using these datasets, create the following plots:\n",
    "\n",
    "1. A sinusoid line plot showing mV oscillation over time in seconds.\n",
    "2. A histogram that shows the different body temperature measurements.\n",
    "3. A scatter plot with traffic density as a function of the time of day.\n",
    "\n",
    "Your output should look like this:  \n",
    "\n",
    "![](imgs/figures.jpeg)"
   ]
  },
  {
   "cell_type": "code",
   "execution_count": null,
   "metadata": {},
   "outputs": [],
   "source": [
    "# Your solution\n",
    "\n",
    "plt.figure()\n",
    "plt.plot(t,sine)\n",
    "plt.savefig('sine.png', format='png')\n",
    "\n",
    "plt.figure()\n",
    "plt.hist(x)\n",
    "plt.savefig('hist.png', format='png')\n",
    "\n",
    "plt.figure()\n",
    "plt.scatter(hour, td)\n",
    "plt.savefig('scatter.png', format='png')"
   ]
  },
  {
   "cell_type": "markdown",
   "metadata": {},
   "source": [
    "<hr style=\"border:1.5px solid gray\"></hr>\n",
    "\n",
    "### 2) Improving plots\n",
    "\n",
    "Now make the figures look roughly like this:  \n",
    "\n",
    "![](imgs/figures_improved.jpeg)\n",
    "\n",
    "<details>\n",
    "  <summary>Click here for a hint!</summary>\n",
    "\n",
    "Look at the documentation for each of the plotting functions to see what options they have. \n",
    "    \n",
    "You can also take a look at [Matplotlib's sample plots](https://matplotlib.org/tutorials/introductory/sample_plots.html) to see how they do it.\n",
    "    \n",
    "</details>"
   ]
  },
  {
   "cell_type": "code",
   "execution_count": null,
   "metadata": {},
   "outputs": [],
   "source": [
    "# Your solution\n",
    "\n",
    "fs = 16\n",
    "plt.figure(figsize=(6,3))\n",
    "plt.plot(t,sine, 'r')\n",
    "plt.xlabel('Time [s]', fontsize=fs)\n",
    "plt.xticks(fontsize=fs-2)\n",
    "plt.xlim([0,10])\n",
    "plt.ylabel('Voltage [mV]', fontsize=fs)\n",
    "plt.yticks(fontsize=fs-2)\n",
    "plt.ylim([-2.2,2.2])\n",
    "plt.title('AC Transistor', fontsize=fs)\n",
    "plt.grid()\n",
    "plt.savefig('sine_good.png', bbox_inches = \"tight\")\n",
    "\n",
    "plt.figure(figsize=(5,5))\n",
    "plt.hist(x, bins=20, histtype='stepfilled')\n",
    "plt.xlabel('Temperature [$\\degree$C]', fontsize=fs)\n",
    "plt.xticks(np.arange(36,41,1),fontsize=fs-2)\n",
    "plt.ylabel('$N_\\mathrm{Days}$', fontsize=fs)\n",
    "plt.yticks(fontsize=fs-2)\n",
    "plt.title('My body temperature over a year', fontsize=fs)\n",
    "plt.savefig('hist_good.png', format='png')\n",
    "\n",
    "plt.figure(figsize=(8,4))\n",
    "plt.scatter(hour, td, s=2, c='k')\n",
    "plt.xlabel('Time [Hours]', fontsize=fs)\n",
    "plt.xticks(np.arange(0,25,3),fontsize=fs-2)\n",
    "plt.xlim([0, 24])\n",
    "plt.ylabel('Traffic density [N$_\\mathrm{cars}$ / km]', fontsize=fs)\n",
    "plt.yticks(fontsize=fs-2)\n",
    "plt.ylim([0, 50])\n",
    "plt.title('How does traffic vary over a day?', fontsize=fs)\n",
    "plt.savefig('scatter_good.png', format='png')"
   ]
  },
  {
   "cell_type": "markdown",
   "metadata": {},
   "source": [
    "<hr style=\"border:1.5px solid gray\"></hr>\n",
    "\n",
    "### 3) Subplots\n",
    "\n",
    "Run the following code cell which generates two arrays `x` and `y` of shape (5, 100000) each."
   ]
  },
  {
   "cell_type": "code",
   "execution_count": null,
   "metadata": {},
   "outputs": [],
   "source": [
    "x = np.zeros((5,100000))\n",
    "y = np.zeros((5,100000))\n",
    "for i in range(5):\n",
    "    gen_mean = np.random.uniform(low=-3, high=3, size=(3,2))\n",
    "    gen_cov = np.random.uniform(low=0, high=1, size=(3,2))\n",
    "    x[i], y[i] = np.vstack((np.random.multivariate_normal(mean=gen_mean[0], cov=[[gen_cov[0,0], 0], [0, gen_cov[0,1]]], size=40000),\n",
    "                np.random.multivariate_normal(mean=gen_mean[1], cov=[[gen_cov[1,0], 0], [0, gen_cov[1,1]]], size=20000),\n",
    "                np.random.multivariate_normal(mean=gen_mean[2], cov=[[gen_cov[2,0], 0], [0, gen_cov[2,1]]], size=40000))).T"
   ]
  },
  {
   "cell_type": "markdown",
   "metadata": {},
   "source": [
    "Use the data to create the following subplot. It has two rows and three columns, but the last subplot needs to be removed. \n",
    "\n",
    "![](imgs/subplots.png)\n",
    "\n",
    "Each subplot contains one of the randomly generated pairs of `x, y`. Be aware that since the data is randomly generated, your plots will look slightly different.  \n",
    "<br>\n",
    "  <details>\n",
    "    <summary>Click here for hints!</summary>\n",
    "  \n",
    "      \n",
    "  The following documentation pages will help you:\n",
    "      \n",
    "  [`matplotlib.axes.Axes.hexbin()`](https://matplotlib.org/3.3.1/api/_as_gen/matplotlib.axes.Axes.hexbin.html?highlight=hexbin#matplotlib.axes.Axes.hexbin)  \n",
    "      \n",
    "  [`plt.subplots()`](https://matplotlib.org/3.3.1/api/_as_gen/matplotlib.pyplot.subplots.html#matplotlib.pyplot.subplots)\n",
    "\n",
    "  [`matplotlib.axes.Axes.axis`](https://matplotlib.org/api/_as_gen/matplotlib.axes.Axes.axis.html?highlight=axis#matplotlib.axes.Axes.axis) (How to remove a subplot)\n",
    "    \n",
    "  [`plt.tight_layout()`](https://matplotlib.org/api/_as_gen/matplotlib.pyplot.tight_layout.html?highlight=tight_layout#matplotlib.pyplot.tight_layout) (Can remove excess whitespace)  \n",
    "    \n",
    "  [Multiple subplots](https://matplotlib.org/gallery/subplots_axes_and_figures/subplot.html)  \n",
    "      \n",
    "\n",
    "  \n",
    "      \n",
    "  </details>"
   ]
  },
  {
   "cell_type": "code",
   "execution_count": null,
   "metadata": {},
   "outputs": [],
   "source": [
    "# Your solution\n",
    "\n",
    "fig, ax = plt.subplots(nrows=2 , ncols=3, figsize=(12,8))\n",
    "\n",
    "k = 0\n",
    "for i in range(2):\n",
    "    for j in range(3):        \n",
    "        if (i,j) != (1,2): \n",
    "            x_ax, y_ax = x[k],y[k]\n",
    "            ax[i,j].hexbin(x_ax, y_ax, gridsize=20)\n",
    "            ax[i,j].set(xlim=(x_ax.min(), x_ax.max()), ylim=(y_ax.min(), y_ax.max()))\n",
    "            ax[i,j].set_ylabel('$y$', fontsize=14)\n",
    "            ax[i,j].set_xlabel('$x$', fontsize=14)\n",
    "            ax[i,j].tick_params(labelsize=14)\n",
    "            k += 1\n",
    "        else:\n",
    "            ax[i,j].axis('off')\n",
    "            \n",
    "plt.tight_layout()\n",
    "plt.show()"
   ]
  },
  {
   "cell_type": "markdown",
   "metadata": {},
   "source": [
    "<hr style=\"border:1.5px solid gray\"></hr>\n",
    "<hr style=\"border:1.5px solid gray\"></hr>\n",
    "<hr style=\"border:1.5px solid gray\"></hr>"
   ]
  },
  {
   "cell_type": "markdown",
   "metadata": {},
   "source": [
    "### 1)"
   ]
  },
  {
   "cell_type": "code",
   "execution_count": null,
   "metadata": {},
   "outputs": [],
   "source": [
    "plt.figure()\n",
    "plt.plot(t,sine)\n",
    "plt.savefig('sine.png', format='png')\n",
    "\n",
    "plt.figure()\n",
    "plt.hist(x)\n",
    "plt.savefig('hist.png', format='png')\n",
    "\n",
    "plt.figure()\n",
    "plt.scatter(hour, td)\n",
    "plt.savefig('scatter.png', format='png')"
   ]
  },
  {
   "cell_type": "markdown",
   "metadata": {},
   "source": [
    "### 2)"
   ]
  },
  {
   "cell_type": "code",
   "execution_count": null,
   "metadata": {},
   "outputs": [],
   "source": [
    "fs = 16\n",
    "plt.figure(figsize=(6,3))\n",
    "plt.plot(t,sine, 'r')\n",
    "plt.xlabel('Time [s]', fontsize=fs)\n",
    "plt.xticks(fontsize=fs-2)\n",
    "plt.xlim([0,10])\n",
    "plt.ylabel('Voltage [mV]', fontsize=fs)\n",
    "plt.yticks(fontsize=fs-2)\n",
    "plt.ylim([-2.2,2.2])\n",
    "plt.title('AC Transistor', fontsize=fs)\n",
    "plt.grid()\n",
    "plt.savefig('sine_good.png', bbox_inches = \"tight\")\n",
    "\n",
    "plt.figure(figsize=(5,5))\n",
    "plt.hist(x, bins=20, histtype='stepfilled')\n",
    "plt.xlabel('Temperature [$\\degree$C]', fontsize=fs)\n",
    "plt.xticks(np.arange(36,41,1),fontsize=fs-2)\n",
    "plt.ylabel('$N_\\mathrm{Days}$', fontsize=fs)\n",
    "plt.yticks(fontsize=fs-2)\n",
    "plt.title('My body temperature over a year', fontsize=fs)\n",
    "plt.savefig('hist_good.png', format='png')\n",
    "\n",
    "plt.figure(figsize=(8,4))\n",
    "plt.scatter(hour, td, s=2, c='k')\n",
    "plt.xlabel('Time [Hours]', fontsize=fs)\n",
    "plt.xticks(np.arange(0,25,3),fontsize=fs-2)\n",
    "plt.xlim([0, 24])\n",
    "plt.ylabel('Traffic density [N$_\\mathrm{cars}$ / km]', fontsize=fs)\n",
    "plt.yticks(fontsize=fs-2)\n",
    "plt.ylim([0, 50])\n",
    "plt.title('How does traffic vary over a day?', fontsize=fs)\n",
    "plt.savefig('scatter_good.png', format='png')"
   ]
  },
  {
   "cell_type": "markdown",
   "metadata": {},
   "source": [
    "### 3)"
   ]
  },
  {
   "cell_type": "code",
   "execution_count": null,
   "metadata": {},
   "outputs": [],
   "source": [
    "fig, ax = plt.subplots(nrows=2 , ncols=3, figsize=(12,8))\n",
    "\n",
    "k = 0\n",
    "for i in range(2):\n",
    "    for j in range(3):        \n",
    "        if (i,j) != (1,2): \n",
    "            x_ax, y_ax = x[k],y[k]\n",
    "            ax[i,j].hexbin(x_ax, y_ax, gridsize=20)\n",
    "            ax[i,j].set(xlim=(x_ax.min(), x_ax.max()), ylim=(y_ax.min(), y_ax.max()))\n",
    "            ax[i,j].set_ylabel('$y$', fontsize=14)\n",
    "            ax[i,j].set_xlabel('$x$', fontsize=14)\n",
    "            ax[i,j].tick_params(labelsize=14)\n",
    "            k += 1\n",
    "        else:\n",
    "            ax[i,j].axis('off')\n",
    "            \n",
    "plt.tight_layout()\n",
    "plt.show()"
   ]
  }
 ],
 "metadata": {
  "kernelspec": {
   "display_name": "Python 3",
   "language": "python",
   "name": "python3"
  },
  "language_info": {
   "codemirror_mode": {
    "name": "ipython",
    "version": 3
   },
   "file_extension": ".py",
   "mimetype": "text/x-python",
   "name": "python",
   "nbconvert_exporter": "python",
   "pygments_lexer": "ipython3",
   "version": "3.8.3"
  }
 },
 "nbformat": 4,
 "nbformat_minor": 4
}
