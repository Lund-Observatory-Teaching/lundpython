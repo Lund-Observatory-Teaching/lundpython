{
 "cells": [
  {
   "cell_type": "markdown",
   "metadata": {},
   "source": [
    "# A brief introduction to plotting\n",
    "\n",
    "This notebook will provide useful examples of producing plots with [Matplotlib](https://matplotlib.org/), but do keep in mind that many of the plots below are meant to demonstrate something specific and might therefore be lacking components that should normally be present.\n",
    "\n",
    "Experimenting with the code is encouraged.\n",
    "\n",
    "\n",
    "## Matplotlib\n",
    "\n",
    "### Simple plots\n",
    "\n",
    "Most often you will encounter data plotted on a 2D grid as individual data points, a line that goes through those points or both. Simple examples of the three cases are presented below."
   ]
  },
  {
   "cell_type": "code",
   "execution_count": null,
   "metadata": {},
   "outputs": [],
   "source": [
    "# These are normally needed\n",
    "import numpy as np\n",
    "import matplotlib.pyplot as plt\n",
    "\n",
    "# This is not normally needed\n",
    "from matplotlib.ticker import AutoMinorLocator, FuncFormatter\n",
    "\n",
    "def simple_function(x):\n",
    "    return x**2-x\n",
    "\n",
    "# Generate random data for plotting\n",
    "x = np.linspace(0, 5, 100)\n",
    "random_generator = np.random.default_rng()\n",
    "y = x**2-x+random_generator.standard_normal(x.size)\n",
    "\n",
    "plt.scatter(x, y)\n",
    "plt.show()\n",
    "\n",
    "plt.plot(x, y)\n",
    "plt.show()\n",
    "\n",
    "plt.plot(x, y, marker='o')\n",
    "plt.show()"
   ]
  },
  {
   "cell_type": "markdown",
   "metadata": {},
   "source": [
    "The good thing about the plots above is that they were quick and simple to make. The bad thing about them is that they are missing too much information to be useful. But before we move on to improving the plots we should have an overview of basic terminology, so we start by labelling the different components of a plot."
   ]
  },
  {
   "cell_type": "code",
   "execution_count": null,
   "metadata": {},
   "outputs": [],
   "source": [
    "fig, ax = plt.subplots()\n",
    "ax.scatter(x, y, label='Markers')\n",
    "ax.plot(x, simple_function(x), label='Line', color='r')\n",
    "ax.legend(title='Legend')\n",
    "ax.set_title('Title')\n",
    "ax.set_xlabel('x-axis label')\n",
    "ax.set_ylabel('y-axis label')\n",
    "secax = ax.secondary_yaxis('right')\n",
    "secax.yaxis.set_minor_locator(AutoMinorLocator(2))\n",
    "secax.yaxis.set_minor_formatter(FuncFormatter(lambda x, y: 'Minor ticks'))\n",
    "secax.yaxis.set_major_formatter(FuncFormatter(lambda x, y: 'Major ticks'))\n",
    "secax.tick_params(which='both', width=2)\n",
    "secax.tick_params(which='major', length=10)\n",
    "secax.tick_params(which='minor', length=5)\n",
    "plt.show()"
   ]
  },
  {
   "cell_type": "markdown",
   "metadata": {},
   "source": [
    "In Matplotlib minor ticks are hidden by default and major ticks are usually automatically placed at reasonable intervals. However the labels in the legend, on the *x*- and *y*-axes and the title must be provided by the user. Specifying the title and axes labels is not complicated."
   ]
  },
  {
   "cell_type": "code",
   "execution_count": null,
   "metadata": {},
   "outputs": [],
   "source": [
    "plt.plot(x, y)\n",
    "plt.title('Measurement results')\n",
    "plt.xlabel('Time [s]')\n",
    "plt.ylabel(r'Speed [m$\\,$s$^{-1}$]')\n",
    "plt.show()"
   ]
  },
  {
   "cell_type": "markdown",
   "metadata": {},
   "source": [
    "As you can see it is possible to use simple $\\TeX$ commands in the labels.\n",
    "\n",
    "The labels that will appear in the legend can be specified when the data is plotted."
   ]
  },
  {
   "cell_type": "code",
   "execution_count": null,
   "metadata": {},
   "outputs": [],
   "source": [
    "plt.plot(x, simple_function(x), label='Model')\n",
    "plt.plot(x, y, label='Data')\n",
    "plt.legend()\n",
    "plt.show()"
   ]
  },
  {
   "cell_type": "markdown",
   "metadata": {},
   "source": [
    "The data can come in a few different formats. One option is to provide two 1D arrays of equal length that specify $x$ and $y$ coordinates in multiple `plt.plot()` calls."
   ]
  },
  {
   "cell_type": "code",
   "execution_count": null,
   "metadata": {},
   "outputs": [],
   "source": [
    "# Generate more data\n",
    "offsets = np.arange(5)\n",
    "y_mult = offsets+y[:,np.newaxis]\n",
    "\n",
    "plt.plot(x, y_mult[:,0], label=offsets[0])\n",
    "plt.plot(x, y_mult[:,-1], label=offsets[-1])\n",
    "plt.legend(title='Offset')\n",
    "plt.show()"
   ]
  },
  {
   "cell_type": "markdown",
   "metadata": {},
   "source": [
    "It is also possible to provide *x* as a 1D array and *y* as a 2D array that has the same length in the first dimension as *x*. In that case it is more convenient to provide the labels directly in the `plt.legend()` call."
   ]
  },
  {
   "cell_type": "code",
   "execution_count": null,
   "metadata": {},
   "outputs": [],
   "source": [
    "print(f'Shape of x:{x.shape}.')\n",
    "print(f'Shape of y_mult:{y_mult.shape}.')\n",
    "plt.plot(x, y_mult)\n",
    "plt.legend(title='Offsets', labels=offsets)\n",
    "plt.show()"
   ]
  },
  {
   "cell_type": "markdown",
   "metadata": {},
   "source": [
    "If *x*- and *y*-coordinates are both provided as 2D arrays they need to have the same shape."
   ]
  },
  {
   "cell_type": "code",
   "execution_count": null,
   "metadata": {},
   "outputs": [],
   "source": [
    "x_mult = offsets + x[:,np.newaxis]\n",
    "\n",
    "print(f'Shape of x_mult:{x_mult.shape}.')\n",
    "print(f'Shape of y_mult:{y_mult.shape}.')\n",
    "plt.plot(x_mult, y_mult)\n",
    "plt.legend(title='Offsets', labels=offsets)\n",
    "plt.show()"
   ]
  },
  {
   "cell_type": "markdown",
   "metadata": {},
   "source": [
    "Matplotlib will attempt to place the legend so that it will not cover the data, but does not always succeed. Although it is possible to place the legend in an arbitrary position, simply using it the `loc`keyword can often provide a quick solution."
   ]
  },
  {
   "cell_type": "code",
   "execution_count": null,
   "metadata": {},
   "outputs": [],
   "source": [
    "for loc in ('upper left', 'center right'):\n",
    "    plt.plot(x, y, label='data')\n",
    "    plt.legend(loc=loc)\n",
    "    plt.show()"
   ]
  },
  {
   "cell_type": "markdown",
   "metadata": {},
   "source": [
    "As you have already seen Matplotlib will automatically cycle through colors so that different data sets are distinguishable. But it is also possible to specify line or marker color manually, and likewise with many other properties."
   ]
  },
  {
   "cell_type": "code",
   "execution_count": null,
   "metadata": {},
   "outputs": [],
   "source": [
    "for i, color, linestyle in zip(range(4), ('b', 'y', 'r', 'k'), ('-', '-.', ':', '--')):\n",
    "    plt.plot(x, y+5*i, color=color, linestyle=linestyle, label=i)\n",
    "plt.legend()\n",
    "plt.show()"
   ]
  },
  {
   "cell_type": "markdown",
   "metadata": {},
   "source": [
    "It is also possible to use a less verbose, though potentially more obscure specification."
   ]
  },
  {
   "cell_type": "code",
   "execution_count": null,
   "metadata": {},
   "outputs": [],
   "source": [
    "plt.plot(x, y, '*y')\n",
    "plt.show()"
   ]
  },
  {
   "cell_type": "markdown",
   "metadata": {},
   "source": [
    "The size of the figure can be changed."
   ]
  },
  {
   "cell_type": "code",
   "execution_count": null,
   "metadata": {},
   "outputs": [],
   "source": [
    "for i in (2,4,6):\n",
    "    plt.figure(figsize=(i,i))\n",
    "    plt.scatter(x,y)\n",
    "    plt.show()"
   ]
  },
  {
   "cell_type": "markdown",
   "metadata": {},
   "source": [
    "It is also possible to limit the range of data included."
   ]
  },
  {
   "cell_type": "code",
   "execution_count": null,
   "metadata": {},
   "outputs": [],
   "source": [
    "plt.plot(x,y)\n",
    "plt.xlim((1,3))\n",
    "plt.show()"
   ]
  },
  {
   "cell_type": "markdown",
   "metadata": {},
   "source": [
    "### Errorbars and confidence intervals\n",
    "\n",
    "Measured data is not perfectly well known at this uncertainty should be reflected on the plots. The uncertainties of discrete points can be represented with error bars. "
   ]
  },
  {
   "cell_type": "code",
   "execution_count": null,
   "metadata": {},
   "outputs": [],
   "source": [
    "# Only plot some of the data\n",
    "mask = np.arange(0, x.size, 10, dtype=int)\n",
    "# We set the errors in x to be constant and in y to scale with x\n",
    "plt.errorbar(x[mask], y[mask], xerr=.2, yerr=x[mask], marker='o', linestyle='')\n",
    "plt.show()"
   ]
  },
  {
   "cell_type": "markdown",
   "metadata": {},
   "source": [
    "It is quite common to have many estimates of *y* for every value of *x* where the uncertainty in *x* is much smaller than in *y*. It is then often a good idea to plot the mean of the *y* values for each *x* as a line and multiples of the standard deviations of *y* as a shaded region around the line to mark the confidence intervals."
   ]
  },
  {
   "cell_type": "code",
   "execution_count": null,
   "metadata": {},
   "outputs": [],
   "source": [
    "# Generate many random samples\n",
    "n_samples = 80\n",
    "errors = random_generator.standard_normal(n_samples*x.size).reshape(n_samples, x.size)\n",
    "errors *= np.linspace(.2, 2, x.size)\n",
    "y_mult = simple_function(x)+errors\n",
    "\n",
    "y_mean = np.mean(y_mult, axis=0)\n",
    "y_std = np.std(y_mult, axis=0, ddof=1)\n",
    "for i in range(1, 4):\n",
    "    plt.fill_between(x, y1=y_mean+i*y_std, y2=y_mean-i*y_std, alpha=.25-.05*i, color='b', label=rf'${i}\\sigma$')\n",
    "plt.plot(x, y_mean)\n",
    "plt.legend(title='Confidence intervals')\n",
    "plt.show()"
   ]
  },
  {
   "cell_type": "markdown",
   "metadata": {},
   "source": [
    "### Histograms\n",
    "\n",
    "Creating histograms is as straightforward as you might expect."
   ]
  },
  {
   "cell_type": "code",
   "execution_count": null,
   "metadata": {},
   "outputs": [],
   "source": [
    "plt.hist(y)\n",
    "plt.title('A histogram')\n",
    "plt.xlabel('y')\n",
    "plt.ylabel('Number of occurences in bins')\n",
    "plt.show()"
   ]
  },
  {
   "cell_type": "markdown",
   "metadata": {},
   "source": [
    "### Multidimensional data\n",
    "\n",
    "One option for displaying multidimensional data is to show it on multiple subplots. This is best achieved using `plt.subplots()` that gives us a grid of `Axes` objects that can be worked with individually."
   ]
  },
  {
   "cell_type": "code",
   "execution_count": null,
   "metadata": {},
   "outputs": [],
   "source": [
    "# Generate even more random data\n",
    "z = random_generator.standard_normal(x.size)\n",
    "\n",
    "fig, ax = plt.subplots(2, 2)\n",
    "\n",
    "ax[0,0].scatter(x, y)\n",
    "ax[0,0].set_xlabel('x')\n",
    "ax[0,0].set_ylabel('y')\n",
    "\n",
    "ax[0,1].scatter(z, y)\n",
    "ax[0,1].set_xlabel('z')\n",
    "ax[0,1].set_ylabel('y')\n",
    "\n",
    "ax[1,1].scatter(z, x)\n",
    "ax[1,1].set_xlabel('z')\n",
    "ax[1,1].set_ylabel('x')\n",
    "\n",
    "ax[1,0].remove()\n",
    "\n",
    "fig.tight_layout()\n",
    "plt.show()"
   ]
  },
  {
   "cell_type": "markdown",
   "metadata": {},
   "source": [
    "But it is also possible to convey multidimensional data in a single scatter plot by making the marker sizes dependent on the third variable."
   ]
  },
  {
   "cell_type": "code",
   "execution_count": null,
   "metadata": {},
   "outputs": [],
   "source": [
    "fig, ax = plt.subplots()\n",
    "scatter = ax.scatter(x, z, s=10*(y+5))\n",
    "ax.set_xlabel('x')\n",
    "ax.set_ylabel('z')\n",
    "plt.legend(*scatter.legend_elements(prop='sizes'), title=r'$10y+5$')\n",
    "plt.show()"
   ]
  },
  {
   "cell_type": "markdown",
   "metadata": {},
   "source": [
    "Unfortunately the legend covers the data and the datapoints also overlap. The plot below addresses these shortcomings."
   ]
  },
  {
   "cell_type": "code",
   "execution_count": null,
   "metadata": {},
   "outputs": [],
   "source": [
    "fig, ax = plt.subplots()\n",
    "scatter = ax.scatter(x, z, s=10*(y+5), alpha=0.5)\n",
    "ax.set_xlabel('x')\n",
    "ax.set_ylabel('z')\n",
    "plt.legend(*scatter.legend_elements(prop='sizes'), bbox_to_anchor=(1.02, 1), title=r'$10y+5$')\n",
    "plt.show()"
   ]
  },
  {
   "cell_type": "markdown",
   "metadata": {},
   "source": [
    "Another option would be to use color coding."
   ]
  },
  {
   "cell_type": "code",
   "execution_count": null,
   "metadata": {},
   "outputs": [],
   "source": [
    "plt.scatter(x, z, c=y)\n",
    "plt.xlabel('x')\n",
    "plt.ylabel('z')\n",
    "plt.colorbar(label='y')\n",
    "plt.show()"
   ]
  },
  {
   "cell_type": "markdown",
   "metadata": {},
   "source": [
    "### Multidimensional histograms\n",
    "\n",
    "It is also possible to create 2D histograms. We can choose between rectangular and hexagonal bins."
   ]
  },
  {
   "cell_type": "code",
   "execution_count": null,
   "metadata": {},
   "outputs": [],
   "source": [
    "plt.hist2d(x, y)\n",
    "plt.colorbar(label='Number of occurences in a bin')\n",
    "plt.show()\n",
    "\n",
    "plt.hexbin(x, y, gridsize=10)\n",
    "plt.colorbar(label='Number of occurences in a bin')\n",
    "plt.show()"
   ]
  },
  {
   "cell_type": "markdown",
   "metadata": {},
   "source": [
    "## Grids of data\n",
    "\n",
    "Often enough the data consists of values at points regularly placed on some 2D grid. A simple option for plotting such data is colored pixels in a image. "
   ]
  },
  {
   "cell_type": "code",
   "execution_count": null,
   "metadata": {},
   "outputs": [],
   "source": [
    "# Pixel width in x\n",
    "resolution = 1\n",
    "x = np.arange(-5, 5+resolution, resolution)\n",
    "y = 2*x\n",
    "# Create 2D arrays from x and y\n",
    "xx, yy = np.meshgrid(x, y)\n",
    "z = np.sqrt((xx-2)**2+(yy-4)**2)\n",
    "\n",
    "plt.imshow(z, interpolation=None, extent=(x[0], x[-1], y[0], y[-1]), origin='lower')\n",
    "plt.colorbar()\n",
    "plt.show()"
   ]
  },
  {
   "cell_type": "markdown",
   "metadata": {},
   "source": [
    "But sometimes it might be preferable to draw contour plots. The *x* and *y* coordinates can be given as 1D or 2D arrays."
   ]
  },
  {
   "cell_type": "code",
   "execution_count": null,
   "metadata": {},
   "outputs": [],
   "source": [
    "# Contour lines\n",
    "plt.contour(xx, yy, z)\n",
    "plt.colorbar()\n",
    "plt.gca().set_aspect('equal')\n",
    "plt.show()\n",
    "\n",
    "# Filled contours\n",
    "plt.contourf(x, y, z)\n",
    "plt.colorbar()\n",
    "plt.gca().set_aspect('equal')\n",
    "plt.show()\n",
    "\n",
    "# A mixture of both\n",
    "plt.contour(x, y, z, colors='k')\n",
    "plt.contourf(xx, yy, z)\n",
    "plt.colorbar()\n",
    "plt.gca().set_aspect('equal')\n",
    "plt.show()"
   ]
  },
  {
   "cell_type": "markdown",
   "metadata": {},
   "source": [
    "### Map projections\n",
    "\n",
    "So far we have made plots using a simple rectangular projections. If we are plotting objects on the sky then we might want to use a different projection. There are several map projections available, but somewhat inconveniently they are all geographic projections with north pointing up and east pointing right rather than astronomical projections with north pointing up and east pointing left.\n",
    "\n",
    "The plots below demonstrate how the Galactic midplane looks like in the different available projections. "
   ]
  },
  {
   "cell_type": "code",
   "execution_count": null,
   "metadata": {},
   "outputs": [],
   "source": [
    "from astropy import units as u\n",
    "from astropy.coordinates import SkyCoord, Galactic, ICRS\n",
    "\n",
    "# Generate points along the Galactic midplane and convert their coordinates to ICRS \n",
    "midplane = SkyCoord(frame=Galactic, l=np.arange(-180, 181)*u.deg, b=0*u.deg)\n",
    "midplane = midplane.transform_to(ICRS)\n",
    "\n",
    "for projection in ('rectilinear', 'aitoff', 'hammer', 'mollweide', 'lambert'):\n",
    "    plt.gca(projection=projection)\n",
    "    # Sadly we have to handle units explicitly here\n",
    "    plt.scatter((midplane.ra-180*u.deg).to(u.rad), midplane.dec.to(u.rad))\n",
    "    plt.title(projection.title())\n",
    "    plt.grid(True)\n",
    "    plt.show()"
   ]
  },
  {
   "cell_type": "markdown",
   "metadata": {},
   "source": [
    "## Astropy Quantity\n",
    "\n",
    "The following example illustrates how to use the Astropy Quantity class together with Matplotlib to ensure that the values on a plot are always in the units that the labels claim them to be in."
   ]
  },
  {
   "cell_type": "code",
   "execution_count": null,
   "metadata": {},
   "outputs": [],
   "source": [
    "from astropy.table import QTable\n",
    "\n",
    "# Create a QTable\n",
    "labels = ['Earth', 'Jupiter', 'Sun']\n",
    "m = [1*u.M_earth, 1*u.M_jupiter, 1*u.M_sun]\n",
    "r = [1*u.R_earth, 1*u.R_jupiter, 1*u.R_sun]\n",
    "astrodata = QTable((labels, m, r), names=['name', 'mass', 'radius'])\n",
    "astrodata['density'] = (astrodata['mass']/(4*np.pi/3*astrodata['radius']**3)).to(u.g/u.cm**3)\n",
    "\n",
    "# Plot the radii and masses with two different mass units\n",
    "for munit in (u.kg, u.M_earth):\n",
    "    astrodata['mass'] = astrodata['mass'].to(munit)\n",
    "    for elem in astrodata:\n",
    "        plt.loglog(elem['mass'], elem['radius'], 'o', label=elem['name'])\n",
    "    # Pay attention to the use of single and double quotation marks\n",
    "    plt.xlabel(f'Mass [{astrodata[\"mass\"].unit.to_string(\"latex\")}]')\n",
    "    plt.ylabel(f'Radius [{astrodata[\"radius\"].unit.to_string(\"latex\")}]')\n",
    "    plt.legend()\n",
    "    plt.show()\n",
    "    \n",
    "for str_format in ('latex', 'latex_inline'):\n",
    "    for elem in astrodata:\n",
    "        plt.semilogx(elem['mass'], elem['density'], 'o', label=elem['name'])\n",
    "    # Pay attention to the use of single and double quotation marks\n",
    "    plt.xlabel(f'Mass [{astrodata[\"mass\"].unit.to_string(str_format)}]')\n",
    "    plt.ylabel(f'Density [{astrodata[\"density\"].unit.to_string(str_format)}]')\n",
    "    plt.legend()\n",
    "    plt.show()"
   ]
  },
  {
   "cell_type": "markdown",
   "metadata": {},
   "source": [
    "## seaborn\n",
    "\n",
    "Although Matplotlib allows us to have a lot of control over what the plots will look like, it might not be the best tool for quickly producing plots of multidimensional data. In that case it might be preferable to use [seaborn](https://seaborn.pydata.org/). Because seaborn is built on top of Matplotlib it is possible to tweak seaborn plots with Matplotlib commands.\n",
    "\n",
    "Although seaborn is designed to work with [pandas](https://pandas.pydata.org/) DataFrames instead of Astropy Tables and QTables, the AstroPy `to_pandas()` function allows for quick conversion.\n",
    "\n",
    "Although the benefits of using seaborn are not necessarily apparent from the small example below, it can be very useful if the data set has many elements and dimensions."
   ]
  },
  {
   "cell_type": "code",
   "execution_count": null,
   "metadata": {},
   "outputs": [],
   "source": [
    "import pandas as pd\n",
    "import seaborn as sns\n",
    "\n",
    "# Convert the QTable to a DataFrame\n",
    "df = astrodata.to_pandas()\n",
    "\n",
    "sns.relplot(x='mass', y='radius', hue='density', style='name', data=df, s=200, palette='dark')\n",
    "# Use Matplotlib calls to convert axes to logarithmic scale\n",
    "plt.xscale('log')\n",
    "plt.yscale('log')"
   ]
  }
 ],
 "metadata": {
  "kernelspec": {
   "display_name": "Python 3",
   "language": "python",
   "name": "python3"
  },
  "language_info": {
   "codemirror_mode": {
    "name": "ipython",
    "version": 3
   },
   "file_extension": ".py",
   "mimetype": "text/x-python",
   "name": "python",
   "nbconvert_exporter": "python",
   "pygments_lexer": "ipython3",
   "version": "3.8.3"
  }
 },
 "nbformat": 4,
 "nbformat_minor": 2
}
