{
 "cells": [
  {
   "cell_type": "markdown",
   "metadata": {},
   "source": [
    "<img src=\"imgs/front.jpeg\" width=\"1400\">"
   ]
  },
  {
   "cell_type": "markdown",
   "metadata": {
    "slideshow": {
     "slide_type": "slide"
    }
   },
   "source": [
    "<h1><center> Where to get the lecture notes </center></h1>\n",
    "\n",
    "You can get copies of all the lecture files at my personal website. Go to:\n",
    "\n",
    "http://www.astro.lu.se/~mikkola/\n",
    "\n",
    "and click on **Teaching**\n",
    "\n",
    "\n",
    "Each lecture contains (as notebooks)\n",
    "- Manual \n",
    "- Exercises\n",
    "- Presentation\n",
    "\n",
    "---"
   ]
  },
  {
   "cell_type": "markdown",
   "metadata": {
    "slideshow": {
     "slide_type": "slide"
    }
   },
   "source": [
    "# Plotting in Python\n",
    "<br>\n",
    "<img src=\"imgs/matplotlib.png\" width=\"600\">\n",
    "\n",
    "> [Matplotlib](https://matplotlib.org) is a comprehensive library for creating static, animated, and interactive visualizations in Python.\n",
    "\n",
    "<br>\n",
    "<br>"
   ]
  },
  {
   "cell_type": "markdown",
   "metadata": {
    "slideshow": {
     "slide_type": "slide"
    }
   },
   "source": [
    "Most of what we do today will revolve around the sub-package `pyplot`. Typically we do:"
   ]
  },
  {
   "cell_type": "code",
   "execution_count": null,
   "metadata": {
    "slideshow": {
     "slide_type": "-"
    }
   },
   "outputs": [],
   "source": [
    "import matplotlib.pyplot as plt"
   ]
  },
  {
   "cell_type": "markdown",
   "metadata": {
    "slideshow": {
     "slide_type": "-"
    }
   },
   "source": [
    "Matplotlib is designed to be similar to MATLAB, so if you have ever used MATLAB you will feel familiar."
   ]
  },
  {
   "cell_type": "markdown",
   "metadata": {
    "slideshow": {
     "slide_type": "slide"
    }
   },
   "source": [
    "Matplotlib will let you graph your data on a *Figure*. That Figure contains one or more *Axes*. To explain this, let's consider the following illustration:\n",
    "\n",
    "<img src=\"imgs/anatomy.png\" width=\"900\" align=\"left\" style=\"margin: 0px 0px 0px 350px;\"/>\n",
    "\n"
   ]
  },
  {
   "cell_type": "markdown",
   "metadata": {
    "slideshow": {
     "slide_type": "slide"
    }
   },
   "source": [
    "<img src=\"imgs/anatomy.png\" width=\"900\" align=\"right\" style=\"margin: 0px 0px 0px 0px;\"/>\n",
    "\n",
    "#### <span style=\"color:red\">Figure</span>\n",
    "The entire plotted thing. Contains all child Axes. Think of it as a paper you will draw on.\n",
    "\n",
    "#### <span style=\"color:magenta\">Axes</span>\n",
    "This is the plot itself. You might have 2 Axes next to each other in a single figure. Contains 2 <span style=\"color:green\">*Axis*</span> objects, 3 for 3D plots.\n",
    "\n",
    "#### <span style=\"color:green\">Axis</span>\n",
    "Sets the graph limit. Takes care of ticks.\n",
    "\n",
    "#### <span style=\"color:blue\">Artist</span>\n",
    "Everything *on* the figure is typically an artist (including the <span style=\"color:red\">Figure</span>, <span style=\"color:magenta\">Axes</span>, and <span style=\"color:green\">*Axis*</span> objects)"
   ]
  },
  {
   "cell_type": "code",
   "execution_count": null,
   "metadata": {
    "slideshow": {
     "slide_type": "slide"
    }
   },
   "outputs": [],
   "source": [
    "import numpy as np\n",
    "\n",
    "x = np.linspace(-5, 5, 100)"
   ]
  },
  {
   "cell_type": "markdown",
   "metadata": {
    "slideshow": {
     "slide_type": "-"
    }
   },
   "source": [
    "You can either make your plots *Object Oriented* or with pyplot. \n",
    "#### Object oriented:"
   ]
  },
  {
   "cell_type": "code",
   "execution_count": null,
   "metadata": {
    "slideshow": {
     "slide_type": "-"
    }
   },
   "outputs": [],
   "source": [
    "fig, ax = plt.subplots()  # Create a figure and an axes.\n",
    "ax.plot(x, x**2, label='linear')        # Plot some data on the axes.\n",
    "ax.plot(x, 2*x**2, label='quadratic')   # Plot more data on the axes...\n",
    "ax.plot(x, 4*x**2, label='cubic')       # ... and some more.\n",
    "ax.set_xlabel('x label')                # Add a label to the x-axis.\n",
    "ax.set_ylabel('y label')                # Add a label to the y-axis.\n",
    "ax.set_title(\"Simple Plot\")             # Add a title.\n",
    "ax.legend()                             # Add a legend.\n",
    "plt.show()"
   ]
  },
  {
   "cell_type": "markdown",
   "metadata": {
    "slideshow": {
     "slide_type": "slide"
    }
   },
   "source": [
    "#### Pyplot (I prefer this)"
   ]
  },
  {
   "cell_type": "code",
   "execution_count": null,
   "metadata": {
    "scrolled": false,
    "slideshow": {
     "slide_type": "-"
    }
   },
   "outputs": [],
   "source": [
    "plt.figure()\n",
    "plt.plot(x, x**2, label='linear')\n",
    "plt.plot(x, 2*x**2, label='quadratic')\n",
    "plt.plot(x, 4*x**2, label='cubic')\n",
    "plt.xlabel('x label')\n",
    "plt.ylabel('y label')\n",
    "plt.title(\"Simple Plot\")\n",
    "plt.legend()\n",
    "plt.show()"
   ]
  },
  {
   "cell_type": "markdown",
   "metadata": {
    "slideshow": {
     "slide_type": "-"
    }
   },
   "source": [
    "These plots are a little hard to read. We would like to make some changes to our style. "
   ]
  },
  {
   "cell_type": "code",
   "execution_count": null,
   "metadata": {
    "slideshow": {
     "slide_type": "slide"
    }
   },
   "outputs": [],
   "source": [
    "plt.style.use('imgs/presentation.mplstyle')"
   ]
  },
  {
   "cell_type": "code",
   "execution_count": null,
   "metadata": {
    "slideshow": {
     "slide_type": "-"
    }
   },
   "outputs": [],
   "source": [
    "plt.figure()\n",
    "plt.plot(x, x**2, label='linear')\n",
    "plt.plot(x, 2*x**2, label='quadratic')\n",
    "plt.plot(x, 4*x**2, label='cubic')\n",
    "plt.xlabel('x label')\n",
    "plt.ylabel('y label')\n",
    "plt.title(\"Simple Plot\")\n",
    "plt.legend()\n",
    "plt.show()"
   ]
  },
  {
   "cell_type": "markdown",
   "metadata": {
    "slideshow": {
     "slide_type": "slide"
    }
   },
   "source": [
    "#### presentation.mplstyle\n",
    "<img src=\"imgs/stretch.png\" width=\"1.5\" align=\"left\" style=\"margin: 0px 0px 0px 0px;\"/>\n",
    "<p style=\"line-height:17px\">\n",
    "<code style=\"font-family;font-size:15pt;\">font.size            : </code><code style=\"color:green;font-size:15pt\">20         </code><br>\n",
    "<code style=\"font-family;font-size:15pt;\">axes.linewidth       : </code><code style=\"color:green;font-size:15pt\">1.2        </code><br>\n",
    "<code style=\"font-family;font-size:15pt;\">axes.grid            : </code><code style=\"color:green;font-size:15pt\">False      </code><br>\n",
    "<code style=\"font-family;font-size:15pt;\">axes.axisbelow       : </code><code style=\"color:green;font-size:15pt\">False      </code><br>\n",
    "<code style=\"font-family;font-size:15pt;\">figure.figsize       : </code><code style=\"color:green;font-size:15pt\">8.0, 6.0   </code><br>\n",
    "<code style=\"font-family;font-size:15pt;\">figure.frameon       : </code><code style=\"color:green;font-size:15pt\">True       </code><br>\n",
    "<code style=\"font-family;font-size:15pt;\">axes.labelsize       : </code><code style=\"color:green;font-size:15pt\">20         </code><br>\n",
    "<code style=\"font-family;font-size:15pt;\">xtick.labelsize      : </code><code style=\"color:green;font-size:15pt\">16         </code><br>\n",
    "<code style=\"font-family;font-size:15pt;\">xtick.direction      : </code><code style=\"color:green;font-size:15pt\">in         </code><br>\n",
    "<code style=\"font-family;font-size:15pt;\">xtick.top            : </code><code style=\"color:green;font-size:15pt\">True       </code><br>\n",
    "<code style=\"font-family;font-size:15pt;\">xtick.bottom         : </code><code style=\"color:green;font-size:15pt\">True       </code><br>\n",
    "<code style=\"font-family;font-size:15pt;\">xtick.major.size     : </code><code style=\"color:green;font-size:15pt\">7.5        </code><br>\n",
    "<code style=\"font-family;font-size:15pt;\">xtick.minor.size     : </code><code style=\"color:green;font-size:15pt\">3.5        </code><br>\n",
    "<code style=\"font-family;font-size:15pt;\">xtick.major.width    : </code><code style=\"color:green;font-size:15pt\">1          </code><br>\n",
    "<code style=\"font-family;font-size:15pt;\">xtick.minor.width    : </code><code style=\"color:green;font-size:15pt\">1          </code><br>\n",
    "<code style=\"font-family;font-size:15pt;\">xtick.minor.visible  : </code><code style=\"color:green;font-size:15pt\">True       </code><br>\n",
    "<code style=\"font-family;font-size:15pt;\">xtick.major.top      : </code><code style=\"color:green;font-size:15pt\">True       </code><br>\n",
    "<code style=\"font-family;font-size:15pt;\">xtick.major.bottom   : </code><code style=\"color:green;font-size:15pt\">True       </code><br>\n",
    "<code style=\"font-family;font-size:15pt;\">xtick.minor.top      : </code><code style=\"color:green;font-size:15pt\">True       </code><br>\n",
    "<code style=\"font-family;font-size:15pt;\">xtick.minor.bottom   : </code><code style=\"color:green;font-size:15pt\">True       </code><br>\n",
    "<code style=\"font-family;font-size:15pt;\">ytick.direction      : </code><code style=\"color:green;font-size:15pt\">in         </code><br>\n",
    "<code style=\"font-family;font-size:15pt;\">ytick.labelsize      : </code><code style=\"color:green;font-size:15pt\">16         </code><br>\n",
    "<code style=\"font-family;font-size:15pt;\">ytick.minor.visible  : </code><code style=\"color:green;font-size:15pt\">True       </code><br>\n",
    "<code style=\"font-family;font-size:15pt;\">ytick.major.right    : </code><code style=\"color:green;font-size:15pt\">True       </code><br>\n",
    "<code style=\"font-family;font-size:15pt;\">ytick.major.left     : </code><code style=\"color:green;font-size:15pt\">True       </code><br>\n",
    "<code style=\"font-family;font-size:15pt;\">ytick.minor.right    : </code><code style=\"color:green;font-size:15pt\">True       </code><br>\n",
    "<code style=\"font-family;font-size:15pt;\">ytick.minor.left     : </code><code style=\"color:green;font-size:15pt\">True       </code><br>\n",
    "<code style=\"font-family;font-size:15pt;\">ytick.right          : </code><code style=\"color:green;font-size:15pt\">True       </code><br>\n",
    "<code style=\"font-family;font-size:15pt;\">ytick.left           : </code><code style=\"color:green;font-size:15pt\">True       </code><br>\n",
    "<code style=\"font-family;font-size:15pt;\">ytick.major.size     : </code><code style=\"color:green;font-size:15pt\">7.5        </code><br>\n",
    "<code style=\"font-family;font-size:15pt;\">ytick.minor.size     : </code><code style=\"color:green;font-size:15pt\">3.5        </code><br>\n",
    "<code style=\"font-family;font-size:15pt;\">ytick.major.width    : </code><code style=\"color:green;font-size:15pt\">1          </code><br>\n",
    "<code style=\"font-family;font-size:15pt;\">ytick.minor.width    : </code><code style=\"color:green;font-size:15pt\">1          </code><br>\n",
    "</p>"
   ]
  },
  {
   "cell_type": "markdown",
   "metadata": {
    "slideshow": {
     "slide_type": "slide"
    }
   },
   "source": [
    "### Types of plots\n",
    "\n",
    "Generate some data to plot:"
   ]
  },
  {
   "cell_type": "code",
   "execution_count": null,
   "metadata": {
    "scrolled": true,
    "slideshow": {
     "slide_type": "-"
    }
   },
   "outputs": [],
   "source": [
    "x1 = np.random.normal(size=100)\n",
    "x2 = np.linspace(0,5,100)\n",
    "y2 = (x2**2) - x + np.random.normal(size=x2.size)\n",
    "\n",
    "x3, y3 = np.vstack((np.random.multivariate_normal(mean=[-3, 0], cov=[[0.5, 0], [0, 0.5]], size=40000),\\\n",
    "        +np.random.multivariate_normal(mean=[-1, 2], cov=[[1, 0], [0, 0.3]], size=20000), \\\n",
    "        +np.random.multivariate_normal(mean=[-3, 2], cov=[[0.7, 0], [0, 0.5]], size=40000))).T"
   ]
  },
  {
   "cell_type": "code",
   "execution_count": null,
   "metadata": {
    "scrolled": false,
    "slideshow": {
     "slide_type": "slide"
    }
   },
   "outputs": [],
   "source": [
    "def plots():\n",
    "    f, ax = plt.subplots(3,5, figsize=(18,12))\n",
    "    ax[0,2].set_title('1D')\n",
    "    ax[1,2].set_title('2D')\n",
    "    ax[2,2].set_title('3D')\n",
    "\n",
    "    ax[0,2].hist(x1)\n",
    "    ax[0,2].set_xlabel('Histogram')\n",
    "\n",
    "    ax[1,1].scatter(x2,y2)\n",
    "    ax[1,1].set_xlabel('Scatter')\n",
    "    ax[1,2].plot(x2,y2)\n",
    "    ax[1,2].set_xlabel('Line')\n",
    "    ax[1,3].plot(x2,y2,marker='.')\n",
    "    ax[1,3].set_xlabel('Mixed')\n",
    "\n",
    "    counts, x3_edges, y3_edges = np.histogram2d(x3,y3,bins=20)\n",
    "    ax[2,0].scatter(x3,y3,s=2,alpha=0.01)\n",
    "    ax[2,0].set_xlabel('Scatter 2D')\n",
    "    ax[2,1].hist2d(x3,y3,bins=20)\n",
    "    ax[2,1].set_xlabel('Histogram 2D')\n",
    "    ax[2,2].hexbin(x3,y3, gridsize=20)\n",
    "    ax[2,2].set(xlim=(x3.min(), x3.max()), ylim=(y3.min(), y3.max()))\n",
    "    ax[2,2].set_xlabel('Hexbin')\n",
    "    ax[2,3].contour((x3_edges[1:] + x3_edges[:-1])/2, (y3_edges[1:] + y3_edges[:-1])/2, counts.T)\n",
    "    ax[2,3].set_xlabel('Contour')\n",
    "    ax[2,4].contourf((x3_edges[1:] + x3_edges[:-1])/2, (y3_edges[1:] + y3_edges[:-1])/2, counts.T)\n",
    "    ax[2,4].set_xlabel('Contour filled')\n",
    "\n",
    "    ignore = [[0, 0], [0, 1], [0, 3], [0, 4], [1, 0], [1, 4]]\n",
    "    for i in range(3):\n",
    "        for j in range(5):\n",
    "            ax[i,j].set_xticks([])\n",
    "            ax[i,j].set_yticks([])\n",
    "            if [i,j] in ignore:\n",
    "                ax[i,j].axis('off')\n",
    "    plt.tight_layout(h_pad=1)\n",
    "    plt.show()\n",
    "    return"
   ]
  },
  {
   "cell_type": "code",
   "execution_count": null,
   "metadata": {
    "slideshow": {
     "slide_type": "slide"
    }
   },
   "outputs": [],
   "source": [
    "plots()"
   ]
  },
  {
   "cell_type": "markdown",
   "metadata": {
    "slideshow": {
     "slide_type": "slide"
    }
   },
   "source": [
    "#### Customizing a plot\n",
    "There are many ways of customizing a plot and you will have to find whatever works best for you. But making sure the plot looks good *is important*."
   ]
  },
  {
   "cell_type": "code",
   "execution_count": null,
   "metadata": {
    "slideshow": {
     "slide_type": "-"
    }
   },
   "outputs": [],
   "source": [
    "plt.figure(figsize=(6,6))\n",
    "x = np.random.uniform(0,10,size=200)\n",
    "y = np.random.uniform(0,10,size=200)\n",
    "plt.scatter(x,y,c='k')\n",
    "plt.show()"
   ]
  },
  {
   "cell_type": "code",
   "execution_count": null,
   "metadata": {
    "slideshow": {
     "slide_type": "slide"
    }
   },
   "outputs": [],
   "source": [
    "plt.figure(figsize=(10,8)) # Create the figure, here we specify the figure size\n",
    "\n",
    "plt.scatter(x,y,s=x*y**2, c=-y+x**2,cmap='hot',label='Log(x)') # Create the scatter plot, add colour by X, select cmap \"hot\" \n",
    "\n",
    "plt.xlabel('$x$ value')                                        # Add a label to the x-axis\n",
    "plt.xticks(ticks=[-1,3,7,11],                                  \n",
    "     labels=['$x_1$','$x_2$','$x_3$','$x_4$'])                 # Modify the ticklabels!\n",
    "\n",
    "plt.ylabel('$y$ value')                                        # Add a label to the y-axis\n",
    "\n",
    "plt.minorticks_on()                                            # Create small ticks between the big ones\n",
    "plt.tick_params(which='both',direction='inout')                # Modify the tickmarks to go in both directions\n",
    "plt.title('Plot of log($x$)')                                  # Add a title\n",
    "plt.legend(fancybox=True,loc='lower right')                    # Create a legend and specify its location\n",
    "\n",
    "cbar = plt.colorbar()                                          # Add a colorbar (We could also specify the mappable)\n",
    "cbar.set_label('Colobar label')                                # Here we create a label for the colorbar\n",
    "plt.gca().set_axisbelow(True)\n",
    "plt.grid()                                                     # Add a grid to the plot\n",
    "plt.box(True)                                                  # Activate/Deactivate the box around the plot\n",
    "plt.show()"
   ]
  },
  {
   "cell_type": "markdown",
   "metadata": {
    "slideshow": {
     "slide_type": "slide"
    }
   },
   "source": [
    "It isn't always easy to see what makes plots good. Let's talk about some bad ones.  \n",
    "What's wrong with this one?\n",
    "\n",
    "<center>\n",
    "    <img src=\"imgs/bad1.png\" width=\"1000\" align=\"middle\" style=\"margin: 0px 0px 0px 0px;\"/>\n",
    "</center>\n"
   ]
  },
  {
   "cell_type": "markdown",
   "metadata": {
    "slideshow": {
     "slide_type": "slide"
    }
   },
   "source": [
    "What's wrong with this figure?\n",
    "<center>\n",
    "    <img src=\"imgs/bad2.png\" width=\"1300\" align=\"middle\" style=\"margin: 0px 0px 0px 0px;\"/>\n",
    "</center>"
   ]
  },
  {
   "cell_type": "markdown",
   "metadata": {
    "slideshow": {
     "slide_type": "slide"
    }
   },
   "source": [
    "What's wrong with this figure?\n",
    "<center>\n",
    "    <img src=\"imgs/bad3.png\" width=\"900\" align=\"middle\" style=\"margin: 0px 0px 0px 0px;\"/>\n",
    "</center>"
   ]
  },
  {
   "cell_type": "markdown",
   "metadata": {
    "slideshow": {
     "slide_type": "slide"
    }
   },
   "source": [
    "What's wrong with this figure?\n",
    "<center>\n",
    "    <img src=\"imgs/bad4.png\" width=\"1000\" align=\"middle\" style=\"margin: 0px 0px 0px 0px;\"/>\n",
    "</center>"
   ]
  },
  {
   "cell_type": "markdown",
   "metadata": {
    "slideshow": {
     "slide_type": "slide"
    }
   },
   "source": [
    "What's wrong with this figure?\n",
    "<center>\n",
    "    <img src=\"imgs/bad5.png\" width=\"1300\" align=\"middle\" style=\"margin: 0px 0px 0px 0px;\"/>\n",
    "</center>"
   ]
  },
  {
   "cell_type": "markdown",
   "metadata": {
    "slideshow": {
     "slide_type": "slide"
    }
   },
   "source": [
    "What's wrong with this figure?\n",
    "<center>\n",
    "    <img src=\"imgs/bad6.png\" width=\"1900\" align=\"middle\" style=\"margin: 0px 0px 0px 0px;\"/>\n",
    "</center>"
   ]
  },
  {
   "cell_type": "markdown",
   "metadata": {
    "slideshow": {
     "slide_type": "fragment"
    }
   },
   "source": [
    "From: [Mikkola et al. 2020](https://ui.adsabs.harvard.edu/abs/2020MNRAS.495.3295M/abstract)"
   ]
  },
  {
   "cell_type": "markdown",
   "metadata": {
    "scrolled": false,
    "slideshow": {
     "slide_type": "slide"
    }
   },
   "source": [
    "### How to make your plots good in 10 rules:\n",
    "<p style=\"line-height:85px\">\n",
    "<span style=\"font-size:30pt;\">1. Know the purpose of your plot.</span><br>\n",
    "<span style=\"font-size:30pt;\">2. Make sure your plot is readable where you put it (final pdf or similar).</span><br>\n",
    "<span style=\"font-size:30pt;\">3. Captions are not optional. Captions are descriptive.</span><br>\n",
    "<span style=\"font-size:30pt;\">4. Never trust default settings. Default settings are good for any plot but best for none.</span><br>\n",
    "<span style=\"font-size:30pt;\">5. Use colors to your advantage. Don't overuse. </span><br>\n",
    "<span style=\"font-size:30pt;\">6. Don't mislead the reader. For example, lines through markers can imply a pattern.</span><br>\n",
    "<span style=\"font-size:30pt;\">7. Keep your plots from being too crowded. </span><br>\n",
    "<span style=\"font-size:30pt;\">8. Always include units.</span><br>\n",
    "<span style=\"font-size:30pt;\">9. Fontsize. Fontsize. <strong>Fontsize</strong>.</span><br>\n",
    "<span style=\"font-size:30pt;\">10. Find the right plot for what you're trying to show</span><br>\n",
    "</p>\n"
   ]
  },
  {
   "cell_type": "markdown",
   "metadata": {
    "slideshow": {
     "slide_type": "slide"
    }
   },
   "source": [
    "### Choosing [colormaps](https://matplotlib.org/tutorials/colors/colormaps.html#sphx-glr-tutorials-colors-colormaps-py)\n",
    "\n",
    "It is important to consider which colormap to use when presenting data as some choices will highlight your results more. When it comes to unveiling structure, you might also want to use a logarithmic colormap. [Matplotlib's default colormap.](https://cran.r-project.org/web/packages/viridis/vignettes/intro-to-viridis.html)\n",
    "\n",
    "<img src=\"imgs/colormaps.jpeg\" width=\"1900\">"
   ]
  },
  {
   "cell_type": "markdown",
   "metadata": {
    "slideshow": {
     "slide_type": "slide"
    }
   },
   "source": [
    "### Vector and raster images\n",
    "\n",
    "Vector images are defined as points that are connected with lines, whether straight or curved. When zoomed the image is 'redrawn'.\n",
    "\n",
    "Raster images are pixel arrays or bitmaps. Zooming makes the pixels larger and therefore more noticeable.\n",
    "<center>\n",
    "    <img src=\"imgs/vector_or_raster.jpeg\" width=\"1300\">\n",
    "</center>"
   ]
  },
  {
   "cell_type": "markdown",
   "metadata": {
    "slideshow": {
     "slide_type": "slide"
    }
   },
   "source": [
    "Always save your plots as vector images.\n",
    "\n",
    "**Common Formats**\n",
    "\n",
    "Vector images: *PDF, SVG, EPS*  \n",
    "\n",
    "Raster images: *JPEG, PNG, GIF*  \n",
    "\n",
    "If you have a lot of data points, the vector images can be cumbersome to work with. You can rasterize the plot but keep the axis elements vector. \n",
    "\n",
    "```python\n",
    "plt.plot(x, y, rasterized=True)\n",
    "plt.savefig('filename.pdf', format='pdf')\n",
    "```"
   ]
  },
  {
   "cell_type": "markdown",
   "metadata": {
    "slideshow": {
     "slide_type": "slide"
    }
   },
   "source": [
    "<h1><center> Exit questions </center></h1>\n",
    "<center>\n",
    "    <img src=\"imgs/bad6.png\" width=\"1300\">\n",
    "</center>"
   ]
  },
  {
   "cell_type": "markdown",
   "metadata": {
    "slideshow": {
     "slide_type": "slide"
    }
   },
   "source": [
    "# Now it's time to use the manual to solve the exercises. Good luck!"
   ]
  }
 ],
 "metadata": {
  "celltoolbar": "Slideshow",
  "kernelspec": {
   "display_name": "Python 3",
   "language": "python",
   "name": "python3"
  },
  "language_info": {
   "codemirror_mode": {
    "name": "ipython",
    "version": 3
   },
   "file_extension": ".py",
   "mimetype": "text/x-python",
   "name": "python",
   "nbconvert_exporter": "python",
   "pygments_lexer": "ipython3",
   "version": "3.8.3"
  }
 },
 "nbformat": 4,
 "nbformat_minor": 2
}
