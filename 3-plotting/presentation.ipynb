{
 "cells": [
  {
   "cell_type": "markdown",
   "metadata": {},
   "source": [
    "<img src=\"https://lund-observatory-teaching.github.io/lundpython/imgs/front_3.jpeg\" width=\"1400\">"
   ]
  },
  {
   "cell_type": "markdown",
   "metadata": {
    "slideshow": {
     "slide_type": "slide"
    }
   },
   "source": [
    "To download all lecture files and see the schedule, please visit:\n",
    "\n",
    "[lund-observatory-teaching.github.io/lundpython/](https://lund-observatory-teaching.github.io/lundpython/)\n",
    "\n",
    "Each lecture contains (as notebooks)\n",
    "- Manual \n",
    "- Exercises\n",
    "- Presentation\n",
    "\n",
    "---"
   ]
  },
  {
   "cell_type": "markdown",
   "metadata": {
    "slideshow": {
     "slide_type": "slide"
    }
   },
   "source": [
    "# Plotting in Python\n",
    "<br>\n",
    "<img src=\"https://lund-observatory-teaching.github.io/lundpython/imgs/matplotlib.png\" width=\"600\">\n",
    "\n",
    "> [Matplotlib](https://matplotlib.org) is a comprehensive library for creating static, animated, and interactive visualizations in Python.\n",
    "\n",
    "<br>\n",
    "<br>"
   ]
  },
  {
   "cell_type": "markdown",
   "metadata": {
    "slideshow": {
     "slide_type": "slide"
    }
   },
   "source": [
    "Most of what we do today will revolve around the sub-package `pyplot`. Typically we do:"
   ]
  },
  {
   "cell_type": "code",
   "execution_count": null,
   "metadata": {
    "slideshow": {
     "slide_type": "-"
    }
   },
   "outputs": [],
   "source": [
    "import matplotlib.pyplot as plt"
   ]
  },
  {
   "cell_type": "markdown",
   "metadata": {
    "slideshow": {
     "slide_type": "-"
    }
   },
   "source": [
    "`matplotlib` is designed to be similar to MATLAB, so if you have ever used MATLAB you will feel familiar."
   ]
  },
  {
   "cell_type": "markdown",
   "metadata": {
    "slideshow": {
     "slide_type": "slide"
    }
   },
   "source": [
    "`matplotlib` will let you graph your data on a `Figure`. That `Figure` contains one or more `Axes`. To explain this, let's consider the following illustration:\n",
    "\n",
    "<img src=\"https://lund-observatory-teaching.github.io/lundpython/imgs/anatomy.png\" width=\"900\" align=\"left\" style=\"margin: 0pt 0pt 0pt 250pt;\"/>\n",
    "\n"
   ]
  },
  {
   "cell_type": "markdown",
   "metadata": {
    "slideshow": {
     "slide_type": "slide"
    }
   },
   "source": [
    "<img src=\"https://lund-observatory-teaching.github.io/lundpython/imgs/anatomy.png\" width=\"900\" align=\"right\" style=\"margin: 0pt 0pt 0pt 0pt;\"/>\n",
    "\n",
    "#### <span style=\"color:red\">Figure</span>\n",
    "The entire plotted thing.\n",
    "Contains all child  <span style=\"color:magenta\">Axes</span>.\n",
    "Think of it as a paper you will draw on.\n",
    "\n",
    "#### <span style=\"color:magenta\">Axes</span>\n",
    "This is the plot itself.\n",
    "You might have 2 <span style=\"color:magenta\">Axes</span> next to each other in a single figure.\n",
    "Contains 2 <span style=\"color:green\">Axis</span> objects, 3 for 3D plots.\n",
    "\n",
    "#### <span style=\"color:green\">Axis</span>\n",
    "Sets the graph limit. Takes care of ticks.\n",
    "\n",
    "#### <span style=\"color:blue\">Artist</span>\n",
    "Everything *on* the figure is typically an artist (including the <span style=\"color:red\">Figure</span>, <span style=\"color:magenta\">Axes</span>, and <span style=\"color:green\">Axis</span> objects)"
   ]
  },
  {
   "cell_type": "code",
   "execution_count": null,
   "metadata": {
    "slideshow": {
     "slide_type": "slide"
    }
   },
   "outputs": [],
   "source": [
    "import numpy as np\n",
    "\n",
    "x = np.linspace(-5, 5, 100)"
   ]
  },
  {
   "cell_type": "markdown",
   "metadata": {
    "slideshow": {
     "slide_type": "-"
    }
   },
   "source": [
    "`matplotlib` allows plots to be made using [two different interfaces](https://matplotlib.org/stable/tutorials/introductory/usage.html?highlight=interface#the-object-oriented-interface-and-the-pyplot-interface).\n",
    "\n",
    "#### Object-oriented interface:\n",
    "\n",
    "This means explicitly creating all the `Figure` and `Axes` objects and calling their methods."
   ]
  },
  {
   "cell_type": "code",
   "execution_count": null,
   "metadata": {
    "slideshow": {
     "slide_type": "-"
    }
   },
   "outputs": [],
   "source": [
    "fig, ax = plt.subplots()  # Create a figure and an axes.\n",
    "ax.plot(x, x**2, label=\"linear\")  # Plot some data on the axes.\n",
    "ax.plot(x, 2 * x**2, label=\"quadratic\")  # Plot more data on the axes...\n",
    "ax.plot(x, 4 * x**2, label=\"cubic\")  # ... and some more.\n",
    "ax.set_xlabel(\"x label\")  # Add a label to the x-axis.\n",
    "ax.set_ylabel(\"y label\")  # Add a label to the y-axis.\n",
    "ax.set_title(\"Simple Plot\")  # Add a title.\n",
    "ax.legend()  # Add a legend.\n",
    "plt.show()"
   ]
  },
  {
   "cell_type": "markdown",
   "metadata": {
    "slideshow": {
     "slide_type": "slide"
    }
   },
   "source": [
    "#### Pyplot  interface:\n",
    "\n",
    "This means letting `pyplot` take care of managing `Figure` and `Axes` objects."
   ]
  },
  {
   "cell_type": "code",
   "execution_count": null,
   "metadata": {
    "scrolled": false,
    "slideshow": {
     "slide_type": "-"
    }
   },
   "outputs": [],
   "source": [
    "plt.figure()\n",
    "plt.plot(x, x**2, label=\"linear\")\n",
    "plt.plot(x, 2 * x**2, label=\"quadratic\")\n",
    "plt.plot(x, 4 * x**2, label=\"cubic\")\n",
    "plt.xlabel(\"x label\")\n",
    "plt.ylabel(\"y label\")\n",
    "plt.title(\"Simple Plot\")\n",
    "plt.legend()\n",
    "plt.show()"
   ]
  },
  {
   "cell_type": "markdown",
   "metadata": {
    "slideshow": {
     "slide_type": "-"
    }
   },
   "source": [
    "These plots are a little hard to read. We would like to make some changes to our style. "
   ]
  },
  {
   "cell_type": "code",
   "execution_count": null,
   "metadata": {
    "slideshow": {
     "slide_type": "slide"
    }
   },
   "outputs": [],
   "source": [
    "plt.style.use(\n",
    "    \"https://lund-observatory-teaching.github.io/lundpython/3-plotting/presentation.mplstyle\"\n",
    ")"
   ]
  },
  {
   "cell_type": "code",
   "execution_count": null,
   "metadata": {
    "slideshow": {
     "slide_type": "-"
    }
   },
   "outputs": [],
   "source": [
    "plt.figure()\n",
    "plt.plot(x, x**2, label=\"linear\")\n",
    "plt.plot(x, 2 * x**2, label=\"quadratic\")\n",
    "plt.plot(x, 4 * x**2, label=\"cubic\")\n",
    "plt.xlabel(\"x label\")\n",
    "plt.ylabel(\"y label\")\n",
    "plt.title(\"Simple Plot\")\n",
    "plt.legend()\n",
    "plt.show()"
   ]
  },
  {
   "cell_type": "markdown",
   "metadata": {
    "slideshow": {
     "slide_type": "slide"
    }
   },
   "source": [
    "### Types of plots\n",
    "\n",
    "Generate some data to plot:"
   ]
  },
  {
   "cell_type": "code",
   "execution_count": null,
   "metadata": {
    "scrolled": true,
    "slideshow": {
     "slide_type": "-"
    }
   },
   "outputs": [],
   "source": [
    "from numpy.random import default_rng\n",
    "\n",
    "rng = default_rng()\n",
    "\n",
    "x1 = rng.standard_normal(size=100)\n",
    "x2 = np.linspace(0, 5, 100)\n",
    "y2 = x2**2 - x + rng.standard_normal(size=x2.size)\n",
    "\n",
    "data3 = np.empty((100_000, 2))\n",
    "filled_index = 0\n",
    "for mean, cov, size in zip(\n",
    "    ([-3, 0], [-1, 2], [-3, 2]),\n",
    "    ([[0.5, 0], [0, 0.5]], [[1, 0], [0, 0.3]], [[0.7, 0], [0, 0.5]]),\n",
    "    ([40_000, 20_000, 40_000]),\n",
    "):\n",
    "    data3[filled_index : filled_index + size] = rng.multivariate_normal(\n",
    "        mean=mean, cov=cov, size=size\n",
    "    )\n",
    "    filled_index += size\n",
    "x3, y3 = data3.T"
   ]
  },
  {
   "cell_type": "code",
   "execution_count": null,
   "metadata": {
    "scrolled": false,
    "slideshow": {
     "slide_type": "slide"
    }
   },
   "outputs": [],
   "source": [
    "def plots():\n",
    "    f, ax = plt.subplots(3, 5, figsize=(18, 12))\n",
    "    ax[0, 2].set_title(\"1D\")\n",
    "    ax[1, 2].set_title(\"2D\")\n",
    "    ax[2, 2].set_title(\"3D\")\n",
    "\n",
    "    ax[0, 2].hist(x1)\n",
    "    ax[0, 2].set_xlabel(\"Histogram\")\n",
    "\n",
    "    ax[1, 1].scatter(x2, y2)\n",
    "    ax[1, 1].set_xlabel(\"Scatter\")\n",
    "    ax[1, 2].plot(x2, y2)\n",
    "    ax[1, 2].set_xlabel(\"Line\")\n",
    "    ax[1, 3].plot(x2, y2, marker=\".\")\n",
    "    ax[1, 3].set_xlabel(\"Mixed\")\n",
    "\n",
    "    counts, x3_edges, y3_edges = np.histogram2d(x3, y3, bins=20)\n",
    "    ax[2, 0].scatter(x3, y3, s=2, alpha=0.01)\n",
    "    ax[2, 0].set_xlabel(\"Scatter 2D\")\n",
    "    ax[2, 1].hist2d(x3, y3, bins=20)\n",
    "    ax[2, 1].set_xlabel(\"Histogram 2D\")\n",
    "    ax[2, 2].hexbin(x3, y3, gridsize=20)\n",
    "    ax[2, 2].set(xlim=(x3.min(), x3.max()), ylim=(y3.min(), y3.max()))\n",
    "    ax[2, 2].set_xlabel(\"Hexbin\")\n",
    "    ax[2, 3].contour(\n",
    "        (x3_edges[1:] + x3_edges[:-1]) / 2, (y3_edges[1:] + y3_edges[:-1]) / 2, counts.T\n",
    "    )\n",
    "    ax[2, 3].set_xlabel(\"Contour\")\n",
    "    ax[2, 4].contourf(\n",
    "        (x3_edges[1:] + x3_edges[:-1]) / 2, (y3_edges[1:] + y3_edges[:-1]) / 2, counts.T\n",
    "    )\n",
    "    ax[2, 4].set_xlabel(\"Contour filled\")\n",
    "\n",
    "    ignore = [[0, 0], [0, 1], [0, 3], [0, 4], [1, 0], [1, 4]]\n",
    "    for i in range(3):\n",
    "        for j in range(5):\n",
    "            ax[i, j].set_xticks([])\n",
    "            ax[i, j].set_yticks([])\n",
    "            if [i, j] in ignore:\n",
    "                ax[i, j].axis(\"off\")\n",
    "    plt.tight_layout(h_pad=1)\n",
    "    plt.show()\n",
    "    return"
   ]
  },
  {
   "cell_type": "code",
   "execution_count": null,
   "metadata": {
    "slideshow": {
     "slide_type": "slide"
    }
   },
   "outputs": [],
   "source": [
    "plots()"
   ]
  },
  {
   "cell_type": "markdown",
   "metadata": {
    "slideshow": {
     "slide_type": "slide"
    }
   },
   "source": [
    "#### Customizing a plot\n",
    "There are many ways of customizing a plot and you will have to find whatever works best for you. But making sure the plot looks good *is important*."
   ]
  },
  {
   "cell_type": "code",
   "execution_count": null,
   "metadata": {
    "slideshow": {
     "slide_type": "-"
    }
   },
   "outputs": [],
   "source": [
    "plt.figure(figsize=(6, 6))\n",
    "x = rng.uniform(0, 10, size=200)\n",
    "y = rng.uniform(0, 10, size=200)\n",
    "plt.scatter(x, y, c=\"k\")\n",
    "plt.show()"
   ]
  },
  {
   "cell_type": "code",
   "execution_count": null,
   "metadata": {
    "slideshow": {
     "slide_type": "slide"
    }
   },
   "outputs": [],
   "source": [
    "plt.figure(figsize=(10, 8))\n",
    "plt.scatter(x, y, s=x * y**2, c=-y + x**2, cmap=\"hot\", label=\"Log(x)\")\n",
    "plt.xlabel(\"$x$ value\")\n",
    "plt.xticks(ticks=range(-1, 12, 4), labels=[f\"$x_{i}$\" for i in range(1, 5)])\n",
    "plt.ylabel(\"$y$ value\")\n",
    "plt.minorticks_on()\n",
    "plt.tick_params(which=\"both\", direction=\"inout\")\n",
    "plt.title(\"Plot of log($x$)\")\n",
    "plt.legend(fancybox=True, loc=\"lower right\")\n",
    "plt.colorbar(label=\"Colobar label\")\n",
    "plt.gca().set_axisbelow(True)\n",
    "plt.grid()\n",
    "plt.show()"
   ]
  },
  {
   "cell_type": "markdown",
   "metadata": {
    "slideshow": {
     "slide_type": "slide"
    }
   },
   "source": [
    "It isn't always easy to see what makes plots good. Let's talk about some bad ones.  \n",
    "What's wrong with this one?\n",
    "\n",
    "<center>\n",
    "    <img src=\"https://lund-observatory-teaching.github.io/lundpython/imgs/bad1.png\" width=\"1000\" align=\"middle\" style=\"margin: 0pt 0pt 0pt 0pt;\"/>\n",
    "</center>\n"
   ]
  },
  {
   "cell_type": "markdown",
   "metadata": {
    "slideshow": {
     "slide_type": "slide"
    }
   },
   "source": [
    "What's wrong with this figure?\n",
    "<center>\n",
    "    <img src=\"https://lund-observatory-teaching.github.io/lundpython/imgs/bad2.png\" width=\"1300\" align=\"middle\" style=\"margin: 0pt 0pt 0pt 0pt;\"/>\n",
    "</center>"
   ]
  },
  {
   "cell_type": "markdown",
   "metadata": {
    "slideshow": {
     "slide_type": "slide"
    }
   },
   "source": [
    "<center>\n",
    "    <img src=\"https://lund-observatory-teaching.github.io/lundpython/imgs/bad3.png\" width=\"900\" align=\"middle\" style=\"margin: 0pt 0pt 0pt 0pt;\"/>\n",
    "</center>"
   ]
  },
  {
   "cell_type": "markdown",
   "metadata": {
    "slideshow": {
     "slide_type": "slide"
    }
   },
   "source": [
    "<center>\n",
    "    <img src=\"https://lund-observatory-teaching.github.io/lundpython/imgs/bad4.png\" width=\"1000\" align=\"middle\" style=\"margin: 0pt 0pt 0pt 0pt;\"/>\n",
    "</center>"
   ]
  },
  {
   "cell_type": "markdown",
   "metadata": {
    "slideshow": {
     "slide_type": "slide"
    }
   },
   "source": [
    "<center>\n",
    "    <img src=\"https://lund-observatory-teaching.github.io/lundpython/imgs/bad5.png\" width=\"1300\" align=\"middle\" style=\"margin: 0pt 0pt 0pt 0pt;\"/>\n",
    "</center>"
   ]
  },
  {
   "cell_type": "markdown",
   "metadata": {
    "slideshow": {
     "slide_type": "slide"
    }
   },
   "source": [
    "What's wrong with this figure?\n",
    "<center>\n",
    "    <img src=\"https://lund-observatory-teaching.github.io/lundpython/imgs/bad6.png\" width=\"1900\" align=\"middle\" style=\"margin: 0pt 0pt 0pt 0pt;\"/>\n",
    "</center>"
   ]
  },
  {
   "cell_type": "markdown",
   "metadata": {
    "slideshow": {
     "slide_type": "slide"
    }
   },
   "source": [
    "What makes this a good plot?\n",
    "<center>\n",
    "    <img src=\"https://s3.amazonaws.com/aasie/images/0004-637X/935/2/null/apjac7c74f4_hr.jpg\" width=\"1000\" align=\"middle\" style=\"margin: 10pt 10pt 10pt 10pt;\"/>\n",
    "</center>"
   ]
  },
  {
   "cell_type": "markdown",
   "metadata": {
    "slideshow": {
     "slide_type": "slide"
    }
   },
   "source": [
    "### Choosing [colormaps](https://matplotlib.org/stable/tutorials/colors/colormaps.html)\n",
    "\n",
    "It is important to consider which colormap to use when presenting data as some choices will highlight your results more. When it comes to unveiling structure, you might also want to use a logarithmic colormap. [Matplotlib's default colormap.](https://cran.r-project.org/web/packages/viridis/vignettes/intro-to-viridis.html)\n",
    "\n",
    "<img src=\"https://lund-observatory-teaching.github.io/lundpython/imgs/colormaps.jpeg\" width=\"1900\">"
   ]
  },
  {
   "cell_type": "markdown",
   "metadata": {
    "slideshow": {
     "slide_type": "slide"
    }
   },
   "source": [
    "### Vector and raster images\n",
    "\n",
    "Vector images are defined as points that are connected with lines, whether straight or curved. When zoomed the image is 'redrawn'.\n",
    "\n",
    "Raster images are pixel arrays or bitmaps. Zooming makes the pixels larger and therefore more noticeable.\n",
    "<center>\n",
    "    <img src=\"https://lund-observatory-teaching.github.io/lundpython/imgs/vector_or_raster.jpeg\" width=\"1300\">\n",
    "</center>"
   ]
  },
  {
   "cell_type": "markdown",
   "metadata": {
    "slideshow": {
     "slide_type": "slide"
    }
   },
   "source": [
    "Always prefer saving your plots as vector images.\n",
    "\n",
    "**Common Formats**\n",
    "\n",
    "Vector images: *PDF, SVG, EPS*  \n",
    "\n",
    "Raster images: *JPEG, PNG, GIF*  \n",
    "\n",
    "If you have a lot of data points, the vector images can be cumbersome to work with.\n",
    "You can rasterize the plot but keep the axis elements in vector format. \n",
    "\n",
    "```python\n",
    "plt.plot(x, y, rasterized=True)\n",
    "plt.savefig('filename.pdf', format='pdf')\n",
    "```"
   ]
  },
  {
   "cell_type": "markdown",
   "metadata": {
    "scrolled": false,
    "slideshow": {
     "slide_type": "slide"
    }
   },
   "source": [
    "### How to make your plots good in 10 rules:\n",
    "<p style=\"line-height:85px\">\n",
    "<span style=\"font-size:30pt;\">1. Know the purpose of your plot.</span><br>\n",
    "<span style=\"font-size:30pt;\">2. Make sure your plot is readable where you put it (final pdf or similar).</span><br>\n",
    "<span style=\"font-size:30pt;\">3. Captions are not optional. Captions are descriptive.</span><br>\n",
    "<span style=\"font-size:30pt;\">4. Never trust default settings. Default settings are good for any plot but best for none.</span><br>\n",
    "<span style=\"font-size:30pt;\">5. Use colors to your advantage. Don't overuse. </span><br>\n",
    "<span style=\"font-size:30pt;\">6. Don't mislead the reader. For example, lines through markers can imply a pattern.</span><br>\n",
    "<span style=\"font-size:30pt;\">7. Keep your plots from being too crowded. </span><br>\n",
    "<span style=\"font-size:30pt;\">8. Always include units.</span><br>\n",
    "<span style=\"font-size:30pt;\">9. Fontsize. Fontsize. <strong>Fontsize</strong>.</span><br>\n",
    "<span style=\"font-size:30pt;\">10. Find the right plot for what you're trying to show</span><br>\n",
    "</p>\n"
   ]
  },
  {
   "cell_type": "markdown",
   "metadata": {
    "slideshow": {
     "slide_type": "slide"
    }
   },
   "source": [
    "# Go to www.menti.com and enter code: xxxx xxxx\n",
    "\n",
    "### Exit question 1: The x-label is part of the\n",
    "\n",
    "$\\quad$<b>A)</b> Axes<br>\n",
    "$\\quad$<b>B)</b> Artist<br>\n",
    "$\\quad$<b>C)</b> Figure<br>\n",
    "$\\quad$<b>D)</b> Axis\n"
   ]
  },
  {
   "cell_type": "markdown",
   "metadata": {
    "slideshow": {
     "slide_type": "fragment"
    }
   },
   "source": [
    "Correct answer: B & D"
   ]
  },
  {
   "cell_type": "markdown",
   "metadata": {
    "slideshow": {
     "slide_type": "slide"
    }
   },
   "source": [
    "### Exit question 2: The best improvement of the plot (see screen) would be...\n",
    "<center>\n",
    "    <img src=\"https://lund-observatory-teaching.github.io/lundpython/imgs/bad6.png\" width=\"1300\">\n",
    "</center>\n",
    "$\\quad$<b>A)</b> adding lines to connect the points.<br>\n",
    "$\\quad$<b>B)</b> fitting a curve through the values.<br>\n",
    "$\\quad$<b>C)</b> putting the x,y-labels and ticks on all three plots.<br>\n",
    "$\\quad$<b>D)</b> including a legend.\n"
   ]
  },
  {
   "cell_type": "markdown",
   "metadata": {
    "slideshow": {
     "slide_type": "fragment"
    }
   },
   "source": [
    "Correct answer: A & B??"
   ]
  },
  {
   "cell_type": "markdown",
   "metadata": {
    "slideshow": {
     "slide_type": "slide"
    }
   },
   "source": [
    "### Exit question 3: Mark the correct statements.\n",
    "\n",
    "$\\quad$<b>A)</b> Matplotlib's design is based on MATLAB.<br>\n",
    "$\\quad$<b>B)</b> Figures should always be entirely in vector format.<br>\n",
    "$\\quad$<b>C)</b> The default settings of Matplotlib give the optimal plot.<br>\n",
    "$\\quad$<b>D)</b> Matplotlib's default colormap Viridis is considerate of colour-blindness."
   ]
  },
  {
   "cell_type": "markdown",
   "metadata": {
    "slideshow": {
     "slide_type": "fragment"
    }
   },
   "source": [
    "Correct answer: A & D"
   ]
  },
  {
   "cell_type": "markdown",
   "metadata": {
    "slideshow": {
     "slide_type": "slide"
    }
   },
   "source": [
    "# Now it's time to use the manual to solve the exercises. Good luck!"
   ]
  }
 ],
 "metadata": {
  "celltoolbar": "Slideshow",
  "kernelspec": {
   "display_name": "Python 3 (ipykernel)",
   "language": "python",
   "name": "python3"
  },
  "language_info": {
   "codemirror_mode": {
    "name": "ipython",
    "version": 3
   },
   "file_extension": ".py",
   "mimetype": "text/x-python",
   "name": "python",
   "nbconvert_exporter": "python",
   "pygments_lexer": "ipython3",
   "version": "3.8.13"
  }
 },
 "nbformat": 4,
 "nbformat_minor": 2
}
