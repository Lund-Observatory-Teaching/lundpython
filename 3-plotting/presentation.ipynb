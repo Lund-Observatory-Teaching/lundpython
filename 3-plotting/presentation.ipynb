{
 "cells": [
  {
   "cell_type": "code",
   "execution_count": null,
   "metadata": {},
   "outputs": [],
   "source": [
    "from timeit import default_timer as timed\n",
    "import matplotlib.pyplot as plt\n",
    "import numpy as np\n",
    "colors = plt.rcParams['axes.prop_cycle'].by_key()['color'];\n",
    "plt.rcParams.update({'font.size'           : 20, \n",
    "                     'axes.linewidth'      : 1.2,\n",
    "                     'axes.grid'           : False,\n",
    "                     'axes.axisbelow'      : False,\n",
    "                     'figure.figsize'      : [6, 6],\n",
    "                     'figure.frameon'      : True, \n",
    "                     'axes.labelsize'      : 20,\n",
    "                     'xtick.labelsize'     : 16,\n",
    "                     'xtick.direction'     :'in',\n",
    "                     'xtick.top'           : True,\n",
    "                     'xtick.bottom'        : True,\n",
    "                     'xtick.major.size'    : 7.5,\n",
    "                     'xtick.minor.size'    : 3.5,\n",
    "                     'xtick.major.width'   : 1,\n",
    "                     'xtick.minor.width'   : 1,   \n",
    "                     'xtick.minor.visible' : True,\n",
    "                     'xtick.major.top'     : True,\n",
    "                     'xtick.major.bottom'  : True,\n",
    "                     'xtick.minor.top'     : True,\n",
    "                     'xtick.minor.bottom'  : True,\n",
    "                     'ytick.direction'     :'in',\n",
    "                     'ytick.labelsize'     : 16,\n",
    "                     'ytick.minor.visible' : True,\n",
    "                     'ytick.major.right'   : True,\n",
    "                     'ytick.major.left'    : True,\n",
    "                     'ytick.minor.right'   : True,\n",
    "                     'ytick.minor.left'    : True,\n",
    "                     'ytick.right'         : True,\n",
    "                     'ytick.left'          : True,\n",
    "                     'ytick.major.size'    : 7.5,\n",
    "                     'ytick.minor.size'    : 3.5,\n",
    "                     'ytick.major.width'   : 1,\n",
    "                     'ytick.minor.width'   : 1,\n",
    "                    })"
   ]
  },
  {
   "cell_type": "markdown",
   "metadata": {},
   "source": [
    "<img src=\"front3.jpeg\" width=\"1000\">"
   ]
  },
  {
   "cell_type": "markdown",
   "metadata": {},
   "source": [
    "<h1><center> The course </center></h1>\n",
    "\n",
    "#### Prior lecturers - Daniel Carrera, Brian Thorsbro\n",
    "<br>\n",
    "<br>\n",
    "\n",
    "### This lecture is a mini-series companion to: \n",
    "\n",
    "**ASTM13**: Dynamical Astronomy\n",
    "\n",
    "**ASTM21**: Statistical tools in astrophysics\n",
    "<br>\n",
    "<br>\n",
    "<br>\n",
    "#### You will need to install python. Personal laptops are okay!\n",
    "<br>\n",
    "<br>\n",
    "\n",
    "## Todays's Lecture\n",
    "#### 10.15 - 11.00  Lecture (Cassiopeia)\n",
    "#### 11.00 - 12.00  Lab (Lyra)"
   ]
  },
  {
   "cell_type": "markdown",
   "metadata": {},
   "source": [
    "\n",
    "# Where to get the lecture notes\n",
    "\n",
    "You can get copies of all the lecture files at:\n",
    "\n",
    "* http://www.astro.lu.se/~mikkola/lecture1.zip\n",
    "\n",
    "* http://www.astro.lu.se/~mikkola/lecture2.zip\n",
    "\n",
    "* http://www.astro.lu.se/~mikkola/lecture3.zip\n",
    "\n",
    "----------------------------------------\n",
    "\n",
    "<h1><center> Python (3!) + SPYDER </center></h1>\n",
    "\n",
    "# [https://www.anaconda.com/download/](https://www.anaconda.com/download/)\n",
    "<img src=\"spyder.png\" width=\"1000\">\n",
    "\n",
    "<h1><center> Jupyter Notebook </center></h1>\n",
    "<h2><center> It's what you're looking at </center></h2>\n",
    "\n",
    "\n"
   ]
  },
  {
   "cell_type": "markdown",
   "metadata": {},
   "source": [
    "# Installing python packages\n",
    "\n",
    "Sometimes there will be a package that you cannot find within the libraries/packages included within anaconda. You first attempt should be to open a terminal and use `conda` to install it \n",
    "\n",
    "## Mac/Linux:\n",
    "On mac, launch \"Terminal\" from the launchpad. On Linux, open a terminal. Now you can try to install with conda\n",
    "\n",
    "````\n",
    "    > conda install SuperCoolPackage1337 \n",
    "````\n",
    "\n",
    "If conda does not have the package it's likely that you will have to use **PIP**, (<b>P</b>IP <b>I</b>nstalls <b>P</b>ackages). PIP comes with anaconda:\n",
    "\n",
    "````\n",
    "    > pip install SuperCoolPackage1337 \n",
    "    > pip3 install SuperCoolPackage1337 \n",
    "````\n",
    "\n",
    "## Windows:\n",
    "Open start menu and search for \"Anaconda Prompt\"\n",
    "\n",
    "````\n",
    "    > pip install SuperCoolPackage1337 \n",
    "    > pip3 install SuperCoolPackage1337 \n",
    "````\n",
    "\n",
    "Let's try and install a package!"
   ]
  },
  {
   "cell_type": "code",
   "execution_count": null,
   "metadata": {},
   "outputs": [],
   "source": [
    "import os\n",
    "os.system(\"open -a Terminal .\")\n",
    "\n",
    "# [thug-memes] thug programmer.jpg 'WHEN YOUR CODE COMPILES DIRECTLY' 'WITHOUT ERRORS'"
   ]
  },
  {
   "cell_type": "markdown",
   "metadata": {},
   "source": [
    "# Advanced plotting\n",
    "#### one of the most important things about programming with some sort of data is knowing how to properly present it. \n",
    "\n",
    "<img src=\"anatomy1.png\" width=\"600\">\n",
    "\n",
    "There are a great deal of things we can use within different plot functions to modify the different above items. Some of the options exist within the plot itself as we have seen before:"
   ]
  },
  {
   "cell_type": "code",
   "execution_count": null,
   "metadata": {},
   "outputs": [],
   "source": [
    "import numpy as np\n",
    "import matplotlib.pyplot as plt\n",
    "\n",
    "# Read from the file into the array data(:,:)\n",
    "data = np.loadtxt('galaxy.txt')\n",
    "\n",
    "x    = data[:, 1] # (kpc) Position in x.\n",
    "y    = data[:, 2] # (kpc) Position in y.\n",
    "z    = data[:, 3] # (kpc) Position in z.\n",
    "vx   = data[:, 4] # (km/s) Velocity in x.\n",
    "vy   = data[:, 5] # (km/s) Velocity in y.\n",
    "vz   = data[:, 6] # (km/s) Velocity in z.\n",
    "R    = data[:, 7] # (kpc) Radius"
   ]
  },
  {
   "cell_type": "code",
   "execution_count": null,
   "metadata": {},
   "outputs": [],
   "source": [
    "plt.hist(R,50)\n",
    "plt.show()"
   ]
  },
  {
   "cell_type": "markdown",
   "metadata": {},
   "source": [
    "<img src=\"help.png\" width=\"1000\">\n",
    "\n",
    "There are a ton of options inside matplotlib to help make your plots presentable! Let's use a few different options for `plt.plot()`"
   ]
  },
  {
   "cell_type": "code",
   "execution_count": null,
   "metadata": {
    "scrolled": false
   },
   "outputs": [],
   "source": [
    "X = np.linspace(0.1,4,100)\n",
    "Y = np.log10(X)\n",
    "\n",
    "plt.figure()\n",
    "plt.plot(X,Y,'k')\n",
    "plt.plot(X+2,Y,'k',linewidth=5,label=\"Nothing\")\n",
    "plt.plot(X+4,Y,'r',linestyle='--')\n",
    "plt.plot(X+6,Y,'k',linestyle='-.')\n",
    "plt.plot(X+8,Y,'k',marker='o')\n",
    "plt.plot(X+10,Y,'k',marker='d',linestyle='none',markersize=20,markeredgecolor='k',\n",
    "         markerfacecolor='none',markeredgewidth=0.5)\n",
    "plt.legend()\n",
    "plt.show()"
   ]
  },
  {
   "cell_type": "markdown",
   "metadata": {},
   "source": [
    "In the first lecture, we made a scatter plot out of our circular velocity data and then we binned and added a colorbar. We are now going to revisit the scatter function using to demonstrate how we can change the axes along with the data"
   ]
  },
  {
   "cell_type": "code",
   "execution_count": null,
   "metadata": {},
   "outputs": [],
   "source": [
    "plt.figure(figsize=(6,6))\n",
    "X = np.random.uniform(0,10,size=200)\n",
    "Y = np.random.uniform(0,10,size=200)\n",
    "plt.scatter(X,Y,c='k')"
   ]
  },
  {
   "cell_type": "markdown",
   "metadata": {},
   "source": [
    "Now for a demonstration in some things that we could potentially change"
   ]
  },
  {
   "cell_type": "code",
   "execution_count": null,
   "metadata": {
    "scrolled": false
   },
   "outputs": [],
   "source": [
    "plt.figure(figsize=(10,8)) # Create the figure, here we specify the figure size\n",
    "\n",
    "plt.scatter(X,Y,c=X,cmap='hot',label='Log(x)') # Create the scatter plot, add colour by X, select cmap \"hot\" \n",
    "                                               # add label \"Log(x)\"\n",
    "\n",
    "    # Here we modify the x-axis\n",
    "plt.xlabel('x value')                          # Add a label to the x-axis\n",
    "plt.xlim(-1,11)                                # Set limits\n",
    "plt.xticks(ticks=[-1,3,7,11],                  #\n",
    "     labels=['$x_1$','$x_2$','$x_3$','$x_4$']) # Modify the ticklabels!\n",
    "\n",
    "    # Here we modify the y-axis\n",
    "plt.ylabel('y value')                          # Add a label to the y-axis\n",
    "plt.ylim(-1,11)                                # Set limits\n",
    "\n",
    "    # Other things\n",
    "plt.minorticks_on()                            # Create small ticks between the big ones\n",
    "plt.tick_params(which='both',direction='inout')# We modify the tickmarks to go in both directions\n",
    "plt.title(\"Plot of log(x)\")                    # We add a title\n",
    "plt.legend(fancybox=True,loc='lower right')    # We create a legend and specify its location\n",
    "\n",
    "cbar = plt.colorbar()                          # We add a colorbar (We could also specify the mappable)\n",
    "cbar.set_label('Colobar label')                # Here we create a label for the colorbar\n",
    "\n",
    "plt.grid()                                     # Add a grid to the plot\n",
    "plt.box(False)                                  # Activate/Deactivate the box around the plot\n",
    "\n",
    "plt.show()"
   ]
  },
  {
   "cell_type": "markdown",
   "metadata": {},
   "source": [
    "I think now we should take a look at my rcParams!\n",
    "\n",
    "\n",
    "# Subplots\n",
    "\n",
    "Relatively often you will want to make several plots within one figure. This is done using subplots. There are two ways of doing this in python. Alternative A is:\n",
    "\n",
    "````\n",
    "plt.subplot(211)\n",
    "plt.plot()\n",
    "\n",
    "plt.subplot(212)\n",
    "plt.plot()\n",
    "````\n",
    "\n",
    "And alternative B is:\n",
    "\n",
    "````\n",
    "f,ax = plt.subplots(2,1,figsize=(15,15))\n",
    "ax[0].plot()\n",
    "ax[1].plot()\n",
    "\n",
    "f,ax = plt.subplots(2,2,figsize=(15,15))\n",
    "ax[0,0].plot()\n",
    "ax[0,1].plot()\n",
    "ax[1,0].plot()\n",
    "ax[1,1].plot()\n",
    "````\n",
    "\n",
    "And alternative B comes with some different syntaxes that we will see soon. This is because you *should* use alternative B. \n",
    "\n",
    "However I can't stop you if you use alternative A. \n",
    "\n",
    "Let's create a 1x3 subplot."
   ]
  },
  {
   "cell_type": "code",
   "execution_count": null,
   "metadata": {
    "scrolled": true
   },
   "outputs": [],
   "source": [
    "f,ax = plt.subplots(1,3,figsize=(15,5))\n",
    "plt.tight_layout()"
   ]
  },
  {
   "cell_type": "markdown",
   "metadata": {},
   "source": [
    "Now let us recreate our scatterplot from above!"
   ]
  },
  {
   "cell_type": "code",
   "execution_count": null,
   "metadata": {
    "scrolled": false
   },
   "outputs": [],
   "source": [
    "X = np.random.uniform(0,10,size=200)\n",
    "Y = np.random.uniform(0,10,size=200)\n",
    "plt.figure()\n",
    "plt.scatter(X,Y,c='k')\n",
    "plt.xlabel('x value')\n",
    "plt.ylabel('y value')\n",
    "plt.xlim(0,10)\n",
    "plt.ylim(0,10)\n",
    "plt.title(\"Plot of log(x)\")\n",
    "plt.legend()\n",
    "\n",
    "f,ax = plt.subplots(1,1)\n",
    "ax.scatter(X,Y,c='k')\n",
    "ax.set_xlabel('x value')\n",
    "ax.set_ylabel('y value')\n",
    "ax.set_xlim(0,10)\n",
    "ax.set_ylim(0,10)\n",
    "ax.set_title(\"Plot of log(x)\")\n",
    "ax.legend()\n",
    "\n",
    "plt.show()"
   ]
  },
  {
   "cell_type": "markdown",
   "metadata": {},
   "source": [
    "Your exercise for today, will be to to recreate the following figure:\n",
    "\n",
    "<img src=\"endresult.png\" width=\"600\">\n",
    "\n",
    "This plot the U & V velocity in a 2D histogram for six different angular bins in our `galaxy.txt` file! By now you might have heard of U, V, W velocities:\n",
    "\n",
    "<img src=\"gal.png\" width=\"600\">"
   ]
  },
  {
   "cell_type": "markdown",
   "metadata": {},
   "source": [
    "# Other neat things\n",
    "\n",
    "There are some other things worth exploring. For example, how to use errorbars!"
   ]
  },
  {
   "cell_type": "code",
   "execution_count": null,
   "metadata": {
    "scrolled": false
   },
   "outputs": [],
   "source": [
    "X = np.random.uniform(size=10)\n",
    "Y = np.random.uniform(size=10)\n",
    "xe = np.random.uniform(size=len(X))/5\n",
    "ye = np.random.uniform(size=len(Y))/5\n",
    "\n",
    "plt.errorbar(X,Y,xerr=xe,yerr=ye,linestyle='none',color='k',capsize=4,linewidth=1)\n",
    "plt.show()"
   ]
  },
  {
   "cell_type": "markdown",
   "metadata": {},
   "source": [
    "### Choosing colourmaps\n",
    "\n",
    "It is important to consider which colourmap to use when presenting data as some choices will highlight your results more. When it comes to unveiling structure, you might also want to use a logarithmic colourmap."
   ]
  },
  {
   "cell_type": "code",
   "execution_count": null,
   "metadata": {},
   "outputs": [],
   "source": [
    "# Read from the file into the array data(:,:)\n",
    "data = np.loadtxt('galaxy.txt')\n",
    "# Column indices.\n",
    "comp  = data[:, 0] # (---) Comp type (0=Bulge, 1=Disc).\n",
    "x    = data[:, 1] # (kpc) Position in x.\n",
    "y    = data[:, 2] # (kpc) Position in y.\n",
    "z    = data[:, 3] # (kpc) Position in z.\n",
    "vx   = data[:, 4] # (km/s) Velocity in x.\n",
    "vy   = data[:, 5] # (km/s) Velocity in y.\n",
    "vz   = data[:, 6] # (km/s) Velocity in z.\n",
    "R   = data[:, 7] # (kpc) Radius.\n",
    "\n",
    "U = -(x*vx + y*vy)/R\n",
    "V = (x*vy - y*vx)/R"
   ]
  },
  {
   "cell_type": "code",
   "execution_count": null,
   "metadata": {
    "scrolled": false
   },
   "outputs": [],
   "source": [
    "from matplotlib.colors import LogNorm                          # Import a package to get logarithm of colourmap\n",
    "\n",
    "f,(ax1,ax2,ax3) = plt.subplots(1,3,figsize=(15,5),sharey=True) # Create a subplot with three different axes\n",
    "\n",
    "ax1.hist2d(U,V,bins=300)                                       # A normal 2D histogram och U & V\n",
    "ax2.hist2d(U,V,bins=300,norm=LogNorm())                        # A logarithmic 2D histogram of U & V\n",
    "den = ax3.hist2d(U,V,bins=300,norm=LogNorm(),cmap='PuRd')      # The same figure with a different colour map\n",
    "plt.colorbar(den[3])                                           # Adding a colourbar\n",
    "plt.show()\n"
   ]
  },
  {
   "cell_type": "markdown",
   "metadata": {},
   "source": [
    "### https://matplotlib.org/3.1.0/tutorials/colors/colormaps.html\n",
    "### Google \"Matploblib cmap\"\n",
    "\n",
    "<img src=\"cmap.png\" width=\"400\">"
   ]
  },
  {
   "cell_type": "markdown",
   "metadata": {},
   "source": [
    "# That's it!\n",
    "<br>\n",
    "<br>\n",
    "<br>\n",
    "<br>\n",
    "<br>\n",
    "<br>\n",
    "<br>\n",
    "<br>\n",
    "<br>\n",
    "<br>\n",
    "<br>\n",
    "<br>\n",
    "<br>\n",
    "<br>\n",
    "<br>\n",
    "<br>\n",
    "<br>\n",
    "<br>\n",
    "<br>\n",
    "<br>\n",
    "<br>\n",
    "<br>\n",
    "<br>\n",
    "<br>\n",
    "<br>\n",
    "<br>\n",
    "<br>\n",
    "\n",
    "\n"
   ]
  },
  {
   "cell_type": "code",
   "execution_count": null,
   "metadata": {},
   "outputs": [],
   "source": []
  },
  {
   "cell_type": "code",
   "execution_count": null,
   "metadata": {},
   "outputs": [],
   "source": [
    "from matplotlib.colors import LogNorm\n",
    "f,ax = plt.subplots(3,3,figsize=(15,15),sharex=True,sharey=True)\n",
    "\n",
    "### Plot 1 ###\n",
    "ax[0,0].hist2d([],[],bins=50,)\n",
    "ax[0,0].set_ylabel('V [km/s]')\n",
    "\n",
    "### Plot 2 ###\n",
    "ax[0,1].hist2d([],[],bins=50,norm=LogNorm())\n",
    "\n",
    "### Plot 3 ###\n",
    "ax[0,2].hist2d([],[],bins=50,norm=LogNorm())\n",
    "\n",
    "ax[1,0].axis('off')\n",
    "\n",
    "### Plot 4 ###\n",
    "ax[1,1].hist2d([],[],bins=50,norm=LogNorm())\n",
    "\n",
    "### Plot 5 ###\n",
    "ax[1,2].hist2d([],[],bins=50,norm=LogNorm())\n",
    "\n",
    "ax[2,0].axis('off')\n",
    "\n",
    "ax[2,1].axis('off')\n",
    "\n",
    "### Plot 6 ###\n",
    "ax[2,2].hist2d([],[],bins=50,norm=LogNorm())\n",
    "ax[2,2].set_xlabel('U [km/s]')\n",
    "for i in range(3):\n",
    "    for j in range(3):\n",
    "        if j >= i:\n",
    "            ax[i,j].set_xticks(np.arange(-500,501,250))\n",
    "            ax[i,j].set_yticks(np.arange(-500,501,250))\n",
    "plt.tight_layout()"
   ]
  },
  {
   "cell_type": "code",
   "execution_count": null,
   "metadata": {},
   "outputs": [],
   "source": [
    "f,ax = plt.subplots(1,2)\n",
    "plt.show()"
   ]
  },
  {
   "cell_type": "code",
   "execution_count": null,
   "metadata": {},
   "outputs": [],
   "source": []
  },
  {
   "cell_type": "code",
   "execution_count": null,
   "metadata": {},
   "outputs": [],
   "source": [
    "ddd"
   ]
  },
  {
   "cell_type": "code",
   "execution_count": null,
   "metadata": {},
   "outputs": [],
   "source": []
  },
  {
   "cell_type": "code",
   "execution_count": null,
   "metadata": {},
   "outputs": [],
   "source": []
  },
  {
   "cell_type": "code",
   "execution_count": null,
   "metadata": {},
   "outputs": [],
   "source": []
  },
  {
   "cell_type": "code",
   "execution_count": null,
   "metadata": {},
   "outputs": [],
   "source": [
    "import numpy as np\n",
    "import matplotlib.pyplot as plt\n",
    "x  = np.linspace(0,2*np.pi,100)\n",
    "y1 = np.sin(x)\n",
    "y2 = np.cos(x)\n",
    "\n",
    "plt.figure(figsize=(10,6))\n",
    "plt.plot(x,y1,'b-o',label=\"Sine\")\n",
    "plt.plot(x,y2,'r-o',label=\"Cosine\")\n",
    "plt.ylabel(\"Amplitude\",fontsize=20)\n",
    "plt.xlabel(\"Radian\",fontsize=20)\n",
    "plt.xticks([0,np.pi/2,np.pi,3*np.pi/2,2*np.pi],labels=[\"0\", \"$\\pi/2$\",\"$\\pi$\", \"$3\\pi/2$\", \"$2\\pi$\"],fontsize=20)\n",
    "plt.yticks([-1,-.5,0,.5,1],fontsize=20)\n",
    "plt.grid()\n",
    "plt.legend()\n",
    "plt.show()"
   ]
  },
  {
   "cell_type": "code",
   "execution_count": null,
   "metadata": {},
   "outputs": [],
   "source": []
  },
  {
   "cell_type": "code",
   "execution_count": null,
   "metadata": {},
   "outputs": [],
   "source": [
    "colors = plt.rcParams['axes.prop_cycle'].by_key()['color'];\n",
    "plt.rcParams.update({'font.size': 18, 'figure.figsize': [6, 6], 'xtick.labelsize': 16, 'ytick.labelsize': 16, 'axes.labelsize': 20, 'figure.frameon': True, 'xtick.direction':'in','ytick.direction':'in'})\n",
    "plt.style.use('dark_background')"
   ]
  },
  {
   "cell_type": "code",
   "execution_count": null,
   "metadata": {},
   "outputs": [],
   "source": [
    "# Read from the file into the array data(:,:)\n",
    "data = np.loadtxt('galaxy.txt')\n",
    "# Column indices.\n",
    "comp  = data[:, 0] # (---) Comp type (0=Bulge, 1=Disc).\n",
    "x    = data[:, 1] # (kpc) Position in x.\n",
    "y    = data[:, 2] # (kpc) Position in y.\n",
    "z    = data[:, 3] # (kpc) Position in z.\n",
    "vx   = data[:, 4] # (km/s) Velocity in x.\n",
    "vy   = data[:, 5] # (km/s) Velocity in y.\n",
    "vz   = data[:, 6] # (km/s) Velocity in z.\n",
    "R   = data[:, 7] # (kpc) Radius.\n",
    "\n",
    "U = -(x*vx + y*vy)/R\n",
    "V = (x*vy - y*vx)/R"
   ]
  },
  {
   "cell_type": "markdown",
   "metadata": {},
   "source": [
    "# Advanced array manipulation "
   ]
  },
  {
   "cell_type": "markdown",
   "metadata": {},
   "source": [
    "Let's make some arrays and matrices. We will make (and break) this matrix:  "
   ]
  },
  {
   "cell_type": "markdown",
   "metadata": {},
   "source": [
    "\\begin{equation*}\n",
    "\\begin{vmatrix}\n",
    "1 & 2 & 3 \\\\\n",
    "4 & 5 & 6 \\\\\n",
    "7 & 8 & 9\n",
    "\\end{vmatrix}\n",
    "\\end{equation*}"
   ]
  },
  {
   "cell_type": "code",
   "execution_count": null,
   "metadata": {},
   "outputs": [],
   "source": [
    "A1 = np.array([1,2,3])\n",
    "A2 = np.array([4,5,6])\n",
    "A3 = np.array([7,8,9])\n",
    "M1 = np.array([[1,2,3], [4,5,6], [7,8,9]])\n",
    "M2 = np.matrix([[1,4,7], [2,5,8], [3,6,9]])\n",
    "print(A1)\n",
    "print('---')\n",
    "print(M1)\n",
    "print('---')\n",
    "print(M2)"
   ]
  },
  {
   "cell_type": "code",
   "execution_count": null,
   "metadata": {
    "scrolled": true
   },
   "outputs": [],
   "source": [
    "print(np.concatenate((A1,A2,A3),axis=0))"
   ]
  },
  {
   "cell_type": "code",
   "execution_count": null,
   "metadata": {
    "scrolled": true
   },
   "outputs": [],
   "source": [
    "print(np.hstack((A1,A2,A3)))\n",
    "print(np.vstack((A1,A2,A3)))"
   ]
  },
  {
   "cell_type": "code",
   "execution_count": null,
   "metadata": {},
   "outputs": [],
   "source": [
    "print(np.vstack((A1,A2,A3)).T)"
   ]
  },
  {
   "cell_type": "code",
   "execution_count": null,
   "metadata": {},
   "outputs": [],
   "source": [
    "print(np.concatenate((A1.reshape(3,1),A2.reshape(3,1),A3.reshape(3,1)),axis=1))"
   ]
  },
  {
   "cell_type": "code",
   "execution_count": null,
   "metadata": {},
   "outputs": [],
   "source": [
    "print(np.hstack((A1.reshape(3,1),A2.reshape(3,1),A3.reshape(3,1))))"
   ]
  },
  {
   "cell_type": "code",
   "execution_count": null,
   "metadata": {},
   "outputs": [],
   "source": [
    "print(np.split(M1,3,axis=0))\n",
    "print(np.split(M1.T,3,axis=0))"
   ]
  },
  {
   "cell_type": "code",
   "execution_count": null,
   "metadata": {
    "scrolled": true
   },
   "outputs": [],
   "source": [
    "print(len(data))\n",
    "print(data.shape)"
   ]
  },
  {
   "cell_type": "code",
   "execution_count": null,
   "metadata": {},
   "outputs": [],
   "source": [
    "data2 = np.stack((data,data),2)\n",
    "print(data2.shape)"
   ]
  },
  {
   "cell_type": "code",
   "execution_count": null,
   "metadata": {},
   "outputs": [],
   "source": [
    "A = np.arange(0,100,1)\n",
    "# A[start:stop:step]\n",
    "print(A[::10])\n",
    "print(A[20:30:2])\n",
    "# Positive index counts from start A[20] is 19, negative from end A[-20] is 80\n",
    "print(A[-1])\n",
    "print(A[:-50:10])\n",
    "print(A[-50::10])"
   ]
  },
  {
   "cell_type": "markdown",
   "metadata": {},
   "source": [
    "# Advanced plotting"
   ]
  },
  {
   "cell_type": "code",
   "execution_count": null,
   "metadata": {},
   "outputs": [],
   "source": [
    "U = -(x*vx + y*vy)/R\n",
    "V = (x*vy - y*vx)/R"
   ]
  },
  {
   "cell_type": "code",
   "execution_count": null,
   "metadata": {},
   "outputs": [],
   "source": [
    "plt.hist(R,50)\n",
    "plt.show()"
   ]
  },
  {
   "cell_type": "code",
   "execution_count": null,
   "metadata": {
    "scrolled": false
   },
   "outputs": [],
   "source": [
    "X = np.linspace(0.1,4,100)\n",
    "Y = np.log10(X)\n",
    "plt.plot(X,Y,'w')\n",
    "plt.plot(X+2,Y,'w',linewidth=5,label=\"Nothing\")\n",
    "plt.plot(X+4,Y,'r',linestyle='--')\n",
    "plt.plot(X+6,Y,'w',linestyle='-.')\n",
    "plt.plot(X+8,Y,'w',marker='o')\n",
    "plt.plot(X+10,Y,'w',marker='d',linestyle='none',markersize=20,\n",
    "         markeredgecolor='w',markerfacecolor='none',markeredgewidth=0.5)\n",
    "plt.legend()\n",
    "plt.show()"
   ]
  },
  {
   "cell_type": "code",
   "execution_count": null,
   "metadata": {
    "scrolled": false
   },
   "outputs": [],
   "source": [
    "X = np.random.uniform(size=100)\n",
    "Y = np.random.uniform(size=100)\n",
    "xe = np.random.uniform(size=len(X))/5\n",
    "ye = np.random.uniform(size=len(Y))/5\n",
    "plt.errorbar(X,Y,xerr=xe,yerr=ye,linestyle='none',color='k',capsize=4,linewidth=1)\n",
    "plt.show()"
   ]
  },
  {
   "cell_type": "code",
   "execution_count": null,
   "metadata": {
    "scrolled": false
   },
   "outputs": [],
   "source": [
    "\n",
    "den = plt.hist2d(U,V,bins=300,norm=LogNorm(),cmap='hot')\n",
    "plt.colorbar(den[3])\n",
    "plt.show()"
   ]
  },
  {
   "cell_type": "code",
   "execution_count": null,
   "metadata": {
    "scrolled": false
   },
   "outputs": [],
   "source": [
    "from matplotlib.colors import LogNorm\n",
    "f,(ax1,ax2,ax3) = plt.subplots(1,3,figsize=(15,5),sharey=True)\n",
    "ax1.hist2d(U,V,bins=300)\n",
    "ax2.hist2d(U,V,bins=300,norm=LogNorm())\n",
    "den = ax3.hist2d(U,V,bins=300,norm=LogNorm(),cmap='PuRd')\n",
    "plt.colorbar(den[3])\n",
    "plt.show()"
   ]
  },
  {
   "cell_type": "code",
   "execution_count": null,
   "metadata": {},
   "outputs": [],
   "source": [
    "f,ax = plt.subplots(3,3,figsize=(10,10),sharex=True,sharey=True)\n",
    "ax[0,0].hist2d(U[:10000],V[:10000],bins=50,norm=LogNorm(),cmap='PuRd')\n",
    "ax[0,1].hist2d(U[10000:20000],V[10000:20000],bins=50,norm=LogNorm(),cmap='PuRd')\n",
    "ax[0,2].hist2d(U[20000:30000],V[20000:30000],bins=50,norm=LogNorm(),cmap='PuRd')\n",
    "ax[1,0].axis('off')\n",
    "ax[1,1].hist2d(U[30000:40000],V[30000:40000],bins=50,norm=LogNorm(),cmap='PuRd')\n",
    "ax[1,2].hist2d(U[40000:50000],V[40000:50000],bins=50,norm=LogNorm(),cmap='PuRd')\n",
    "ax[2,0].axis('off')\n",
    "ax[2,1].axis('off')\n",
    "ax[2,2].hist2d(U[80000:90000],V[80000:90000],bins=50,norm=LogNorm(),cmap='PuRd')\n",
    "plt.tight_layout()"
   ]
  },
  {
   "cell_type": "code",
   "execution_count": null,
   "metadata": {},
   "outputs": [],
   "source": [
    "f,ax = plt.subplots(1,1,figsize=(8,8))\n",
    "ax.scatter(X,Y,c='w',label='Log(x)')\n",
    "ax.set_xlabel('x value')\n",
    "ax.set_ylabel('y value')\n",
    "ax.set_xlim(0,1)\n",
    "ax.set_ylim(0,1)\n",
    "ax.set_title(\"Plot of log(x)\")\n",
    "ax.legend()\n",
    "plt.show()"
   ]
  },
  {
   "cell_type": "code",
   "execution_count": null,
   "metadata": {},
   "outputs": [],
   "source": [
    "plt.figure(figsize=(8,8))\n",
    "plt.scatter(X,Y,c='k',label='Log(x)')\n",
    "plt.xlabel('x value')\n",
    "plt.ylabel('y value')\n",
    "plt.xlim(0,1)\n",
    "plt.ylim(0,1)\n",
    "plt.title(\"Plot of log(x)\")\n",
    "plt.legend()\n",
    "plt.show()"
   ]
  },
  {
   "cell_type": "code",
   "execution_count": null,
   "metadata": {
    "scrolled": false
   },
   "outputs": [],
   "source": [
    "plt.figure(figsize=(10,8))\n",
    "plt.scatter(X,Y,c=X,cmap='hot',label='Log(x)')\n",
    "\n",
    "plt.xlabel('x value')\n",
    "plt.xlim(-1,2)\n",
    "plt.xticks(ticks=[-1,0,1,2],labels=['$x_1$','$x_2$','$x_3$','$x_4$'])\n",
    "plt.ylabel('y value')\n",
    "plt.ylim(-1,2)\n",
    "plt.minorticks_on()\n",
    "plt.tick_params(which='both',direction='inout')\n",
    "\n",
    "plt.title(\"Plot of log(x)\")\n",
    "plt.legend(fancybox=True,loc='lower right')\n",
    "\n",
    "cbar = plt.colorbar()\n",
    "cbar.set_label('Colobar label')\n",
    "\n",
    "plt.grid()\n",
    "plt.box(False)\n",
    "\n",
    "plt.show()"
   ]
  },
  {
   "cell_type": "code",
   "execution_count": null,
   "metadata": {},
   "outputs": [],
   "source": [
    "plt.figure(figsize=(8,8))\n",
    "plt.scatter(X,Y,c='k')"
   ]
  },
  {
   "cell_type": "code",
   "execution_count": null,
   "metadata": {},
   "outputs": [],
   "source": [
    "np.random.uniform(size=10)"
   ]
  },
  {
   "cell_type": "code",
   "execution_count": null,
   "metadata": {},
   "outputs": [],
   "source": [
    "5000000/25"
   ]
  },
  {
   "cell_type": "code",
   "execution_count": null,
   "metadata": {},
   "outputs": [],
   "source": [
    "np.shape(np.array([1,5,10,100]))"
   ]
  },
  {
   "cell_type": "code",
   "execution_count": null,
   "metadata": {},
   "outputs": [],
   "source": [
    "plt.style.use('dark_background')"
   ]
  },
  {
   "cell_type": "code",
   "execution_count": null,
   "metadata": {},
   "outputs": [],
   "source": [
    "f,ax = plt.subplots(1,3,figsize=(15,5))"
   ]
  },
  {
   "cell_type": "code",
   "execution_count": null,
   "metadata": {
    "scrolled": false
   },
   "outputs": [],
   "source": [
    "\n",
    "\n",
    "\n",
    "from matplotlib.colors import LogNorm\n",
    "f,ax = plt.subplots(3,3,figsize=(15,15),sharex=True,sharey=True)\n",
    "\n",
    "### Plot 1 ###\n",
    "ax[0,0].hist2d([],[])\n",
    "ax[0,0].set_ylabel('V [km/s]')\n",
    "\n",
    "### Plot 2 ###\n",
    "ax[0,1].hist2d([],[],bins=50,norm=LogNorm())\n",
    "\n",
    "### Plot 3 ###\n",
    "ax[0,2].hist2d([],[],bins=50,norm=LogNorm())\n",
    "\n",
    "ax[1,0].axis('off')\n",
    "\n",
    "### Plot 4 ###\n",
    "ax[1,1].hist2d([],[],bins=50,norm=LogNorm())\n",
    "\n",
    "### Plot 5 ###\n",
    "ax[1,2].hist2d([],[],bins=50,norm=LogNorm())\n",
    "\n",
    "ax[2,0].axis('off')\n",
    "\n",
    "ax[2,1].axis('off')\n",
    "\n",
    "### Plot 6 ###\n",
    "ax[2,2].hist2d([],[],bins=50,norm=LogNorm())\n",
    "ax[2,2].set_xlabel('U [km/s]')\n",
    "for i in range(3):\n",
    "    for j in range(3):\n",
    "        if j >= i:\n",
    "            ax[i,j].set_xticks(np.arange(-500,501,250))\n",
    "            ax[i,j].set_yticks(np.arange(-500,501,250))\n",
    "plt.tight_layout()"
   ]
  },
  {
   "cell_type": "code",
   "execution_count": null,
   "metadata": {},
   "outputs": [],
   "source": [
    "UU,VV=AngleVelSplit(x,y,U,V,6,comp)\n",
    "\n",
    "\n",
    "f,ax = plt.subplots(3,3,figsize=(10,10),sharex=True,sharey=True)\n",
    "ax[0,0].hist2d(UU[0],VV[0],bins=100,norm=LogNorm(),cmap='hot')\n",
    "ax[0,1].hist2d(UU[1],VV[1],bins=100,norm=LogNorm(),cmap='hot')\n",
    "ax[0,2].hist2d(UU[2],VV[2],bins=100,norm=LogNorm(),cmap='hot')\n",
    "ax[1,0].axis('off')\n",
    "ax[1,1].hist2d(UU[3],VV[3],bins=100,norm=LogNorm(),cmap='hot')\n",
    "ax[1,2].hist2d(UU[4],VV[4],bins=100,norm=LogNorm(),cmap='hot')\n",
    "ax[2,0].axis('off')\n",
    "ax[2,1].axis('off')\n",
    "ax[2,2].hist2d(UU[5],VV[5],bins=100,norm=LogNorm(),cmap='hot')\n",
    "ax[2,2].set_xlabel('U [km/s]')\n",
    "ax[0,0].set_ylabel('V [km/s]')\n",
    "for i in range(3):\n",
    "    for j in range(3):\n",
    "        if j >= i:\n",
    "            ax[i,j].set_xticks(np.arange(-500,501,250))\n",
    "            ax[i,j].set_yticks(np.arange(-500,501,250))\n",
    "plt.tight_layout()"
   ]
  },
  {
   "cell_type": "code",
   "execution_count": null,
   "metadata": {},
   "outputs": [],
   "source": [
    "plt.hist(np.rad2deg(np.arctan2(x,y)+np.pi))"
   ]
  },
  {
   "cell_type": "code",
   "execution_count": null,
   "metadata": {},
   "outputs": [],
   "source": [
    "plt.hist(V)"
   ]
  },
  {
   "cell_type": "code",
   "execution_count": null,
   "metadata": {},
   "outputs": [],
   "source": [
    "def AngleVelSplit(x,y,u,v,n,comp):\n",
    "    '''This function takes x,y,U,V and comp as input and separates it into n angular bins containing the same amounts of particles'''\n",
    "    u = u[comp==1]\n",
    "    v = v[comp==1]\n",
    "    x = x[comp==1]\n",
    "    y = y[comp==1]\n",
    "    deg = np.rad2deg(np.arctan2(x,y) + np.pi)\n",
    "    Ideg = np.argsort(deg)\n",
    "    u = u[Ideg]\n",
    "    v = v[Ideg]\n",
    "    \n",
    "    step = int(np.floor(len(deg)/n))\n",
    "    Usplit = np.zeros([n,int(np.floor(len(deg)/n))])\n",
    "    Vsplit = np.zeros([n,int(np.floor(len(deg)/n))])\n",
    "    for i in range(n):\n",
    "        Usplit[i] = u[i*step:(i+1)*step]\n",
    "        Vsplit[i] = v[i*step:(i+1)*step]\n",
    "    return Usplit,Vsplit"
   ]
  },
  {
   "cell_type": "code",
   "execution_count": null,
   "metadata": {
    "scrolled": false
   },
   "outputs": [],
   "source": [
    "UU,VV=AngleVelSplit(x,y,U,V,6,comp)"
   ]
  },
  {
   "cell_type": "code",
   "execution_count": null,
   "metadata": {},
   "outputs": [],
   "source": [
    "UU.shape"
   ]
  },
  {
   "cell_type": "code",
   "execution_count": null,
   "metadata": {},
   "outputs": [],
   "source": [
    "deg = np.rad2deg(np.arctan2(x,y) + np.pi)\n",
    "Ideg = np.argsort(deg)"
   ]
  },
  {
   "cell_type": "code",
   "execution_count": null,
   "metadata": {
    "scrolled": false
   },
   "outputs": [],
   "source": [
    "idx = np.arange(0,len(deg),int(len(deg)/6))\n",
    "for i in range(6):\n",
    "    U[Ideg[idx[i]:idx[i+1]]].shape\n",
    "    "
   ]
  },
  {
   "cell_type": "code",
   "execution_count": null,
   "metadata": {},
   "outputs": [],
   "source": [
    "1.6*5"
   ]
  },
  {
   "cell_type": "code",
   "execution_count": null,
   "metadata": {},
   "outputs": [],
   "source": [
    "np.round(100000/6)"
   ]
  },
  {
   "cell_type": "code",
   "execution_count": null,
   "metadata": {},
   "outputs": [],
   "source": [
    "deg = np.rad2deg(np.arctan2(-y,-x) + np.pi)"
   ]
  },
  {
   "cell_type": "code",
   "execution_count": null,
   "metadata": {
    "scrolled": false
   },
   "outputs": [],
   "source": [
    "plt.scatter(x[::10],y[::10],c=deg[::10])\n",
    "plt.colorbar()"
   ]
  },
  {
   "cell_type": "code",
   "execution_count": null,
   "metadata": {},
   "outputs": [],
   "source": [
    "x = np.linspace(-10, 10)\n",
    "plt.plot(x, np.arctan(x))\n",
    "plt.axis('tight')\n",
    "plt.show()"
   ]
  },
  {
   "cell_type": "code",
   "execution_count": null,
   "metadata": {},
   "outputs": [],
   "source": [
    "16666*2"
   ]
  },
  {
   "cell_type": "code",
   "execution_count": null,
   "metadata": {},
   "outputs": [],
   "source": []
  },
  {
   "cell_type": "code",
   "execution_count": null,
   "metadata": {},
   "outputs": [],
   "source": [
    "plt.rc('image', cmap='BuPu')"
   ]
  },
  {
   "cell_type": "code",
   "execution_count": null,
   "metadata": {},
   "outputs": [],
   "source": [
    "M1 = np.array([[1], [1]])\n",
    "M2 = np.array([[2,2,2], [2,2,2]])"
   ]
  },
  {
   "cell_type": "code",
   "execution_count": null,
   "metadata": {},
   "outputs": [],
   "source": [
    "np.hstack((M1,M2))"
   ]
  },
  {
   "cell_type": "code",
   "execution_count": null,
   "metadata": {},
   "outputs": [],
   "source": [
    "smpx = np.array([0,0,0,0,1])\n",
    "smpy = np.array([0,0,0,1,1])\n",
    "smpz = np.array([0,0,1,1,1])\n",
    "vx = np.array([0,1,2,3])\n",
    "vy = np.array([0,10,20,30])\n",
    "vz = np.array([0,100,200,300])"
   ]
  },
  {
   "cell_type": "code",
   "execution_count": null,
   "metadata": {},
   "outputs": [],
   "source": [
    "vxx,vyy,vzz=np.meshgrid(vx,vy,vz,indexing='ij')"
   ]
  },
  {
   "cell_type": "code",
   "execution_count": null,
   "metadata": {},
   "outputs": [],
   "source": [
    "print(vxx)\n",
    "print(vyy)\n",
    "print(vzz)"
   ]
  },
  {
   "cell_type": "code",
   "execution_count": null,
   "metadata": {},
   "outputs": [],
   "source": [
    "vxx[smpx,smpy,smpz]"
   ]
  },
  {
   "cell_type": "code",
   "execution_count": null,
   "metadata": {},
   "outputs": [],
   "source": [
    "np.array([0,0,0,0,1])"
   ]
  },
  {
   "cell_type": "code",
   "execution_count": null,
   "metadata": {},
   "outputs": [],
   "source": [
    "A = np.ones((10,10000))"
   ]
  },
  {
   "cell_type": "code",
   "execution_count": null,
   "metadata": {},
   "outputs": [],
   "source": [
    "np.swapaxes(np.asarray([A,A,A]),0,1).shape"
   ]
  },
  {
   "cell_type": "code",
   "execution_count": null,
   "metadata": {},
   "outputs": [],
   "source": [
    "smpvels[0].shape"
   ]
  },
  {
   "cell_type": "code",
   "execution_count": null,
   "metadata": {},
   "outputs": [],
   "source": [
    "B = np.array([[[0, 0, 0, 0],[1, 1, 1, 1],[2, 2, 2, 2]],[[0, 0, 0, 0],[1, 1, 1, 1],[2, 2, 2, 2]]])"
   ]
  },
  {
   "cell_type": "code",
   "execution_count": null,
   "metadata": {},
   "outputs": [],
   "source": [
    "print(np.shape(B))\n",
    "print(B)"
   ]
  },
  {
   "cell_type": "code",
   "execution_count": null,
   "metadata": {},
   "outputs": [],
   "source": [
    "smpvals = np.zeros((10,10000,3))\n",
    "    "
   ]
  },
  {
   "cell_type": "code",
   "execution_count": null,
   "metadata": {},
   "outputs": [],
   "source": [
    "import numpy as np\n",
    "np.random.rand()"
   ]
  },
  {
   "cell_type": "code",
   "execution_count": null,
   "metadata": {},
   "outputs": [],
   "source": [
    "R1 = np.random.rand(9404,2)*1000\n",
    "R2 = np.random.rand(9404,2)*1000\n",
    "R3 = np.random.rand(9404,2)*1000\n",
    "R4 = np.random.rand(9404,2)*1000\n",
    "R5 = np.random.rand(9404,2)*1000\n",
    "R6 = np.random.rand(9404,2)*1000\n",
    "R7 = np.random.rand(9404,2)*1000\n",
    "R8 = np.random.rand(9404,2)*1000\n",
    "R9 = np.random.rand(9404,2)*1000\n",
    "R10 = np.random.rand(9404,2)*1000\n",
    "\n",
    "RRavg = np.array((R1 + R2 + R3 + R4 + R5 + R6 + R7 + R8 + R9 + R10)/10) "
   ]
  },
  {
   "cell_type": "code",
   "execution_count": null,
   "metadata": {},
   "outputs": [],
   "source": [
    "RRavg.shape"
   ]
  },
  {
   "cell_type": "code",
   "execution_count": null,
   "metadata": {},
   "outputs": [],
   "source": [
    "# Read from the file into the array data(:,:)\n",
    "data = np.loadtxt('galaxy.txt')\n",
    "# Column indices.\n",
    "comp  = data[:, 0] # (---) Comp type (0=Bulge, 1=Disc).\n",
    "x    = data[:, 1] # (kpc) Position in x.\n",
    "y    = data[:, 2] # (kpc) Position in y.\n",
    "z    = data[:, 3] # (kpc) Position in z.\n",
    "vx   = data[:, 4] # (km/s) Velocity in x.\n",
    "vy   = data[:, 5] # (km/s) Velocity in y.\n",
    "vz   = data[:, 6] # (km/s) Velocity in z.\n",
    "R   = data[:, 7] # (kpc) Radius.\n",
    "\n",
    "U = -(x*vx + y*vy)/R\n",
    "V = (x*vy - y*vx)/R"
   ]
  },
  {
   "cell_type": "code",
   "execution_count": null,
   "metadata": {},
   "outputs": [],
   "source": [
    "deg = np.arctan2(x,y) + np.pi"
   ]
  },
  {
   "cell_type": "code",
   "execution_count": null,
   "metadata": {},
   "outputs": [],
   "source": [
    "plt.scatter(x,y,c=deg)"
   ]
  },
  {
   "cell_type": "code",
   "execution_count": null,
   "metadata": {},
   "outputs": [],
   "source": [
    "plt.hist(deg)"
   ]
  },
  {
   "cell_type": "code",
   "execution_count": null,
   "metadata": {},
   "outputs": [],
   "source": [
    "import numpy as np\n",
    "import matplotlib.pyplot as plt\n",
    "from scipy.spatial.distance import cdist\n",
    "from scipy.spatial.distance import pdist\n"
   ]
  },
  {
   "cell_type": "code",
   "execution_count": null,
   "metadata": {},
   "outputs": [],
   "source": [
    "(R1,R2,R3,R4,R5,R6,R7,R8,R9,R10) = (np.random.uniform(0,1000,size=(9404,2)), np.random.uniform(0,1000,size=(9404,2)), np.random.uniform(0,1000,size=(9404,2)), np.random.uniform(0,1000,size=(9404,2)), np.random.uniform(0,1000,size=(9404,2)), np.random.uniform(0,1000,size=(9404,2)), np.random.uniform(0,1000,size=(9404,2)), np.random.uniform(0,1000,size=(9404,2)), np.random.uniform(0,1000,size=(9404,2)), np.random.uniform(0,1000,size=(9404,2)))"
   ]
  },
  {
   "cell_type": "code",
   "execution_count": null,
   "metadata": {},
   "outputs": [],
   "source": [
    "(RR1,RR2,RR3,RR4,RR5,RR6,RR7,RR8,RR9,RR10) = (cdist(R1,R1),cdist(R2,R2),cdist(R3,R3),cdist(R4,R4),cdist(R5,R5),cdist(R6,R6),cdist(R7,R7),cdist(R8,R8),cdist(R9,R9),cdist(R10,R10))"
   ]
  },
  {
   "cell_type": "code",
   "execution_count": null,
   "metadata": {},
   "outputs": [],
   "source": [
    "(RR1,RR2,RR3,RR4,RR5,RR6,RR7,RR8,RR9,RR10) = (pdist(R1),pdist(R2),pdist(R3),pdist(R4),pdist(R5),pdist(R6),pdist(R7),pdist(R8),pdist(R9),pdist(R10))"
   ]
  },
  {
   "cell_type": "code",
   "execution_count": null,
   "metadata": {},
   "outputs": [],
   "source": [
    "def angbinning(ang,D,sameset=True):\n",
    "    if sameset == True:\n",
    "        D_temp = np.tril(D).flatten()\n",
    "        D_temp = D_temp[np.nonzero(D_temp)]\n",
    "    elif sameset == False: \n",
    "        D_temp = D.flatten()\n",
    "    \n",
    "    D_binned = np.zeros(100)\n",
    "    for i in range(100):\n",
    "        I = (D_temp > ang[i]) & (D_temp <= ang[i+1]) \n",
    "        D_binned[i] = np.sum(I)\n",
    "    return(D_binned)\n",
    "\n"
   ]
  },
  {
   "cell_type": "code",
   "execution_count": null,
   "metadata": {},
   "outputs": [],
   "source": [
    "r = np.linspace(0,1000,101)\n",
    "\n",
    "RR1 = angbinning(r,RR1)\n",
    "RR2 = angbinning(r,RR2)\n",
    "RR3 = angbinning(r,RR3)\n",
    "RR4 = angbinning(r,RR4)\n",
    "RR5 = angbinning(r,RR5)\n",
    "RR6 = angbinning(r,RR6)\n",
    "RR7 = angbinning(r,RR7)\n",
    "RR8 = angbinning(r,RR8)\n",
    "RR9 = angbinning(r,RR9)\n",
    "RR10 = angbinning(r,RR10)\n",
    "\n"
   ]
  },
  {
   "cell_type": "code",
   "execution_count": null,
   "metadata": {},
   "outputs": [],
   "source": [
    "RRavg = (RR1 + RR2 + RR3 + RR4 + RR5 + RR6 + RR7 + RR8 + RR9 + RR10)/10"
   ]
  },
  {
   "cell_type": "code",
   "execution_count": null,
   "metadata": {},
   "outputs": [],
   "source": [
    "RRavg"
   ]
  },
  {
   "cell_type": "code",
   "execution_count": null,
   "metadata": {
    "scrolled": false
   },
   "outputs": [],
   "source": [
    "RRavglist = []\n",
    "for i in range(9404):\n",
    "    if np.mod(i,10) == 0:\n",
    "    for j in range(9404):\n",
    "        if i < j:\n",
    "            RRavglist.append(RRavg[i,j])"
   ]
  },
  {
   "cell_type": "code",
   "execution_count": null,
   "metadata": {
    "scrolled": true
   },
   "outputs": [],
   "source": [
    "type(RRavglist)"
   ]
  },
  {
   "cell_type": "code",
   "execution_count": null,
   "metadata": {},
   "outputs": [],
   "source": [
    "RRavg_flat = np.tril(RRavg).flatten()\n",
    "RRavg_flat = RRavg_flat[np.nonzero(RRavg_flat)]"
   ]
  },
  {
   "cell_type": "code",
   "execution_count": null,
   "metadata": {},
   "outputs": [],
   "source": [
    "type(RRavg_flat)"
   ]
  },
  {
   "cell_type": "code",
   "execution_count": null,
   "metadata": {},
   "outputs": [],
   "source": [
    "RRarray = RRavg_flat"
   ]
  },
  {
   "cell_type": "code",
   "execution_count": null,
   "metadata": {},
   "outputs": [],
   "source": [
    "r = np.linspace(0,1000,101)\n",
    "RR_binned = np.zeros(100)\n",
    "RN_binned = np.zeros(100)\n",
    "for i in range(100):\n",
    "    RI = (RRarray > r[i]) & (RRarray <= r[i+1]) \n",
    "    RR_binned[i] = np.median(RRarray[RI])\n",
    "    RN_binned[i] = np.sum(RI)"
   ]
  },
  {
   "cell_type": "code",
   "execution_count": null,
   "metadata": {},
   "outputs": [],
   "source": [
    "RN_binned"
   ]
  },
  {
   "cell_type": "code",
   "execution_count": null,
   "metadata": {},
   "outputs": [],
   "source": [
    "plt.hist(RRarray,50)\n",
    "plt.show()"
   ]
  },
  {
   "cell_type": "code",
   "execution_count": null,
   "metadata": {},
   "outputs": [],
   "source": [
    "107297/3600"
   ]
  },
  {
   "cell_type": "code",
   "execution_count": null,
   "metadata": {},
   "outputs": [],
   "source": [
    "data = np.random.normal(size=(9404,2,6))\n",
    "data[:,0,0] = np.ones(9404)\n",
    "data[-1,0,0] = 2\n",
    "data[:,1,0] = np.zeros(9404)\n",
    "data[-1,1,0] = 2\n",
    "data.shape[0]"
   ]
  },
  {
   "cell_type": "code",
   "execution_count": null,
   "metadata": {},
   "outputs": [],
   "source": [
    "dists = np.multiply.outer(np.ones(data.shape[0]), data[:,:,0])\n",
    "dists.shape"
   ]
  },
  {
   "cell_type": "code",
   "execution_count": null,
   "metadata": {},
   "outputs": [],
   "source": [
    "# By swapping the first two axes we create NumPy arrays where [j,:,0] and [j,:,1] are the x and y-coordinates \n",
    "# of the j-th points in the dataset. Subtracting that from dists yields an array where [j,i,0] and [j,i,1]\n",
    "# are the x and y coordinate differences of i-th and j-th points in the dataset.\n",
    "dists -= dists.swapaxes(0,1)\n",
    "dists.shape"
   ]
  },
  {
   "cell_type": "code",
   "execution_count": null,
   "metadata": {},
   "outputs": [],
   "source": [
    "dists.shape[0]"
   ]
  },
  {
   "cell_type": "code",
   "execution_count": null,
   "metadata": {},
   "outputs": [],
   "source": [
    "dists.shape"
   ]
  },
  {
   "cell_type": "code",
   "execution_count": null,
   "metadata": {},
   "outputs": [],
   "source": [
    "dists = dists[np.triu_indices(dists.shape[0], 1)]"
   ]
  },
  {
   "cell_type": "code",
   "execution_count": null,
   "metadata": {},
   "outputs": [],
   "source": [
    "np.sum(dists**2, axis=1).shape"
   ]
  },
  {
   "cell_type": "code",
   "execution_count": null,
   "metadata": {},
   "outputs": [],
   "source": [
    "x = np.linspace(0,10,11)\n",
    "x = np.random.uniform(low=0,high=1000,size=10000)"
   ]
  },
  {
   "cell_type": "code",
   "execution_count": null,
   "metadata": {},
   "outputs": [],
   "source": [
    "x[:-1]"
   ]
  },
  {
   "cell_type": "code",
   "execution_count": null,
   "metadata": {},
   "outputs": [],
   "source": [
    "x[1:]"
   ]
  },
  {
   "cell_type": "code",
   "execution_count": null,
   "metadata": {},
   "outputs": [],
   "source": [
    "x[:-5]"
   ]
  },
  {
   "cell_type": "code",
   "execution_count": null,
   "metadata": {},
   "outputs": [],
   "source": [
    "x[5:]"
   ]
  },
  {
   "cell_type": "code",
   "execution_count": null,
   "metadata": {},
   "outputs": [],
   "source": [
    "for i in range(1,len(x)):\n",
    "    x[:-i] - x[i:]"
   ]
  },
  {
   "cell_type": "code",
   "execution_count": null,
   "metadata": {},
   "outputs": [],
   "source": [
    "x/10"
   ]
  },
  {
   "cell_type": "code",
   "execution_count": null,
   "metadata": {},
   "outputs": [],
   "source": [
    "x//10"
   ]
  },
  {
   "cell_type": "code",
   "execution_count": null,
   "metadata": {},
   "outputs": [],
   "source": [
    "x.astype(int)"
   ]
  },
  {
   "cell_type": "code",
   "execution_count": null,
   "metadata": {},
   "outputs": [],
   "source": [
    "np.bincount((x[x < 1000]//10).astype(int),minlength=100)"
   ]
  },
  {
   "cell_type": "code",
   "execution_count": null,
   "metadata": {},
   "outputs": [],
   "source": []
  }
 ],
 "metadata": {
  "kernelspec": {
   "display_name": "Python 3",
   "language": "python",
   "name": "python3"
  },
  "language_info": {
   "codemirror_mode": {
    "name": "ipython",
    "version": 3
   },
   "file_extension": ".py",
   "mimetype": "text/x-python",
   "name": "python",
   "nbconvert_exporter": "python",
   "pygments_lexer": "ipython3",
   "version": "3.7.3"
  }
 },
 "nbformat": 4,
 "nbformat_minor": 2
}
