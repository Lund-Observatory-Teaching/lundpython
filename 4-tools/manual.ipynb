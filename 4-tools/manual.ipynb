{
 "cells": [
  {
   "cell_type": "markdown",
   "metadata": {},
   "source": [
    "# A brief introduction to using Python in Astronomy\n",
    "\n",
    "The purpose of this lesson is to introduce a few tools that can be very useful for working with Python. The benefits of using these tools might not be apparent immediately and you might choose not to use them in the ongoing courses. This is because their utility is correlated very strongly with the age of your code, the size of your code and the number of people you are collaborating with. So in a course project that you work on individually over a short time period of a couple of weeks and which does not involve much code you could get away with ignoring everything introduced in this notebook. But you will work on your Master's project over several months, most likely write quite a lot of code and at the very least you will be working together with your supervisor, so it is highly recommended that you incorporate the tools discussed below (or their analogues if you will be coding in some other language) into your workflow by that time.\n",
    "\n",
    "## NOTE:\n",
    "Some of the packages and tools we use in this manual must be installed before you can run them. \n",
    "\n",
    "## Virtual environments\n",
    "\n",
    "It is often a good idea to run Python in a virtual environment, whether it is set up through [venv](https://docs.python.org/3/tutorial/venv.html) or Anaconda. Among many other benefits this allows you to test your code in a clean environment to ensure that you have not forgotten to list any dependencies (which is important if anyone else ever tries to run your code), but also to install Python packages without requiring root access to your computer. At the moment you are likely already running Python in a virtual environment created by Anaconda.\n",
    "\n",
    "## PEP 8\n",
    "\n",
    "[The Python Style Guide](https://www.python.org/dev/peps/pep-0008/), commonly referred to as PEP 8, was already mentioned in the first lesson. Here we introduce tools that allow you to check if your code is PEP 8 compliant. One such tool is [pycodestyle](https://pypi.org/project/pycodestyle/). If you wish to check a Python script called 'helloworld.py' you would simply run\n",
    "```\n",
    "$ pycodestyle helloworld.py\n",
    "```\n",
    "With [pycodestyle_magic](https://github.com/mattijn/pycodestyle_magic) it is possible to check if your code cells in a Jupyter notebook are PEP 8 compliant or not. Its use is demonstrated below."
   ]
  },
  {
   "cell_type": "code",
   "execution_count": 1,
   "metadata": {},
   "outputs": [],
   "source": [
    "%load_ext pycodestyle_magic\n",
    "# Using lines longer than 80 characters within a notebook could be reasonable\n",
    "%flake8_on --max_line_length 99"
   ]
  },
  {
   "cell_type": "code",
   "execution_count": 2,
   "metadata": {},
   "outputs": [
    {
     "name": "stderr",
     "output_type": "stream",
     "text": [
      "1:2: E225 missing whitespace around operator\n",
      "1:100: E501 line too long (120 > 99 characters)\n",
      "1:121: W291 trailing whitespace\n",
      "2:25: E201 whitespace after '('\n",
      "2:30: E202 whitespace before ')'\n",
      "3:3: E111 indentation is not a multiple of four\n",
      "3:17: E203 whitespace before ','\n",
      "3:18: E231 missing whitespace after ','\n",
      "3:22: E251 unexpected spaces around keyword / parameter equals\n",
      "3:31: E261 at least two spaces before inline comment\n"
     ]
    },
    {
     "name": "stdout",
     "output_type": "stream",
     "text": [
      "This code is not PEP 8 compliant\n",
      "\n",
      "Not only will pycodestyle get very upset, it will make sure you will be upset too.\n",
      "\n"
     ]
    }
   ],
   "source": [
    "a='This code is not PEP 8 compliant! Not only will pycodestyle get very upset, it will make sure you will be upset too.' \n",
    "for sentence in a.split( '! ' ):\n",
    "  print(sentence ,end ='\\n\\n')# Notice how the Python interpreter does not require 4 space indents"
   ]
  },
  {
   "cell_type": "markdown",
   "metadata": {},
   "source": [
    "Although the example above has produced more complaints than there are lines in the code, all the error messages state exactly where the PEP 8 violations are located and what the problems are. This makes fixing them quite straightforward.\n",
    "\n",
    "## Docstrings\n",
    "\n",
    "Docstrings are an important documentation tool in Python. In fact they are important enough that the conventions for writing docstrings are not provided in PEP 8, but separately in [PEP 257](https://www.python.org/dev/peps/pep-0257/). You can think of docstrings as special comments that, differently from normal comments, are accessible from the Python interpreter. They are often used by IDEs but also for automatically generating online documentation. Very basic use of docstrings is demonstrated below."
   ]
  },
  {
   "cell_type": "code",
   "execution_count": 3,
   "metadata": {},
   "outputs": [
    {
     "name": "stdout",
     "output_type": "stream",
     "text": [
      "Help on function hello_world in module __main__:\n",
      "\n",
      "hello_world()\n",
      "    Prints 'Hello, World!'\n",
      "\n"
     ]
    }
   ],
   "source": [
    "def hello_world():\n",
    "    \"\"\"Prints 'Hello, World!'\"\"\"\n",
    "    print('Hello, World!')\n",
    "\n",
    "\n",
    "help(hello_world)"
   ]
  },
  {
   "cell_type": "markdown",
   "metadata": {},
   "source": [
    "If you are writing something that might be used by many people and wish to adhere to good docstring conventions then it might be a good idea to check out the [NumPy docstring convention](https://numpydoc.readthedocs.io/en/latest/format.html) and the [pydocstyle](https://github.com/PyCQA/pydocstyle/) tool. A NumPy docstring is provided as an example."
   ]
  },
  {
   "cell_type": "code",
   "execution_count": 4,
   "metadata": {},
   "outputs": [
    {
     "name": "stdout",
     "output_type": "stream",
     "text": [
      "Help on function unique in module numpy:\n",
      "\n",
      "unique(ar, return_index=False, return_inverse=False, return_counts=False, axis=None)\n",
      "    Find the unique elements of an array.\n",
      "    \n",
      "    Returns the sorted unique elements of an array. There are three optional\n",
      "    outputs in addition to the unique elements:\n",
      "    \n",
      "    * the indices of the input array that give the unique values\n",
      "    * the indices of the unique array that reconstruct the input array\n",
      "    * the number of times each unique value comes up in the input array\n",
      "    \n",
      "    Parameters\n",
      "    ----------\n",
      "    ar : array_like\n",
      "        Input array. Unless `axis` is specified, this will be flattened if it\n",
      "        is not already 1-D.\n",
      "    return_index : bool, optional\n",
      "        If True, also return the indices of `ar` (along the specified axis,\n",
      "        if provided, or in the flattened array) that result in the unique array.\n",
      "    return_inverse : bool, optional\n",
      "        If True, also return the indices of the unique array (for the specified\n",
      "        axis, if provided) that can be used to reconstruct `ar`.\n",
      "    return_counts : bool, optional\n",
      "        If True, also return the number of times each unique item appears\n",
      "        in `ar`.\n",
      "    \n",
      "        .. versionadded:: 1.9.0\n",
      "    \n",
      "    axis : int or None, optional\n",
      "        The axis to operate on. If None, `ar` will be flattened. If an integer,\n",
      "        the subarrays indexed by the given axis will be flattened and treated\n",
      "        as the elements of a 1-D array with the dimension of the given axis,\n",
      "        see the notes for more details.  Object arrays or structured arrays\n",
      "        that contain objects are not supported if the `axis` kwarg is used. The\n",
      "        default is None.\n",
      "    \n",
      "        .. versionadded:: 1.13.0\n",
      "    \n",
      "    Returns\n",
      "    -------\n",
      "    unique : ndarray\n",
      "        The sorted unique values.\n",
      "    unique_indices : ndarray, optional\n",
      "        The indices of the first occurrences of the unique values in the\n",
      "        original array. Only provided if `return_index` is True.\n",
      "    unique_inverse : ndarray, optional\n",
      "        The indices to reconstruct the original array from the\n",
      "        unique array. Only provided if `return_inverse` is True.\n",
      "    unique_counts : ndarray, optional\n",
      "        The number of times each of the unique values comes up in the\n",
      "        original array. Only provided if `return_counts` is True.\n",
      "    \n",
      "        .. versionadded:: 1.9.0\n",
      "    \n",
      "    See Also\n",
      "    --------\n",
      "    numpy.lib.arraysetops : Module with a number of other functions for\n",
      "                            performing set operations on arrays.\n",
      "    \n",
      "    Notes\n",
      "    -----\n",
      "    When an axis is specified the subarrays indexed by the axis are sorted.\n",
      "    This is done by making the specified axis the first dimension of the array\n",
      "    (move the axis to the first dimension to keep the order of the other axes)\n",
      "    and then flattening the subarrays in C order. The flattened subarrays are\n",
      "    then viewed as a structured type with each element given a label, with the\n",
      "    effect that we end up with a 1-D array of structured types that can be\n",
      "    treated in the same way as any other 1-D array. The result is that the\n",
      "    flattened subarrays are sorted in lexicographic order starting with the\n",
      "    first element.\n",
      "    \n",
      "    Examples\n",
      "    --------\n",
      "    >>> np.unique([1, 1, 2, 2, 3, 3])\n",
      "    array([1, 2, 3])\n",
      "    >>> a = np.array([[1, 1], [2, 3]])\n",
      "    >>> np.unique(a)\n",
      "    array([1, 2, 3])\n",
      "    \n",
      "    Return the unique rows of a 2D array\n",
      "    \n",
      "    >>> a = np.array([[1, 0, 0], [1, 0, 0], [2, 3, 4]])\n",
      "    >>> np.unique(a, axis=0)\n",
      "    array([[1, 0, 0], [2, 3, 4]])\n",
      "    \n",
      "    Return the indices of the original array that give the unique values:\n",
      "    \n",
      "    >>> a = np.array(['a', 'b', 'b', 'c', 'a'])\n",
      "    >>> u, indices = np.unique(a, return_index=True)\n",
      "    >>> u\n",
      "    array(['a', 'b', 'c'], dtype='<U1')\n",
      "    >>> indices\n",
      "    array([0, 1, 3])\n",
      "    >>> a[indices]\n",
      "    array(['a', 'b', 'c'], dtype='<U1')\n",
      "    \n",
      "    Reconstruct the input array from the unique values:\n",
      "    \n",
      "    >>> a = np.array([1, 2, 6, 4, 2, 3, 2])\n",
      "    >>> u, indices = np.unique(a, return_inverse=True)\n",
      "    >>> u\n",
      "    array([1, 2, 3, 4, 6])\n",
      "    >>> indices\n",
      "    array([0, 1, 4, ..., 1, 2, 1])\n",
      "    >>> u[indices]\n",
      "    array([1, 2, 6, ..., 2, 3, 2])\n",
      "\n"
     ]
    }
   ],
   "source": [
    "from numpy import unique\n",
    "help(unique)"
   ]
  },
  {
   "cell_type": "markdown",
   "metadata": {},
   "source": [
    "Inside a Jupyter notebook you can use the IPython commands `?` and `?? ` to view the docstring and source of a function respectively. Because these are IPython commands rather than normal Python commands, pycodestyle will think they are a syntax error, but this is not a problem in Jupyter."
   ]
  },
  {
   "cell_type": "code",
   "execution_count": 5,
   "metadata": {},
   "outputs": [
    {
     "name": "stderr",
     "output_type": "stream",
     "text": [
      "7: E999 SyntaxError: invalid syntax\n"
     ]
    }
   ],
   "source": [
    "unique?"
   ]
  },
  {
   "cell_type": "code",
   "execution_count": 6,
   "metadata": {},
   "outputs": [
    {
     "name": "stderr",
     "output_type": "stream",
     "text": [
      "7: E999 SyntaxError: invalid syntax\n"
     ]
    }
   ],
   "source": [
    "unique??"
   ]
  },
  {
   "cell_type": "markdown",
   "metadata": {},
   "source": [
    "## Testing\n",
    "\n",
    "It is a good idea to write tests that check whether or not your code produces the expected output. This can help you make sure that all the dependencies of your code are properly installed and working, code changes have not resulted in unexpected consequences or that the recent addition you have made is working as it should. A good framework for performing such tests is [pytest](https://docs.pytest.org/en/latest/). Inside a Jupyter notebook we should use [ipytest](https://pypi.org/project/ipytest/), which is based on pytest. "
   ]
  },
  {
   "cell_type": "code",
   "execution_count": 7,
   "metadata": {},
   "outputs": [],
   "source": [
    "import ipytest\n",
    "ipytest.autoconfig()"
   ]
  },
  {
   "cell_type": "code",
   "execution_count": 13,
   "metadata": {},
   "outputs": [],
   "source": [
    "# A faulty function\n",
    "def int_square(a):\n",
    "    return a"
   ]
  },
  {
   "cell_type": "code",
   "execution_count": 14,
   "metadata": {},
   "outputs": [
    {
     "name": "stdout",
     "output_type": "stream",
     "text": [
      "F                                                                                                                [100%]\n",
      "======================================================= FAILURES =======================================================\n",
      "_____________________________________________________ test_square ______________________________________________________\n",
      "\n",
      "    def test_square():\n",
      ">       assert isinstance(int_square(0.), int)\n",
      "E       assert False\n",
      "E        +  where False = isinstance(0.0, int)\n",
      "E        +    where 0.0 = int_square(0.0)\n",
      "\n",
      "<ipython-input-14-c6bf4b631d49>:3: AssertionError\n",
      "=============================================== short test summary info ================================================\n",
      "FAILED tmp93regl57.py::test_square - assert False\n"
     ]
    }
   ],
   "source": [
    "%%run_pytest[clean] -qq\n",
    "\n",
    "# The test that reveals the problems\n",
    "def test_square():\n",
    "    assert isinstance(int_square(0.), int)\n",
    "    assert int_square(3) == 9"
   ]
  },
  {
   "cell_type": "markdown",
   "metadata": {},
   "source": [
    "Although pytest tries to help us as much as possible in figuring out what is causing the tests to fail, you should keep in mind that pytest runs the tests it is told to run. How useful pytest is for figuring out problems depends on how well these tests are written.\n",
    "\n",
    "## Version control\n",
    "\n",
    "It is a good idea to have some version control software manage your code. Not only would this allow you to restore older versions of your code repository, it can also help you to document how the code has evolved. If you are using [Git](https://git-scm.com) it is very simple to host your code (either privately or publicly) on [GitHub](https://github.com), [GitLab](https://gitlab.com) or [Bitbucket](https://bitbucket.org/) (this list is far from being complete). This functions both as a backup in the cloud but also allows you to easily share your code with your collaborators (or at the very least your supervisor), though Git can certainly be useful even if you never share your repository with anyone.\n",
    "\n",
    "If you are interested in version control then you can read more about it from [Chapter 1 Section 1 of the Pro Git book](https://git-scm.com/book/en/v2/Getting-Started-About-Version-Control). If you are interested in using Git then you can continue on reading the book. If you are interested in using some other version control software, then you should first have a look [here](https://git-scm.com/about) and then repent by reading the [Pro Git book](https://git-scm.com/book/en/v2)."
   ]
  },
  {
   "cell_type": "markdown",
   "metadata": {},
   "source": [
    "## Performance optimization & profiling\n",
    "\n",
    "Sometimes when you write code you will find that the efficiency of your code matters. You have a simple task that takes far too long to run and you need to figure out a way of improving the performance. Doing this is a matter of optimizing your code and the Python wiki has compiled a useful [list of general tips and tricks](https://wiki.python.org/moin/PythonSpeed/PerformanceTips) that can make your code smoother.\n",
    "\n",
    "Knowing what makes a code perform faster beforehand is of course useful but not always realistic. Here we will focus on identifying what is making your code slow after you are already finished with it. We call this **profiling**.\n",
    "\n",
    "In previous lectures we already discussed the use of [timeit](https://docs.python.org/3/library/timeit.html) and its magic functions. Instead we will now discuss means with which to profile an entire script on a line-by-line basis.  \n",
    "\n",
    "\n",
    "### Jupyter profiling\n",
    "\n",
    "First, we will do this in Jupyter using [line_profiler](https://github.com/pyutils/line_profiler) and [pyheat](https://github.com/csurfer/pyheatmagic)."
   ]
  },
  {
   "cell_type": "code",
   "execution_count": 15,
   "metadata": {},
   "outputs": [
    {
     "name": "stdout",
     "output_type": "stream",
     "text": [
      "The heat extension is already loaded. To reload it, use:\n",
      "  %reload_ext heat\n",
      "The line_profiler extension is already loaded. To reload it, use:\n",
      "  %reload_ext line_profiler\n"
     ]
    }
   ],
   "source": [
    "%load_ext heat\n",
    "%load_ext line_profiler\n",
    "import numpy as np\n",
    "import matplotlib.pyplot as plt"
   ]
  },
  {
   "cell_type": "markdown",
   "metadata": {},
   "source": [
    "Say we had the following function for calculating a [moving average](https://en.wikipedia.org/wiki/Moving_average)"
   ]
  },
  {
   "cell_type": "code",
   "execution_count": 38,
   "metadata": {},
   "outputs": [],
   "source": [
    "def movmean(xdata, ydata, window):\n",
    "    ydata_new = np.zeros(len(ydata))\n",
    "    xdata_new = np.zeros(len(xdata))\n",
    "    k = int(window/2)\n",
    "    for i in range(len(ydata)):\n",
    "        if i < window:\n",
    "            ydata_new[i] = np.mean(ydata[:(i+k)])\n",
    "            xdata_new[i] = np.mean(xdata[:(i+k)])\n",
    "        elif i > len(ydata)-window:\n",
    "            ydata_new[i] = np.mean(ydata[(i-k):])\n",
    "            xdata_new[i] = np.mean(xdata[(i-k):])\n",
    "        else:\n",
    "            ydata_new[i] = np.mean(ydata[(i-k):(i+k)])\n",
    "            xdata_new[i] = np.mean(xdata[(i-k):(i+k)])\n",
    "    return(xdata_new, ydata_new)"
   ]
  },
  {
   "cell_type": "markdown",
   "metadata": {},
   "source": [
    "We use it on some noisy data that we have."
   ]
  },
  {
   "cell_type": "code",
   "execution_count": 19,
   "metadata": {},
   "outputs": [
    {
     "data": {
      "text/plain": [
       "Text(0, 0.5, '$y$')"
      ]
     },
     "execution_count": 19,
     "metadata": {},
     "output_type": "execute_result"
    },
    {
     "data": {
      "image/png": "[encoded data removed]",
      "text/plain": [
       "<Figure size 432x288 with 1 Axes>"
      ]
     },
     "metadata": {
      "needs_background": "light"
     },
     "output_type": "display_data"
    }
   ],
   "source": [
    "x, y = np.loadtxt('xy.txt')\n",
    "x_med, y_med = movmean(x, y, 100)\n",
    "\n",
    "plt.plot(x, y, '.')\n",
    "plt.plot(x_med, y_med, 'r')\n",
    "plt.xlabel('$x$')\n",
    "plt.ylabel('$y$')"
   ]
  },
  {
   "cell_type": "markdown",
   "metadata": {},
   "source": [
    "Now we run `line_profiler` on the function call to identify what our bottlenecks are using `%lprun`."
   ]
  },
  {
   "cell_type": "code",
   "execution_count": 40,
   "metadata": {},
   "outputs": [],
   "source": [
    "%lprun -f movmean movmean(x, y, 100)"
   ]
  },
  {
   "cell_type": "markdown",
   "metadata": {},
   "source": [
    "This brings up the results to the pager which tells us that most of our time is spent in the else statement where it should be.  \n",
    "\n",
    "We might want to use `heat` instead. In this case, we need to have the function defined in the same cell. For this reason, it is more applicable to be used on entire scripts or self-contained cells that do not rely on previous cells in Jupyter."
   ]
  },
  {
   "cell_type": "code",
   "execution_count": 39,
   "metadata": {},
   "outputs": [
    {
     "data": {
      "image/png": "[encoded data removed]",
      "text/plain": [
       "<Figure size 504x504 with 2 Axes>"
      ]
     },
     "metadata": {
      "needs_background": "light"
     },
     "output_type": "display_data"
    }
   ],
   "source": [
    "%%heat\n",
    "import numpy as np\n",
    "\n",
    "def movmean(xdata, ydata, window):\n",
    "    ydata_new = np.zeros(len(ydata))\n",
    "    xdata_new = np.zeros(len(xdata))\n",
    "    k = int(window/2)\n",
    "    for i in range(len(ydata)):\n",
    "        if i < window:\n",
    "            ydata_new[i] = np.mean(ydata[:(i+k)])\n",
    "            xdata_new[i] = np.mean(xdata[:(i+k)])\n",
    "        elif i > len(ydata)-window:\n",
    "            ydata_new[i] = np.mean(ydata[(i-k):])\n",
    "            xdata_new[i] = np.mean(xdata[(i-k):])\n",
    "        else:\n",
    "            ydata_new[i] = np.mean(ydata[(i-k):(i+k)])\n",
    "            xdata_new[i] = np.mean(xdata[(i-k):(i+k)])\n",
    "    return(xdata_new, ydata_new)\n",
    "\n",
    "\n",
    "x, y = np.loadtxt('xy.txt')\n",
    "x_med, y_med = movmean(x, y, 100)"
   ]
  },
  {
   "cell_type": "markdown",
   "metadata": {},
   "source": [
    "The output confirms what we know from `line_profiler`.\n",
    "\n",
    "### Spyder\n",
    "\n",
    "Spyder has implemented [spyder-line-profiler](https://github.com/spyder-ide/spyder-line-profiler) which is `line_profiler` implemented directly in Spyder.\n",
    "\n",
    "Once installed you can use it by placing a `@profile` decorator in front of the functions that you want to be profiled. Then either press Shift + F10 or go to `Run > Profile line by line` to start the profiler.\n",
    "\n",
    "A short demonstration of using this profiler in Spyder can be seen in the video below:\n",
    "\n",
    "<video controls width=\"900\" src=\"spyder_line_profiler.mov\" />"
   ]
  },
  {
   "cell_type": "markdown",
   "metadata": {},
   "source": [
    "### Normal Python\n",
    "When we use profiling in basic Python we can make use of the above `line_profiler` again or the builtin [cProfiler](https://docs.python.org/3/library/profile.html). In a script you could for example do:"
   ]
  },
  {
   "cell_type": "code",
   "execution_count": 107,
   "metadata": {},
   "outputs": [
    {
     "name": "stdout",
     "output_type": "stream",
     "text": [
      "         28909 function calls in 0.032 seconds\n",
      "\n",
      "   Ordered by: standard name\n",
      "\n",
      "   ncalls  tottime  percall  cumtime  percall filename:lineno(function)\n",
      "     2000    0.001    0.000    0.029    0.000 <__array_function__ internals>:2(mean)\n",
      "        1    0.003    0.003    0.032    0.032 <ipython-input-38-742527db4f91>:1(movmean)\n",
      "        1    0.000    0.000    0.032    0.032 <string>:1(<module>)\n",
      "     2000    0.001    0.000    0.001    0.000 _asarray.py:88(asanyarray)\n",
      "     2000    0.012    0.000    0.023    0.000 _methods.py:134(_mean)\n",
      "     2000    0.002    0.000    0.002    0.000 _methods.py:50(_count_reduce_items)\n",
      "     2000    0.000    0.000    0.000    0.000 fromnumeric.py:3227(_mean_dispatcher)\n",
      "     2000    0.003    0.000    0.026    0.000 fromnumeric.py:3231(mean)\n",
      "        1    0.000    0.000    0.032    0.032 {built-in method builtins.exec}\n",
      "     2000    0.001    0.000    0.001    0.000 {built-in method builtins.hasattr}\n",
      "     4000    0.001    0.000    0.001    0.000 {built-in method builtins.isinstance}\n",
      "     4000    0.001    0.000    0.001    0.000 {built-in method builtins.issubclass}\n",
      "      903    0.000    0.000    0.000    0.000 {built-in method builtins.len}\n",
      "     2000    0.001    0.000    0.001    0.000 {built-in method numpy.array}\n",
      "     2000    0.001    0.000    0.027    0.000 {built-in method numpy.core._multiarray_umath.implement_array_function}\n",
      "        2    0.000    0.000    0.000    0.000 {built-in method numpy.zeros}\n",
      "        1    0.000    0.000    0.000    0.000 {method 'disable' of '_lsprof.Profiler' objects}\n",
      "     2000    0.006    0.000    0.006    0.000 {method 'reduce' of 'numpy.ufunc' objects}\n",
      "\n",
      "\n"
     ]
    }
   ],
   "source": [
    "import cProfile\n",
    "\n",
    "cProfile.run('movmean(x, y, 100)')"
   ]
  },
  {
   "cell_type": "markdown",
   "metadata": {},
   "source": [
    "This output might not be the easiest to interpret. Also `cProfile` only times function calls and so would miss some slow numpy operation like `a[large_index_array] = some_other_large_array`.\n",
    "\n",
    "Instead we might want to use `line_profiler`. For this we move to the Command line:\n",
    "\n",
    "Once again, make sure that your function has the `@profile` decorator. Then do the following in the same directory as your .py script:\n",
    "\n",
    "<pre style=\"background-color:black;color:white\"> \n",
    "<code style=\"background-color:black;color:white\"> \n",
    " $ kernprof -l -v spyderexample.py\n",
    " \n",
    " Wrote profile results to spyderexample.py.lprof\n",
    " Timer unit: 1e-06 s\n",
    " \n",
    " Total time: 0.033536 s\n",
    " File: spyderexample.py\n",
    " Function: movmean at line 11\n",
    " \n",
    " Line #      Hits         Time  Per Hit   % Time  Line Contents\n",
    " ==============================================================\n",
    "     11                                           @profile\n",
    "     12                                           def movmean(xdata, ydata, window):\n",
    "     13         1         52.0     52.0      0.2      ydata_new = np.zeros(len(ydata))\n",
    "     14         1          3.0      3.0      0.0      xdata_new = np.zeros(len(xdata))\n",
    "     15         1          2.0      2.0      0.0      k = int(window/2)\n",
    "     16      1001        499.0      0.5      1.5      for i in range(len(ydata)):\n",
    "     17      1000        412.0      0.4      1.2          if i < window:\n",
    "     18       100       1635.0     16.4      4.9              ydata_new[i] = np.mean(ydata[:(i+k)])\n",
    "     19       100       1574.0     15.7      4.7              xdata_new[i] = np.mean(xdata[:(i+k)])\n",
    "     20       900        513.0      0.6      1.5          elif i > len(ydata)-window:\n",
    "     21        99       1714.0     17.3      5.1              ydata_new[i] = np.mean(ydata[(i-k):])\n",
    "     22        99       1663.0     16.8      5.0              xdata_new[i] = np.mean(xdata[(i-k):])\n",
    "     23                                                   else:\n",
    "     24       801      12539.0     15.7     37.4              ydata_new[i] = np.mean(ydata[(i-k):(i+k)])\n",
    "     25       801      12930.0     16.1     38.6              xdata_new[i] = np.mean(xdata[(i-k):(i+k)])\n",
    "     26         1          0.0      0.0      0.0      return(xdata_new, ydata_new)\n",
    "     \n",
    " $ |\n",
    " \n",
    "</code> \n",
    "</pre>   \n",
    "\n",
    "This will generate a file called `<yourscriptname>.py.lpro`. The `-v` option is to let you view the results immediately. Otherwise you can view them by calling\n",
    "\n",
    "<pre style=\"background-color:black;color:white\"> \n",
    "<code style=\"background-color:black;color:white\"> \n",
    " $ python -m line_profiler spyderexample.py.lprof\n",
    " \n",
    "</code> \n",
    "</pre> \n",
    "\n",
    "## RISE\n",
    "\n",
    "You will have noticed during the presentations that we used a sort of \"slideshow\" version of Jupyter notebooks. There are a few ways this can be done and if you want to do this we recommend you use [RISE](https://rise.readthedocs.io/en/stable/#) which is what we have used.  \n",
    "\n",
    "Once you have installed it, you will find the following button in your notebooks:\n",
    "\n",
    "![](imgs/RISE1.png)\n",
    "\n",
    "Which will take you into a presentation mode of your notebook. But before you do that, you need to specify which cells, both markdown and code, belong to a slide. For this, you will want to see slide types under `View > Cell Toolbar > Slideshow`, seen as <strong style=\"color:red\">a</strong> in the following figure:\n",
    "\n",
    "![](imgs/RISE2.png)\n",
    "\n",
    "Now you can see the slide type where <strong style=\"color:red\">b</strong> is in the above image. Every cell starting with `Slide` will be a new cell. Try out the other options to quickly figure out what they do."
   ]
  }
 ],
 "metadata": {
  "celltoolbar": "Slideshow",
  "kernelspec": {
   "display_name": "Python 3",
   "language": "python",
   "name": "python3"
  },
  "language_info": {
   "codemirror_mode": {
    "name": "ipython",
    "version": 3
   },
   "file_extension": ".py",
   "mimetype": "text/x-python",
   "name": "python",
   "nbconvert_exporter": "python",
   "pygments_lexer": "ipython3",
   "version": "3.8.3"
  }
 },
 "nbformat": 4,
 "nbformat_minor": 4
}
