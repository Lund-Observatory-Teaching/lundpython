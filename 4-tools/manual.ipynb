{
 "cells": [
  {
   "cell_type": "markdown",
   "metadata": {},
   "source": [
    "# A brief introduction to using Python in Astronomy\n",
    "\n",
    "The purpose of this lesson is to introduce a few tools that can be very useful for working with Python. The benefits of using these tools might not be apparent immediately and you might choose not to use them in the ongoing courses. This is because their utility is correlated very strongly with the age of your code, the size of your code and the number of people you are collaborating with. So in a course project that you work on individually over a short time period of a couple of weeks and which does not involve much code you could get away with ignoring everything introduced in this notebook. But you will work on your Master's project over several months, most likely write quite a lot of code and at the very least you will be working together with your supervisor, so it is highly recommended that you incorporate the tools discussed below (or their analogues if you will be coding in some other language) into your workflow by that time.\n",
    "\n",
    "## Virtual environments\n",
    "\n",
    "It is often a good idea to run Python in a virtual environment, whether it is set up through [venv](https://docs.python.org/3/tutorial/venv.html) or Anaconda. Among many other benefits this allows you to test your code in a clean environment to ensure that you have not forgotten to list any dependencies (which is important if anyone else ever tries to run your code), but also to install Python packages without requiring root access to your computer. At the moment you are likely already running Python in a virtual environment created by Anaconda.\n",
    "\n",
    "## PEP 8\n",
    "\n",
    "[The Python Style Guide](https://www.python.org/dev/peps/pep-0008/), commonly referred to as PEP 8, was already mentioned in the first lesson. Here we introduce tools that allow you to check if your code is PEP 8 compliant. One such tool is [pycodestyle](https://pypi.org/project/pycodestyle/). If you wish to check a Python script called 'helloworld.py' you would simply run\n",
    "```\n",
    "$ pycodestyle helloworld.py\n",
    "```\n",
    "With [pycodestyle_magic](https://github.com/mattijn/pycodestyle_magic) it is possible to check if your code cells in a Jupyter notebook are PEP 8 compliant or not. Its use is demonstrated below."
   ]
  },
  {
   "cell_type": "code",
   "execution_count": null,
   "metadata": {},
   "outputs": [],
   "source": [
    "%load_ext pycodestyle_magic\n",
    "# Using lines longer than 80 characters within a notebook could be reasonable\n",
    "%flake8_on --max_line_length 99"
   ]
  },
  {
   "cell_type": "code",
   "execution_count": null,
   "metadata": {},
   "outputs": [],
   "source": [
    "a='This code is not PEP 8 compliant! Not only will pycodestyle get very upset, it will make sure you will be upset too.' \n",
    "for sentence in a.split( '! ' ):\n",
    "  print(sentence ,end ='\\n\\n')# Notice how the Python interpreter does not require 4 space indents"
   ]
  },
  {
   "cell_type": "markdown",
   "metadata": {},
   "source": [
    "Although the example above has produced more complaints than there are lines in the code, all the error messages state exactly where the PEP 8 violations are located and what the problems are. This makes fixing them quite straightforward.\n",
    "\n",
    "## Docstrings\n",
    "\n",
    "Docstrings are an important documentation tool in Python. In fact they are important enough that the conventions for writing docstrings are not provided in PEP 8, but separately in [PEP 257](https://www.python.org/dev/peps/pep-0257/). You can think of docstrings as special comments that, differently from normal comments, are accessible from the Python interpreter. They are often used by IDEs but also for automatically generating online documentation. Very basic use of docstrings is demonstrated below."
   ]
  },
  {
   "cell_type": "code",
   "execution_count": null,
   "metadata": {},
   "outputs": [],
   "source": [
    "def hello_world():\n",
    "    \"\"\"Prints 'Hello, World!'\"\"\"\n",
    "    print('Hello, World!')\n",
    "\n",
    "\n",
    "help(hello_world)"
   ]
  },
  {
   "cell_type": "markdown",
   "metadata": {},
   "source": [
    "If you are writing something that might be used by many people and wish to adhere to good docstring conventions then it might be a good idea to check out the [NumPy docstring convention](https://numpydoc.readthedocs.io/en/latest/format.html). A NumPy docstring is provided as an example."
   ]
  },
  {
   "cell_type": "code",
   "execution_count": null,
   "metadata": {},
   "outputs": [],
   "source": [
    "from numpy import unique\n",
    "help(unique)"
   ]
  },
  {
   "cell_type": "markdown",
   "metadata": {},
   "source": [
    "Inside a Jupyter notebook you can use the IPython commands `?` and `?? ` to view the docstring and source of a function respectively. Because these are IPython commands rather than normal Python commands, pycodestyle will think they are a syntax error, but this is not a problem in Jupyter."
   ]
  },
  {
   "cell_type": "code",
   "execution_count": null,
   "metadata": {},
   "outputs": [],
   "source": [
    "unique?"
   ]
  },
  {
   "cell_type": "code",
   "execution_count": null,
   "metadata": {},
   "outputs": [],
   "source": [
    "unique??"
   ]
  },
  {
   "cell_type": "markdown",
   "metadata": {},
   "source": [
    "## Testing\n",
    "\n",
    "It is a good idea to write tests that check whether or not your code produces the expected output. This can help you make sure that all the dependencies of your code are properly installed and working, code changes have not resulted in unexpected consequences or that the recent addition you have made is working as it should. A good framework for performing such tests is [pytest](https://docs.pytest.org/en/latest/). Inside a Jupyter notebook we should use [ipytest](https://pypi.org/project/ipytest/), which is based on pytest. "
   ]
  },
  {
   "cell_type": "code",
   "execution_count": null,
   "metadata": {},
   "outputs": [],
   "source": [
    "import ipytest\n",
    "ipytest.autoconfig()"
   ]
  },
  {
   "cell_type": "code",
   "execution_count": null,
   "metadata": {},
   "outputs": [],
   "source": [
    "# A faulty function\n",
    "def int_square(a) :\n",
    "    return a"
   ]
  },
  {
   "cell_type": "code",
   "execution_count": null,
   "metadata": {},
   "outputs": [],
   "source": [
    "%%run_pytest[clean] -qq\n",
    "\n",
    "# The test that reveals the problems\n",
    "def test_square():\n",
    "    assert isinstance(int_square(0.), int)\n",
    "    assert int_square(3) == 9"
   ]
  },
  {
   "cell_type": "markdown",
   "metadata": {},
   "source": [
    "Although pytest tries to help us as much as possible in figuring out what is causing the tests to fail, you should keep in mind that pytest runs the tests it is told to run. How useful pytest is for figuring out problems depends on how well these tests are written.\n",
    "\n",
    "## Version control\n",
    "\n",
    "It is a good idea to have some version control software manage your code. Not only would this allow you to restore older versions of your code repository, it can also help you to document how the code has evolved. If you are using [Git](https://git-scm.com) it is very simple to host your code (either privately or publicly) on [GitHub](https://github.com), [GitLab](https://gitlab.com) or [Bitbucket](https://bitbucket.org/) (this list is far from being complete). This functions both as a backup in the cloud but also allows you to easily share your code with your collaborators (or at the very least your supervisor), though Git can certainly be useful even if you never share your repository with anyone.\n",
    "\n",
    "If you are interested in version control then you can read more about it from [Chapter 1 Section 1 of the Pro Git book](https://git-scm.com/book/en/v2/Getting-Started-About-Version-Control). If you are interested in using Git then you can continue on reading the book. If you are interested in using some other version control software, then you should first have a look [here](https://git-scm.com/about) and then repent by reading the [Pro Git book](https://git-scm.com/book/en/v2)."
   ]
  }
 ],
 "metadata": {
  "kernelspec": {
   "display_name": "Python 3",
   "language": "python",
   "name": "python3"
  },
  "language_info": {
   "codemirror_mode": {
    "name": "ipython",
    "version": 3
   },
   "file_extension": ".py",
   "mimetype": "text/x-python",
   "name": "python",
   "nbconvert_exporter": "python",
   "pygments_lexer": "ipython3",
   "version": "3.8.5"
  }
 },
 "nbformat": 4,
 "nbformat_minor": 4
}
