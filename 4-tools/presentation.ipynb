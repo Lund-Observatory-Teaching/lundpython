{
 "cells": [
  {
   "cell_type": "markdown",
   "metadata": {
    "slideshow": {
     "slide_type": "slide"
    }
   },
   "source": [
    "<img src=\"https://mikkolad.github.io/lundpython/front.jpeg\" width=\"1400\">"
   ]
  },
  {
   "cell_type": "markdown",
   "metadata": {
    "slideshow": {
     "slide_type": "slide"
    }
   },
   "source": [
    "<h1><center> Where to get the lecture notes </center></h1>\n",
    "\n",
    "You can get copies of all the lecture files at my personal website. Go to:\n",
    "\n",
    "http://www.astro.lu.se/~mikkola/\n",
    "\n",
    "and click on **Teaching**\n",
    "\n",
    "\n",
    "Each lecture contains (as notebooks)\n",
    "- Manual \n",
    "- Exercises (not present in lesson 4)\n",
    "- Presentation\n",
    "\n",
    "---"
   ]
  },
  {
   "cell_type": "markdown",
   "metadata": {
    "slideshow": {
     "slide_type": "slide"
    }
   },
   "source": [
    "# PEP8\n",
    "\n",
    "Recall from lecture 1 [The Python Style Guide](https://www.python.org/dev/peps/pep-0008/) a.k.a. PEP8.  \n",
    "\n",
    "It is a lengthy document that can be hard to memorize. Instead, there are nifty tools one can use to check the PEP8 compliance of a script. Consider for example [pycodestyle](https://pypi.org/project/pycodestyle/). Once it has been installed on your system, you can check a script in the following way:"
   ]
  },
  {
   "cell_type": "code",
   "execution_count": null,
   "metadata": {},
   "outputs": [],
   "source": [
    "import os\n",
    "os.system('open -a Terminal .')  # Opens a terminal on MacOS"
   ]
  },
  {
   "cell_type": "markdown",
   "metadata": {
    "slideshow": {
     "slide_type": "slide"
    }
   },
   "source": [
    "If you're working in a Jupyter notebook, you can use the magic command called [pycodestyle_magic](https://github.com/mattijn/pycodestyle_magic) instead. A demonstration:"
   ]
  },
  {
   "cell_type": "code",
   "execution_count": null,
   "metadata": {
    "slideshow": {
     "slide_type": "-"
    }
   },
   "outputs": [],
   "source": [
    "%load_ext pycodestyle_magic\n",
    "# Using lines longer than 80 characters within a notebook could be reasonable\n",
    "%flake8_on --max_line_length 99"
   ]
  },
  {
   "cell_type": "code",
   "execution_count": null,
   "metadata": {
    "slideshow": {
     "slide_type": "-"
    }
   },
   "outputs": [],
   "source": [
    "a='This code is not PEP 8 compliant! Not only will pycodestyle get very upset, it will make sure you will be upset too.' \n",
    "for sentence in a.split( '! ' ):\n",
    "  print(sentence ,end ='\\n\\n')# Notice how the Python interpreter does not require 4 space indents"
   ]
  },
  {
   "cell_type": "markdown",
   "metadata": {
    "slideshow": {
     "slide_type": "slide"
    }
   },
   "source": [
    "# Docstrings\n",
    "\n",
    "Docstrings contain documentation information for different functions in Python and we have a few ways of accessing them. But first, let's write our own docstring."
   ]
  },
  {
   "cell_type": "code",
   "execution_count": null,
   "metadata": {
    "slideshow": {
     "slide_type": "-"
    }
   },
   "outputs": [],
   "source": [
    "def foo():\n",
    "    \"\"\"This is a docstring for foo(), it does nothing as a function\"\"\"\n",
    "    return"
   ]
  },
  {
   "cell_type": "markdown",
   "metadata": {},
   "source": [
    "As specified, our function foo() does nothing. But how would we know if we didn't write it ourselves? "
   ]
  },
  {
   "cell_type": "code",
   "execution_count": null,
   "metadata": {
    "slideshow": {
     "slide_type": "-"
    }
   },
   "outputs": [],
   "source": [
    "help(foo)"
   ]
  },
  {
   "cell_type": "markdown",
   "metadata": {},
   "source": [
    "With the `help()` function we can access the docstring, which can give us useful information on what a function does. We want to write docstrings if we work with other people."
   ]
  },
  {
   "cell_type": "markdown",
   "metadata": {
    "slideshow": {
     "slide_type": "slide"
    }
   },
   "source": [
    "Let's also access the docstring of some existing function!"
   ]
  },
  {
   "cell_type": "code",
   "execution_count": null,
   "metadata": {
    "slideshow": {
     "slide_type": "-"
    }
   },
   "outputs": [],
   "source": [
    "from numpy import identity\n",
    "help(identity)"
   ]
  },
  {
   "cell_type": "markdown",
   "metadata": {
    "slideshow": {
     "slide_type": "slide"
    }
   },
   "source": [
    "Jupyter notebook also has some useful ways of accessing docstrings. We can use<code style=\"color:#AA29FF\"><b>?</b></code> and <code style=\"color:#AA29FF\"><b>??</b></code> for example to access the docstring and source code respectively"
   ]
  },
  {
   "cell_type": "code",
   "execution_count": null,
   "metadata": {
    "slideshow": {
     "slide_type": "-"
    }
   },
   "outputs": [],
   "source": [
    "identity?"
   ]
  },
  {
   "cell_type": "code",
   "execution_count": null,
   "metadata": {
    "slideshow": {
     "slide_type": "-"
    }
   },
   "outputs": [],
   "source": [
    "identity??"
   ]
  },
  {
   "cell_type": "markdown",
   "metadata": {
    "slideshow": {
     "slide_type": "-"
    }
   },
   "source": [
    "We can also utilize `Shift + Tab` inside a function.  \n",
    "1 `Tab` brings up a brief docstring.  \n",
    "2 `Tab` makes it bigger.  \n",
    "3 `Tab` makes it linger for 10 seconds.  \n",
    "4 `Tab` opens the pager."
   ]
  },
  {
   "cell_type": "code",
   "execution_count": null,
   "metadata": {},
   "outputs": [],
   "source": [
    "identity()"
   ]
  },
  {
   "cell_type": "markdown",
   "metadata": {
    "slideshow": {
     "slide_type": "slide"
    }
   },
   "source": [
    "# Peformance optimization & profiling\n",
    "\n",
    "You might find that code you've written runs very slowly. In order to identify what the source of your slowness is you'll want to use profilers.  \n",
    "\n",
    "You've already encountered [timeit](https://docs.python.org/3/library/timeit.html) so let's go over some more extensive alternatives.  \n",
    "\n",
    "First, let's create a function that we want to profile:"
   ]
  },
  {
   "cell_type": "code",
   "execution_count": null,
   "metadata": {},
   "outputs": [],
   "source": [
    "%load_ext heat\n",
    "%load_ext line_profiler\n",
    "import numpy as np\n",
    "import matplotlib.pyplot as plt"
   ]
  },
  {
   "cell_type": "code",
   "execution_count": null,
   "metadata": {},
   "outputs": [],
   "source": [
    "def movmean(xdata, ydata, window):\n",
    "    ydata_new = np.zeros(len(ydata))\n",
    "    xdata_new = np.zeros(len(xdata))\n",
    "    k = int(window/2)\n",
    "    for i in range(len(ydata)):\n",
    "        if i < window:\n",
    "            ydata_new[i] = np.mean(ydata[:(i+k)])\n",
    "            xdata_new[i] = np.mean(xdata[:(i+k)])\n",
    "        elif i > len(ydata)-window:\n",
    "            ydata_new[i] = np.mean(ydata[(i-k):])\n",
    "            xdata_new[i] = np.mean(xdata[(i-k):])\n",
    "        else:\n",
    "            ydata_new[i] = np.mean(ydata[(i-k):(i+k)])\n",
    "            xdata_new[i] = np.mean(xdata[(i-k):(i+k)])\n",
    "    return(xdata_new, ydata_new)"
   ]
  },
  {
   "cell_type": "markdown",
   "metadata": {},
   "source": [
    "This is a [moving average](https://en.wikipedia.org/wiki/Moving_average)."
   ]
  },
  {
   "cell_type": "markdown",
   "metadata": {
    "slideshow": {
     "slide_type": "slide"
    }
   },
   "source": [
    "We'll need some data to use it on:"
   ]
  },
  {
   "cell_type": "code",
   "execution_count": null,
   "metadata": {},
   "outputs": [],
   "source": [
    "x, y = np.loadtxt('xy.txt')\n",
    "x_med, y_med = movmean(x, y, 100)\n",
    "\n",
    "plt.plot(x, y, '.')\n",
    "plt.plot(x_med, y_med, 'r')\n",
    "plt.xlabel('$x$')\n",
    "plt.ylabel('$y$')"
   ]
  },
  {
   "cell_type": "markdown",
   "metadata": {},
   "source": [
    "In Jupyter we can profile it with this [line_profiler](https://github.com/pyutils/line_profiler)"
   ]
  },
  {
   "cell_type": "code",
   "execution_count": null,
   "metadata": {},
   "outputs": [],
   "source": [
    "%lprun -f movmean movmean(x, y, 100)"
   ]
  },
  {
   "cell_type": "markdown",
   "metadata": {
    "slideshow": {
     "slide_type": "slide"
    }
   },
   "source": [
    "or we can profile it with [pyheat](https://github.com/csurfer/pyheatmagic)"
   ]
  },
  {
   "cell_type": "code",
   "execution_count": null,
   "metadata": {},
   "outputs": [],
   "source": [
    "%%heat\n",
    "import numpy as np\n",
    "\n",
    "def movmean(xdata, ydata, window):\n",
    "    ydata_new = np.zeros(len(ydata))\n",
    "    xdata_new = np.zeros(len(xdata))\n",
    "    k = int(window/2)\n",
    "    for i in range(len(ydata)):\n",
    "        if i < window:\n",
    "            ydata_new[i] = np.mean(ydata[:(i+k)])\n",
    "            xdata_new[i] = np.mean(xdata[:(i+k)])\n",
    "        elif i > len(ydata)-window:\n",
    "            ydata_new[i] = np.mean(ydata[(i-k):])\n",
    "            xdata_new[i] = np.mean(xdata[(i-k):])\n",
    "        else:\n",
    "            ydata_new[i] = np.mean(ydata[(i-k):(i+k)])\n",
    "            xdata_new[i] = np.mean(xdata[(i-k):(i+k)])\n",
    "    return(xdata_new, ydata_new)\n",
    "\n",
    "\n",
    "x, y = np.loadtxt('xy.txt')\n",
    "x_med, y_med = movmean(x, y, 100)"
   ]
  },
  {
   "cell_type": "markdown",
   "metadata": {
    "slideshow": {
     "slide_type": "slide"
    }
   },
   "source": [
    "# Spyder\n",
    "Spyder uses `line_profiler` too in the package [spyder-line-profiler](https://github.com/spyder-ide/spyder-line-profiler)\n",
    "\n",
    "A quick demonstration!"
   ]
  },
  {
   "cell_type": "code",
   "execution_count": null,
   "metadata": {},
   "outputs": [],
   "source": [
    "import os\n",
    "os.popen('spyder')"
   ]
  },
  {
   "cell_type": "markdown",
   "metadata": {
    "slideshow": {
     "slide_type": "slide"
    }
   },
   "source": [
    "# Command line\n",
    "When profiling on the command line, I again encourage you to use `line_profiler`. \n",
    "\n",
    "We will need the command: `kernprof -l -v spyderexample.py`"
   ]
  },
  {
   "cell_type": "code",
   "execution_count": null,
   "metadata": {},
   "outputs": [],
   "source": [
    "import os\n",
    "os.system('open -a Terminal .')  # Opens a terminal on MacOS"
   ]
  },
  {
   "cell_type": "markdown",
   "metadata": {
    "slideshow": {
     "slide_type": "slide"
    }
   },
   "source": [
    "<h1><center> RISE </center></h1>"
   ]
  }
 ],
 "metadata": {
  "celltoolbar": "Slideshow",
  "kernelspec": {
   "display_name": "Python 3",
   "language": "python",
   "name": "python3"
  },
  "language_info": {
   "codemirror_mode": {
    "name": "ipython",
    "version": 3
   },
   "file_extension": ".py",
   "mimetype": "text/x-python",
   "name": "python",
   "nbconvert_exporter": "python",
   "pygments_lexer": "ipython3",
   "version": "3.8.5"
  }
 },
 "nbformat": 4,
 "nbformat_minor": 2
}
