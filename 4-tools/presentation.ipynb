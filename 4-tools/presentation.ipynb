{
 "cells": [
  {
   "cell_type": "markdown",
   "metadata": {
    "slideshow": {
     "slide_type": "slide"
    }
   },
   "source": [
    "<img src=\"https://lund-observatory-teaching.github.io/lundpython/imgs/front_4.jpeg\" width=\"1400\">"
   ]
  },
  {
   "cell_type": "markdown",
   "metadata": {
    "slideshow": {
     "slide_type": "slide"
    }
   },
   "source": [
    "<h1><center> Course website </center></h1>\n",
    "\n",
    "To download all lecture files and see the schedule, please visit:\n",
    "\n",
    "[lund-observatory-teaching.github.io/lundpython/](https://lund-observatory-teaching.github.io/lundpython/)\n",
    "\n",
    "\n",
    "Each lecture contains (as notebooks)\n",
    "- Manual \n",
    "- Exercises\n",
    "- Presentation\n",
    "\n",
    "---"
   ]
  },
  {
   "cell_type": "markdown",
   "metadata": {
    "slideshow": {
     "slide_type": "slide"
    }
   },
   "source": [
    "#### Today we are going to be using a selection of tools to work through an example of how to improve a piece of code. "
   ]
  },
  {
   "cell_type": "code",
   "execution_count": null,
   "metadata": {},
   "outputs": [],
   "source": [
    "def sieve(n):\n",
    "    primes = []\n",
    "    test = list(range(2, n + 1))\n",
    "    while test[0] < n**0.5:\n",
    "        p = test.pop(0)\n",
    "        primes.append(p)\n",
    "        new_list = []\n",
    "        for n in test:\n",
    "            if n % p:\n",
    "                new_list.append(n)\n",
    "        test = new_list\n",
    "    return primes + test\n",
    "\n",
    "\n",
    "primes = sieve(50)\n",
    "print(primes)"
   ]
  },
  {
   "cell_type": "markdown",
   "metadata": {
    "slideshow": {
     "slide_type": "slide"
    }
   },
   "source": [
    "# Testing\n",
    "\n",
    "   #### \"If debugging is the process of removing bugs, then programming must be the process of putting them in.\"\n",
    "    - Edsger W. Dijkstra\n",
    "\n",
    "In order to find bugs, we test our code. Just running the code is a form of testing, but we can do it in a more structured way.\n",
    "\n",
    "Since we are inside a Jupyter notebook we are going to use [ipytest](https://pypi.org/project/ipytest/), details in the manual. "
   ]
  },
  {
   "cell_type": "code",
   "execution_count": null,
   "metadata": {},
   "outputs": [],
   "source": [
    "import ipytest\n",
    "\n",
    "ipytest.autoconfig()"
   ]
  },
  {
   "cell_type": "code",
   "execution_count": null,
   "metadata": {
    "slideshow": {
     "slide_type": "subslide"
    }
   },
   "outputs": [],
   "source": [
    "%%ipytest\n",
    "\n",
    "def test_sieve():\n",
    "    assert sieve(19) == [2, 3, 5, 7, 11, 13, 17, 19]\n",
    "    assert len(sieve(100)) == 25"
   ]
  },
  {
   "cell_type": "markdown",
   "metadata": {
    "slideshow": {
     "slide_type": "slide"
    }
   },
   "source": [
    "# So you found a bug"
   ]
  },
  {
   "cell_type": "code",
   "execution_count": null,
   "metadata": {},
   "outputs": [],
   "source": [
    "print(sieve(9))"
   ]
  },
  {
   "cell_type": "markdown",
   "metadata": {},
   "source": [
    "What to do now? \n",
    " - Update test\n",
    " - Fix the bug"
   ]
  },
  {
   "cell_type": "code",
   "execution_count": null,
   "metadata": {
    "slideshow": {
     "slide_type": "subslide"
    }
   },
   "outputs": [],
   "source": [
    "%%ipytest\n",
    "\n",
    "# The test that reveals the problems\n",
    "def test_sieve():\n",
    "    assert sieve(19) == [2, 3, 5, 7, 11, 13, 17, 19]\n",
    "    assert sieve(9) == [2, 3, 5, 7] # test for when n is a square of a prime\n",
    "    assert len(sieve(100)) == 25"
   ]
  },
  {
   "cell_type": "markdown",
   "metadata": {
    "slideshow": {
     "slide_type": "slide"
    }
   },
   "source": [
    "When `n` is the square of a prime, the output is includes `n` at the end of the output. \n",
    "\n",
    "This is because if `test[0] == n**0.5` the while loop is stopped early and the last number is not checked. \n",
    "\n",
    "The solution is to change `while test[0] < n**0.5: ` to `while test[0] <= n**0.5:`. "
   ]
  },
  {
   "cell_type": "code",
   "execution_count": null,
   "metadata": {},
   "outputs": [],
   "source": [
    "def sieve(n):\n",
    "    primes = []\n",
    "    test = list(range(2, n + 1))\n",
    "    while test[0] <= n**0.5:\n",
    "        p = test.pop(0)\n",
    "        primes.append(p)\n",
    "        new_list = []\n",
    "        for n in test:\n",
    "            if n % p:\n",
    "                new_list.append(n)\n",
    "        test = new_list\n",
    "    return primes + test\n",
    "\n",
    "\n",
    "primes = sieve(9)\n",
    "print(primes)"
   ]
  },
  {
   "cell_type": "markdown",
   "metadata": {
    "slideshow": {
     "slide_type": "slide"
    }
   },
   "source": [
    "# Peformance optimization & profiling\n",
    "\n",
    "You might find that code you've written runs (very) slowly. In order to identify what the source of your slowness is you'll want to use profilers.  \n",
    "\n",
    "You've already encountered [timeit](https://docs.python.org/3/library/timeit.html) so let's go over some more extensive alternatives.  \n",
    "\n",
    "First, let's import the things we need."
   ]
  },
  {
   "cell_type": "code",
   "execution_count": null,
   "metadata": {
    "scrolled": true
   },
   "outputs": [],
   "source": [
    "%load_ext heat\n",
    "%load_ext line_profiler\n",
    "import numpy as np\n",
    "import matplotlib.pyplot as plt"
   ]
  },
  {
   "cell_type": "markdown",
   "metadata": {
    "slideshow": {
     "slide_type": "slide"
    }
   },
   "source": [
    "We'll keep working on the `sieve()` function."
   ]
  },
  {
   "cell_type": "code",
   "execution_count": null,
   "metadata": {},
   "outputs": [],
   "source": [
    "x = range(3, 5000)\n",
    "primes_under_n = [len(sieve(n)) for n in x]\n",
    "\n",
    "plt.plot(x, primes_under_n)\n",
    "plt.xlabel(\"$n$\")\n",
    "plt.ylabel(\"Number of primes smaller than $n$\")"
   ]
  },
  {
   "cell_type": "markdown",
   "metadata": {
    "slideshow": {
     "slide_type": "slide"
    }
   },
   "source": [
    "We can use [pyheat](https://github.com/csurfer/pyheatmagic) to get a profile that shows which lines take a long time. "
   ]
  },
  {
   "cell_type": "code",
   "execution_count": null,
   "metadata": {
    "slideshow": {
     "slide_type": "-"
    }
   },
   "outputs": [],
   "source": [
    "%%heat\n",
    "\n",
    "def sieve(n):\n",
    "    primes=[]\n",
    "    test=list(range(2,n+1) )\n",
    "    while test[0]<=n**0.5:\n",
    "        p = test.pop(0) \n",
    "        primes.append(p)\n",
    "        new_list = []\n",
    "        for n in test:\n",
    "            if n%p:\n",
    "                new_list.append(n) \n",
    "        test = new_list\n",
    "    return primes+test\n",
    "\n",
    "primes = sieve(5000)\n",
    "print(len(primes))"
   ]
  },
  {
   "cell_type": "markdown",
   "metadata": {
    "slideshow": {
     "slide_type": "slide"
    }
   },
   "source": [
    "In Jupyter we can do a regular profile it with this [line_profiler](https://github.com/pyutils/line_profiler)"
   ]
  },
  {
   "cell_type": "code",
   "execution_count": null,
   "metadata": {},
   "outputs": [],
   "source": [
    "def sieve(n):\n",
    "    primes = []\n",
    "    test = list(range(2, n + 1))\n",
    "    while test[0] <= n**0.5:\n",
    "        p = test.pop(0)\n",
    "        primes.append(p)\n",
    "        test = [n for n in test if n % p]  # Overwrite test each loop\n",
    "    return primes + test"
   ]
  },
  {
   "cell_type": "code",
   "execution_count": null,
   "metadata": {},
   "outputs": [],
   "source": [
    "%lprun -f sieve sieve(5000)"
   ]
  },
  {
   "cell_type": "code",
   "execution_count": null,
   "metadata": {
    "slideshow": {
     "slide_type": "subslide"
    }
   },
   "outputs": [],
   "source": [
    "%%ipytest\n",
    "\n",
    "def test_sieve():\n",
    "    assert sieve(19) == [2, 3, 5, 7, 11, 13, 17, 19]\n",
    "    assert sieve(9) == [2, 3, 5, 7] # test for when n is a perfect square of a prime\n",
    "    assert len(sieve(100)) == 25"
   ]
  },
  {
   "cell_type": "markdown",
   "metadata": {
    "slideshow": {
     "slide_type": "slide"
    }
   },
   "source": [
    "# Command line\n",
    "When profiling on the command line, I again encourage you to use `line_profiler`. \n",
    "\n",
    "We will need the following command.\n",
    "\n",
    "`kernprof -l -v sieve.py`\n",
    "\n",
    "##### Run in command line"
   ]
  },
  {
   "cell_type": "code",
   "execution_count": null,
   "metadata": {
    "slideshow": {
     "slide_type": "-"
    }
   },
   "outputs": [],
   "source": [
    "@profile\n",
    "def sieve(n):\n",
    "    primes = [2]\n",
    "    test = list(range(3, n + 1, 2))\n",
    "    while test[0] ** 2 <= n:\n",
    "        p = test.pop(0)\n",
    "        primes.append(p)\n",
    "        test = [n for n in test if n % p]  # Overwrite test each loop\n",
    "    return primes + test\n",
    "\n",
    "\n",
    "primes = sieve(5000)\n",
    "print(len(primes))"
   ]
  },
  {
   "cell_type": "code",
   "execution_count": null,
   "metadata": {
    "slideshow": {
     "slide_type": "subslide"
    }
   },
   "outputs": [],
   "source": [
    "%%ipytest\n",
    "\n",
    "def test_sieve():\n",
    "    assert sieve(19) == [2, 3, 5, 7, 11, 13, 17, 19]\n",
    "    assert sieve(9) == [2, 3, 5, 7] # test for when n is a perfect square of a prime\n",
    "    assert len(sieve(100)) == 25"
   ]
  },
  {
   "cell_type": "markdown",
   "metadata": {
    "slideshow": {
     "slide_type": "slide"
    }
   },
   "source": [
    "# Spyder\n",
    "Spyder uses `line_profiler` too in the package [spyder-line-profiler](https://github.com/spyder-ide/spyder-line-profiler) \n",
    "\n",
    "Once installed you can use it by placing a `@profile` decorator in front of the functions that you want to be profiled. Then either press Shift + F10 or go to `Run > Profile line by line` to start the profiler.\n",
    "\n",
    "A quick demonstration!\n",
    "\n",
    "<video controls width=\"900\" src=\"https://lund-observatory-teaching.github.io/lundpython/imgs/spyder_line_profiler.mov\" />"
   ]
  },
  {
   "cell_type": "markdown",
   "metadata": {
    "slideshow": {
     "slide_type": "slide"
    }
   },
   "source": [
    "# PEP8\n",
    "\n",
    "Recall from lecture 1 [The Python Style Guide](https://www.python.org/dev/peps/pep-0008/) a.k.a. PEP8.  \n",
    "\n",
    "It is a lengthy document that can be hard to memorize. Instead, there are nifty tools one can use to check the PEP8 compliance of a script. Consider for example [pycodestyle](https://pypi.org/project/pycodestyle/). Once it has been installed on your system, you can check a script with the following command.\n",
    "\n",
    "`pycodestyle is_this_pep8.py`\n",
    "##### Run in terminal\n",
    "\n",
    "##### Code example:"
   ]
  },
  {
   "cell_type": "code",
   "execution_count": null,
   "metadata": {},
   "outputs": [],
   "source": [
    "a = \"This code is not PEP 8 compliant! Not only will pycodestyle get very upset, it will make sure you will be upset too.\"\n",
    "for sentence in a.split(\"! \"):\n",
    "    print(\n",
    "        sentence, end=\"\\n\\n\"\n",
    "    )  # Notice how the Python interpreter does not require 4 space indents"
   ]
  },
  {
   "cell_type": "markdown",
   "metadata": {},
   "source": [
    "# [`Ruff`](https://docs.astral.sh/ruff/)\n",
    "\n",
    "Ruff is an extremely fast Python linter that implements existing style rules and appears to be becoming the de facto standard. \n",
    "\n",
    "It can fix some issues automatically and has several editor integrations. To run it (once installed), use the following command.\n",
    "\n",
    "`ruff check --preview is_this_pep8.py`\n",
    "##### Run in terminal and compare results.\n",
    "\n"
   ]
  },
  {
   "cell_type": "markdown",
   "metadata": {
    "slideshow": {
     "slide_type": "slide"
    }
   },
   "source": [
    "# [`black`](https://pypi.org/project/black/)\n",
    "\n",
    "`black` is an automatic code formater. When `black` is run on a script it will change to code into its style, taking the decision away from the user. This means that code formatted with `black` has a very consistent look.\n",
    "\n",
    "All the code demonstrated in this course has been formtated with `black` (except for the deliberately bad examples). \n",
    "\n",
    "Automatic code formaters like `black` are very useful for collaborative projects. It is already used by pytest, pandas, Django and Astropy (WIP) and Dropbox, Mozilla, Duolingo, Facebook etc. "
   ]
  },
  {
   "cell_type": "markdown",
   "metadata": {
    "slideshow": {
     "slide_type": "slide"
    }
   },
   "source": [
    "##### Before applying `black`\n",
    "```python\n",
    "from seven_dwarfs import Grumpy, Happy, Sleepy, Bashful, Sneezy, Dopey, Doc\n",
    "x = {  'a':37,'b':42,\n",
    "\n",
    "'c':927}\n",
    "\n",
    "x = 123456789.123456789E300\n",
    "\n",
    "if very_long_variable_name is not None and \\\n",
    " very_long_variable_name.field > 0 or \\\n",
    " very_long_variable_name.is_debug:\n",
    " z = 'hello '+'world'\n",
    "else:\n",
    " world = 'world'\n",
    " a = 'hello {}'.format(world)\n",
    " f = rf'hello {world}'\n",
    "if (this\n",
    "and that): y = 'hello ''world'#FIXME: https://github.com/psf/black/issues/26\n",
    "```\n"
   ]
  },
  {
   "cell_type": "markdown",
   "metadata": {
    "slideshow": {
     "slide_type": "subslide"
    }
   },
   "source": [
    "##### After applying `black`\n",
    "```python\n",
    "from seven_dwarfs import Grumpy, Happy, Sleepy, Bashful, Sneezy, Dopey, Doc\n",
    "\n",
    "x = {\"a\": 37, \"b\": 42, \"c\": 927}\n",
    "\n",
    "x = 123456789.123456789e300\n",
    "\n",
    "if (\n",
    "    very_long_variable_name is not None\n",
    "    and very_long_variable_name.field > 0\n",
    "    or very_long_variable_name.is_debug\n",
    "):\n",
    "    z = \"hello \" + \"world\"\n",
    "else:\n",
    "    world = \"world\"\n",
    "    a = \"hello {}\".format(world)\n",
    "    f = rf\"hello {world}\"\n",
    "if this and that:\n",
    "    y = \"hello \" \"world\"  # FIXME: https://github.com/psf/black/issues/26\n",
    "```"
   ]
  },
  {
   "cell_type": "markdown",
   "metadata": {
    "slideshow": {
     "slide_type": "slide"
    }
   },
   "source": [
    "# Docstrings\n",
    "\n",
    "Docstrings contain documentation information for different functions in Python and we have a few ways of accessing them. But first, let's write our own docstring. We recomend using the [NumPy docstring format](https://numpydoc.readthedocs.io/en/latest/format.html)."
   ]
  },
  {
   "cell_type": "code",
   "execution_count": null,
   "metadata": {
    "slideshow": {
     "slide_type": "-"
    }
   },
   "outputs": [],
   "source": [
    "def sieve(n):\n",
    "    \"\"\"Generate a list of prime numbers smaller than a given n.\n",
    "\n",
    "    Parameters\n",
    "    ----------\n",
    "    n : int\n",
    "        The upper limit (inclusive) of numbers to search.\n",
    "\n",
    "    Returns\n",
    "    -------\n",
    "    list\n",
    "        List of prime numbers smaller than or equal to n.\n",
    "    \"\"\"\n",
    "    primes = [2]\n",
    "    to_test = list(range(3, n + 1, 3))\n",
    "    while test[0] ** 2 <= n:\n",
    "        p = to_test.pop(0)\n",
    "        primes.append(p)\n",
    "        to_test = [n for n in to_test if n % p]  # Overwrite to_test each loop\n",
    "    return primes + to_test"
   ]
  },
  {
   "cell_type": "markdown",
   "metadata": {
    "slideshow": {
     "slide_type": "slide"
    }
   },
   "source": [
    "With the `help()` function we can access the docstring, which can give us useful information on what a function does. We want to write docstrings if we work with other people."
   ]
  },
  {
   "cell_type": "code",
   "execution_count": null,
   "metadata": {
    "slideshow": {
     "slide_type": "-"
    }
   },
   "outputs": [],
   "source": [
    "help(sieve)"
   ]
  },
  {
   "cell_type": "markdown",
   "metadata": {
    "slideshow": {
     "slide_type": "slide"
    }
   },
   "source": [
    "Let's also access the docstring of some existing function!"
   ]
  },
  {
   "cell_type": "code",
   "execution_count": null,
   "metadata": {
    "slideshow": {
     "slide_type": "-"
    }
   },
   "outputs": [],
   "source": [
    "from numpy import identity\n",
    "\n",
    "help(identity)"
   ]
  },
  {
   "cell_type": "markdown",
   "metadata": {
    "slideshow": {
     "slide_type": "slide"
    }
   },
   "source": [
    "Jupyter notebook also has some useful ways of accessing docstrings. We can use<code style=\"color:#AA29FF\"><b>?</b></code> and <code style=\"color:#AA29FF\"><b>??</b></code> for example to access the docstring and source code respectively"
   ]
  },
  {
   "cell_type": "code",
   "execution_count": null,
   "metadata": {
    "slideshow": {
     "slide_type": "-"
    }
   },
   "outputs": [],
   "source": [
    "?identity"
   ]
  },
  {
   "cell_type": "code",
   "execution_count": null,
   "metadata": {
    "slideshow": {
     "slide_type": "-"
    }
   },
   "outputs": [],
   "source": [
    "??identity"
   ]
  },
  {
   "cell_type": "markdown",
   "metadata": {
    "slideshow": {
     "slide_type": "-"
    }
   },
   "source": [
    "We can also utilize `Shift + Tab` inside a function.  \n",
    "1 `Tab` brings up a brief docstring.  \n",
    "2 `Tab` makes it bigger.  \n",
    "3 `Tab` makes it linger for 10 seconds.  \n",
    "4 `Tab` opens the pager."
   ]
  },
  {
   "cell_type": "code",
   "execution_count": null,
   "metadata": {},
   "outputs": [],
   "source": [
    "identity()"
   ]
  },
  {
   "cell_type": "markdown",
   "metadata": {
    "slideshow": {
     "slide_type": "slide"
    }
   },
   "source": [
    "# Progress bars\n",
    "\n",
    "Recommendation: [`tqdm`](https://tqdm.github.io/)"
   ]
  },
  {
   "cell_type": "code",
   "execution_count": null,
   "metadata": {
    "slideshow": {
     "slide_type": "fragment"
    }
   },
   "outputs": [],
   "source": [
    "from time import sleep\n",
    "\n",
    "from tqdm import tqdm, trange\n",
    "\n",
    "for t in tqdm((0.5, 1, 0.5, 1)):\n",
    "    sleep(t)\n",
    "for i in trange(5):\n",
    "    sleep(0.5)\n",
    "for i in trange(3, desc=\"Doing important work: \"):\n",
    "    sleep(0.5)"
   ]
  },
  {
   "cell_type": "markdown",
   "metadata": {
    "slideshow": {
     "slide_type": "slide"
    }
   },
   "source": [
    "Inside a Jupyter notebook you might prefer to use the versions of the functions defined in `tqdm.notebook`."
   ]
  },
  {
   "cell_type": "code",
   "execution_count": null,
   "metadata": {
    "slideshow": {
     "slide_type": "fragment"
    }
   },
   "outputs": [],
   "source": [
    "from tqdm.notebook import tqdm, trange\n",
    "\n",
    "for t in tqdm((0.5, 1, 0.5, 1)):\n",
    "    sleep(t)\n",
    "for i in trange(5):\n",
    "    sleep(0.5)\n",
    "for i in trange(3, desc=\"Doing important work: \"):\n",
    "    sleep(0.5)"
   ]
  },
  {
   "cell_type": "markdown",
   "metadata": {},
   "source": [
    "# Git\n",
    "\n",
    "Git is a free and open-source distributed version control system designed to handle everything from small to very large projects with speed and efficiency.\n",
    "\n",
    "Using version control will let you keep track of changes and go back if something goes wrong. It will also make group projects much easier to manage. \n",
    "\n",
    "It is available for all operating systems and can make your lives a lot easier. A good place to start learning it is with the [Git book](https://git-scm.com/book/en/v2) (it's not super long). \n",
    "\n",
    "Knowing how to use Git is also a marketable skill that can go on anyone's CV."
   ]
  },
  {
   "cell_type": "markdown",
   "metadata": {
    "slideshow": {
     "slide_type": "slide"
    }
   },
   "source": [
    "<h1><center> RISE </center></h1>"
   ]
  }
 ],
 "metadata": {
  "celltoolbar": "Slideshow",
  "kernelspec": {
   "display_name": "Python 3 (ipykernel)",
   "language": "python",
   "name": "python3"
  },
  "language_info": {
   "codemirror_mode": {
    "name": "ipython",
    "version": 3
   },
   "file_extension": ".py",
   "mimetype": "text/x-python",
   "name": "python",
   "nbconvert_exporter": "python",
   "pygments_lexer": "ipython3",
   "version": "3.11.5"
  }
 },
 "nbformat": 4,
 "nbformat_minor": 4
}
