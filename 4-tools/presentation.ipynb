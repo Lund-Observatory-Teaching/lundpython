{
 "cells": [
  {
   "cell_type": "markdown",
   "metadata": {
    "slideshow": {
     "slide_type": "slide"
    }
   },
   "source": [
    "<img src=\"https://mikkolad.github.io/lundpython/imgs/front_4.png\" width=\"1400\">"
   ]
  },
  {
   "cell_type": "markdown",
   "metadata": {
    "slideshow": {
     "slide_type": "slide"
    }
   },
   "source": [
    "<h1><center> Course website </center></h1>\n",
    "\n",
    "To download all lecture files and see the schedule, please visit:\n",
    "\n",
    "[mikkolad.github.io/lundpython/](https://mikkolad.github.io/lundpython/)\n",
    "\n",
    "\n",
    "Each lecture contains (as notebooks)\n",
    "- Manual \n",
    "- Exercises\n",
    "- Presentation\n",
    "\n",
    "---"
   ]
  },
  {
   "cell_type": "markdown",
   "metadata": {
    "slideshow": {
     "slide_type": "slide"
    }
   },
   "source": [
    "#### Today we are going to be using a selection of tools to work through an example of how to improve a piece of code. "
   ]
  },
  {
   "cell_type": "code",
   "execution_count": 1,
   "metadata": {},
   "outputs": [
    {
     "name": "stdout",
     "output_type": "stream",
     "text": [
      "[2, 3, 5, 7, 11, 13, 17, 19, 23, 29, 31, 37, 41, 43, 47, 49]\n"
     ]
    }
   ],
   "source": [
    "def sieve(n): \n",
    "    primes=[]\n",
    "    test=list(range(2,n+1))\n",
    "    while test[0]<n**0.5:\n",
    "        p = test.pop(0)\n",
    "        primes.append(p)\n",
    "        new_list = []\n",
    "        for n in test:\n",
    "            if n%p:\n",
    "                new_list.append(n)\n",
    "        test = new_list\n",
    "    return primes+test\n",
    "\n",
    "primes = sieve(50)\n",
    "print(primes)"
   ]
  },
  {
   "cell_type": "markdown",
   "metadata": {
    "slideshow": {
     "slide_type": "slide"
    }
   },
   "source": [
    "# Testing\n",
    "\n",
    "   #### \"If debugging is the process of removing bugs, then programming must be the process of putting them in.\"\n",
    "    - Edsger W. Dijkstra\n",
    "\n",
    "In order to find bugs, we test our code. Just running the code is a form of testing, but we can do it in a more structured way.\n",
    "\n",
    "Since we are inside a Jupyter notebook we are going to use [ipytest](https://pypi.org/project/ipytest/), details in the manual. "
   ]
  },
  {
   "cell_type": "code",
   "execution_count": 2,
   "metadata": {},
   "outputs": [],
   "source": [
    "import ipytest\n",
    "ipytest.autoconfig()"
   ]
  },
  {
   "cell_type": "code",
   "execution_count": 3,
   "metadata": {
    "scrolled": false,
    "slideshow": {
     "slide_type": "subslide"
    }
   },
   "outputs": [
    {
     "name": "stdout",
     "output_type": "stream",
     "text": [
      "\u001b[32m.\u001b[0m\u001b[33m                                                                                            [100%]\u001b[0m\n",
      "\u001b[33m======================================== warnings summary =========================================\u001b[0m\n",
      "..\\..\\anaconda3\\lib\\site-packages\\pyreadline\\py3k_compat.py:8\n",
      "  C:\\Users\\Simon\\anaconda3\\lib\\site-packages\\pyreadline\\py3k_compat.py:8: DeprecationWarning: Using or importing the ABCs from 'collections' instead of from 'collections.abc' is deprecated since Python 3.3, and in 3.10 it will stop working\n",
      "    return isinstance(x, collections.Callable)\n",
      "\n",
      "-- Docs: https://docs.pytest.org/en/stable/warnings.html\n",
      "\u001b[33m\u001b[32m1 passed\u001b[0m, \u001b[33m\u001b[1m1 warning\u001b[0m\u001b[33m in 0.05s\u001b[0m\u001b[0m\n"
     ]
    }
   ],
   "source": [
    "%%ipytest\n",
    "\n",
    "def test_sieve():\n",
    "    assert sieve(19) == [2, 3, 5, 7, 11, 13, 17, 19]\n",
    "    \n",
    "    assert len(sieve(100)) == 25"
   ]
  },
  {
   "cell_type": "markdown",
   "metadata": {
    "slideshow": {
     "slide_type": "slide"
    }
   },
   "source": [
    "# So you found a bug"
   ]
  },
  {
   "cell_type": "code",
   "execution_count": 4,
   "metadata": {},
   "outputs": [
    {
     "name": "stdout",
     "output_type": "stream",
     "text": [
      "[2, 3, 5, 7, 9]\n"
     ]
    }
   ],
   "source": [
    "print(sieve(9))"
   ]
  },
  {
   "cell_type": "markdown",
   "metadata": {},
   "source": [
    "What to do now? \n",
    " - Update test\n",
    " - Fix the bug"
   ]
  },
  {
   "cell_type": "code",
   "execution_count": 5,
   "metadata": {
    "slideshow": {
     "slide_type": "subslide"
    }
   },
   "outputs": [
    {
     "name": "stdout",
     "output_type": "stream",
     "text": [
      "\u001b[31mF\u001b[0m\u001b[31m                                                                                            [100%]\u001b[0m\n",
      "============================================ FAILURES =============================================\n",
      "\u001b[31m\u001b[1m___________________________________________ test_sieve ____________________________________________\u001b[0m\n",
      "\n",
      "    \u001b[94mdef\u001b[39;49;00m \u001b[92mtest_sieve\u001b[39;49;00m():\n",
      "        \u001b[94massert\u001b[39;49;00m sieve(\u001b[94m19\u001b[39;49;00m) == [\u001b[94m2\u001b[39;49;00m, \u001b[94m3\u001b[39;49;00m, \u001b[94m5\u001b[39;49;00m, \u001b[94m7\u001b[39;49;00m, \u001b[94m11\u001b[39;49;00m, \u001b[94m13\u001b[39;49;00m, \u001b[94m17\u001b[39;49;00m, \u001b[94m19\u001b[39;49;00m]\n",
      ">       \u001b[94massert\u001b[39;49;00m sieve(\u001b[94m9\u001b[39;49;00m) == [\u001b[94m2\u001b[39;49;00m, \u001b[94m3\u001b[39;49;00m, \u001b[94m5\u001b[39;49;00m, \u001b[94m7\u001b[39;49;00m] \u001b[90m# test for when n is a perfect square of a prime\u001b[39;49;00m\n",
      "\u001b[1m\u001b[31mE       assert [2, 3, 5, 7, 9] == [2, 3, 5, 7]\u001b[0m\n",
      "\u001b[1m\u001b[31mE         Left contains one more item: 9\u001b[0m\n",
      "\u001b[1m\u001b[31mE         Full diff:\u001b[0m\n",
      "\u001b[1m\u001b[31mE         - [2, 3, 5, 7]\u001b[0m\n",
      "\u001b[1m\u001b[31mE         + [2, 3, 5, 7, 9]\u001b[0m\n",
      "\u001b[1m\u001b[31mE         ?            +++\u001b[0m\n",
      "\n",
      "\u001b[1m\u001b[31mC:\\Users\\Simon\\AppData\\Local\\Temp/ipykernel_10708/1073474627.py\u001b[0m:4: AssertionError\n",
      "===================================== short test summary info =====================================\n",
      "FAILED tmpcjawor16.py::test_sieve - assert [2, 3, 5, 7, 9] == [2, 3, 5, 7]\n",
      "\u001b[31m\u001b[31m\u001b[1m1 failed\u001b[0m\u001b[31m in 1.05s\u001b[0m\u001b[0m\n"
     ]
    }
   ],
   "source": [
    "%%ipytest\n",
    "\n",
    "# The test that reveals the problems\n",
    "def test_sieve():\n",
    "    assert sieve(19) == [2, 3, 5, 7, 11, 13, 17, 19]\n",
    "    assert sieve(9) == [2, 3, 5, 7] # test for when n is a perfect square of a prime\n",
    "    assert len(sieve(100)) == 25"
   ]
  },
  {
   "cell_type": "markdown",
   "metadata": {
    "slideshow": {
     "slide_type": "slide"
    }
   },
   "source": [
    "When `n` is the square of a prime, the output is includes `n` at the end of the output. \n",
    "\n",
    "This is because if `test[0] == n**2` the while loop is stopped early and the last number is not checked. \n",
    "\n",
    "The solution is to change `while test[0]<n**0.5: ` to `while test[0]<=n**0.5:`. "
   ]
  },
  {
   "cell_type": "code",
   "execution_count": 6,
   "metadata": {},
   "outputs": [
    {
     "name": "stdout",
     "output_type": "stream",
     "text": [
      "[2, 3, 5, 7]\n"
     ]
    }
   ],
   "source": [
    "def sieve(n):\n",
    "    primes=[]\n",
    "    test=list(range(2,n+1) )\n",
    "    while test[0]<=n**0.5:\n",
    "        p = test.pop(0) \n",
    "        primes.append(p)\n",
    "        new_list = []\n",
    "        for n in test:\n",
    "            #Test divisability\n",
    "            if n%p:\n",
    "                new_list.append(n) \n",
    "        test = new_list\n",
    "    return primes+test\n",
    "\n",
    "primes = sieve(9)\n",
    "print( primes)"
   ]
  },
  {
   "cell_type": "code",
   "execution_count": null,
   "metadata": {
    "slideshow": {
     "slide_type": "skip"
    }
   },
   "outputs": [],
   "source": [
    "def movmean(xdata, ydata, window):\n",
    "    ydata_new = np.zeros(len(ydata))\n",
    "    xdata_new = np.zeros(len(xdata))\n",
    "    k = int(window/2)\n",
    "    for i in range(len(ydata)):\n",
    "        if i < window:\n",
    "            ydata_new[i] = np.mean(ydata[:(i+k)])\n",
    "            xdata_new[i] = np.mean(xdata[:(i+k)])\n",
    "        elif i > len(ydata)-window:\n",
    "            ydata_new[i] = np.mean(ydata[(i-k):])\n",
    "            xdata_new[i] = np.mean(xdata[(i-k):])\n",
    "        else:\n",
    "            ydata_new[i] = np.mean(ydata[(i-k):(i+k)])\n",
    "            xdata_new[i] = np.mean(xdata[(i-k):(i+k)])\n",
    "    return(xdata_new, ydata_new)"
   ]
  },
  {
   "cell_type": "markdown",
   "metadata": {
    "slideshow": {
     "slide_type": "skip"
    }
   },
   "source": [
    "This is a [moving average](https://en.wikipedia.org/wiki/Moving_average)."
   ]
  },
  {
   "cell_type": "markdown",
   "metadata": {
    "slideshow": {
     "slide_type": "slide"
    }
   },
   "source": [
    "# Peformance optimization & profiling\n",
    "\n",
    "You might find that code you've written runs (very) slowly. In order to identify what the source of your slowness is you'll want to use profilers.  \n",
    "\n",
    "You've already encountered [timeit](https://docs.python.org/3/library/timeit.html) so let's go over some more extensive alternatives.  \n",
    "\n",
    "First, let's import the things we need."
   ]
  },
  {
   "cell_type": "code",
   "execution_count": 7,
   "metadata": {
    "scrolled": true
   },
   "outputs": [],
   "source": [
    "%load_ext heat\n",
    "%load_ext line_profiler\n",
    "import numpy as np\n",
    "import matplotlib.pyplot as plt"
   ]
  },
  {
   "cell_type": "markdown",
   "metadata": {
    "slideshow": {
     "slide_type": "slide"
    }
   },
   "source": [
    "We'll keep working on the `sieve()` function."
   ]
  },
  {
   "cell_type": "code",
   "execution_count": 9,
   "metadata": {},
   "outputs": [
    {
     "data": {
      "text/plain": [
       "Text(0, 0.5, 'Number of primes smaller than $n$')"
      ]
     },
     "execution_count": 9,
     "metadata": {},
     "output_type": "execute_result"
    },
    {
     "data": {
      "image/png": "[encoded data removed]",
      "text/plain": [
       "<Figure size 432x288 with 1 Axes>"
      ]
     },
     "metadata": {
      "needs_background": "light"
     },
     "output_type": "display_data"
    }
   ],
   "source": [
    "x = range(3, 5000)\n",
    "primes_under_n = [len(sieve(n)) for n in x]\n",
    "\n",
    "plt.plot(x, primes_under_n)\n",
    "plt.xlabel('$n$')\n",
    "plt.ylabel('Number of primes smaller than $n$')"
   ]
  },
  {
   "cell_type": "markdown",
   "metadata": {
    "slideshow": {
     "slide_type": "slide"
    }
   },
   "source": [
    "In Jupyter we can profile it with this [line_profiler](https://github.com/pyutils/line_profiler)"
   ]
  },
  {
   "cell_type": "code",
   "execution_count": 10,
   "metadata": {},
   "outputs": [],
   "source": [
    "%lprun -f sieve sieve(5000)"
   ]
  },
  {
   "cell_type": "markdown",
   "metadata": {
    "slideshow": {
     "slide_type": "slide"
    }
   },
   "source": [
    "or we can profile it with [pyheat](https://github.com/csurfer/pyheatmagic)"
   ]
  },
  {
   "cell_type": "code",
   "execution_count": 11,
   "metadata": {},
   "outputs": [
    {
     "name": "stdout",
     "output_type": "stream",
     "text": [
      "669\n"
     ]
    },
    {
     "name": "stderr",
     "output_type": "stream",
     "text": [
      "C:\\Users\\Simon\\anaconda3\\lib\\site-packages\\pyheat\\pyheat.py:158: UserWarning: FixedFormatter should only be used together with FixedLocator\n",
      "  self.ax.set_yticklabels(row_labels, minor=False)\n"
     ]
    },
    {
     "data": {
      "image/png": "[encoded data removed]",
      "text/plain": [
       "<Figure size 603x288 with 2 Axes>"
      ]
     },
     "metadata": {
      "needs_background": "light"
     },
     "output_type": "display_data"
    }
   ],
   "source": [
    "%%heat\n",
    "\n",
    "def sieve(n):\n",
    "    primes=[]\n",
    "    test=list(range(2,n+1) )\n",
    "    while test[0]<=n**0.5:\n",
    "        p = test.pop(0) \n",
    "        primes.append(p)\n",
    "        test = [n for n in test if n%p] #Overwrite test each loop\n",
    "    return primes+test\n",
    "\n",
    "primes = sieve(5000)\n",
    "print(len(primes))"
   ]
  },
  {
   "cell_type": "code",
   "execution_count": 12,
   "metadata": {
    "slideshow": {
     "slide_type": "subslide"
    }
   },
   "outputs": [
    {
     "name": "stdout",
     "output_type": "stream",
     "text": [
      "\u001b[32m.\u001b[0m\u001b[32m                                                                                            [100%]\u001b[0m\n",
      "\u001b[32m\u001b[32m\u001b[1m1 passed\u001b[0m\u001b[32m in 0.02s\u001b[0m\u001b[0m\n"
     ]
    }
   ],
   "source": [
    "%%ipytest\n",
    "\n",
    "# The test that reveals the problems\n",
    "def test_sieve():\n",
    "    assert sieve(19) == [2, 3, 5, 7, 11, 13, 17, 19]\n",
    "    assert sieve(9) == [2, 3, 5, 7] # test for when n is a perfect square of a prime\n",
    "    assert len(sieve(100)) == 25"
   ]
  },
  {
   "cell_type": "markdown",
   "metadata": {
    "slideshow": {
     "slide_type": "slide"
    }
   },
   "source": [
    "# Command line\n",
    "When profiling on the command line, I again encourage you to use `line_profiler`. \n",
    "\n",
    "We will need the following command.\n",
    "\n",
    "`kernprof -l -v spyderexample.py`\n",
    "\n",
    "##### Run in command line"
   ]
  },
  {
   "cell_type": "markdown",
   "metadata": {
    "slideshow": {
     "slide_type": "-"
    }
   },
   "source": [
    "```python\n",
    "@profile\n",
    "def sieve(n):\n",
    "    primes=[]\n",
    "    test=list(range(3,n+1, 2) )\n",
    "    while test[0]<=n**0.5:\n",
    "        p = test.pop(0) \n",
    "        primes.append(p)\n",
    "        test = [n for n in test if n%p] #Overwrite test each loop\n",
    "    return primes+test\n",
    "\n",
    "primes = sieve(2000)\n",
    "print(len(primes))\n",
    "```"
   ]
  },
  {
   "cell_type": "code",
   "execution_count": null,
   "metadata": {
    "slideshow": {
     "slide_type": "subslide"
    }
   },
   "outputs": [],
   "source": [
    "%%ipytest\n",
    "\n",
    "# The test that reveals the problems\n",
    "def test_sieve():\n",
    "    assert sieve(19) == [2, 3, 5, 7, 11, 13, 17, 19]\n",
    "    assert sieve(9) == [2, 3, 5, 7] # test for when n is a perfect square of a prime\n",
    "    assert len(sieve(100)) == 25"
   ]
  },
  {
   "cell_type": "markdown",
   "metadata": {
    "slideshow": {
     "slide_type": "slide"
    }
   },
   "source": [
    "# PEP8\n",
    "\n",
    "Recall from lecture 1 [The Python Style Guide](https://www.python.org/dev/peps/pep-0008/) a.k.a. PEP8.  \n",
    "\n",
    "It is a lengthy document that can be hard to memorize. Instead, there are nifty tools one can use to check the PEP8 compliance of a script. Consider for example [pycodestyle](https://pypi.org/project/pycodestyle/). Once it has been installed on your system, you can check a script with the following command.\n",
    "\n",
    "`pycodestyle is_this_pep8.py`\n",
    "\n",
    "##### Run in terminal"
   ]
  },
  {
   "cell_type": "markdown",
   "metadata": {
    "slideshow": {
     "slide_type": "slide"
    }
   },
   "source": [
    "If you're working in a Jupyter notebook, you can use the magic command called [pycodestyle_magic](https://github.com/mattijn/pycodestyle_magic) instead. A demonstration:\n",
    "\n",
    "**Note**: using `flake8=>4.0.0` will not let you use the `%flake8_on` magic command"
   ]
  },
  {
   "cell_type": "code",
   "execution_count": null,
   "metadata": {
    "scrolled": true,
    "slideshow": {
     "slide_type": "-"
    }
   },
   "outputs": [],
   "source": [
    "%load_ext pycodestyle_magic\n",
    "# Using lines longer than 80 characters within a notebook could be reasonable\n",
    "%flake8_on --max_line_length 99"
   ]
  },
  {
   "cell_type": "code",
   "execution_count": null,
   "metadata": {
    "scrolled": true,
    "slideshow": {
     "slide_type": "-"
    }
   },
   "outputs": [],
   "source": [
    "def sieve(n):\n",
    "    primes=[]\n",
    "    test=list(range(2,n+1) )\n",
    "    while test[0]<=n**0.5:\n",
    "        p = test.pop(0) \n",
    "        primes.append(p)\n",
    "        test = [n for n in test if n%p] #Overwrite test each loop\n",
    "    return primes+test"
   ]
  },
  {
   "cell_type": "code",
   "execution_count": null,
   "metadata": {
    "slideshow": {
     "slide_type": "subslide"
    }
   },
   "outputs": [],
   "source": [
    "def sieve(n):\n",
    "    primes = []\n",
    "    test = list(range(2, n + 1))\n",
    "    while test[0] <= n**0.5:\n",
    "        p = test.pop(0)\n",
    "        primes.append(p)\n",
    "        test = [n for n in test if n % p]  # Overwrite test each loop\n",
    "    return primes + test"
   ]
  },
  {
   "cell_type": "markdown",
   "metadata": {
    "slideshow": {
     "slide_type": "slide"
    }
   },
   "source": [
    "# Docstrings\n",
    "\n",
    "Docstrings contain documentation information for different functions in Python and we have a few ways of accessing them. But first, let's write our own docstring. We recomend using the [NumPy docstring format](https://numpydoc.readthedocs.io/en/latest/format.html)."
   ]
  },
  {
   "cell_type": "code",
   "execution_count": null,
   "metadata": {
    "slideshow": {
     "slide_type": "-"
    }
   },
   "outputs": [],
   "source": [
    "def sieve(n):\n",
    "    \"\"\"Generate a list of prime numbers smaller than a given n.\n",
    "\n",
    "    Parameters\n",
    "    ----------\n",
    "    n : int\n",
    "        The upper limit (inclusive) of numbers to search.\n",
    "\n",
    "    Returns\n",
    "    -------\n",
    "    list\n",
    "        List of prime numbers smaller than or equal to n.\n",
    "    \"\"\"\n",
    "    primes = []\n",
    "    test = list(range(2, n + 1))\n",
    "    while test[0] <= n**0.5:\n",
    "        p = test.pop(0)\n",
    "        primes.append(p)\n",
    "        test = [n for n in test if n % p]  # Overwrite test each loop\n",
    "    return primes + test"
   ]
  },
  {
   "cell_type": "markdown",
   "metadata": {
    "slideshow": {
     "slide_type": "slide"
    }
   },
   "source": [
    "With the `help()` function we can access the docstring, which can give us useful information on what a function does. We want to write docstrings if we work with other people."
   ]
  },
  {
   "cell_type": "code",
   "execution_count": null,
   "metadata": {
    "slideshow": {
     "slide_type": "-"
    }
   },
   "outputs": [],
   "source": [
    "help(sieve)"
   ]
  },
  {
   "cell_type": "markdown",
   "metadata": {
    "slideshow": {
     "slide_type": "slide"
    }
   },
   "source": [
    "Let's also access the docstring of some existing function!"
   ]
  },
  {
   "cell_type": "code",
   "execution_count": null,
   "metadata": {
    "slideshow": {
     "slide_type": "-"
    }
   },
   "outputs": [],
   "source": [
    "from numpy import identity\n",
    "help(identity)"
   ]
  },
  {
   "cell_type": "markdown",
   "metadata": {
    "slideshow": {
     "slide_type": "slide"
    }
   },
   "source": [
    "Jupyter notebook also has some useful ways of accessing docstrings. We can use<code style=\"color:#AA29FF\"><b>?</b></code> and <code style=\"color:#AA29FF\"><b>??</b></code> for example to access the docstring and source code respectively"
   ]
  },
  {
   "cell_type": "code",
   "execution_count": null,
   "metadata": {
    "slideshow": {
     "slide_type": "-"
    }
   },
   "outputs": [],
   "source": [
    "identity?"
   ]
  },
  {
   "cell_type": "code",
   "execution_count": null,
   "metadata": {
    "slideshow": {
     "slide_type": "-"
    }
   },
   "outputs": [],
   "source": [
    "identity??"
   ]
  },
  {
   "cell_type": "markdown",
   "metadata": {
    "slideshow": {
     "slide_type": "-"
    }
   },
   "source": [
    "We can also utilize `Shift + Tab` inside a function.  \n",
    "1 `Tab` brings up a brief docstring.  \n",
    "2 `Tab` makes it bigger.  \n",
    "3 `Tab` makes it linger for 10 seconds.  \n",
    "4 `Tab` opens the pager."
   ]
  },
  {
   "cell_type": "code",
   "execution_count": null,
   "metadata": {},
   "outputs": [],
   "source": [
    "identity()"
   ]
  },
  {
   "cell_type": "markdown",
   "metadata": {
    "slideshow": {
     "slide_type": "slide"
    }
   },
   "source": [
    "# Spyder\n",
    "Spyder uses `line_profiler` too in the package [spyder-line-profiler](https://github.com/spyder-ide/spyder-line-profiler) \n",
    "##### NB. This tools seems to be broken for Spyder 5. If you have not updated to Spyder 5 it should work. \n",
    "\n",
    "Once installed you can use it by placing a `@profile` decorator in front of the functions that you want to be profiled. Then either press Shift + F10 or go to `Run > Profile line by line` to start the profiler.\n",
    "\n",
    "A quick demonstration!\n",
    "\n",
    "<video controls width=\"900\" src=\"https://mikkolad.github.io/lundpython/imgs/spyder_line_profiler.mov\" />"
   ]
  },
  {
   "cell_type": "markdown",
   "metadata": {
    "slideshow": {
     "slide_type": "slide"
    }
   },
   "source": [
    "<h1><center> RISE </center></h1>"
   ]
  }
 ],
 "metadata": {
  "celltoolbar": "Slideshow",
  "kernelspec": {
   "display_name": "Python 3 (ipykernel)",
   "language": "python",
   "name": "python3"
  },
  "language_info": {
   "codemirror_mode": {
    "name": "ipython",
    "version": 3
   },
   "file_extension": ".py",
   "mimetype": "text/x-python",
   "name": "python",
   "nbconvert_exporter": "python",
   "pygments_lexer": "ipython3",
   "version": "3.8.12"
  }
 },
 "nbformat": 4,
 "nbformat_minor": 2
}
