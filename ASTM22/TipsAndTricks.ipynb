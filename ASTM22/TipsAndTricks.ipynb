{
 "cells": [
  {
   "cell_type": "code",
   "execution_count": null,
   "id": "c314fc15",
   "metadata": {},
   "outputs": [],
   "source": [
    "import numpy as np\n",
    "import matplotlib.pyplot as plt\n",
    "from astropy import constants"
   ]
  },
  {
   "cell_type": "markdown",
   "id": "78e93971",
   "metadata": {},
   "source": [
    "## Tips for calculating force derivative in P1\n",
    "\n",
    "In the project we have N different Solar system bodies each with mass, position, and velocity. Let's initialise some random values to fill these parameters into a state vector $S$. We use positions between $[-100, 100]$ and velocities between $[-10, 10]$ in three dimensions. We use this to create our state vector with dimensions $N\\times6$. The columns are $x, y, z, v_x, v_y, v_z$"
   ]
  },
  {
   "cell_type": "code",
   "execution_count": null,
   "id": "d255043e",
   "metadata": {},
   "outputs": [],
   "source": [
    "rng = np.random.default_rng()\n",
    "\n",
    "# Number of bodies\n",
    "N = 4\n",
    "\n",
    "mass = np.arange(N)\n",
    "pos = rng.uniform(low=[-100, -100, -100], high=[100, 100, 100], size=(N, 3))\n",
    "vel = rng.uniform(low=[-10, -10, -10], high=[10, 10, 10], size=(N, 3))\n",
    "\n",
    "S = np.hstack((pos, vel))\n",
    "print(S.shape)"
   ]
  },
  {
   "cell_type": "markdown",
   "id": "ebeba289",
   "metadata": {},
   "source": [
    "Now we want to calculate the derivative of the state vector, $dS$. The derivative of the positions is simple, since\n",
    "\n",
    "$$\\frac{d\\mathbf{x}_i}{dt} = \\mathbf{v_i}$$\n",
    "\n",
    "So:"
   ]
  },
  {
   "cell_type": "code",
   "execution_count": null,
   "id": "f65ce532",
   "metadata": {},
   "outputs": [],
   "source": [
    "dS = np.zeros_like(S)\n",
    "\n",
    "dS[:, :3] = S[:, 3:]"
   ]
  },
  {
   "cell_type": "markdown",
   "id": "5b123fcb",
   "metadata": {},
   "source": [
    "The derivative of the velocites are not quite as straight forward. We have\n",
    "\n",
    "$$\\frac{d\\mathbf{v}_i}{dt} = -\\sum^N_{j=1; j\\neq i}\\frac{Gm_j(\\mathbf{x_i - x_j})}{|\\mathbf{x_i - x_j}|^3}$$\n",
    "\n",
    "Which can be done inefficiently, but simply, through a for-loop. We will however do this in a vectorised way. To do this, we want to calculate the matrix of $\\Delta x_{ij}$ of shape $N \\times N \\times 3$ which contains $\\mathbf{x_i - x_j}$ for all combinations of $i$ and $j$ as such:\n",
    "\n",
    "$$ \\begin{bmatrix}\n",
    "\\mathbf{x}_0 - \\mathbf{x}_0 & \\mathbf{x}_0 - \\mathbf{x}_1 & \\dots & \\mathbf{x}_0 - \\mathbf{x}_N \\\\\n",
    "\\mathbf{x}_1 - \\mathbf{x}_0 & \\mathbf{x}_1 - \\mathbf{x}_1 & \\dots & \\mathbf{x}_1 - \\mathbf{x}_N \\\\\n",
    "\\vdots & \\vdots & \\ddots & \\vdots \\\\\n",
    "\\mathbf{x}_N - \\mathbf{x}_0 & \\mathbf{x}_N - \\mathbf{x}_1 & \\dots & \\mathbf{x}_N - \\mathbf{x}_N \n",
    "\\end{bmatrix}  $$\n",
    "\n",
    "To do this in numpy, we simply have to make two copies of our position array. One that is $1 \\times N \\times 3$ and one that is $N \\times 1 \\times 3$"
   ]
  },
  {
   "cell_type": "code",
   "execution_count": null,
   "id": "5558b447",
   "metadata": {},
   "outputs": [],
   "source": [
    "pos = S[:, 3:]\n",
    "print(pos.shape)"
   ]
  },
  {
   "cell_type": "code",
   "execution_count": null,
   "id": "5114eee9",
   "metadata": {},
   "outputs": [],
   "source": [
    "xi = pos[:, np.newaxis]\n",
    "xj = pos[np.newaxis]\n",
    "print(xi.shape)\n",
    "print(xj.shape)"
   ]
  },
  {
   "cell_type": "code",
   "execution_count": null,
   "id": "dc7a193e",
   "metadata": {},
   "outputs": [],
   "source": [
    "dxij = xi - xj\n",
    "print(dxij.shape)"
   ]
  },
  {
   "cell_type": "markdown",
   "id": "20b54f98",
   "metadata": {},
   "source": [
    "Remember that we still have the self-interaction which lies along the diagonal where $i=j$. We will now calculate the matrix within the sum above. To be able to multiply in m into the sum above, it needs to be the right shape. It needs to be multiplied into each column $j$, so should be a column vector. We achieve this as such: "
   ]
  },
  {
   "cell_type": "code",
   "execution_count": null,
   "id": "690899d1",
   "metadata": {},
   "outputs": [],
   "source": [
    "print(mass.shape)\n",
    "mass = mass[np.newaxis, :, np.newaxis]\n",
    "print(mass.shape)"
   ]
  },
  {
   "cell_type": "markdown",
   "id": "c37daca7",
   "metadata": {},
   "source": [
    "Now we calculate\n",
    "\n",
    "$$\\frac{Gm_j(\\mathbf{x_i - x_j})}{|\\mathbf{x_i - x_j}|^3}$$"
   ]
  },
  {
   "cell_type": "code",
   "execution_count": null,
   "id": "6c77dff1",
   "metadata": {},
   "outputs": [],
   "source": [
    "G = constants.G.value\n",
    "acc_matrix = G * mass * dxij / np.linalg.norm(dxij, axis=2)[..., np.newaxis]"
   ]
  },
  {
   "cell_type": "markdown",
   "id": "e4669321",
   "metadata": {},
   "source": [
    "Now you will have probably gotten a warning saying: `RuntimeWarning: invalid value encountered in true_divide`.\n",
    "This is because we didn't handle the self-interaction. When i=j, the denominator is 0 and we obviously cannot divide by zero. Because of this we get `nan`. Thankfully, now that we are going to sum, numpy provides the handy function `np.nansum`"
   ]
  },
  {
   "cell_type": "code",
   "execution_count": null,
   "id": "f4920d3c",
   "metadata": {},
   "outputs": [],
   "source": [
    "?np.nansum"
   ]
  },
  {
   "cell_type": "code",
   "execution_count": null,
   "id": "491b5f5d",
   "metadata": {},
   "outputs": [],
   "source": [
    "dS[:, 3:] = -np.nansum(acc_matrix, axis=1)"
   ]
  },
  {
   "cell_type": "markdown",
   "id": "bf757cbc",
   "metadata": {},
   "source": [
    "And so, we have calculated the acceleration and $dS$ without using a single for-loop"
   ]
  },
  {
   "cell_type": "markdown",
   "id": "1f98c25c",
   "metadata": {},
   "source": [
    "# Kernel / NNSA calculations in P2/P3\n",
    "\n",
    "In the following projects, we deal with the kernel function. \n",
    "It's form and derivative is the following:\n",
    "\n",
    "$$\n",
    "W(R, h) = \\alpha_d\n",
    "\\begin{cases}\n",
    "  \\frac{2}{3} - R^2 + \\frac{1}{2}R^3 & 0\\leq R <1 \\\\\n",
    "  \\frac{1}{6}(2-R)^3 & 1\\leq R <2 \\\\\n",
    "  0 & R \\geq 2 \\\\\n",
    "\\end{cases}\n",
    "$$\n",
    "\n",
    "$$\n",
    "dW(R, h) = \\alpha_d\n",
    "\\begin{cases}\n",
    "  \\left(-2 + \\frac{3}{2}R\\right)\\frac{d\\mathbf{x}}{h^2} & 0\\leq R <1 \\\\\n",
    "  -\\frac{1}{2}(2-R)^2 \\frac{d\\mathbf{x}}{hr}& 1\\leq R <2 \\\\\n",
    "  0 & R \\geq 2 \\\\\n",
    "\\end{cases}\n",
    "$$\n",
    "\n",
    "But we also know that\n",
    "\n",
    "$$R_{ij} = \\frac{r_{ij}}{h} = \\frac{|d\\mathbf{x}|}{h}$$\n",
    "\n",
    "Which means that our criterias can be written as:\n",
    "\n",
    "$$0\\leq |d\\mathbf{x}| <h$$\n",
    "$$1h\\leq |d\\mathbf{x}| <2h$$\n",
    "\n",
    "Let's create 3D positions to use so we can once more calculate $d\\mathbf{x} = \\Delta \\mathbf{x}_{ij}$. To simulate P2, we'll use 400 particles in two regions and use some value for h."
   ]
  },
  {
   "cell_type": "code",
   "execution_count": null,
   "id": "22d68c6f",
   "metadata": {},
   "outputs": [],
   "source": [
    "h = 0.004\n",
    "N = 400\n",
    "pos = np.zeros((400, 3))\n",
    "pos[:320, 0] = np.linspace(-0.6, 0, 320)\n",
    "pos[320:, 0] = np.linspace(0, 0.6, 80)\n",
    "print(pos.shape)"
   ]
  },
  {
   "cell_type": "code",
   "execution_count": null,
   "id": "d6e37243",
   "metadata": {},
   "outputs": [],
   "source": [
    "dxij = pos[:, np.newaxis] - pos[np.newaxis]\n",
    "rij = np.linalg.norm(dxij, axis=2)\n",
    "R = np.linalg.norm(dxij, axis=2) / h\n",
    "print(dxij.shape)\n",
    "print(R.shape)"
   ]
  },
  {
   "cell_type": "markdown",
   "id": "69cbf36d",
   "metadata": {},
   "source": [
    "Now we can create 2 boolean masks to fulfill the different criteria in the kernel"
   ]
  },
  {
   "cell_type": "code",
   "execution_count": null,
   "id": "fb203fa9",
   "metadata": {},
   "outputs": [],
   "source": [
    "I1 = (0 <= R) & (R < 1)\n",
    "I2 = (1 <= R) & (R < 2)\n",
    "print(I1)"
   ]
  },
  {
   "cell_type": "markdown",
   "id": "443fd49e",
   "metadata": {},
   "source": [
    "We now have all we need to calculate both $W$ and $dW$"
   ]
  },
  {
   "cell_type": "code",
   "execution_count": null,
   "id": "a456578b",
   "metadata": {},
   "outputs": [],
   "source": [
    "W = np.zeros_like(rij)\n",
    "dW = np.zeros_like(dxij)"
   ]
  },
  {
   "cell_type": "markdown",
   "id": "186107b4",
   "metadata": {},
   "source": [
    "By masking out the values where `bool_mask_1` is true in $W$, $dW$ we assign only those entries in them. So:"
   ]
  },
  {
   "cell_type": "code",
   "execution_count": null,
   "id": "de0a07fb",
   "metadata": {},
   "outputs": [],
   "source": [
    "alpha = 1\n",
    "\n",
    "W[I1] = alpha * (2 / 3 - R[I1] ** 2 + 1 / 2 * R[I1] ** 3)\n",
    "W[I2] = alpha * (1 / 6 * (2 - R[I2]) ** 3)\n",
    "\n",
    "dW[I1] = alpha * (-2 + 3 / 2 * R[I1][:, np.newaxis]) * dxij[I1, :] / h**2\n",
    "dW[I2] = (\n",
    "    alpha\n",
    "    * (-1 / 2 * (2 - R[I2][:, np.newaxis]) ** 2)\n",
    "    * dxij[I2, :]\n",
    "    / (h * rij[I2][:, np.newaxis])\n",
    ")"
   ]
  },
  {
   "cell_type": "markdown",
   "id": "aa84932d",
   "metadata": {},
   "source": [
    "Now we have filled in the parts of $W$ and $dW$ with the relevant values. The case of $R\\geq2$ is handled automatically since we initialise both arrays as zero, and never need to change them.\n",
    "\n",
    "If you need to see how many neighbours you have for a specific particles, i, you simply call `I1[i]` and count the number of `True` occurences. You can also just sum it:"
   ]
  },
  {
   "cell_type": "code",
   "execution_count": null,
   "id": "c30b0b28",
   "metadata": {},
   "outputs": [],
   "source": [
    "sum(I1[0])"
   ]
  },
  {
   "cell_type": "markdown",
   "id": "ec59dd93",
   "metadata": {},
   "source": [
    "Of course this means numpy can gives you the number of neighbors for each particle by summing in the right axis then"
   ]
  },
  {
   "cell_type": "code",
   "execution_count": null,
   "id": "f64279ec",
   "metadata": {},
   "outputs": [],
   "source": [
    "I1.sum(axis=0)"
   ]
  },
  {
   "cell_type": "markdown",
   "id": "cfdd9245",
   "metadata": {},
   "source": [
    "# The dot product of $v_{ij}$ and $x_{ij}$ in P3\n",
    "\n",
    "In P2/P3, you get to the following equation\n",
    "\n",
    "$$\\mathbf{v}_{ij} \\cdot \\mathbf{x}_{ij}$$\n",
    "\n",
    "This is the dot product between the two. In P2 where it is 1D it is simply a multiplication of our two $N \\times N$ arrays. When they are 3D however, we want to make sure we get the dot product right.\n",
    "\n",
    "Let us create a version of $\\Delta\\mathrm{v}_{ij}$"
   ]
  },
  {
   "cell_type": "code",
   "execution_count": null,
   "id": "b5663033",
   "metadata": {},
   "outputs": [],
   "source": [
    "dvij = rng.normal(size=dxij.shape)"
   ]
  },
  {
   "cell_type": "markdown",
   "id": "f11adc8d",
   "metadata": {},
   "source": [
    "The dot product of two vectors would simply be the sum of the product, like so (here for partcles ($i, j) = (0, 1)$:"
   ]
  },
  {
   "cell_type": "code",
   "execution_count": null,
   "id": "7e5e4f5f",
   "metadata": {},
   "outputs": [],
   "source": [
    "np.sum(dxij[0, 1] * dvij[0, 1])"
   ]
  },
  {
   "cell_type": "markdown",
   "id": "82d33231",
   "metadata": {},
   "source": [
    "We can of course do this for two arrays as well if we simply sum along the right axis"
   ]
  },
  {
   "cell_type": "code",
   "execution_count": null,
   "id": "e6092d36",
   "metadata": {},
   "outputs": [],
   "source": [
    "dxdvij_A = np.sum(dxij * dvij, axis=2)"
   ]
  },
  {
   "cell_type": "markdown",
   "id": "a03744cb",
   "metadata": {},
   "source": [
    "We can use `numpy.einsum` as well"
   ]
  },
  {
   "cell_type": "code",
   "execution_count": null,
   "id": "fcc40ced",
   "metadata": {},
   "outputs": [],
   "source": [
    "dxdvij_B = np.einsum(\"ijk,ijk->ij\", dxij, dvij)"
   ]
  },
  {
   "cell_type": "markdown",
   "id": "6b5e78a1",
   "metadata": {},
   "source": [
    "Or work cleverly with the `@` operator which does matrix multiplication"
   ]
  },
  {
   "cell_type": "code",
   "execution_count": null,
   "id": "d72d98d8",
   "metadata": {},
   "outputs": [],
   "source": [
    "dxdvij_C = np.squeeze(dxij[..., None, :] @ dvij[..., :, None])"
   ]
  },
  {
   "cell_type": "markdown",
   "id": "18aed875",
   "metadata": {},
   "source": [
    "We can check if they are identical:"
   ]
  },
  {
   "cell_type": "code",
   "execution_count": null,
   "id": "7c5fadab",
   "metadata": {},
   "outputs": [],
   "source": [
    "np.allclose(dxdvij_A, dxdvij_B), np.allclose(dxdvij_B, dxdvij_C)"
   ]
  },
  {
   "cell_type": "markdown",
   "id": "60492bfd",
   "metadata": {},
   "source": [
    "As a check we look at particles $(i, j) = (0, 1)$ again"
   ]
  },
  {
   "cell_type": "code",
   "execution_count": null,
   "id": "6bed395f",
   "metadata": {},
   "outputs": [],
   "source": [
    "dxdvij_A[0, 1], dxdvij_B[0, 1], dxdvij_C[0, 1]"
   ]
  },
  {
   "cell_type": "markdown",
   "id": "aa4036e3",
   "metadata": {},
   "source": [
    "And we'll see how they perform:"
   ]
  },
  {
   "cell_type": "code",
   "execution_count": null,
   "id": "adae615e",
   "metadata": {},
   "outputs": [],
   "source": [
    "%timeit np.sum(dxij * dvij, axis=2)"
   ]
  },
  {
   "cell_type": "code",
   "execution_count": null,
   "id": "e4b68b9d",
   "metadata": {},
   "outputs": [],
   "source": [
    "%timeit np.einsum('ijk,ijk->ij', dxij, dvij)"
   ]
  },
  {
   "cell_type": "code",
   "execution_count": null,
   "id": "0717facc",
   "metadata": {},
   "outputs": [],
   "source": [
    "%timeit np.squeeze(dxij[..., None, :] @ dvij[..., :, None])"
   ]
  }
 ],
 "metadata": {
  "kernelspec": {
   "display_name": "Python 3",
   "language": "python",
   "name": "python3"
  },
  "language_info": {
   "codemirror_mode": {
    "name": "ipython",
    "version": 3
   },
   "file_extension": ".py",
   "mimetype": "text/x-python",
   "name": "python",
   "nbconvert_exporter": "python",
   "pygments_lexer": "ipython3",
   "version": "3.8.8"
  }
 },
 "nbformat": 4,
 "nbformat_minor": 5
}
