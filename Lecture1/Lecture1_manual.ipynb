{
 "cells": [
  {
   "cell_type": "markdown",
   "metadata": {},
   "source": [
    "# A brief introduction to using Python in Astronomy\n",
    "\n",
    "The purpose of this notebook is to be a short reference guide that introduces the [Python](https://www.python.org/) programming language in a way that is useful for Astronomy. This notebook is not meant to be an introduction to programming, so some familiarity with basic concepts will be assumed. This notebook is also not meant to be a comprehensive overview of all the features of Python. The examples and especially the explanations will be kept short, but links to an explanation in an external resource are often provided. Learning by changing the codeblocks and seeing what happens is highly encouraged. Some remarks in the notebook are written in _italics_. Those can be skipped but might be useful or interesting for someone already more familiar with the subject. Some of the code below is written in a way that demonstrates Python syntax, but might not be the most elegant or practical way of doing things.\n",
    "\n",
    "## Python\n",
    "\n",
    "### Hello, World!\n",
    "\n",
    "Programming languages are often introduced with an implementation of the \"Hello, World!\" program. This program simply displays the message \"Hello, World!\" to illustrate the basic syntax of the program. In Python it can be implemented as"
   ]
  },
  {
   "cell_type": "code",
   "execution_count": null,
   "metadata": {},
   "outputs": [],
   "source": [
    "print('Hello, World!')"
   ]
  },
  {
   "cell_type": "markdown",
   "metadata": {},
   "source": [
    "_The code above is written in Python 3 and would be slightly different in Python 2, where ``print`` was a statement, not a function. Given that Python 2 is officially discontinued we will not mention it any further._\n",
    "\n",
    "It could also be implemented as"
   ]
  },
  {
   "cell_type": "code",
   "execution_count": null,
   "metadata": {},
   "outputs": [],
   "source": [
    "print(\"Hello, World!\") # This uses \" instead of '"
   ]
  },
  {
   "cell_type": "markdown",
   "metadata": {},
   "source": [
    "In both cases the ``print()`` function outputs its argument, which is the string \"Hello, World!\". In the first codeblock the string was constructed using single quotes ``'`` and in the second it was done using double quotes ``\"``. According to the [Python Style Guide](https://www.python.org/dev/peps/pep-0008/#string-quotes) either option is fine, but the same style should be used throughout the code.\n",
    "\n",
    "The second implementation also includes an inline comment, beginning with ``#``. Anything written after a ``#`` is ignored by Python, but can be used to comment the source code.\n",
    "\n",
    "The argument of the ``print()`` function does not have to be a string, it will be automatically converted if necessary."
   ]
  },
  {
   "cell_type": "code",
   "execution_count": null,
   "metadata": {},
   "outputs": [],
   "source": [
    "print(1.234)"
   ]
  },
  {
   "cell_type": "markdown",
   "metadata": {},
   "source": [
    "### F-strings\n",
    "\n",
    "Python supports [Literal String Interpolation](https://www.python.org/dev/peps/pep-0498/) in the form of f-strings. They are a way of writing down human-readable expressions that will be evaluated before printing."
   ]
  },
  {
   "cell_type": "code",
   "execution_count": null,
   "metadata": {},
   "outputs": [],
   "source": [
    "a = 1\n",
    "b = 2\n",
    "print(f'The sum of {a} and {b} is {a+b}.')\n",
    "print(f'{a} divided by {b} is {a/b}')"
   ]
  },
  {
   "cell_type": "markdown",
   "metadata": {},
   "source": [
    "An f-string is written with ``f`` immediately preceding the first (single or double) quote and all expressions to be evaluated are written inside curly brackets. The values inside the curly brackets can be further formated with the [Format Specification Mini-Language](https://docs.python.org/3/library/string.html#format-specification-mini-language), as demonstrated below. "
   ]
  },
  {
   "cell_type": "code",
   "execution_count": null,
   "metadata": {},
   "outputs": [],
   "source": [
    "e = 2.718281828459\n",
    "print(f'The number e is roughly {e:.3f}.')\n",
    "print(f'The number e^4 is roughly {e**4:.2f}.')\n",
    "print(f'The number e^4 is roughly {e**4:.2e}.')"
   ]
  },
  {
   "cell_type": "markdown",
   "metadata": {},
   "source": [
    "### Operators\n",
    "\n",
    "Python supports many arithmetic operations. In the examples above we have already used addition ``+``, division ``/`` and exponentiation ``**``. The arithmetic operations available in Python are demonstrated below."
   ]
  },
  {
   "cell_type": "code",
   "execution_count": null,
   "metadata": {},
   "outputs": [],
   "source": [
    "a = 4\n",
    "b = 5\n",
    "print(a+b)  # Addition\n",
    "print(a-b)  # Subtraction\n",
    "print(a*b)  # Multiplication\n",
    "print(a/b)  # Division\n",
    "print(a%b)  # Modulus\n",
    "print(a//b) # Floor division\n",
    "print(a**b) # Exponentiation"
   ]
  },
  {
   "cell_type": "markdown",
   "metadata": {},
   "source": [
    "The arithmetic operators can be used together with a preceeding ``=`` to create assigment operators which modify the value of a variable instead of creating a new variable with the desired value. Their use is demonstrated below."
   ]
  },
  {
   "cell_type": "code",
   "execution_count": null,
   "metadata": {},
   "outputs": [],
   "source": [
    "a, b = 4, 5\n",
    "c = a+b\n",
    "print(a, b, c)\n",
    "a += b\n",
    "print(a, b)\n",
    "c = a*b\n",
    "print(a, b, c)\n",
    "a *= b\n",
    "print(a, b)"
   ]
  },
  {
   "cell_type": "markdown",
   "metadata": {},
   "source": [
    "Python also includes comparison operators that result in Booleans ``True`` or ``False``."
   ]
  },
  {
   "cell_type": "code",
   "execution_count": null,
   "metadata": {},
   "outputs": [],
   "source": [
    "a, b = 4, 5\n",
    "print(f'Is {a} equal to {b}? {a == b}')\n",
    "print(f'Is {a} not equal to {b}? {a != b}')\n",
    "print(f'Is {a} lesser than {b}? {a < b}')\n",
    "print(f'Is {a} greater than {b}? {a > b}')\n",
    "print(f'Is {a} lesser than or equal to {b}? {a <= b}')\n",
    "print(f'Is {a} greater than or equal to {b}? {a >= b}')"
   ]
  },
  {
   "cell_type": "markdown",
   "metadata": {},
   "source": [
    "Logical operators are available."
   ]
  },
  {
   "cell_type": "code",
   "execution_count": null,
   "metadata": {},
   "outputs": [],
   "source": [
    "a = True\n",
    "b = False\n",
    "print(f'a is {a} and b is {b}.')\n",
    "print(f'a and b is {a and b}.')\n",
    "print(f'a or b is {a or b}.')\n",
    "print(f'a is {a} so not a is {not a}.')"
   ]
  },
  {
   "cell_type": "markdown",
   "metadata": {},
   "source": [
    "Comparison operators can be chained without having to explicitly use logical operators."
   ]
  },
  {
   "cell_type": "code",
   "execution_count": null,
   "metadata": {},
   "outputs": [],
   "source": [
    "a, b, c, d = 1, 4, 9, 13\n",
    "\n",
    "print((a < b) and (b < c) and (c < d))\n",
    "print(a < b < c < d)\n",
    "print()\n",
    "print((a < b) and (b > c) and (c < d))\n",
    "print(a < b > c < d)\n",
    "print()\n",
    "print((a <= b) and (b <= c) and (c <= a))\n",
    "print(a <= b <= c <= a)"
   ]
  },
  {
   "cell_type": "markdown",
   "metadata": {},
   "source": [
    "### Sequences\n",
    "\n",
    "Variables can be collected together into sequences. Elements in a sequence can be accessed through indexing. The first element in a Python sequence has index 0. Negative indices are counted from the end of the sequence starting from -1."
   ]
  },
  {
   "cell_type": "code",
   "execution_count": null,
   "metadata": {},
   "outputs": [],
   "source": [
    "seq = [1, 2, 3]\n",
    "print(f'The sequence is {seq}.')\n",
    "print(f'The first element of the sequence is {seq[0]}.')\n",
    "print(f'The second element of the sequence is {seq[1]}.')\n",
    "print(f'The second to last element of the sequence is {seq[-2]}.')\n",
    "print(f'The last element of the sequence is {seq[-1]}.')"
   ]
  },
  {
   "cell_type": "markdown",
   "metadata": {},
   "source": [
    "_We defined ``seq`` using square brackets, which makes it a [list](https://docs.python.org/3/tutorial/introduction.html#lists)._\n",
    "\n",
    "We can check if an element is in the sequence or not."
   ]
  },
  {
   "cell_type": "code",
   "execution_count": null,
   "metadata": {},
   "outputs": [],
   "source": [
    "a = 2\n",
    "print(f'Is a={a} in the sequence {seq}? {a in seq}')\n",
    "print(f'Is a={a} not in the sequence {seq}? {a not in seq}')"
   ]
  },
  {
   "cell_type": "markdown",
   "metadata": {},
   "source": [
    "### If-statements\n",
    "\n",
    "If-statements allow code to be conditionally executed. Python uses indentation to group lines of code. [Python Style Guide](https://www.python.org/dev/peps/pep-0008/#string-quotes) recommends using 4 spaces per indentation level."
   ]
  },
  {
   "cell_type": "code",
   "execution_count": null,
   "metadata": {},
   "outputs": [],
   "source": [
    "a = 45\n",
    "if isinstance(a, int): # We want to be sure that a is an integer\n",
    "    if a > 0:\n",
    "        if a%2 == 0: \n",
    "            print(f'{a} is positive and even.')\n",
    "        else:\n",
    "            print(f'{a} is positive and odd.')\n",
    "    else:\n",
    "        print(f'{a} is non-positive.')\n",
    "else:\n",
    "    print(f'{a} is not an integer.')\n",
    "print('This sentence will be printed no matter what.')"
   ]
  },
  {
   "cell_type": "markdown",
   "metadata": {},
   "source": [
    "We can get rid of one level of indentation with the if-elif-else construction."
   ]
  },
  {
   "cell_type": "code",
   "execution_count": null,
   "metadata": {},
   "outputs": [],
   "source": [
    "if isinstance(a, int): # We want to be sure that a is an integer\n",
    "    if a <= 0:\n",
    "        print(f'{a} is non-positive.')\n",
    "    elif a%2:\n",
    "        print(f'{a} is positive and odd.')\n",
    "    else:\n",
    "        print(f'{a} is positive and even.')\n",
    "else:\n",
    "    print(f'{a} is not an integer.')\n",
    "print('This sentence will be printed no matter what.')"
   ]
  },
  {
   "cell_type": "markdown",
   "metadata": {},
   "source": [
    "The code above uses numerical values ``a%2`` (either 0 or 1 for any integer) as Booleans. In Python 0 is considered ``False`` and any other numerical value is considered ``True``. ``False`` can be converted to 0 and ``True`` can be converted to 1."
   ]
  },
  {
   "cell_type": "code",
   "execution_count": null,
   "metadata": {},
   "outputs": [],
   "source": [
    "a, b = 0, -1\n",
    "print(bool(a), bool(b))\n",
    "print(int(False), int(True))\n",
    "print(float(False), float(True))"
   ]
  },
  {
   "cell_type": "markdown",
   "metadata": {},
   "source": [
    "### Loops\n",
    "\n",
    "Sometimes it is useful to execute some code multiple times. This can be achieved using a while-loop. Loops follow indentation rules analogous to if-statements."
   ]
  },
  {
   "cell_type": "code",
   "execution_count": null,
   "metadata": {},
   "outputs": [],
   "source": [
    "# This code will print all non-negative integers lesser than 10 using a while-loop\n",
    "i = 0\n",
    "i_max = 10\n",
    "while i < i_max:\n",
    "    print(i)\n",
    "    i += 1"
   ]
  },
  {
   "cell_type": "markdown",
   "metadata": {},
   "source": [
    "A while-loop will continue running as long as the condition following the while statement is true, but it can also be interupted using the ``break`` statement."
   ]
  },
  {
   "cell_type": "code",
   "execution_count": null,
   "metadata": {},
   "outputs": [],
   "source": [
    "i = 0\n",
    "while True:\n",
    "    if i >= i_max:\n",
    "        break\n",
    "    print(i)\n",
    "    i += 1"
   ]
  },
  {
   "cell_type": "markdown",
   "metadata": {},
   "source": [
    "If we wish to print only odd numbers we could use the ``continue`` statement. This will interrupt the current iteration of the loop and start the next one."
   ]
  },
  {
   "cell_type": "code",
   "execution_count": null,
   "metadata": {},
   "outputs": [],
   "source": [
    "i = 0\n",
    "while i < i_max:\n",
    "    i += 1\n",
    "    if not i%2:\n",
    "        continue\n",
    "    print(i)"
   ]
  },
  {
   "cell_type": "markdown",
   "metadata": {},
   "source": [
    "Because we know the range of numbers we wish to print beforehand it would be better to use a for-loop together with ``range()``. _A [range object](https://docs.python.org/3/library/stdtypes.html#range) is not a list._"
   ]
  },
  {
   "cell_type": "code",
   "execution_count": null,
   "metadata": {},
   "outputs": [],
   "source": [
    "for i in range(10):\n",
    "    print(i)"
   ]
  },
  {
   "cell_type": "code",
   "execution_count": null,
   "metadata": {},
   "outputs": [],
   "source": [
    "for i in range(2, 10):\n",
    "    print(i)"
   ]
  },
  {
   "cell_type": "code",
   "execution_count": null,
   "metadata": {},
   "outputs": [],
   "source": [
    "for i in range(2, 10, 3):\n",
    "    print(i)"
   ]
  },
  {
   "cell_type": "code",
   "execution_count": null,
   "metadata": {},
   "outputs": [],
   "source": [
    "for i in range(10, 2, -3):\n",
    "    print(i)"
   ]
  },
  {
   "cell_type": "markdown",
   "metadata": {},
   "source": [
    "The ``break`` and ``continue`` statements work in a for-loop just like in a while-loop.\n",
    "\n",
    "A Python for-loop does not need to be used together with ``range()``, any iterable, _i.e. an instance of a class that properly implements the [\\_\\_iter\\_\\_() function](https://docs.python.org/dev/library/stdtypes.html#iterator-types),_ will do. Printing elements of an iterable can be achieved simply as"
   ]
  },
  {
   "cell_type": "code",
   "execution_count": null,
   "metadata": {},
   "outputs": [],
   "source": [
    "seq = [1, 2, 5, 8]\n",
    "for elem in seq:\n",
    "    print(elem)"
   ]
  },
  {
   "cell_type": "markdown",
   "metadata": {},
   "source": [
    "Should we wish to obtain elements together with their indices the following will work, though clumsily."
   ]
  },
  {
   "cell_type": "code",
   "execution_count": null,
   "metadata": {},
   "outputs": [],
   "source": [
    "for i in range(len(seq)):\n",
    "    print(f'Element with index {i} is {seq[i]}.')"
   ]
  },
  {
   "cell_type": "markdown",
   "metadata": {},
   "source": [
    "A more elegant way of doing this is "
   ]
  },
  {
   "cell_type": "code",
   "execution_count": null,
   "metadata": {},
   "outputs": [],
   "source": [
    "for i, elem in enumerate(seq):\n",
    "    print(f'Element with index {i} is {elem}.')"
   ]
  },
  {
   "cell_type": "markdown",
   "metadata": {},
   "source": [
    "It is also possible to loop through multiple iterables at once with ``zip()``."
   ]
  },
  {
   "cell_type": "code",
   "execution_count": null,
   "metadata": {},
   "outputs": [],
   "source": [
    "letters = ['a', 'b', 'c']\n",
    "numbers = (1, 2, 3)\n",
    "booleans = [True, False]\n",
    "for letter, number, boolean in zip(letters, numbers, booleans):\n",
    "    print(letter, number, boolean)"
   ]
  },
  {
   "cell_type": "markdown",
   "metadata": {},
   "source": [
    "_We defined ``numbers`` using parentheses, which makes it a [tuple](https://docs.python.org/3/library/stdtypes.html#Tuples)._\n",
    "\n",
    "New lists can be created from existing iterables trough [list comprehensions](https://docs.python.org/3/tutorial/datastructures.html#list-comprehensions)."
   ]
  },
  {
   "cell_type": "code",
   "execution_count": null,
   "metadata": {},
   "outputs": [],
   "source": [
    "numbers = range(10)\n",
    "squares_of_even_numbers = [n**2 for n in numbers if n%2 == 0]\n",
    "print(squares_of_even_numbers)"
   ]
  },
  {
   "cell_type": "markdown",
   "metadata": {},
   "source": [
    "### Slicing\n",
    "\n",
    "We already saw how to use indexing to access individual elements from a sequence, but by using slicing we can access subsequences. When slicing a sequence from index a to b we access the indices $\\left[a,b\\right)$. For example ``seq[2:4]`` will include ``seq[2]`` and ``seq[3]``, but not ``seq[4]``."
   ]
  },
  {
   "cell_type": "code",
   "execution_count": null,
   "metadata": {},
   "outputs": [],
   "source": [
    "seq = list(range(10))\n",
    "print(seq)\n",
    "print(seq[2:])\n",
    "print(seq[:5])\n",
    "print(seq[2:5])\n",
    "print(seq[::2])\n",
    "print(seq[1::2])\n",
    "print(seq[1:2])"
   ]
  },
  {
   "cell_type": "markdown",
   "metadata": {},
   "source": [
    "It is worth pointing out that ``seq[1]`` and ``seq[1:2]`` do not have the same output. The former returns the element with index 1 whereas the latter returns a new sequence that has one element, which is the element with index 1."
   ]
  },
  {
   "cell_type": "markdown",
   "metadata": {},
   "source": [
    "### Functions\n",
    "\n",
    "Python allows for the definition of functions _and classes_ which are chunks of code that can be called by other parts of the code. We could implement the \"Hello, World!\" program using functions."
   ]
  },
  {
   "cell_type": "code",
   "execution_count": null,
   "metadata": {},
   "outputs": [],
   "source": [
    "def hello_world():\n",
    "    print(\"Hello, World!\")"
   ]
  },
  {
   "cell_type": "markdown",
   "metadata": {},
   "source": [
    "We have defined the function but no message was printed because we have not yet called it. "
   ]
  },
  {
   "cell_type": "code",
   "execution_count": null,
   "metadata": {},
   "outputs": [],
   "source": [
    "hello_world()"
   ]
  },
  {
   "cell_type": "markdown",
   "metadata": {},
   "source": [
    "The ``hello_world()`` function always prints the same message, but we could also write a function that returns a value depending on its input."
   ]
  },
  {
   "cell_type": "code",
   "execution_count": null,
   "metadata": {},
   "outputs": [],
   "source": [
    "def is_positive(x):\n",
    "    return x > 0\n",
    "\n",
    "for elem in (5, -5):\n",
    "    print(f'Is {elem} positive? {is_positive(elem)}')"
   ]
  },
  {
   "cell_type": "markdown",
   "metadata": {},
   "source": [
    "Functions can be used in the definitions of other functions. _Recursion is available too._"
   ]
  },
  {
   "cell_type": "code",
   "execution_count": null,
   "metadata": {},
   "outputs": [],
   "source": [
    "def is_negative(x):\n",
    "    if x == 0:\n",
    "        return False\n",
    "    return not is_positive(x)\n",
    "\n",
    "for elem in (5, -5, 0):\n",
    "    print(f'Is {elem} negative? {is_negative(elem)}')"
   ]
  },
  {
   "cell_type": "markdown",
   "metadata": {},
   "source": [
    "Function arguments can have default values in which case they don't have to be provided in the function call."
   ]
  },
  {
   "cell_type": "code",
   "execution_count": null,
   "metadata": {},
   "outputs": [],
   "source": [
    "def is_odd(x, verbose=False):\n",
    "    answer = bool(a%2)\n",
    "    if verbose:\n",
    "        if answer:\n",
    "            print(f'{x} is odd.')\n",
    "        else:\n",
    "            print(f'{x} is not odd.')\n",
    "    return answer\n",
    "\n",
    "# One of these three is not like the others\n",
    "a = 3\n",
    "print(is_odd(a))\n",
    "print()\n",
    "print(is_odd(a, verbose=False))\n",
    "print()\n",
    "print(is_odd(a, verbose=True))"
   ]
  },
  {
   "cell_type": "markdown",
   "metadata": {},
   "source": [
    "Functions have their own namespace, which means variables defined within a function are separate from variables outside them even if they share their name."
   ]
  },
  {
   "cell_type": "code",
   "execution_count": null,
   "metadata": {},
   "outputs": [],
   "source": [
    "def namespace_example():\n",
    "    a = 5\n",
    "    print(f'This function thinks a={a}, b={b}.' )\n",
    "    \n",
    "a = 3\n",
    "b = 7\n",
    "namespace_example()\n",
    "print(f'But outside the function a={a}, b={b}.')"
   ]
  },
  {
   "cell_type": "markdown",
   "metadata": {},
   "source": [
    "### Importing\n",
    "\n",
    "It can often be useful to import code from pre-existing modules or packages. It is possible to import entire modules or individual classes, functions or constants."
   ]
  },
  {
   "cell_type": "code",
   "execution_count": null,
   "metadata": {},
   "outputs": [],
   "source": [
    "from numpy import pi    # Importing a single constant\n",
    "\n",
    "print(pi)"
   ]
  },
  {
   "cell_type": "code",
   "execution_count": null,
   "metadata": {},
   "outputs": [],
   "source": [
    "import numpy as np      # Importing the entire module\n",
    "\n",
    "print(np.pi)"
   ]
  },
  {
   "cell_type": "markdown",
   "metadata": {},
   "source": [
    "## NumPy\n",
    "\n",
    "### Motivation\n",
    "\n",
    "A Python list can hold elements of different data types. Arithmetic operations can be defined in a meaningful way for many different datatypes, though with different outcomes."
   ]
  },
  {
   "cell_type": "code",
   "execution_count": null,
   "metadata": {},
   "outputs": [],
   "source": [
    "for elem in (5, '5', [5]):\n",
    "    print(f'2 times {elem}, a {type(elem)} instance, is {2*elem}')"
   ]
  },
  {
   "cell_type": "markdown",
   "metadata": {},
   "source": [
    "In scientific computing it is very often necessary to perform a large number of operations with many numerical values. Using Python lists for storing numbers in resource-intensive calculations means that the Python interpreter needs to check every single one of them to determine if it is indeed numerical and what an arithmetic operation performed with it means. This overhead slows the code down. The way to get around this limitation is to write vectorized code with the [NumPy](https://numpy.org/) package.\n",
    "\n",
    "We shall first illustrate the speed difference between basic Python and NumPy by implementing functions that compute pairwise differences between numbers. A more thorough explanation on how to vectorize code using NumPy will be presented below.\n",
    "\n",
    "We will use the [IPython ``%timeit`` magic function](https://ipython.readthedocs.io/en/stable/interactive/magics.html) to time the code execution. You shouldn't expect ``%timeit`` to work outside a Jupyter notebook."
   ]
  },
  {
   "cell_type": "code",
   "execution_count": null,
   "metadata": {},
   "outputs": [],
   "source": [
    "def pairwise_differences_with_for_loops(arr):\n",
    "    diffs = []\n",
    "    for elem1 in arr:\n",
    "        diffs.append([])\n",
    "        for elem2 in arr:\n",
    "            diffs[-1].append(elem1-elem2)\n",
    "    return diffs\n",
    "\n",
    "def pairwise_differences_with_list_comprehensions(arr):\n",
    "    return [[elem1-elem2 for elem2 in arr] for elem1 in arr]\n",
    "\n",
    "small_list = [1, 4, 9]\n",
    "print(pairwise_differences_with_for_loops(small_list))\n",
    "large_list = list(range(1000))\n",
    "%timeit pairwise_differences_with_for_loops(large_list)\n",
    "\n",
    "print(pairwise_differences_with_list_comprehensions(small_list))\n",
    "%timeit pairwise_differences_with_list_comprehensions(large_list)"
   ]
  },
  {
   "cell_type": "code",
   "execution_count": null,
   "metadata": {},
   "outputs": [],
   "source": [
    "def pairwise_differences_with_numpy(arr):\n",
    "    return arr[:,np.newaxis]-arr\n",
    "\n",
    "small_array = np.array(small_list)\n",
    "diffs = (pairwise_differences_with_numpy(small_array))\n",
    "print(diffs)\n",
    "large_array = np.array(large_list)\n",
    "%timeit pairwise_differences_with_numpy(large_array)"
   ]
  },
  {
   "cell_type": "markdown",
   "metadata": {},
   "source": [
    "We can see that using list comprehensions is roughly twice as fast as using for-loops, but using NumPy is roughly 50 times faster still.\n",
    "\n",
    "### Arrays\n",
    "\n",
    "One of the key concepts that allows NumPy to perform so much better is the NumPy array. An array is a collection of elements of the same datatype that has some size, i.e. total number of elements in it, and some number of dimensions or axes, which is the number of indices required to identify an element. An array also has a shape, which is the size of the array along all the different axes."
   ]
  },
  {
   "cell_type": "code",
   "execution_count": null,
   "metadata": {},
   "outputs": [],
   "source": [
    "for arr in (small_array, diffs):\n",
    "    print(f'Array:\\n{arr}', f'Size: {arr.size}', f'Number of axes: {arr.ndim}', f'Shape: {arr.shape}', sep='\\n')\n",
    "    print()"
   ]
  },
  {
   "cell_type": "markdown",
   "metadata": {},
   "source": [
    "Arrays could be generated from Python lists as we have done above, they could be initialized with some default value or they can be obtained by manipulating other arrays."
   ]
  },
  {
   "cell_type": "code",
   "execution_count": null,
   "metadata": {},
   "outputs": [],
   "source": [
    "false_arr = np.zeros(5, dtype=bool)\n",
    "print(false_arr)\n",
    "int_ones = np.ones(4, dtype=int)\n",
    "print(int_ones)\n",
    "float_ones = np.ones((2,3))\n",
    "print(float_ones)"
   ]
  },
  {
   "cell_type": "markdown",
   "metadata": {},
   "source": [
    "### Vectorization\n",
    "\n",
    "Vectorized code handles arrays as a whole instead of looping through their elements and handling them individually. Suppose we have an array and we wish to create a new array with the values doubled."
   ]
  },
  {
   "cell_type": "code",
   "execution_count": null,
   "metadata": {},
   "outputs": [],
   "source": [
    "def double_not_vectorized(arr):\n",
    "    return [2*elem for elem in arr]\n",
    "\n",
    "def double_vectorized(arr):\n",
    "    return 2*arr\n",
    "\n",
    "small_list = [1, 4, 9]\n",
    "print(double_not_vectorized(small_list))\n",
    "small_array = np.array(small_list)\n",
    "print(double_vectorized(small_array))"
   ]
  },
  {
   "cell_type": "markdown",
   "metadata": {},
   "source": [
    "Here is another example where we increment the elements by one."
   ]
  },
  {
   "cell_type": "code",
   "execution_count": null,
   "metadata": {},
   "outputs": [],
   "source": [
    "print(f'Initial list: {small_list}')\n",
    "\n",
    "# Normal python with list comprehension\n",
    "incremented_list = [elem+1 for elem in small_list]\n",
    "    \n",
    "print(f'Incremented list: {incremented_list}')\n",
    "print()\n",
    "\n",
    "# NumPy \n",
    "print(f'Initial array: {small_array}')\n",
    "print(f'Incremented array: {small_array+1}')"
   ]
  },
  {
   "cell_type": "markdown",
   "metadata": {},
   "source": [
    "Many NumPy functions can also be applied to arrays element-wise."
   ]
  },
  {
   "cell_type": "code",
   "execution_count": null,
   "metadata": {},
   "outputs": [],
   "source": [
    "angles = np.arange(0, 361, 45)\n",
    "print(f'Angles are {angles} degrees')\n",
    "angles = np.deg2rad(angles)\n",
    "print(f'Angles are {angles} radians')\n",
    "print(f'Cosines are {np.cos(angles)}')"
   ]
  },
  {
   "cell_type": "markdown",
   "metadata": {},
   "source": [
    "Some functions can be applied to the array as a whole or along some specific axis."
   ]
  },
  {
   "cell_type": "code",
   "execution_count": null,
   "metadata": {},
   "outputs": [],
   "source": [
    "print(f'Array:\\n{diffs}')\n",
    "print(f'Total sum: {np.sum(diffs)}')\n",
    "for i in range(2):\n",
    "    print(f'Sums along axis {i}: {np.sum(diffs, axis=i)}')\n",
    "print(f'Maximum value: {np.max(diffs)}')\n",
    "for i in range(2):\n",
    "    print(f'Maximum values along axis {i}: {np.max(diffs, axis=i)}')"
   ]
  },
  {
   "cell_type": "markdown",
   "metadata": {},
   "source": [
    "### Slicing\n",
    "\n",
    "Slicing NumPy arrays uses syntax similar to slicing basic Python sequences, but arrays can be sliced independently along different axes."
   ]
  },
  {
   "cell_type": "code",
   "execution_count": null,
   "metadata": {},
   "outputs": [],
   "source": [
    "print(diffs, diffs[1:], diffs[::2], diffs[1:,:-1], diffs[:,2], sep='\\n\\n')"
   ]
  },
  {
   "cell_type": "markdown",
   "metadata": {},
   "source": [
    "Note that Numpy arrays with multiple dimensions are accessed with tuples that specify (or not) the indices in the dimension, i.e ``diffs[i,j]`` for i-th row and j-th column. Something similar can be constructed with Python lists, where the list of rows each contain a column list. These are then accessed by first indexing the row and then the column like ``diffs[i][j]``. "
   ]
  },
  {
   "cell_type": "markdown",
   "metadata": {},
   "source": [
    "### Masking\n",
    "\n",
    "Sometimes we wish to perform operations only on a subset of array elements that satisfy some condition. This can be achieved with masking. Suppose we have an array of integers and we wish to double its odd values but leave the even values unchanged."
   ]
  },
  {
   "cell_type": "code",
   "execution_count": null,
   "metadata": {},
   "outputs": [],
   "source": [
    "print(f'Original array:\\n{diffs}')\n",
    "mod_diffs = diffs.copy()\n",
    "mod_diffs[diffs%2 == 1] *= 2\n",
    "print(f'Modified array:\\n{mod_diffs}')"
   ]
  },
  {
   "cell_type": "markdown",
   "metadata": {},
   "source": [
    "In the above code the expression ``diffs%2 == 1`` creates a mask of Boolean values. Only the subset of values corresponding to ``True`` in the mask are doubled.\n",
    "\n",
    "### Broadcasting\n",
    "\n",
    "If two arrays have the same shape then it is possible to perform element-wise operations."
   ]
  },
  {
   "cell_type": "code",
   "execution_count": null,
   "metadata": {},
   "outputs": [],
   "source": [
    "a = np.arange(3)\n",
    "print(a)\n",
    "b = np.arange(4,9,2)\n",
    "print(b)\n",
    "print(a-b)\n",
    "print(a*b)"
   ]
  },
  {
   "cell_type": "markdown",
   "metadata": {},
   "source": [
    "Sometimes it is also possible to do this is even if the arrays have different shapes. This is known as [broadcasting](https://numpy.org/doc/stable/user/basics.broadcasting.html). We will not repeat the rules of broadcasting here, but we do offer a brief description of how we used it to compute the pairwise distances with the function ``pairwise_differences_with_numpy()``."
   ]
  },
  {
   "cell_type": "code",
   "execution_count": null,
   "metadata": {},
   "outputs": [],
   "source": [
    "print(small_array)                         # The input array\n",
    "print(small_array.shape)                   # Input is a 1-dimensional array\n",
    "print(diffs)                               # The expected output\n",
    "print()\n",
    "column_vector = small_array[:,np.newaxis]  # We can add another axis to the array without changing its elements\n",
    "print(column_vector)                       # We now have a column vector\n",
    "print(column_vector.shape)\n",
    "print()\n",
    "row_vector = small_array[np.newaxis,]      # We could also convert the input into a row vector\n",
    "print(row_vector)\n",
    "print(row_vector.shape)\n",
    "print()\n",
    "# Broadcasting stretches the column vector to a matrix that has the i-th element in i-th row. The row vector gets\n",
    "# stretched to a matrix that has the j-th element in the j-th column. The difference of these matrices has in its \n",
    "# i,j position the difference of elements with indices i and j, which is exactly what we want.\n",
    "print(column_vector-row_vector)            \n",
    "print()\n",
    "# We don't have to store the row and column vectors, so we could just write\n",
    "print(small_array[:,np.newaxis]-small_array[np.newaxis,])\n",
    "print()\n",
    "# But according to broadcasting rules the second broadcasting can be performed implicitly\n",
    "print(small_array[:,np.newaxis]-small_array)"
   ]
  },
  {
   "cell_type": "markdown",
   "metadata": {},
   "source": [
    "The initial array has the shape (3,), so the table of pairwise differences must have the shape (3,3). It could be tempting to convert ``small_array`` into the correct shape by taking the outer product with an array of ones."
   ]
  },
  {
   "cell_type": "code",
   "execution_count": null,
   "metadata": {},
   "outputs": [],
   "source": [
    "temp = np.outer(small_array, np.ones(small_array.shape, dtype=int))\n",
    "print(temp)"
   ]
  },
  {
   "cell_type": "markdown",
   "metadata": {},
   "source": [
    "Finding the pairwise distances can now be done explicitly if we think of this intermediate 2D array as a matrix and apply the transposing operation."
   ]
  },
  {
   "cell_type": "code",
   "execution_count": null,
   "metadata": {},
   "outputs": [],
   "source": [
    "print(temp-temp.T)"
   ]
  },
  {
   "cell_type": "markdown",
   "metadata": {},
   "source": [
    "The problem of this approach is that the temporary matrix ``temp`` needs to be stored in the memory. For a matrix of such a small size this shortcoming is not noticeable, but for larger datasets it could well be. Broadcasting achieves the same outcome without creating and storing temporary matrices and also with less code."
   ]
  },
  {
   "cell_type": "markdown",
   "metadata": {},
   "source": [
    "## Matplotlib\n",
    "\n",
    "Python can be used for more than just computing your results, it can also be used for visualizing them. A popular module for this is [Matplotlib](https://matplotlib.org/), which is quite compatible with NumPy. The following illustrates some basic usage."
   ]
  },
  {
   "cell_type": "code",
   "execution_count": null,
   "metadata": {},
   "outputs": [],
   "source": [
    "from matplotlib import pyplot as plt\n",
    "\n",
    "angles = np.arange(361)\n",
    "plt.plot(angles, np.cos(np.deg2rad(angles)))\n",
    "plt.title('A plot')\n",
    "plt.xlabel('Angles [deg]')\n",
    "plt.ylabel('Cosines')\n",
    "plt.show()\n",
    "plt.close()"
   ]
  },
  {
   "cell_type": "markdown",
   "metadata": {},
   "source": [
    "Matplotlib does understand basic $\\TeX$ commands."
   ]
  },
  {
   "cell_type": "code",
   "execution_count": null,
   "metadata": {},
   "outputs": [],
   "source": [
    "plt.plot(angles, np.cos(np.deg2rad(angles)))\n",
    "plt.title('A plot')\n",
    "plt.xlabel(r'$\\alpha$ [deg]')\n",
    "plt.ylabel(r'$\\cos\\alpha$')\n",
    "plt.show()\n",
    "plt.close()"
   ]
  },
  {
   "cell_type": "code",
   "execution_count": null,
   "metadata": {},
   "outputs": [],
   "source": [
    "plt.scatter(angles[::10], np.cos(np.deg2rad(angles[::10])), label=r'$\\cos\\alpha$', marker='*', color='y')\n",
    "plt.plot(angles, np.sin(np.deg2rad(angles)), label=r'$\\sin\\alpha$', linestyle='--')\n",
    "plt.title('A plot with a legend')\n",
    "plt.xlabel(r'$\\alpha$ [deg]')\n",
    "plt.ylabel('Trigonometric functions')\n",
    "plt.legend()\n",
    "plt.show()\n",
    "plt.close()"
   ]
  },
  {
   "cell_type": "markdown",
   "metadata": {},
   "source": [
    "## Astropy\n",
    "\n",
    "[Astropy](https://www.astropy.org/) is a very useful package for using Python in Astronomy. Here we will limit ourselves to demonstrating only two useful aspects of Astropy.\n",
    "\n",
    "### Units\n",
    "\n",
    "Astropy can handle [physical quantities](https://docs.astropy.org/en/stable/units/) that have some value in some unit system. Many physical constants are also built in."
   ]
  },
  {
   "cell_type": "code",
   "execution_count": null,
   "metadata": {},
   "outputs": [],
   "source": [
    "from astropy import units as u\n",
    "from astropy.constants import G\n",
    "\n",
    "angles = np.arange(0, 361, 45)*u.degree\n",
    "print(angles)\n",
    "print(np.sin(angles))                    # We do not have to explicitly convert degrees to radians\n",
    "print(angles.to(u.rad))                  # But we can if we want to\n",
    "print()\n",
    "\n",
    "r = 1*u.au\n",
    "t = 1*u.yr\n",
    "v = 2*np.pi*r/t\n",
    "print(v)\n",
    "print(v.to(u.km/u.s))\n",
    "print()\n",
    "\n",
    "print(G)"
   ]
  },
  {
   "cell_type": "markdown",
   "metadata": {},
   "source": [
    "## Tables\n",
    "\n",
    "Astropy also implements [Tables](https://docs.astropy.org/en/stable/table/index.html) that allow data to be grouped and handled together. _Astropy Tables are very similar to pandas dataframes, but they support multidimensional columns._ A QTable is a Table that can have physical quantities (i.e. with units) as columns. The following demonstrates some basic functionality."
   ]
  },
  {
   "cell_type": "code",
   "execution_count": null,
   "metadata": {},
   "outputs": [],
   "source": [
    "from astropy.table import QTable\n",
    "\n",
    "# Creating a QTable\n",
    "labels = ['Earth', 'Jupiter', 'Sun']\n",
    "m = [1*u.M_earth, 1*u.M_jupiter, 1*u.M_sun]\n",
    "r = [1*u.R_earth, 1*u.R_jupiter, 1*u.R_sun]\n",
    "data = QTable((labels, m, r), names=['name', 'mass', 'radius'])\n",
    "print(data)\n",
    "print()\n",
    "print(data.info)\n",
    "print()\n",
    "\n",
    "# It is possible to add new columns\n",
    "data['density'] = (data['mass']/(4*np.pi/3*data['radius']**3)).to(u.g/u.cm**3)\n",
    "print(data)\n",
    "print()\n",
    "\n",
    "# We can filter data based on the values of some columns\n",
    "print(data[data['density'] < 2*u.g/u.cm**3])\n",
    "print()\n",
    "\n",
    "# We can easilly access data for a specific object\n",
    "print(data[data['name'] == 'Sun'])"
   ]
  },
  {
   "cell_type": "code",
   "execution_count": null,
   "metadata": {},
   "outputs": [],
   "source": []
  }
 ],
 "metadata": {
  "kernelspec": {
   "display_name": "Python 3",
   "language": "python",
   "name": "python3"
  },
  "language_info": {
   "codemirror_mode": {
    "name": "ipython",
    "version": 3
   },
   "file_extension": ".py",
   "mimetype": "text/x-python",
   "name": "python",
   "nbconvert_exporter": "python",
   "pygments_lexer": "ipython3",
   "version": "3.7.3"
  }
 },
 "nbformat": 4,
 "nbformat_minor": 2
}
