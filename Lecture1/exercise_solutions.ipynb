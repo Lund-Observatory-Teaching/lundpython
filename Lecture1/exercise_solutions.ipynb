{
 "cells": [
  {
   "cell_type": "markdown",
   "metadata": {},
   "source": [
    "# Introductory Python exercises"
   ]
  },
  {
   "cell_type": "markdown",
   "metadata": {},
   "source": [
    "<hr style=\"border:1px solid gray\"> </hr>\n",
    "\n",
    "## Simpler exercises"
   ]
  },
  {
   "cell_type": "markdown",
   "metadata": {},
   "source": [
    "### 1) Sequences and iteration\n",
    "\n",
    "Create a sequence of integers ranging from 0 to 10. Now you iterate from 0 over the numbers and print the current number ```Ncurr```, previous number ```Nprev``` and their sum ```Nsum``` in the following string:\n",
    "\n",
    "\"Current number ```Ncurr``` plus previous number ```Ncurr``` sums to: ```Nsum```\"\n",
    "Expected output at ```5```: \n",
    "\n",
    "```\n",
    "Current number 5 plus previous number 4 sums to: 9```"
   ]
  },
  {
   "cell_type": "code",
   "execution_count": null,
   "metadata": {},
   "outputs": [],
   "source": []
  },
  {
   "cell_type": "markdown",
   "metadata": {},
   "source": [
    "### 2) Is the number odd or even?\n",
    "The function ```input()``` will query the user for input. Knowing this:\n",
    "\n",
    "- Query the user for a number\n",
    "- Determine if the number is even or odd\n",
    "\n",
    "Extra challenge:\n",
    "- Print something else if the number is a multiple of 4\n",
    "- Query the user for two numbers ```N1```, ```N2``` and tell the user if ```N1/N2``` divides evenly (0 remainder)\n",
    "\n",
    "#### Click if you need a hint...\n",
    "<details>\n",
    "  <summary></summary>\n",
    "\n",
    "How does an even/odd number react differently when divided by 2? Check the guide on operators!\n",
    "  \n",
    "</details>\n"
   ]
  },
  {
   "cell_type": "code",
   "execution_count": null,
   "metadata": {},
   "outputs": [],
   "source": []
  },
  {
   "cell_type": "markdown",
   "metadata": {},
   "source": [
    "### 3) Loop, list comprehension, or numpy?\n",
    "Use the following code to generate an array of 10 floats randomly between 0-100 as ```ls_numpy``` and store the same numbers as a python list as ```ls_list```\n",
    "\n",
    "```python\n",
    "import numpy as np\n",
    "ls_numpy = np.random.uniform(low=0,high=100,size=10)\n",
    "ls_list = list(ls_numpy)\n",
    "```\n",
    "\n",
    "Now, modify the list/array by dividing each item/element by the mean of the entire set. Do this with:\n",
    "\n",
    "1. Basic python\n",
    "2. List comprehension\n",
    "3. Numpy\n",
    "\n",
    "Make sure each method outputs the same numbers"
   ]
  },
  {
   "cell_type": "code",
   "execution_count": null,
   "metadata": {},
   "outputs": [],
   "source": [
    "import numpy as np\n",
    "ls_numpy = np.random.uniform(low=0,high=100,size=10)\n",
    "ls_list = list(ls_numpy)\n",
    "\n",
    "# Basic python\n",
    "ls_mean = sum(ls_list)/len(ls_list)\n",
    "for i, item in enumerate(ls_list):\n",
    "    ls_list[i] = item/ls_mean\n",
    "print(ls_list[0])\n",
    "\n",
    "# List comprehension\n",
    "ls_list = list(ls_numpy)\n",
    "ls_mean = sum(ls_list)/len(ls_list)\n",
    "ls_list = [item/ls_mean for item in ls_list]\n",
    "print(ls_list[0])\n",
    "\n",
    "# Numpy \n",
    "ls_numpy /= np.mean(ls_numpy)\n",
    "print(ls_numpy[0])"
   ]
  },
  {
   "cell_type": "markdown",
   "metadata": {},
   "source": [
    "### 4)  Functions\n",
    "\n",
    "Now you will start writing functions. Here are three for you to write:\n",
    "\n",
    "* Write a function that takes a string as output and reverses it  \n",
    "    Example: input ```examplestring``` -> ```gnirtselpmaxe```\n",
    "* Write a function to that takes a list and returns a new list with only the unique elements  \n",
    "    Example: input ```[6, 4, 5, 7, 6, 4, 5, 7]``` -> ```[6,4,5,7]```\n",
    "* Write a function that, given either a) a string of multiple words or b) a list of numbers, will in a) pass the string to another function to split it into multiple strings and in b) will output the lists sum, mean, and standard deviation.\n",
    "\n",
    "#### Click if you need a hint with the third one...\n",
    "<details>\n",
    "  <summary></summary>\n",
    "\n",
    "You can split a string based on a delimiter with [split()](https://docs.python.org/2/library/stdtypes.html#str.split)\n",
    "  \n",
    "</details>"
   ]
  },
  {
   "cell_type": "code",
   "execution_count": null,
   "metadata": {},
   "outputs": [],
   "source": []
  },
  {
   "cell_type": "markdown",
   "metadata": {},
   "source": [
    "### 5) Numpy masking, slicing, indexing\n",
    "Create an array of size 20x3 with `np.random.randint()`. Now extract the following into new variables:\n",
    "1. The three separate columns\n",
    "2. Four different 2x2 arrays that corresponds to the corners of the 20x3 array\n",
    "3. Only the even rows, which creates a 10x3\n",
    "\n",
    "Once this is done do the following:\n",
    "1. Create a new array of 1x8 containing the mean of each of the above new arrays\n",
    "2. Replace the largest value in the original 20x3 with the sum of its row number and column number\n",
    "3. Create an 18x3 array skipping the first and last rows of the original"
   ]
  },
  {
   "cell_type": "code",
   "execution_count": null,
   "metadata": {},
   "outputs": [],
   "source": []
  },
  {
   "cell_type": "markdown",
   "metadata": {},
   "source": [
    "<hr style=\"border:1px solid gray\"> </hr>\n",
    "\n",
    "## More challenging exercises"
   ]
  },
  {
   "cell_type": "markdown",
   "metadata": {},
   "source": [
    "### 1) Fibonacci numbers\n",
    "\n",
    "The Fibonacci sequence is a sequence of numbers where a number is the sum of the two previous numbers. So it goes 0, 1, 1, 2, 3, 5, ... and so on. \n",
    "\n",
    "We define $F_0=0$, $F_1=1$ and $F_n=F_{n-2}+F_{n-1}$ for $n\\in N, n>1$. Implement a function `nth_Fibonacci(n)` that returns $F_n$ as a Python integer."
   ]
  },
  {
   "cell_type": "code",
   "execution_count": null,
   "metadata": {},
   "outputs": [],
   "source": []
  },
  {
   "cell_type": "markdown",
   "metadata": {},
   "source": [
    "### 2) FizzBuzz\n",
    "\n",
    "Write a function that loops over integers from 1 to the input $n$ (including) and prints the following:\n",
    "* 'Fizz' if the integer is divisible by 3\n",
    "* 'Buzz' if it is divisible by 5\n",
    "* the integer itself if it is not divisible by 3 or 5\n",
    "\n",
    "Integers divisible by 15 should result in 'Fizz Buzz' being printed."
   ]
  },
  {
   "cell_type": "code",
   "execution_count": null,
   "metadata": {},
   "outputs": [],
   "source": []
  },
  {
   "cell_type": "markdown",
   "metadata": {},
   "source": [
    "### 3) Leap years\n",
    "\n",
    "Write a function `is_leap_year(n)` that can tell if the year $n$ is a leap year in the [Gregorian calendar](https://en.wikipedia.org/wiki/Gregorian_calendar) or not (It is recommended to check the wikipedia article). You may assume that $n$ is an integer. The output should be a Boolean."
   ]
  },
  {
   "cell_type": "code",
   "execution_count": null,
   "metadata": {},
   "outputs": [],
   "source": []
  },
  {
   "cell_type": "markdown",
   "metadata": {},
   "source": [
    "### 4) Sieve of Eratosthenes\n",
    "\n",
    "Write a function that implements the [sieve of Eratosthenes](https://en.wikipedia.org/wiki/Sieve_of_Eratosthenes) and use it to find all the prime numbers below $n=1\\,000\\,000$. You might find it useful to know about the [prime counting function](https://en.wikipedia.org/wiki/Prime-counting_function)."
   ]
  },
  {
   "cell_type": "code",
   "execution_count": null,
   "metadata": {},
   "outputs": [],
   "source": []
  },
  {
   "cell_type": "markdown",
   "metadata": {},
   "source": [
    "### 5) Twin primes\n",
    "\n",
    "If the difference of two prime numbers is 2 then we call them twin primes. Write a function that finds all the twin prime pairs below some $n\\leq1\\,000\\,000$."
   ]
  },
  {
   "cell_type": "code",
   "execution_count": null,
   "metadata": {},
   "outputs": [],
   "source": []
  }
 ],
 "metadata": {
  "kernelspec": {
   "display_name": "Python 3",
   "language": "python",
   "name": "python3"
  },
  "language_info": {
   "codemirror_mode": {
    "name": "ipython",
    "version": 3
   },
   "file_extension": ".py",
   "mimetype": "text/x-python",
   "name": "python",
   "nbconvert_exporter": "python",
   "pygments_lexer": "ipython3",
   "version": "3.7.3"
  }
 },
 "nbformat": 4,
 "nbformat_minor": 4
}
