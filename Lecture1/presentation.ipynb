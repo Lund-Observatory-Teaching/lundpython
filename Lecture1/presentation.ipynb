{
 "cells": [
  {
   "cell_type": "markdown",
   "metadata": {
    "slideshow": {
     "slide_type": "slide"
    }
   },
   "source": [
    "<img src=\"imgs/front.jpeg\" width=\"1400\">"
   ]
  },
  {
   "cell_type": "markdown",
   "metadata": {
    "slideshow": {
     "slide_type": "slide"
    }
   },
   "source": [
    "<h1><center> The course </center></h1>\n",
    "\n",
    "#### Prior lecturers - Daniel Carrera, Brian Thorsbro\n",
    "<br>\n",
    "<br>\n",
    "\n",
    "### This lecture is a mini-series companion to: \n",
    "\n",
    "**ASTM13**: Dynamical Astronomy\n",
    "\n",
    "**ASTM21**: Statistical tools in astrophysics\n",
    "<br>\n",
    "<br>\n",
    "<br>\n",
    "<br>\n",
    "\n",
    "## Todays's Lecture: Python basics"
   ]
  },
  {
   "cell_type": "markdown",
   "metadata": {
    "slideshow": {
     "slide_type": "slide"
    }
   },
   "source": [
    "<h1><center> Where to get the lecture notes </center></h1>\n",
    "\n",
    "You can get copies of all the lecture files at:\n",
    "\n",
    "* [INSERT LINK TO GITHUB FILES]\n",
    "\n",
    "* [INSERT LINK TO GITHUB FILES]\n",
    "\n",
    "* [INSERT LINK TO GITHUB FILES]\n",
    "\n",
    "\n",
    "Each lecture contains (as notebooks)\n",
    "- Manual \n",
    "- Exercises\n",
    "- Presentation\n",
    "\n",
    "---"
   ]
  },
  {
   "cell_type": "markdown",
   "metadata": {
    "slideshow": {
     "slide_type": "slide"
    }
   },
   "source": [
    "<h1><center> Writing python(3!) </center></h1>\n",
    "\n",
    "<img src=\"https://upload.wikimedia.org/wikipedia/en/c/cd/Anaconda_Logo.png\" width=\"300\" align=\"left\" style=\"margin: 0px 160px 60px 60px;\"/>\n",
    "\n",
    "We recommend installing python through Anaconda. \n",
    "\n",
    "Get Anaconda from:\n",
    "\n",
    "[https://www.anaconda.com/download/](https://www.anaconda.com/download/)"
   ]
  },
  {
   "cell_type": "markdown",
   "metadata": {
    "slideshow": {
     "slide_type": "slide"
    }
   },
   "source": [
    "It installs two programs you might want to use for writing python:\n",
    "\n",
    "### Jupyter Notebook\n",
    "> The Jupyter Notebook is an open-source web application that allows you to create and share documents that contain live code, equations, visualizations and narrative text. Uses include: data cleaning and transformation, numerical simulation, statistical modeling, data visualization, machine learning, and much more.\n",
    "\n",
    "### Spyder\n",
    "> Spyder is a powerful scientific environment written in Python, for Python, and designed by and for scientists, engineers and data analysts. It features a unique combination of the advanced editing, analysis, debugging, and profiling functionality of a comprehensive development tool with the data exploration, interactive execution, deep inspection, and beautiful visualization capabilities of a scientific package."
   ]
  },
  {
   "cell_type": "markdown",
   "metadata": {
    "slideshow": {
     "slide_type": "slide"
    }
   },
   "source": [
    "<h1><center> Zoom poll! </center></h1>"
   ]
  },
  {
   "cell_type": "markdown",
   "metadata": {
    "slideshow": {
     "slide_type": "slide"
    }
   },
   "source": [
    "# Let's get started with a brief introduction!\n",
    "## What is python\n",
    "\n",
    "Python is a very clean and easy programming language. \n",
    "\n",
    "Let's program it to say `Hello, World!`"
   ]
  },
  {
   "cell_type": "code",
   "execution_count": null,
   "metadata": {
    "slideshow": {
     "slide_type": "fragment"
    }
   },
   "outputs": [],
   "source": [
    "print('Hello, World!')"
   ]
  },
  {
   "cell_type": "markdown",
   "metadata": {
    "slideshow": {
     "slide_type": "-"
    }
   },
   "source": [
    "which prints the string 'Hello, World!' specified in single quotation marks. "
   ]
  },
  {
   "cell_type": "markdown",
   "metadata": {
    "slideshow": {
     "slide_type": "slide"
    }
   },
   "source": [
    "_strings_ is one of the data types in python. The basic ones are:\n",
    "- Integers:  \n",
    "```python \n",
    "1, 34, 10```\n",
    "- Floating-Point numbers (Floats):  \n",
    "```python \n",
    "1.23, 4.52, 0.4```\n",
    "- Complex Numbers:  \n",
    "```python \n",
    "5+2j, 12+2.35+2j, 12+2.3j```\n",
    "- Strings:  \n",
    "```python \n",
    "'One', 'Apple', 'Machine''One', 'Apple', 'Machine'```\n",
    "- Boolean:  \n",
    "```python \n",
    "True, False```\n",
    "\n",
    "You can try to convert between them if possible using \n",
    "```python\n",
    "int(), float(), complex(), str(), bool()\n",
    "```"
   ]
  },
  {
   "cell_type": "markdown",
   "metadata": {
    "slideshow": {
     "slide_type": "slide"
    }
   },
   "source": [
    "So:"
   ]
  },
  {
   "cell_type": "code",
   "execution_count": null,
   "metadata": {
    "slideshow": {
     "slide_type": "-"
    }
   },
   "outputs": [],
   "source": [
    "int(1), float(1), complex(1), str(1), bool(1)"
   ]
  },
  {
   "cell_type": "markdown",
   "metadata": {
    "slideshow": {
     "slide_type": "fragment"
    }
   },
   "source": [
    "Now let's combine a string with numbers. We need to assign values to variables `a` and `b`"
   ]
  },
  {
   "cell_type": "code",
   "execution_count": null,
   "metadata": {
    "slideshow": {
     "slide_type": "-"
    }
   },
   "outputs": [],
   "source": [
    "a = 4 # Integer\n",
    "b = 5 # Integer\n",
    "fstr = f'The sum of {a} and {b} is {a+b}.' #string\n",
    "print(fstr)"
   ]
  },
  {
   "cell_type": "markdown",
   "metadata": {
    "slideshow": {
     "slide_type": "-"
    }
   },
   "source": [
    "The string uses so-called f-strings (more in the manual)"
   ]
  },
  {
   "cell_type": "markdown",
   "metadata": {
    "slideshow": {
     "slide_type": "slide"
    }
   },
   "source": [
    "#### The operators are "
   ]
  },
  {
   "cell_type": "code",
   "execution_count": null,
   "metadata": {
    "slideshow": {
     "slide_type": "-"
    }
   },
   "outputs": [],
   "source": [
    "print(a+b)  # Addition\n",
    "print(a-b)  # Subtraction\n",
    "print(a*b)  # Multiplication\n",
    "print(a/b)  # Division\n",
    "print(a%b)  # Modulus\n",
    "print(a//b) # Floor division\n",
    "print(a**b) # Exponentiation"
   ]
  },
  {
   "cell_type": "markdown",
   "metadata": {
    "slideshow": {
     "slide_type": "fragment"
    }
   },
   "source": [
    "Assign in-place using `=` following the operator"
   ]
  },
  {
   "cell_type": "code",
   "execution_count": null,
   "metadata": {
    "slideshow": {
     "slide_type": "-"
    }
   },
   "outputs": [],
   "source": [
    "b *= a\n",
    "print(b)"
   ]
  },
  {
   "cell_type": "markdown",
   "metadata": {
    "slideshow": {
     "slide_type": "slide"
    }
   },
   "source": [
    "Use **comparison** and **logical** operators as follows:\n",
    "\n",
    "- logical operators\n",
    "```python\n",
    "and, not, or```\n",
    "- Comparison operators\n",
    "```python\n",
    ">, <, ==, !=, >=, <=```"
   ]
  },
  {
   "cell_type": "code",
   "execution_count": null,
   "metadata": {
    "slideshow": {
     "slide_type": "-"
    }
   },
   "outputs": [],
   "source": [
    "(1 < 5) and (3 == 36/12)"
   ]
  },
  {
   "cell_type": "markdown",
   "metadata": {
    "slideshow": {
     "slide_type": "slide"
    }
   },
   "source": [
    "#### Sequences\n",
    "\n",
    "Store multiple elements into a sequence. A sequence is iterable as seen for *lists* of numbers and strings:"
   ]
  },
  {
   "cell_type": "code",
   "execution_count": null,
   "metadata": {
    "slideshow": {
     "slide_type": "-"
    }
   },
   "outputs": [],
   "source": [
    "seq = [1, 10, 100, 1000]\n",
    "string_seq = 'Sequence'\n",
    "\n",
    "seq[2], string_seq[2]"
   ]
  },
  {
   "cell_type": "markdown",
   "metadata": {
    "slideshow": {
     "slide_type": "slide"
    }
   },
   "source": [
    "### Coding\n",
    "\n",
    "When programing you write hundreds of lines. Controlling the execution of those lines will require using the **if-statements** and **loops**\n",
    "\n",
    "#### if-statements\n",
    "Perform indented lines if criteria is **True**"
   ]
  },
  {
   "cell_type": "code",
   "execution_count": null,
   "metadata": {
    "slideshow": {
     "slide_type": "-"
    }
   },
   "outputs": [],
   "source": [
    "if True:\n",
    "    print('That was True')\n",
    "elif False:\n",
    "    print('That was False')\n",
    "else:\n",
    "    print('We should not be here')"
   ]
  },
  {
   "cell_type": "markdown",
   "metadata": {
    "slideshow": {
     "slide_type": "slide"
    }
   },
   "source": [
    "#### Loops\n",
    "\n",
    "Loops allow you to execute the same lines multiple times, perhaps while iterating over a sequence.\n",
    "\n",
    "- **For**-loop: For a variable in a given range, execute lines\n",
    "- **While**-loop: While criteria is true, execute lines"
   ]
  },
  {
   "cell_type": "code",
   "execution_count": null,
   "metadata": {
    "scrolled": true,
    "slideshow": {
     "slide_type": "-"
    }
   },
   "outputs": [],
   "source": [
    "for i in range(3):\n",
    "    print(i)\n",
    "    \n",
    "while i != 0:\n",
    "    i -= 1\n",
    "    print(i)"
   ]
  },
  {
   "cell_type": "markdown",
   "metadata": {
    "slideshow": {
     "slide_type": "slide"
    }
   },
   "source": [
    "### Functions\n",
    "\n",
    "Write python correctly and neatly with functions. A function can look like:"
   ]
  },
  {
   "cell_type": "code",
   "execution_count": null,
   "metadata": {
    "slideshow": {
     "slide_type": "-"
    }
   },
   "outputs": [],
   "source": [
    "def get_to_ten(i):\n",
    "    while i < 10:\n",
    "        i += 1\n",
    "    return i"
   ]
  },
  {
   "cell_type": "code",
   "execution_count": null,
   "metadata": {
    "slideshow": {
     "slide_type": "-"
    }
   },
   "outputs": [],
   "source": [
    "get_to_ten(0)"
   ]
  },
  {
   "cell_type": "markdown",
   "metadata": {
    "slideshow": {
     "slide_type": "slide"
    }
   },
   "source": [
    "### Writing good code with comments and functions\n",
    "\n",
    "Separate different parts of your code into neatly contained functions when possible and make sure to add comments explaining what you are doing. In the end you will have a more readable code. \n",
    "\n",
    "A poorly written code versus a well-written one:"
   ]
  },
  {
   "cell_type": "code",
   "execution_count": null,
   "metadata": {
    "slideshow": {
     "slide_type": "slide"
    }
   },
   "outputs": [],
   "source": [
    "start_seq = [20,24,28,29,300,560,578]\n",
    "av_start_seq = sum(start_seq)\n",
    "av_start_seq /= len(start_seq)\n",
    "\n",
    "for i, el in enumerate(start_seq):\n",
    "    start_seq[i] *= av_start_seq \n",
    "\n",
    "max_seq = max(start_seq)\n",
    "max_seq = int(max_seq)\n",
    "max_seq = str(max_seq)"
   ]
  },
  {
   "cell_type": "code",
   "execution_count": null,
   "metadata": {
    "slideshow": {
     "slide_type": "-"
    }
   },
   "outputs": [],
   "source": [
    "def normalize_seq(seq):\n",
    "    '''This function takes a sequence and normalizes it by the average. The return is the normalized sequence'''\n",
    "    \n",
    "    av_start_seq = sum(seq) # Get the sum of seq\n",
    "    av_start_seq /= len(seq) # Divide the sum by the number of elements in seq\n",
    "\n",
    "    for i, el in enumerate(seq): # Loop over all elements in seq and divide by the average\n",
    "        seq[i] *= av_start_seq \n",
    "        \n",
    "    return start_seq\n",
    "\n",
    "def max_int_str(seq):\n",
    "    '''This function finds the maximum of a sequence and returns it as a whole number string'''\n",
    "    \n",
    "    max_seq = max(seq) # Finds the maximum value\n",
    "    max_seq = int(max_seq) # Converts it to an integer\n",
    "    max_seq = str(max_seq) # Converts the integer to a string\n",
    "    \n",
    "    return max_seq\n",
    "\n",
    "start_seq = [20,24,28,29,300,560,578]\n",
    "start_seq = normalize_seq(start_seq)\n",
    "max_seq = max_int_str(start_seq)"
   ]
  },
  {
   "cell_type": "markdown",
   "metadata": {
    "slideshow": {
     "slide_type": "slide"
    }
   },
   "source": [
    "### PEP-8\n",
    "\n",
    "There are certain guidelines for the style in which you should write python. PEP-8 is a document that provides guidelines and good practices for how to write good python code. \n",
    "\n",
    "See more: [PEP-8](https://www.python.org/dev/peps/pep-0008/#code-lay-out)\n",
    "\n",
    "An example: **naming**  \n",
    "Classes use CapWords convention  \n",
    "Variables & functions use lower-case"
   ]
  },
  {
   "cell_type": "code",
   "execution_count": null,
   "metadata": {
    "slideshow": {
     "slide_type": "-"
    }
   },
   "outputs": [],
   "source": [
    "# Correct:\n",
    "class MyClass():\n",
    "    \n",
    "    def __init__(self):\n",
    "        self.isclass = True\n",
    "    \n",
    "    def myfunc(self):\n",
    "        return not self\n",
    "\n",
    "    \n",
    "variable = MyClass()\n",
    "print(variable.isclass)\n",
    "print(variable.myfunc())"
   ]
  },
  {
   "cell_type": "markdown",
   "metadata": {
    "slideshow": {
     "slide_type": "slide"
    }
   },
   "source": [
    "## These topics (and more) is available in greater detail in the accompanying manual notebook!"
   ]
  },
  {
   "cell_type": "markdown",
   "metadata": {
    "slideshow": {
     "slide_type": "slide"
    }
   },
   "source": [
    "# Writing and running scripts\n",
    "So now you want to make your own python code, how do you go about this?"
   ]
  },
  {
   "cell_type": "markdown",
   "metadata": {
    "slideshow": {
     "slide_type": "fragment"
    }
   },
   "source": [
    "### 1) Jupyter Notebook\n",
    "\n",
    "#### a) Via **anaconda-navigator**\n",
    "- Run anaconda-navigator from applications\n",
    "- Press jupyter notebook\n",
    "- Open a notebook from *new*"
   ]
  },
  {
   "cell_type": "code",
   "execution_count": null,
   "metadata": {
    "slideshow": {
     "slide_type": "-"
    }
   },
   "outputs": [],
   "source": [
    "import os\n",
    "os.popen('anaconda-navigator')"
   ]
  },
  {
   "cell_type": "code",
   "execution_count": null,
   "metadata": {
    "slideshow": {
     "slide_type": "-"
    }
   },
   "outputs": [],
   "source": [
    "def hw():\n",
    "    print('Hello, World!')\n",
    "    return"
   ]
  },
  {
   "cell_type": "code",
   "execution_count": null,
   "metadata": {
    "slideshow": {
     "slide_type": "-"
    }
   },
   "outputs": [],
   "source": [
    "hw()"
   ]
  },
  {
   "cell_type": "markdown",
   "metadata": {
    "slideshow": {
     "slide_type": "slide"
    }
   },
   "source": [
    "#### b) Via terminal (Mac & Linux only)\n",
    "- Open a terminal\n",
    "- Move to the directory you want to start in\n",
    "- Enter `jupyter notebook`\n",
    "- Open a new notebook from *new*\n",
    "\n",
    "If you already have a notebook, you can type `jupyter notebook <your notebook>.ipynb` to open it directly"
   ]
  },
  {
   "cell_type": "code",
   "execution_count": null,
   "metadata": {
    "slideshow": {
     "slide_type": "-"
    }
   },
   "outputs": [],
   "source": [
    "os.system('open -a Terminal .')"
   ]
  },
  {
   "cell_type": "markdown",
   "metadata": {
    "slideshow": {
     "slide_type": "slide"
    }
   },
   "source": [
    "### 2) Spyder\n",
    "- Run anaconda-navigator from applications\n",
    "- Press spyder\n",
    "- Write your code in the editor\n",
    "- Save it as .py script"
   ]
  },
  {
   "cell_type": "code",
   "execution_count": null,
   "metadata": {
    "slideshow": {
     "slide_type": "-"
    }
   },
   "outputs": [],
   "source": [
    "import os\n",
    "os.system('anaconda-navigator')"
   ]
  },
  {
   "cell_type": "markdown",
   "metadata": {
    "slideshow": {
     "slide_type": "-"
    }
   },
   "source": [
    "You can also run `spyder` directly from the terminal"
   ]
  },
  {
   "cell_type": "markdown",
   "metadata": {
    "slideshow": {
     "slide_type": "slide"
    }
   },
   "source": [
    "### 3) With only python\n",
    "You can also use the terminal to run scripts directly with python\n",
    "\n",
    "```\n",
    ":~ $ touch helloworld.py     # Create python script\n",
    ":~ $ open helloworld.py      # Open it in any editor and write your code.\n",
    ":~ $ python helloworld.py    # Run the script\n",
    "\n",
    "```"
   ]
  },
  {
   "cell_type": "code",
   "execution_count": null,
   "metadata": {
    "slideshow": {
     "slide_type": "-"
    }
   },
   "outputs": [],
   "source": [
    "os.popen('python helloworld.py').read()"
   ]
  },
  {
   "cell_type": "markdown",
   "metadata": {
    "slideshow": {
     "slide_type": "slide"
    }
   },
   "source": [
    "# What is python good for?\n",
    "\n",
    "Python usage is growing as a language. Not only is it one of the most used languages in the world it is also one of the most versatile. The below table is from HackerRank\n",
    "\n",
    "<img src=\"imgs/languages.png\" width=\"900\">\n",
    "\n",
    "Knowing this, let's review some of the things python is used for!"
   ]
  },
  {
   "cell_type": "markdown",
   "metadata": {
    "slideshow": {
     "slide_type": "slide"
    }
   },
   "source": [
    "## 1) Web development & Building web apps\n",
    "Python is an excellent language for web development and has pre-built libraries and web frameworks like Django & Flask.  \n",
    "\n",
    "In fact, **reddit** is written in python and available on GitHub (https://github.com/reddit-archive/reddit)!\n",
    "\n",
    "<img src=\"imgs/reddit.png\" width=\"1500\">"
   ]
  },
  {
   "cell_type": "markdown",
   "metadata": {
    "slideshow": {
     "slide_type": "slide"
    }
   },
   "source": [
    "## 2) Machine learning\n",
    "\n",
    "Machine learning is easily implemented in python. Popular libraries are **scikit-learn** and **TensorFlow**.  \n",
    "An example of machine learning is GAN (Generative adversarial network)"
   ]
  },
  {
   "cell_type": "code",
   "execution_count": null,
   "metadata": {
    "slideshow": {
     "slide_type": "-"
    }
   },
   "outputs": [],
   "source": [
    "IFrame('https://www.whichfaceisreal.com', width=700, height=600)"
   ]
  },
  {
   "cell_type": "markdown",
   "metadata": {
    "slideshow": {
     "slide_type": "slide"
    }
   },
   "source": [
    "## 3) Data science\n",
    "There is an impressive range to the science that can be done using python. For example we have the libraries:"
   ]
  },
  {
   "cell_type": "markdown",
   "metadata": {
    "slideshow": {
     "slide_type": "fragment"
    }
   },
   "source": [
    "<img src=\"imgs/astropy.png\"    width=\"400\" align=\"right\" style=\"margin: 0px 0px 0px 0px;\"/> \n",
    "\n",
    "- [Astropy](https://www.astropy.org): Astronomy"
   ]
  },
  {
   "cell_type": "markdown",
   "metadata": {
    "slideshow": {
     "slide_type": "fragment"
    }
   },
   "source": [
    "<img src=\"imgs/biopython.png\"  width=\"260\" align=\"right\" style=\"margin: 0px 140px 0px 0px;\"/>  \n",
    "\n",
    "\n",
    "- [Biopython](https://biopython.org): Biology & Bioinformatics"
   ]
  },
  {
   "cell_type": "markdown",
   "metadata": {
    "slideshow": {
     "slide_type": "fragment"
    }
   },
   "source": [
    "<img src=\"imgs/graph-tool.png\" width=\"400\" align=\"right\" style=\"margin: 0px 0px 10px 0px;\"/>  \n",
    "\n",
    "- [Graph-tool](https://graph-tool.skewed.de): Statistical analysis of graphs"
   ]
  },
  {
   "cell_type": "markdown",
   "metadata": {
    "slideshow": {
     "slide_type": "fragment"
    }
   },
   "source": [
    "<img src=\"imgs/psychopy.png\"   width=\"290\" align=\"right\" style=\"margin: 0px 110px 0px 0px;\"/>  \n",
    "- [Psychopy](https://www.psychopy.org): Neuroscience & Experimental Psychology"
   ]
  },
  {
   "cell_type": "markdown",
   "metadata": {
    "slideshow": {
     "slide_type": "slide"
    }
   },
   "source": [
    "## 4) Startups\n",
    "\n",
    "It is hightly common that startups use python. [Dropbox](https://www.dropbox.com/?landing=dbv2) was started by student Drew Houston who kept forgetting his flash drive, so he built it for himself in python."
   ]
  },
  {
   "cell_type": "markdown",
   "metadata": {
    "slideshow": {
     "slide_type": "slide"
    }
   },
   "source": [
    "## 5) Financial sector\n",
    "\n",
    "HackerRank showed in 2016 that when hiring developers/programmers, the prioritized programming languages for finance always had python ranked high. \n",
    "\n",
    "<img src=\"imgs/finance.png\"   width=16000 height=500/>  "
   ]
  },
  {
   "cell_type": "markdown",
   "metadata": {
    "slideshow": {
     "slide_type": "slide"
    }
   },
   "source": [
    "# Now it's time to use the manual to solve the exercises. Good luck!"
   ]
  }
 ],
 "metadata": {
  "celltoolbar": "Slideshow",
  "kernelspec": {
   "display_name": "Python 3",
   "language": "python",
   "name": "python3"
  },
  "language_info": {
   "codemirror_mode": {
    "name": "ipython",
    "version": 3
   },
   "file_extension": ".py",
   "mimetype": "text/x-python",
   "name": "python",
   "nbconvert_exporter": "python",
   "pygments_lexer": "ipython3",
   "version": "3.7.3"
  }
 },
 "nbformat": 4,
 "nbformat_minor": 2
}
